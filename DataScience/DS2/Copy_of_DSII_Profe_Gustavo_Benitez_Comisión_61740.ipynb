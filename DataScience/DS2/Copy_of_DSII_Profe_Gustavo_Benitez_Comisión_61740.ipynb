{
  "nbformat": 4,
  "nbformat_minor": 0,
  "metadata": {
    "colab": {
      "provenance": []
    },
    "kernelspec": {
      "name": "python3",
      "display_name": "Python 3"
    },
    "language_info": {
      "name": "python"
    }
  },
  "cells": [
    {
      "cell_type": "markdown",
      "source": [
        "##**Clase 1 - Retomando Impulso & Fundamentos de bases de datos**"
      ],
      "metadata": {
        "id": "rvlk12Y3cch_"
      }
    },
    {
      "cell_type": "markdown",
      "source": [
        "**Retomando Impulso (Repaso M1)**"
      ],
      "metadata": {
        "id": "tiWLJxxlc7j_"
      }
    },
    {
      "cell_type": "markdown",
      "source": [
        "https://colab.research.google.com/drive/1UYcDJuFTuPFS1WY8dDdj7IlRyEF41pg5\n",
        "\n",
        "https://colab.research.google.com/drive/1Qfm5RQSP8RNFg9T45VGVBIbElSfX2zrV\n",
        "\n",
        "https://colab.research.google.com/drive/1ftDkimXSpNOeOiUVJM1ses4aOm3spJ_h#scrollTo=rf1279FQ6qB8\n",
        "\n",
        "https://colab.research.google.com/drive/1qoCv8NRMO30Uhqn0w_BNFvZwaXNM6vUz#scrollTo=9faB7h8PkAaT&uniqifier=1\n",
        "\n",
        "https://colab.research.google.com/drive/1oro6F2-E8tXpdco_-Z0XMA2KGoQMzrnb#scrollTo=zqAdWAyxxH1f\n",
        "\n",
        "https://colab.research.google.com/drive/1jHKE7kEZSheXfdwSmWLQ4hfsUM7OJdzG?usp=sharing#scrollTo=Ys6LlxDAQD6y&uniqifier=1\n",
        "\n",
        "https://colab.research.google.com/drive/1PNO28uO78g3zng5UrKeGEEXWGAqHPk6C#scrollTo=eYcRFYXN-M7s\n",
        "\n",
        "https://colab.research.google.com/drive/1zpowcR2gQONlmq3xe1MbzZMbqWriDLSr#scrollTo=tGK6VlElt0pi\n",
        "\n",
        "https://colab.research.google.com/drive/1v6goiXhMYKrEfncQgsEb16bwxNiwKP4O#scrollTo=YFqqkPblug5G\n",
        "\n",
        "https://colab.research.google.com/drive/1j3bQqjHIOOr2KoeDVoUonpSxUiirZnpc#scrollTo=yU6wpmWpsKeG\n",
        "\n",
        "https://colab.research.google.com/drive/1Xut5IdfJzpT_X2wD9YEHy4aJQn-osxq_#scrollTo=EYVWFxfK7YAS"
      ],
      "metadata": {
        "id": "hQ1Yc2Gdd_RN"
      }
    },
    {
      "cell_type": "markdown",
      "source": [
        "**Fundamentos de bases de datos**"
      ],
      "metadata": {
        "id": "O3KM2afeg3KE"
      }
    },
    {
      "cell_type": "markdown",
      "source": [
        "https://colab.research.google.com/drive/1OZ7AqojrOw3WDIFcFvGFkJaazhEzCBvR"
      ],
      "metadata": {
        "id": "yThtlFIGg66F"
      }
    },
    {
      "cell_type": "markdown",
      "source": [
        "##**Clase 2 - Data Acquisition & SQL Básico**"
      ],
      "metadata": {
        "id": "8fQ5-RV8hU3c"
      }
    },
    {
      "cell_type": "markdown",
      "source": [
        "**Data Adquisition**"
      ],
      "metadata": {
        "id": "0_UQVKNuhzll"
      }
    },
    {
      "cell_type": "markdown",
      "source": [
        "https://colab.research.google.com/drive/1GMvarQgXIHKFvDqETVMRUJtrQqP5iHTR#scrollTo=QUiyjRwaf5kn"
      ],
      "metadata": {
        "id": "CbsVPT2QheVk"
      }
    },
    {
      "cell_type": "markdown",
      "source": [
        "**SQL Básico**"
      ],
      "metadata": {
        "id": "9TqjebrBh3UV"
      }
    },
    {
      "cell_type": "markdown",
      "source": [
        "https://colab.research.google.com/drive/1QICDi2bNcvq5gKUNvX7FF6sHJSyZ63WG#scrollTo=_Tfq1vw-3LmZ"
      ],
      "metadata": {
        "id": "zWw62Kvxh7wk"
      }
    }
  ]
}
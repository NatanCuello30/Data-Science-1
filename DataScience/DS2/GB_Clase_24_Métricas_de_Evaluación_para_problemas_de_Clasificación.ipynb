{
  "cells": [
    {
      "cell_type": "markdown",
      "metadata": {
        "id": "xv5EI6VgT0b-"
      },
      "source": [
        "# **Métricas para clasificación:**"
      ]
    },
    {
      "cell_type": "markdown",
      "metadata": {
        "id": "l-TQrFgkSfcj"
      },
      "source": [
        "**Precisión (Accuracy):** Proporción de predicciones correctas.\n",
        "\n",
        "**Matriz de Confusión:** Tabla que muestra las verdaderas etiquetas frente a las predicciones.\n",
        "\n",
        "**Precisión (Precision):** Proporción de verdaderos positivos sobre el total de positivos predichos.\n",
        "\n",
        "**Recall:** Proporción de verdaderos positivos sobre el total de positivos reales.\n",
        "\n",
        "**F1 Score:** Media armónica de precisión y recall.\n",
        "\n",
        "**AUC-ROC:** Área bajo la curva ROC, útil para problemas de clasificación binaria."
      ]
    },
    {
      "cell_type": "code",
      "execution_count": 14,
      "metadata": {
        "id": "MEchYVy7Szuf"
      },
      "outputs": [],
      "source": [
        "import pandas as pd\n",
        "from sklearn.datasets import load_iris\n",
        "from sklearn.model_selection import train_test_split\n",
        "from sklearn.ensemble import RandomForestClassifier\n",
        "import matplotlib.pyplot as plt\n",
        "import seaborn as sns\n",
        "from sklearn.metrics import accuracy_score, precision_score, recall_score, f1_score, confusion_matrix"
      ]
    },
    {
      "cell_type": "code",
      "execution_count": 15,
      "metadata": {
        "id": "Ip_0Heh1m02L"
      },
      "outputs": [],
      "source": [
        "# Cargar el dataset\n",
        "iris = load_iris()\n",
        "X, y = iris.data, iris.target"
      ]
    },
    {
      "cell_type": "code",
      "execution_count": 16,
      "metadata": {
        "id": "eGdFTqXtnCwD"
      },
      "outputs": [],
      "source": [
        "iris_df = pd.DataFrame(data=X, columns=iris.feature_names)\n",
        "iris_df['target'] = y\n",
        "iris_df['target'] = iris_df['target'].map({i: name for i, name in enumerate(iris.target_names)})"
      ]
    },
    {
      "cell_type": "code",
      "execution_count": 17,
      "metadata": {
        "colab": {
          "base_uri": "https://localhost:8080/",
          "height": 206
        },
        "id": "RR55ClSpnEfR",
        "outputId": "e8076abe-d8c5-4e8a-f228-919fa12fca6c"
      },
      "outputs": [
        {
          "data": {
            "text/html": [
              "<div>\n",
              "<style scoped>\n",
              "    .dataframe tbody tr th:only-of-type {\n",
              "        vertical-align: middle;\n",
              "    }\n",
              "\n",
              "    .dataframe tbody tr th {\n",
              "        vertical-align: top;\n",
              "    }\n",
              "\n",
              "    .dataframe thead th {\n",
              "        text-align: right;\n",
              "    }\n",
              "</style>\n",
              "<table border=\"1\" class=\"dataframe\">\n",
              "  <thead>\n",
              "    <tr style=\"text-align: right;\">\n",
              "      <th></th>\n",
              "      <th>sepal length (cm)</th>\n",
              "      <th>sepal width (cm)</th>\n",
              "      <th>petal length (cm)</th>\n",
              "      <th>petal width (cm)</th>\n",
              "      <th>target</th>\n",
              "    </tr>\n",
              "  </thead>\n",
              "  <tbody>\n",
              "    <tr>\n",
              "      <th>0</th>\n",
              "      <td>5.1</td>\n",
              "      <td>3.5</td>\n",
              "      <td>1.4</td>\n",
              "      <td>0.2</td>\n",
              "      <td>setosa</td>\n",
              "    </tr>\n",
              "    <tr>\n",
              "      <th>1</th>\n",
              "      <td>4.9</td>\n",
              "      <td>3.0</td>\n",
              "      <td>1.4</td>\n",
              "      <td>0.2</td>\n",
              "      <td>setosa</td>\n",
              "    </tr>\n",
              "    <tr>\n",
              "      <th>2</th>\n",
              "      <td>4.7</td>\n",
              "      <td>3.2</td>\n",
              "      <td>1.3</td>\n",
              "      <td>0.2</td>\n",
              "      <td>setosa</td>\n",
              "    </tr>\n",
              "    <tr>\n",
              "      <th>3</th>\n",
              "      <td>4.6</td>\n",
              "      <td>3.1</td>\n",
              "      <td>1.5</td>\n",
              "      <td>0.2</td>\n",
              "      <td>setosa</td>\n",
              "    </tr>\n",
              "    <tr>\n",
              "      <th>4</th>\n",
              "      <td>5.0</td>\n",
              "      <td>3.6</td>\n",
              "      <td>1.4</td>\n",
              "      <td>0.2</td>\n",
              "      <td>setosa</td>\n",
              "    </tr>\n",
              "  </tbody>\n",
              "</table>\n",
              "</div>"
            ],
            "text/plain": [
              "   sepal length (cm)  sepal width (cm)  petal length (cm)  petal width (cm)  \\\n",
              "0                5.1               3.5                1.4               0.2   \n",
              "1                4.9               3.0                1.4               0.2   \n",
              "2                4.7               3.2                1.3               0.2   \n",
              "3                4.6               3.1                1.5               0.2   \n",
              "4                5.0               3.6                1.4               0.2   \n",
              "\n",
              "   target  \n",
              "0  setosa  \n",
              "1  setosa  \n",
              "2  setosa  \n",
              "3  setosa  \n",
              "4  setosa  "
            ]
          },
          "execution_count": 17,
          "metadata": {},
          "output_type": "execute_result"
        }
      ],
      "source": [
        "iris_df.head()"
      ]
    },
    {
      "cell_type": "code",
      "execution_count": 18,
      "metadata": {
        "colab": {
          "base_uri": "https://localhost:8080/"
        },
        "id": "XTZ8tbBKnIgB",
        "outputId": "3f28707d-e0e0-48ab-e8ff-e00d3959bdfb"
      },
      "outputs": [
        {
          "name": "stdout",
          "output_type": "stream",
          "text": [
            "<class 'pandas.core.frame.DataFrame'>\n",
            "RangeIndex: 150 entries, 0 to 149\n",
            "Data columns (total 5 columns):\n",
            " #   Column             Non-Null Count  Dtype  \n",
            "---  ------             --------------  -----  \n",
            " 0   sepal length (cm)  150 non-null    float64\n",
            " 1   sepal width (cm)   150 non-null    float64\n",
            " 2   petal length (cm)  150 non-null    float64\n",
            " 3   petal width (cm)   150 non-null    float64\n",
            " 4   target             150 non-null    object \n",
            "dtypes: float64(4), object(1)\n",
            "memory usage: 6.0+ KB\n"
          ]
        }
      ],
      "source": [
        "iris_df.info()"
      ]
    },
    {
      "cell_type": "code",
      "execution_count": 19,
      "metadata": {
        "id": "ChKTOJrfnPgB"
      },
      "outputs": [],
      "source": [
        "# Dividir el dataset\n",
        "X_train, X_test, y_train, y_test = train_test_split(X, y, test_size=0.2, random_state=42)"
      ]
    },
    {
      "cell_type": "code",
      "execution_count": 20,
      "metadata": {
        "colab": {
          "base_uri": "https://localhost:8080/",
          "height": 80
        },
        "id": "JApG-EjVnTQw",
        "outputId": "c3c79f6d-e4c4-4a56-c556-5160cbfd1141"
      },
      "outputs": [
        {
          "data": {
            "text/html": [
              "<style>#sk-container-id-2 {\n",
              "  /* Definition of color scheme common for light and dark mode */\n",
              "  --sklearn-color-text: black;\n",
              "  --sklearn-color-line: gray;\n",
              "  /* Definition of color scheme for unfitted estimators */\n",
              "  --sklearn-color-unfitted-level-0: #fff5e6;\n",
              "  --sklearn-color-unfitted-level-1: #f6e4d2;\n",
              "  --sklearn-color-unfitted-level-2: #ffe0b3;\n",
              "  --sklearn-color-unfitted-level-3: chocolate;\n",
              "  /* Definition of color scheme for fitted estimators */\n",
              "  --sklearn-color-fitted-level-0: #f0f8ff;\n",
              "  --sklearn-color-fitted-level-1: #d4ebff;\n",
              "  --sklearn-color-fitted-level-2: #b3dbfd;\n",
              "  --sklearn-color-fitted-level-3: cornflowerblue;\n",
              "\n",
              "  /* Specific color for light theme */\n",
              "  --sklearn-color-text-on-default-background: var(--sg-text-color, var(--theme-code-foreground, var(--jp-content-font-color1, black)));\n",
              "  --sklearn-color-background: var(--sg-background-color, var(--theme-background, var(--jp-layout-color0, white)));\n",
              "  --sklearn-color-border-box: var(--sg-text-color, var(--theme-code-foreground, var(--jp-content-font-color1, black)));\n",
              "  --sklearn-color-icon: #696969;\n",
              "\n",
              "  @media (prefers-color-scheme: dark) {\n",
              "    /* Redefinition of color scheme for dark theme */\n",
              "    --sklearn-color-text-on-default-background: var(--sg-text-color, var(--theme-code-foreground, var(--jp-content-font-color1, white)));\n",
              "    --sklearn-color-background: var(--sg-background-color, var(--theme-background, var(--jp-layout-color0, #111)));\n",
              "    --sklearn-color-border-box: var(--sg-text-color, var(--theme-code-foreground, var(--jp-content-font-color1, white)));\n",
              "    --sklearn-color-icon: #878787;\n",
              "  }\n",
              "}\n",
              "\n",
              "#sk-container-id-2 {\n",
              "  color: var(--sklearn-color-text);\n",
              "}\n",
              "\n",
              "#sk-container-id-2 pre {\n",
              "  padding: 0;\n",
              "}\n",
              "\n",
              "#sk-container-id-2 input.sk-hidden--visually {\n",
              "  border: 0;\n",
              "  clip: rect(1px 1px 1px 1px);\n",
              "  clip: rect(1px, 1px, 1px, 1px);\n",
              "  height: 1px;\n",
              "  margin: -1px;\n",
              "  overflow: hidden;\n",
              "  padding: 0;\n",
              "  position: absolute;\n",
              "  width: 1px;\n",
              "}\n",
              "\n",
              "#sk-container-id-2 div.sk-dashed-wrapped {\n",
              "  border: 1px dashed var(--sklearn-color-line);\n",
              "  margin: 0 0.4em 0.5em 0.4em;\n",
              "  box-sizing: border-box;\n",
              "  padding-bottom: 0.4em;\n",
              "  background-color: var(--sklearn-color-background);\n",
              "}\n",
              "\n",
              "#sk-container-id-2 div.sk-container {\n",
              "  /* jupyter's `normalize.less` sets `[hidden] { display: none; }`\n",
              "     but bootstrap.min.css set `[hidden] { display: none !important; }`\n",
              "     so we also need the `!important` here to be able to override the\n",
              "     default hidden behavior on the sphinx rendered scikit-learn.org.\n",
              "     See: https://github.com/scikit-learn/scikit-learn/issues/21755 */\n",
              "  display: inline-block !important;\n",
              "  position: relative;\n",
              "}\n",
              "\n",
              "#sk-container-id-2 div.sk-text-repr-fallback {\n",
              "  display: none;\n",
              "}\n",
              "\n",
              "div.sk-parallel-item,\n",
              "div.sk-serial,\n",
              "div.sk-item {\n",
              "  /* draw centered vertical line to link estimators */\n",
              "  background-image: linear-gradient(var(--sklearn-color-text-on-default-background), var(--sklearn-color-text-on-default-background));\n",
              "  background-size: 2px 100%;\n",
              "  background-repeat: no-repeat;\n",
              "  background-position: center center;\n",
              "}\n",
              "\n",
              "/* Parallel-specific style estimator block */\n",
              "\n",
              "#sk-container-id-2 div.sk-parallel-item::after {\n",
              "  content: \"\";\n",
              "  width: 100%;\n",
              "  border-bottom: 2px solid var(--sklearn-color-text-on-default-background);\n",
              "  flex-grow: 1;\n",
              "}\n",
              "\n",
              "#sk-container-id-2 div.sk-parallel {\n",
              "  display: flex;\n",
              "  align-items: stretch;\n",
              "  justify-content: center;\n",
              "  background-color: var(--sklearn-color-background);\n",
              "  position: relative;\n",
              "}\n",
              "\n",
              "#sk-container-id-2 div.sk-parallel-item {\n",
              "  display: flex;\n",
              "  flex-direction: column;\n",
              "}\n",
              "\n",
              "#sk-container-id-2 div.sk-parallel-item:first-child::after {\n",
              "  align-self: flex-end;\n",
              "  width: 50%;\n",
              "}\n",
              "\n",
              "#sk-container-id-2 div.sk-parallel-item:last-child::after {\n",
              "  align-self: flex-start;\n",
              "  width: 50%;\n",
              "}\n",
              "\n",
              "#sk-container-id-2 div.sk-parallel-item:only-child::after {\n",
              "  width: 0;\n",
              "}\n",
              "\n",
              "/* Serial-specific style estimator block */\n",
              "\n",
              "#sk-container-id-2 div.sk-serial {\n",
              "  display: flex;\n",
              "  flex-direction: column;\n",
              "  align-items: center;\n",
              "  background-color: var(--sklearn-color-background);\n",
              "  padding-right: 1em;\n",
              "  padding-left: 1em;\n",
              "}\n",
              "\n",
              "\n",
              "/* Toggleable style: style used for estimator/Pipeline/ColumnTransformer box that is\n",
              "clickable and can be expanded/collapsed.\n",
              "- Pipeline and ColumnTransformer use this feature and define the default style\n",
              "- Estimators will overwrite some part of the style using the `sk-estimator` class\n",
              "*/\n",
              "\n",
              "/* Pipeline and ColumnTransformer style (default) */\n",
              "\n",
              "#sk-container-id-2 div.sk-toggleable {\n",
              "  /* Default theme specific background. It is overwritten whether we have a\n",
              "  specific estimator or a Pipeline/ColumnTransformer */\n",
              "  background-color: var(--sklearn-color-background);\n",
              "}\n",
              "\n",
              "/* Toggleable label */\n",
              "#sk-container-id-2 label.sk-toggleable__label {\n",
              "  cursor: pointer;\n",
              "  display: block;\n",
              "  width: 100%;\n",
              "  margin-bottom: 0;\n",
              "  padding: 0.5em;\n",
              "  box-sizing: border-box;\n",
              "  text-align: center;\n",
              "}\n",
              "\n",
              "#sk-container-id-2 label.sk-toggleable__label-arrow:before {\n",
              "  /* Arrow on the left of the label */\n",
              "  content: \"▸\";\n",
              "  float: left;\n",
              "  margin-right: 0.25em;\n",
              "  color: var(--sklearn-color-icon);\n",
              "}\n",
              "\n",
              "#sk-container-id-2 label.sk-toggleable__label-arrow:hover:before {\n",
              "  color: var(--sklearn-color-text);\n",
              "}\n",
              "\n",
              "/* Toggleable content - dropdown */\n",
              "\n",
              "#sk-container-id-2 div.sk-toggleable__content {\n",
              "  max-height: 0;\n",
              "  max-width: 0;\n",
              "  overflow: hidden;\n",
              "  text-align: left;\n",
              "  /* unfitted */\n",
              "  background-color: var(--sklearn-color-unfitted-level-0);\n",
              "}\n",
              "\n",
              "#sk-container-id-2 div.sk-toggleable__content.fitted {\n",
              "  /* fitted */\n",
              "  background-color: var(--sklearn-color-fitted-level-0);\n",
              "}\n",
              "\n",
              "#sk-container-id-2 div.sk-toggleable__content pre {\n",
              "  margin: 0.2em;\n",
              "  border-radius: 0.25em;\n",
              "  color: var(--sklearn-color-text);\n",
              "  /* unfitted */\n",
              "  background-color: var(--sklearn-color-unfitted-level-0);\n",
              "}\n",
              "\n",
              "#sk-container-id-2 div.sk-toggleable__content.fitted pre {\n",
              "  /* unfitted */\n",
              "  background-color: var(--sklearn-color-fitted-level-0);\n",
              "}\n",
              "\n",
              "#sk-container-id-2 input.sk-toggleable__control:checked~div.sk-toggleable__content {\n",
              "  /* Expand drop-down */\n",
              "  max-height: 200px;\n",
              "  max-width: 100%;\n",
              "  overflow: auto;\n",
              "}\n",
              "\n",
              "#sk-container-id-2 input.sk-toggleable__control:checked~label.sk-toggleable__label-arrow:before {\n",
              "  content: \"▾\";\n",
              "}\n",
              "\n",
              "/* Pipeline/ColumnTransformer-specific style */\n",
              "\n",
              "#sk-container-id-2 div.sk-label input.sk-toggleable__control:checked~label.sk-toggleable__label {\n",
              "  color: var(--sklearn-color-text);\n",
              "  background-color: var(--sklearn-color-unfitted-level-2);\n",
              "}\n",
              "\n",
              "#sk-container-id-2 div.sk-label.fitted input.sk-toggleable__control:checked~label.sk-toggleable__label {\n",
              "  background-color: var(--sklearn-color-fitted-level-2);\n",
              "}\n",
              "\n",
              "/* Estimator-specific style */\n",
              "\n",
              "/* Colorize estimator box */\n",
              "#sk-container-id-2 div.sk-estimator input.sk-toggleable__control:checked~label.sk-toggleable__label {\n",
              "  /* unfitted */\n",
              "  background-color: var(--sklearn-color-unfitted-level-2);\n",
              "}\n",
              "\n",
              "#sk-container-id-2 div.sk-estimator.fitted input.sk-toggleable__control:checked~label.sk-toggleable__label {\n",
              "  /* fitted */\n",
              "  background-color: var(--sklearn-color-fitted-level-2);\n",
              "}\n",
              "\n",
              "#sk-container-id-2 div.sk-label label.sk-toggleable__label,\n",
              "#sk-container-id-2 div.sk-label label {\n",
              "  /* The background is the default theme color */\n",
              "  color: var(--sklearn-color-text-on-default-background);\n",
              "}\n",
              "\n",
              "/* On hover, darken the color of the background */\n",
              "#sk-container-id-2 div.sk-label:hover label.sk-toggleable__label {\n",
              "  color: var(--sklearn-color-text);\n",
              "  background-color: var(--sklearn-color-unfitted-level-2);\n",
              "}\n",
              "\n",
              "/* Label box, darken color on hover, fitted */\n",
              "#sk-container-id-2 div.sk-label.fitted:hover label.sk-toggleable__label.fitted {\n",
              "  color: var(--sklearn-color-text);\n",
              "  background-color: var(--sklearn-color-fitted-level-2);\n",
              "}\n",
              "\n",
              "/* Estimator label */\n",
              "\n",
              "#sk-container-id-2 div.sk-label label {\n",
              "  font-family: monospace;\n",
              "  font-weight: bold;\n",
              "  display: inline-block;\n",
              "  line-height: 1.2em;\n",
              "}\n",
              "\n",
              "#sk-container-id-2 div.sk-label-container {\n",
              "  text-align: center;\n",
              "}\n",
              "\n",
              "/* Estimator-specific */\n",
              "#sk-container-id-2 div.sk-estimator {\n",
              "  font-family: monospace;\n",
              "  border: 1px dotted var(--sklearn-color-border-box);\n",
              "  border-radius: 0.25em;\n",
              "  box-sizing: border-box;\n",
              "  margin-bottom: 0.5em;\n",
              "  /* unfitted */\n",
              "  background-color: var(--sklearn-color-unfitted-level-0);\n",
              "}\n",
              "\n",
              "#sk-container-id-2 div.sk-estimator.fitted {\n",
              "  /* fitted */\n",
              "  background-color: var(--sklearn-color-fitted-level-0);\n",
              "}\n",
              "\n",
              "/* on hover */\n",
              "#sk-container-id-2 div.sk-estimator:hover {\n",
              "  /* unfitted */\n",
              "  background-color: var(--sklearn-color-unfitted-level-2);\n",
              "}\n",
              "\n",
              "#sk-container-id-2 div.sk-estimator.fitted:hover {\n",
              "  /* fitted */\n",
              "  background-color: var(--sklearn-color-fitted-level-2);\n",
              "}\n",
              "\n",
              "/* Specification for estimator info (e.g. \"i\" and \"?\") */\n",
              "\n",
              "/* Common style for \"i\" and \"?\" */\n",
              "\n",
              ".sk-estimator-doc-link,\n",
              "a:link.sk-estimator-doc-link,\n",
              "a:visited.sk-estimator-doc-link {\n",
              "  float: right;\n",
              "  font-size: smaller;\n",
              "  line-height: 1em;\n",
              "  font-family: monospace;\n",
              "  background-color: var(--sklearn-color-background);\n",
              "  border-radius: 1em;\n",
              "  height: 1em;\n",
              "  width: 1em;\n",
              "  text-decoration: none !important;\n",
              "  margin-left: 1ex;\n",
              "  /* unfitted */\n",
              "  border: var(--sklearn-color-unfitted-level-1) 1pt solid;\n",
              "  color: var(--sklearn-color-unfitted-level-1);\n",
              "}\n",
              "\n",
              ".sk-estimator-doc-link.fitted,\n",
              "a:link.sk-estimator-doc-link.fitted,\n",
              "a:visited.sk-estimator-doc-link.fitted {\n",
              "  /* fitted */\n",
              "  border: var(--sklearn-color-fitted-level-1) 1pt solid;\n",
              "  color: var(--sklearn-color-fitted-level-1);\n",
              "}\n",
              "\n",
              "/* On hover */\n",
              "div.sk-estimator:hover .sk-estimator-doc-link:hover,\n",
              ".sk-estimator-doc-link:hover,\n",
              "div.sk-label-container:hover .sk-estimator-doc-link:hover,\n",
              ".sk-estimator-doc-link:hover {\n",
              "  /* unfitted */\n",
              "  background-color: var(--sklearn-color-unfitted-level-3);\n",
              "  color: var(--sklearn-color-background);\n",
              "  text-decoration: none;\n",
              "}\n",
              "\n",
              "div.sk-estimator.fitted:hover .sk-estimator-doc-link.fitted:hover,\n",
              ".sk-estimator-doc-link.fitted:hover,\n",
              "div.sk-label-container:hover .sk-estimator-doc-link.fitted:hover,\n",
              ".sk-estimator-doc-link.fitted:hover {\n",
              "  /* fitted */\n",
              "  background-color: var(--sklearn-color-fitted-level-3);\n",
              "  color: var(--sklearn-color-background);\n",
              "  text-decoration: none;\n",
              "}\n",
              "\n",
              "/* Span, style for the box shown on hovering the info icon */\n",
              ".sk-estimator-doc-link span {\n",
              "  display: none;\n",
              "  z-index: 9999;\n",
              "  position: relative;\n",
              "  font-weight: normal;\n",
              "  right: .2ex;\n",
              "  padding: .5ex;\n",
              "  margin: .5ex;\n",
              "  width: min-content;\n",
              "  min-width: 20ex;\n",
              "  max-width: 50ex;\n",
              "  color: var(--sklearn-color-text);\n",
              "  box-shadow: 2pt 2pt 4pt #999;\n",
              "  /* unfitted */\n",
              "  background: var(--sklearn-color-unfitted-level-0);\n",
              "  border: .5pt solid var(--sklearn-color-unfitted-level-3);\n",
              "}\n",
              "\n",
              ".sk-estimator-doc-link.fitted span {\n",
              "  /* fitted */\n",
              "  background: var(--sklearn-color-fitted-level-0);\n",
              "  border: var(--sklearn-color-fitted-level-3);\n",
              "}\n",
              "\n",
              ".sk-estimator-doc-link:hover span {\n",
              "  display: block;\n",
              "}\n",
              "\n",
              "/* \"?\"-specific style due to the `<a>` HTML tag */\n",
              "\n",
              "#sk-container-id-2 a.estimator_doc_link {\n",
              "  float: right;\n",
              "  font-size: 1rem;\n",
              "  line-height: 1em;\n",
              "  font-family: monospace;\n",
              "  background-color: var(--sklearn-color-background);\n",
              "  border-radius: 1rem;\n",
              "  height: 1rem;\n",
              "  width: 1rem;\n",
              "  text-decoration: none;\n",
              "  /* unfitted */\n",
              "  color: var(--sklearn-color-unfitted-level-1);\n",
              "  border: var(--sklearn-color-unfitted-level-1) 1pt solid;\n",
              "}\n",
              "\n",
              "#sk-container-id-2 a.estimator_doc_link.fitted {\n",
              "  /* fitted */\n",
              "  border: var(--sklearn-color-fitted-level-1) 1pt solid;\n",
              "  color: var(--sklearn-color-fitted-level-1);\n",
              "}\n",
              "\n",
              "/* On hover */\n",
              "#sk-container-id-2 a.estimator_doc_link:hover {\n",
              "  /* unfitted */\n",
              "  background-color: var(--sklearn-color-unfitted-level-3);\n",
              "  color: var(--sklearn-color-background);\n",
              "  text-decoration: none;\n",
              "}\n",
              "\n",
              "#sk-container-id-2 a.estimator_doc_link.fitted:hover {\n",
              "  /* fitted */\n",
              "  background-color: var(--sklearn-color-fitted-level-3);\n",
              "}\n",
              "</style><div id=\"sk-container-id-2\" class=\"sk-top-container\"><div class=\"sk-text-repr-fallback\"><pre>RandomForestClassifier()</pre><b>In a Jupyter environment, please rerun this cell to show the HTML representation or trust the notebook. <br />On GitHub, the HTML representation is unable to render, please try loading this page with nbviewer.org.</b></div><div class=\"sk-container\" hidden><div class=\"sk-item\"><div class=\"sk-estimator fitted sk-toggleable\"><input class=\"sk-toggleable__control sk-hidden--visually\" id=\"sk-estimator-id-2\" type=\"checkbox\" checked><label for=\"sk-estimator-id-2\" class=\"sk-toggleable__label fitted sk-toggleable__label-arrow fitted\">&nbsp;&nbsp;RandomForestClassifier<a class=\"sk-estimator-doc-link fitted\" rel=\"noreferrer\" target=\"_blank\" href=\"https://scikit-learn.org/1.5/modules/generated/sklearn.ensemble.RandomForestClassifier.html\">?<span>Documentation for RandomForestClassifier</span></a><span class=\"sk-estimator-doc-link fitted\">i<span>Fitted</span></span></label><div class=\"sk-toggleable__content fitted\"><pre>RandomForestClassifier()</pre></div> </div></div></div></div>"
            ],
            "text/plain": [
              "RandomForestClassifier()"
            ]
          },
          "execution_count": 20,
          "metadata": {},
          "output_type": "execute_result"
        }
      ],
      "source": [
        "# Crear y entrenar el modelo\n",
        "model = RandomForestClassifier()\n",
        "model.fit(X_train, y_train)"
      ]
    },
    {
      "cell_type": "code",
      "execution_count": 21,
      "metadata": {
        "id": "lByMQistnc56"
      },
      "outputs": [],
      "source": [
        "# Predecir\n",
        "y_pred = model.predict(X_test)"
      ]
    },
    {
      "cell_type": "code",
      "execution_count": 22,
      "metadata": {
        "colab": {
          "base_uri": "https://localhost:8080/"
        },
        "id": "7lxrOwyAmPAF",
        "outputId": "458daf0b-7b89-468d-fb0d-efa2efe4ad17"
      },
      "outputs": [
        {
          "name": "stdout",
          "output_type": "stream",
          "text": [
            "Accuracy: 1.0\n",
            "Precision: 1.0\n",
            "Recall: 1.0\n",
            "F1 Score: 1.0\n"
          ]
        }
      ],
      "source": [
        "# Evaluar\n",
        "accuracy = accuracy_score(y_test, y_pred)\n",
        "precision = precision_score(y_test, y_pred, average='weighted')\n",
        "recall = recall_score(y_test, y_pred, average='weighted')\n",
        "f1 = f1_score(y_test, y_pred, average='weighted')\n",
        "conf_matrix = confusion_matrix(y_test, y_pred)\n",
        "\n",
        "print(f'Accuracy: {accuracy}')\n",
        "print(f'Precision: {precision}')\n",
        "print(f'Recall: {recall}')\n",
        "print(f'F1 Score: {f1}')"
      ]
    },
    {
      "cell_type": "code",
      "execution_count": 23,
      "metadata": {
        "colab": {
          "base_uri": "https://localhost:8080/",
          "height": 564
        },
        "id": "ICEGRKuDmlyC",
        "outputId": "8b037c3d-7f85-4697-a740-a9e556eaa5f0"
      },
      "outputs": [
        {
          "data": {
            "image/png": "[encoded data removed]",
            "text/plain": [
              "<Figure size 800x600 with 1 Axes>"
            ]
          },
          "metadata": {},
          "output_type": "display_data"
        }
      ],
      "source": [
        "# Graficar la matriz de confusión\n",
        "plt.figure(figsize=(8, 6))\n",
        "sns.heatmap(conf_matrix, annot=True, fmt='d', cmap='Blues', cbar=False,\n",
        "            xticklabels=iris.target_names, yticklabels=iris.target_names)\n",
        "plt.xlabel('Predicción')\n",
        "plt.ylabel('Valor Real')\n",
        "plt.title('Matriz de Confusión - Dataset Iris')\n",
        "plt.show()"
      ]
    },
    {
      "cell_type": "code",
      "execution_count": null,
      "metadata": {
        "id": "U4YzdC7mY9ed"
      },
      "outputs": [],
      "source": []
    },
    {
      "cell_type": "markdown",
      "metadata": {
        "id": "pBaeE1YwLsWW"
      },
      "source": [
        "## **Matriz de Confusión**"
      ]
    },
    {
      "cell_type": "markdown",
      "metadata": {
        "id": "4r-DN4ELLuwU"
      },
      "source": [
        "La matriz de confusión es una tabla que permite visualizar el desempeño de un modelo de clasificación, mostrando el número de predicciones correctas e incorrectas realizadas por el modelo, distribuidas según las clases verdaderas y las predichas. Es fundamental para calcular muchas de las métricas utilizadas para evaluar modelos de clasificación.\n",
        "\n",
        "**Organización de la Matriz de Confusión:** En una matriz de confusión típica para un problema de clasificación binaria, las filas representan las clases reales (lo que realmente sucedió) y las columnas representan las predicciones del modelo (lo que el modelo predijo).\n"
      ]
    },
    {
      "cell_type": "markdown",
      "metadata": {
        "id": "c13Q006hgAeu"
      },
      "source": [
        "![662c42677529a0f4e97e4f96_644aea65cefe35380f198a5a_class_guide_cm08.png](data:image/png;base64,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)"
      ]
    },
    {
      "cell_type": "markdown",
      "metadata": {
        "id": "9Yu7mI6WMLZk"
      },
      "source": [
        "|                      | **Predicción: Positivo** | **Predicción: Negativo** |\n",
        "|----------------------|--------------------------|---------------------------|\n",
        "| **Clase Real: Positivo** | Verdaderos Positivos (TP) | Falsos Negativos (FN)     |\n",
        "| **Clase Real: Negativo** | Falsos Positivos (FP)     | Verdaderos Negativos (TN)  |"
      ]
    },
    {
      "cell_type": "markdown",
      "metadata": {
        "id": "JqhKR6_LMQEk"
      },
      "source": [
        "**Componentes Clave de la Matriz de Confusión:**\n",
        "\n",
        "**Verdaderos Positivos (TP):**\n",
        "\n",
        "Casos en los que el modelo predice correctamente la clase positiva (el modelo predijo positivo y realmente era positivo).\n",
        "\n",
        "**Verdaderos Negativos (TN):**\n",
        "\n",
        "Casos en los que el modelo predice correctamente la clase negativa (el modelo predijo negativo y realmente era negativo).\n",
        "\n",
        "**Falsos Positivos (FP):**\n",
        "\n",
        "Casos en los que el modelo predice la clase positiva de forma incorrecta (el modelo predijo positivo, pero en realidad era negativo). También conocido como error de tipo I.\n",
        "\n",
        "**Falsos Negativos (FN):**\n",
        "\n",
        "Casos en los que el modelo predice la clase negativa de forma incorrecta (el modelo predijo negativo, pero en realidad era positivo). También conocido como error de tipo II."
      ]
    },
    {
      "cell_type": "markdown",
      "metadata": {
        "id": "mTIksoiIMmYM"
      },
      "source": [
        "Supongamos que estamos trabajando con un modelo de clasificación binaria que predice si un paciente tiene una enfermedad (Positivo) o no (Negativo). El modelo fue probado en 100 pacientes, y la siguiente es su matriz de confusión:"
      ]
    },
    {
      "cell_type": "markdown",
      "metadata": {
        "id": "M6SpLcgrMOnl"
      },
      "source": [
        "|                      | **Predicción: Positivo** | **Predicción: Negativo** |\n",
        "|----------------------|--------------------------|---------------------------|\n",
        "| **Clase Real: Positivo** | 50 (TP)                 | 10 (FN)                   |\n",
        "| **Clase Real: Negativo** | 5 (FP)                  | 35 (TN)                   |"
      ]
    },
    {
      "cell_type": "markdown",
      "metadata": {
        "id": "ubOJukDwMtZc"
      },
      "source": [
        "**Interpretación:**\n",
        "\n",
        "Verdaderos Positivos (TP = 50): El modelo predijo correctamente que 50 pacientes tienen la enfermedad.\n",
        "\n",
        "Verdaderos Negativos (TN = 35): El modelo predijo correctamente que 35 pacientes no tienen la enfermedad.\n",
        "\n",
        "Falsos Positivos (FP = 5): El modelo predijo que 5 pacientes tenían la enfermedad cuando en realidad no la tenían.\n",
        "\n",
        "Falsos Negativos (FN = 10): El modelo no detectó que 10 pacientes tenían la enfermedad cuando realmente la tenían."
      ]
    },
    {
      "cell_type": "markdown",
      "metadata": {
        "id": "cZtaXk57MxW0"
      },
      "source": [
        "Este tipo de matriz nos permite calcular otras métricas importantes como la exactitud, la precisión, el recall, y el F1 score."
      ]
    },
    {
      "cell_type": "markdown",
      "metadata": {
        "id": "hwbMUM0uMz7j"
      },
      "source": [
        "Ahora, imaginemos un modelo que clasifica flores en tres especies: Iris-setosa, Iris-versicolor e Iris-virginica. La matriz de confusión para este modelo podría verse de la siguiente manera:"
      ]
    },
    {
      "cell_type": "markdown",
      "metadata": {
        "id": "tViqTqljNGHc"
      },
      "source": [
        "|                      | **Predicción: Setosa** | **Predicción: Versicolor** | **Predicción: Virginica** |\n",
        "|----------------------|------------------------|----------------------------|----------------------------|\n",
        "| **Clase Real: Setosa**     | 40                     | 5                          | 0                          |\n",
        "| **Clase Real: Versicolor** | 2                      | 35                         | 8                          |\n",
        "| **Clase Real: Virginica**  | 0                      | 3                          | 37                         |"
      ]
    },
    {
      "cell_type": "markdown",
      "metadata": {
        "id": "qAvbdYDPM3L0"
      },
      "source": [
        "Interpretación:\n",
        "\n",
        "Clase Setosa (40 TP, 5 FP): El modelo predijo correctamente 40 casos como Iris-setosa, pero clasificó 5 erróneamente como Versicolor.\n",
        "\n",
        "Clase Versicolor (35 TP, 10 FP/FN): El modelo identificó correctamente 35 como Versicolor, pero 2 casos de Setosa fueron clasificados incorrectamente como Versicolor, y 8 casos de Versicolor fueron mal clasificados como Virginica.\n",
        "\n",
        "Clase Virginica (37 TP, 3 FP): El modelo predijo correctamente 37 casos de Virginica, pero mal clasificó 3 Versicolor como Virginica."
      ]
    },
    {
      "cell_type": "markdown",
      "metadata": {
        "id": "8x6GfaJsNUI3"
      },
      "source": [
        "## **Exactitud (Accuracy)**"
      ]
    },
    {
      "cell_type": "markdown",
      "metadata": {
        "id": "YrJqPKvjNZ6M"
      },
      "source": [
        "Tiene como objetivo analizar la métrica más utilizada en clasificación, su fórmula y limitaciones, explorando ejemplos en datasets balanceados y desbalanceados."
      ]
    },
    {
      "cell_type": "markdown",
      "metadata": {
        "id": "pWwgfECtNgT2"
      },
      "source": [
        "**Fórmula de la Exactitud**\n",
        "\n",
        "La exactitud (accuracy) es una métrica simple que mide la proporción de predicciones correctas (verdaderos positivos y verdaderos negativos) con respecto al total de predicciones.\n",
        "\n",
        "La fórmula general para calcular la exactitud es:"
      ]
    },
    {
      "cell_type": "markdown",
      "metadata": {
        "id": "XFumY6nENjgE"
      },
      "source": [
        "$$\n",
        "\\text{Exactitud} {(Accuracy)}= \\frac{TP + TN}{TP + TN + FP + FN}\n",
        "$$"
      ]
    },
    {
      "cell_type": "markdown",
      "metadata": {
        "id": "GGVOnSBPOj-8"
      },
      "source": [
        "TP (True Positives): Verdaderos Positivos\n",
        "\n",
        "TN (True Negatives): Verdaderos Negativos\n",
        "\n",
        "FP (False Positives): Falsos Positivos\n",
        "\n",
        "FN (False Negatives): Falsos Negativos"
      ]
    },
    {
      "cell_type": "markdown",
      "metadata": {
        "id": "n6rCw1u9OpH8"
      },
      "source": [
        "**Ventajas y Desventajas**\n",
        "\n",
        "**Ventajas:**\n",
        "\n",
        "Fácil de interpretar: La exactitud es una métrica intuitiva que da una visión rápida de qué tan bien está funcionando el modelo en general.\n",
        "Útil en datasets balanceados: Cuando las clases positivas y negativas están bien representadas en el dataset (es decir, tienen un número similar de ejemplos), la exactitud puede ser una buena métrica.\n",
        "\n",
        "**Desventajas:**\n",
        "\n",
        "**Engañosa en datasets desbalanceados:** Si una clase está sobre-representada en los datos, el modelo puede obtener una alta exactitud al predecir solo la clase mayoritaria, aunque esté fallando al identificar correctamente la clase minoritaria.\n",
        "\n",
        "**Ignora el tipo de error:** No distingue entre falsos positivos y falsos negativos. En algunos problemas, como la detección de enfermedades, un falso negativo puede ser mucho más grave que un falso positivo, pero la exactitud no captura estas diferencias.\n"
      ]
    },
    {
      "cell_type": "markdown",
      "metadata": {
        "id": "8HEdywZ-WHbw"
      },
      "source": [
        "Supongamos un problema de clasificación binaria con 100 muestras, donde 50 pertenecen a la clase positiva y 50 a la clase negativa. El modelo produce los siguientes resultados:"
      ]
    },
    {
      "cell_type": "markdown",
      "metadata": {
        "id": "FYvGnj9iYszN"
      },
      "source": [
        "Ejemplo con clases balanceadas"
      ]
    },
    {
      "cell_type": "markdown",
      "metadata": {
        "id": "_gkhLNk5XRK2"
      },
      "source": [
        "|                | Predicción: Positivo | Predicción: Negativo |\n",
        "|----------------|----------------------|----------------------|\n",
        "| Clase Real: Positivo | 45 (TP)              | 5 (FN)               |\n",
        "| Clase Real: Negativo | 10 (FP)              | 40 (TN)              |"
      ]
    },
    {
      "cell_type": "markdown",
      "metadata": {
        "id": "rvhp91WWXaxd"
      },
      "source": [
        "$$\n",
        "\\text{Exactitud} = \\frac{TP + TN}{TP + TN + FP + FN} = \\frac{45 + 40}{45 + 40 + 10 + 5} = \\frac{85}{100} = 0.85 \\text{ o } 85\\%\n",
        "$$"
      ]
    },
    {
      "cell_type": "markdown",
      "metadata": {
        "id": "8INYMaFLXPkM"
      },
      "source": [
        "Aquí, la exactitud nos da una buena idea del desempeño del modelo. Debido a que las clases están balanceadas, el modelo está clasificando bien tanto los positivos como los negativos, obteniendo una alta exactitud."
      ]
    },
    {
      "cell_type": "markdown",
      "metadata": {
        "id": "qrdQ4CWQYxol"
      },
      "source": [
        "Ejemplo con clases desbalanceadas"
      ]
    },
    {
      "cell_type": "markdown",
      "metadata": {
        "id": "KL9Zmat2XMEV"
      },
      "source": [
        "|                | Predicción: Positivo | Predicción: Negativo |\n",
        "|----------------|----------------------|----------------------|\n",
        "| Clase Real: Positivo | 2 (TP)                | 8 (FN)               |\n",
        "| Clase Real: Negativo | 5 (FP)                | 85 (TN)              |"
      ]
    },
    {
      "cell_type": "markdown",
      "metadata": {
        "id": "DBZ9T6XqX1c2"
      },
      "source": [
        "$$\n",
        "\\text{Exactitud} = \\frac{TP + TN}{TP + TN + FP + FN} = \\frac{2 + 85}{2 + 85 + 5 + 8} = \\frac{87}{100} = 0.87 \\text{ o } 87\\%\n",
        "$$"
      ]
    },
    {
      "cell_type": "markdown",
      "metadata": {
        "id": "udKHM_KEYR7k"
      },
      "source": [
        "Aunque la exactitud es del 87%, el modelo está fallando al predecir la clase positiva, lo que muestra cómo la exactitud puede ser engañosa en datasets desbalanceados."
      ]
    },
    {
      "cell_type": "markdown",
      "metadata": {
        "id": "rjiXiS8qZNqG"
      },
      "source": [
        "La exactitud (Accuracy) es una métrica útil y fácil de entender, especialmente en datasets balanceados. Sin embargo, su utilidad disminuye cuando los datos están desbalanceados, ya que puede dar una falsa impresión del rendimiento del modelo. Es fundamental utilizar otras métricas como la precisión y el recall en situaciones donde las clases no están balanceadas o cuando ciertos errores son más graves que otros."
      ]
    },
    {
      "cell_type": "markdown",
      "metadata": {
        "id": "UiRYamEEa2f8"
      },
      "source": [
        "## **Precisión (Precision)**"
      ]
    },
    {
      "cell_type": "markdown",
      "metadata": {
        "id": "b_bEHs4oa2Uk"
      },
      "source": [
        "La precisión mide cuán precisas son las predicciones positivas del modelo, es decir, de todas las instancias que el modelo ha predicho como positivas, cuántas de ellas realmente lo son.\n",
        "\n",
        "La fórmula para calcular la precisión es:"
      ]
    },
    {
      "cell_type": "markdown",
      "metadata": {
        "id": "s9cpj_VtbSir"
      },
      "source": [
        "$$\n",
        "\\text{Precisión} (Precision) = \\frac{TP}{TP + FP}\n",
        "$$"
      ]
    },
    {
      "cell_type": "markdown",
      "metadata": {
        "id": "27vBYvhbdNyd"
      },
      "source": [
        "**TP (True Positives):** Verdaderos Positivos.\n",
        "\n",
        "**FP (False Positives):** Falsos Positivos."
      ]
    },
    {
      "cell_type": "markdown",
      "metadata": {
        "id": "XsQQmyr3baoO"
      },
      "source": [
        "La precisión nos da una idea de cuántas de las predicciones positivas que hizo el modelo son realmente correctas, lo cual es crucial en contextos donde los falsos positivos (predecir positivo cuando en realidad es negativo) tienen un impacto significativo."
      ]
    },
    {
      "cell_type": "markdown",
      "metadata": {
        "id": "9g5vHbzLbpPc"
      },
      "source": [
        "\n",
        "**Se aplica en casos donde es crucial evitar falsos positivos:**\n",
        "\n",
        "**Detección de fraudes**: En sistemas que detectan transacciones fraudulentas, los falsos positivos (etiquetar transacciones válidas como fraudulentas) pueden generar molestias a los clientes y costos innecesarios. Aquí, es esencial tener una alta precisión.\n",
        "\n",
        "**Diagnóstico médico**: En la detección de enfermedades graves, un falso positivo podría causar ansiedad innecesaria o tratamientos costosos para pacientes sanos. En estos casos, es importante minimizar los falsos positivos, y por lo tanto, tener una alta precisión es clave."
      ]
    },
    {
      "cell_type": "markdown",
      "metadata": {
        "id": "qbNe6DtcbpHE"
      },
      "source": [
        "Supongamos que estamos trabajando en un modelo de clasificación binaria que detecta si un correo electrónico es spam o no. El modelo ha sido probado en 100 correos electrónicos, y la matriz de confusión es la siguiente:"
      ]
    },
    {
      "cell_type": "markdown",
      "metadata": {
        "id": "AMqDKjwjbo_c"
      },
      "source": [
        "|                | Predicción: Spam  | Predicción: No Spam |\n",
        "|----------------|-------------------|---------------------|\n",
        "| Clase Real: Spam | 40 (TP)           | 10 (FN)             |\n",
        "| Clase Real: No Spam | 15 (FP)         | 35 (TN)             |"
      ]
    },
    {
      "cell_type": "markdown",
      "metadata": {
        "id": "MM5PXZM4ciwz"
      },
      "source": [
        "$$\n",
        "\\text{Precisión} = \\frac{TP}{TP + FP} = \\frac{40}{40 + 15} = \\frac{40}{55} = 0.727 \\text{ o } 72.7\\%\n",
        "$$"
      ]
    },
    {
      "cell_type": "markdown",
      "metadata": {
        "id": "enpi52OYcL-d"
      },
      "source": [
        "Interpretación: La precisión es del 72.7%, lo que significa que, de todos los correos que el modelo predijo como spam (55), solo el 72.7% realmente eran spam (40 correos). El 27.3% restante (15 correos) fueron falsos positivos, es decir, correos legítimos que el modelo clasificó erróneamente como spam.\n",
        "\n",
        "Interpretación visual: Imaginemos un gráfico de barras donde se representa la cantidad de correos que el modelo predijo como spam:\n",
        "\n",
        "40 correos (barras verdes) fueron predichos correctamente como spam (verdaderos positivos).\n",
        "\n",
        "15 correos (barras rojas) fueron predichos incorrectamente como spam (falsos positivos).\n",
        "\n",
        "Esta representación visual muestra cómo la precisión se enfoca en las predicciones positivas, evaluando el grado de error relacionado con los falsos positivos."
      ]
    },
    {
      "cell_type": "markdown",
      "metadata": {
        "id": "l40UEHOmdzR7"
      },
      "source": [
        "La precisión es una métrica fundamental cuando es importante reducir los falsos positivos. En contextos donde una predicción incorrecta como positiva puede tener consecuencias significativas (fraudes, diagnósticos médicos, etc.), la precisión ofrece una medida clara de la confiabilidad del modelo para identificar correctamente los verdaderos positivos sin generar errores que clasifiquen erróneamente los casos negativos como positivos."
      ]
    },
    {
      "cell_type": "markdown",
      "metadata": {
        "id": "5RcSkUSxeDC1"
      },
      "source": [
        "## **Exhaustividad (Recall o Sensibilidad)**"
      ]
    },
    {
      "cell_type": "markdown",
      "metadata": {
        "id": "7W4hwr7EeKx0"
      },
      "source": [
        "El recall (también conocido como sensibilidad) mide la capacidad del modelo para identificar correctamente todos los ejemplos positivos en el conjunto de datos. Esta métrica se centra en cuántos verdaderos positivos fueron detectados con éxito entre todos los casos positivos.\n",
        "\n",
        "La fórmula general para calcular el recall es:"
      ]
    },
    {
      "cell_type": "markdown",
      "metadata": {
        "id": "bx_6acvVepTz"
      },
      "source": [
        "$$\n",
        "\\text{Recall (Sensibilidad)} = \\frac{TP}{TP + FN}\n",
        "$$"
      ]
    },
    {
      "cell_type": "markdown",
      "metadata": {
        "id": "xqRrC-F4eq00"
      },
      "source": [
        "**TP (True Positives):** Verdaderos Positivos.\n",
        "\n",
        "**FN (False Negatives):** Falsos Negativos."
      ]
    },
    {
      "cell_type": "markdown",
      "metadata": {
        "id": "7XYhpKjKezyL"
      },
      "source": [
        "El recall mide cuántos de los casos que son realmente positivos fueron identificados como tales por el modelo. Es especialmente importante en situaciones donde un falso negativo tiene un alto costo."
      ]
    },
    {
      "cell_type": "markdown",
      "metadata": {
        "id": "C7CrK_bie37U"
      },
      "source": [
        "**Casos donde es importante minimizar falsos negativos:**\n",
        "\n",
        "**Diagnóstico de enfermedades**: Un falso negativo puede ser crítico, ya que significa no tratar a un paciente que realmente necesita atención médica. Un recall alto es esencial para minimizar falsos negativos.\n",
        "\n",
        "**Detección de fraudes**: Un falso negativo significa que un fraude pasa desapercibido, lo que puede generar pérdidas significativas. Por tanto, es crucial tener un alto recall para identificar todos los fraudes posibles."
      ]
    },
    {
      "cell_type": "markdown",
      "metadata": {
        "id": "EMhw1cEGfRCr"
      },
      "source": [
        "Supongamos que estamos construyendo un modelo para detectar si un paciente tiene una enfermedad grave. El modelo se probó en 100 pacientes, de los cuales 20 realmente tienen la enfermedad. La matriz de confusión es la siguiente:"
      ]
    },
    {
      "cell_type": "markdown",
      "metadata": {
        "id": "677WfYsofTw7"
      },
      "source": [
        "|                       | Predicción: Enfermo  | Predicción: No Enfermo |\n",
        "|-----------------------|----------------------|------------------------|\n",
        "| Clase Real: Enfermo    | 15 (TP)              | 5 (FN)                 |\n",
        "| Clase Real: No Enfermo | 10 (FP)              | 70 (TN)                |"
      ]
    },
    {
      "cell_type": "markdown",
      "metadata": {
        "id": "CFLkzA4EfVBT"
      },
      "source": [
        "$$\n",
        "\\text{Recall} = \\frac{TP}{TP + FN} = \\frac{15}{15 + 5} = \\frac{15}{20} = 0.75 \\text{ o } 75\\%\n",
        "$$"
      ]
    },
    {
      "cell_type": "markdown",
      "metadata": {
        "id": "dDgFntoef4qs"
      },
      "source": [
        "Interpretación: El modelo tiene un recall del 75%, lo que significa que identificó correctamente el 75% de los casos positivos (enfermos). Sin embargo, el 25% de los pacientes enfermos (5 casos) no fueron detectados correctamente, lo que representa un problema significativo en contextos médicos donde los falsos negativos pueden tener consecuencias graves.\n"
      ]
    },
    {
      "cell_type": "markdown",
      "metadata": {
        "id": "1spKT73MgV9F"
      },
      "source": [
        "Imaginemos un modelo que analiza transacciones para detectar fraudes. Si de 100 transacciones, 20 son fraudulentas y el modelo identifica correctamente 16, pero no detecta 4 transacciones fraudulentas:"
      ]
    },
    {
      "cell_type": "markdown",
      "metadata": {
        "id": "T7YHM7twgbuT"
      },
      "source": [
        "|                      | Predicción: Fraude    | Predicción: No Fraude   |\n",
        "|----------------------|-----------------------|-------------------------|\n",
        "| Clase Real: Fraude    | 16 (TP)               | 4 (FN)                  |\n",
        "| Clase Real: No Fraude | 12 (FP)                    | 68(TN)                      |"
      ]
    },
    {
      "cell_type": "markdown",
      "metadata": {
        "id": "tFe2eZ0ugltL"
      },
      "source": [
        "$$\n",
        "\\text{Recall} = \\frac{TP}{TP + FN} = \\frac{16}{16 + 4} = \\frac{16}{20} = 0.80 \\text{ o } 80\\%\n",
        "$$"
      ]
    },
    {
      "cell_type": "markdown",
      "metadata": {
        "id": "hruiP8ejgc_7"
      },
      "source": [
        "Esto significa que el modelo identifica el 80% de las transacciones fraudulentas, pero deja pasar el 20% de los fraudes, lo cual podría ser inaceptable en sistemas donde la detección completa de los fraudes es crítica."
      ]
    },
    {
      "cell_type": "markdown",
      "metadata": {
        "id": "_svJVWTCiMf8"
      },
      "source": [
        "El recall es crucial en problemas donde los falsos negativos tienen un impacto grave, como en la detección de enfermedades o fraudes. Un recall alto garantiza que el modelo es capaz de identificar la mayor cantidad de casos positivos posible, minimizando el riesgo de ignorar instancias críticas. Sin embargo, un alto recall puede ir acompañado de una mayor tasa de falsos positivos, por lo que suele utilizarse en combinación con otras métricas como la precisión."
      ]
    },
    {
      "cell_type": "markdown",
      "metadata": {
        "id": "s4utr7zxiQ1U"
      },
      "source": [
        "## **F1 Score**"
      ]
    },
    {
      "cell_type": "markdown",
      "metadata": {
        "id": "ycPjLQ6JiW7b"
      },
      "source": [
        "El F1 Score es una métrica que combina la precisión y el recall en un único valor, proporcionando un equilibrio entre ambas cuando es necesario considerar tanto los falsos positivos como los falsos negativos.\n",
        "\n",
        "La fórmula del F1 Score es:"
      ]
    },
    {
      "cell_type": "markdown",
      "metadata": {
        "id": "SiURihhckIcL"
      },
      "source": [
        "$$\n",
        "F1 = 2 \\times \\frac{\\text{Precisión} \\times \\text{Recall}}{\\text{Precisión} + \\text{Recall}}\n",
        "$$"
      ]
    },
    {
      "cell_type": "markdown",
      "metadata": {
        "id": "zboaxDZ1izdk"
      },
      "source": [
        "El F1 Score es la media armónica de la precisión y el recall. Tiende a ser más bajo que la media aritmética cuando la diferencia entre precisión y recall es grande, lo que lo convierte en una métrica útil cuando se necesita equilibrio.\n",
        "\n",
        "**Precisión (Precision):** Qué tan precisas son las predicciones positivas.\n",
        "\n",
        "**Recall (Sensibilidad):** Qué porcentaje de los casos positivos fue correctamente identificado.\n",
        "\n",
        "El F1 Score se sitúa entre 0 y 1:\n",
        "\n",
        "Un valor cercano a 1 indica que el modelo tiene un buen equilibrio entre precisión y recall.\n",
        "\n",
        "Un valor cercano a 0 indica que el modelo tiene un desempeño deficiente en una o ambas métricas."
      ]
    },
    {
      "cell_type": "markdown",
      "metadata": {
        "id": "z0F5vJ7GjBe1"
      },
      "source": [
        "**Casos donde se necesita un balance entre precisión y recall:**\n",
        "\n",
        "**Detección de spam:** En la clasificación de correos electrónicos como spam o no spam, un modelo con alta precisión podría evitar falsos positivos, pero si su recall es bajo, muchos correos spam no serán detectados. El F1 Score ayuda a encontrar un equilibrio entre evitar falsos positivos y detectar correctamente todos los correos spam.\n",
        "\n",
        "**Diagnóstico médico:** Si un modelo de detección de enfermedades tiene una alta precisión, podría evitar tratamientos innecesarios (falsos positivos), pero si el recall es bajo, algunos pacientes enfermos no serán detectados. El F1 Score garantiza que se logre un equilibrio entre la identificación de pacientes enfermos y la minimización de diagnósticos incorrectos."
      ]
    },
    {
      "cell_type": "markdown",
      "metadata": {
        "id": "75EX5E0SjLzL"
      },
      "source": [
        "Supongamos que estamos trabajando con un dataset balanceado en el que el modelo tiene la siguiente matriz de confusión:"
      ]
    },
    {
      "cell_type": "markdown",
      "metadata": {
        "id": "haluMZc6kesr"
      },
      "source": [
        "|                       | Predicción: Positivo  | Predicción: Negativo |\n",
        "|-----------------------|-----------------------|----------------------|\n",
        "| Clase Real: Positivo   | 40 (TP)               | 10 (FN)              |\n",
        "| Clase Real: Negativo   | 15 (FP)               | 35 (TN)              |\n"
      ]
    },
    {
      "cell_type": "markdown",
      "metadata": {
        "id": "PhORJmVdkgIz"
      },
      "source": [
        "$$\n",
        "\\text{Precisión} = \\frac{TP}{TP + FP} = \\frac{40}{40 + 15} = \\frac{40}{55} = 0.727 \\text{ o } 72.7\\%\n",
        "$$"
      ]
    },
    {
      "cell_type": "markdown",
      "metadata": {
        "id": "gUH4OFIskkgj"
      },
      "source": [
        "$$\n",
        "\\text{Recall} = \\frac{TP}{TP + FN} = \\frac{40}{40 + 10} = \\frac{40}{50} = 0.80 \\text{ o } 80\\%\n",
        "$$"
      ]
    },
    {
      "cell_type": "markdown",
      "metadata": {
        "id": "0ayhmharktDj"
      },
      "source": [
        "Calculamos el F1 Score:"
      ]
    },
    {
      "cell_type": "markdown",
      "metadata": {
        "id": "ofBlcuyckgC9"
      },
      "source": [
        "$$\n",
        "F1 = 2 \\times \\frac{0.727 \\times 0.80}{0.727 + 0.80} = 2 \\times \\frac{0.5816}{1.527} = 0.761 \\text{ o } 76.1\\%\n",
        "$$"
      ]
    },
    {
      "cell_type": "markdown",
      "metadata": {
        "id": "VyzdW9OLkf_7"
      },
      "source": []
    },
    {
      "cell_type": "markdown",
      "metadata": {
        "id": "_yi_F2MHkf8r"
      },
      "source": []
    },
    {
      "cell_type": "markdown",
      "metadata": {
        "id": "RFNXHZd8jNIb"
      },
      "source": [
        "**Interpretación:** El F1 Score de 76.1% refleja un buen balance entre precisión y recall en este caso. Esto significa que el modelo no solo está siendo preciso en la predicción de positivos, sino que también está capturando una buena proporción de los verdaderos positivos, lo que es ideal en situaciones donde tanto los falsos positivos como los falsos negativos tienen un costo.\n",
        "\n",
        "**Interpretación visual:** Imaginemos un gráfico de barras que muestra tanto la precisión como el recall:\n",
        "\n",
        "Precisión (72.7%) y Recall (80%) están representados como dos barras de alturas similares.\n",
        "\n",
        "La barra del F1 Score (76.1%) muestra cómo se equilibra ambas métricas para ofrecer una medida única del rendimiento del modelo."
      ]
    },
    {
      "cell_type": "markdown",
      "metadata": {
        "id": "AA9sPuDYjZo7"
      },
      "source": [
        "El F1 Score es una métrica poderosa en situaciones donde necesitamos equilibrar precisión y recall, especialmente en datasets donde los falsos positivos y falsos negativos tienen un impacto significativo. Combina lo mejor de ambas métricas y es particularmente útil en contextos con datasets desbalanceados, donde una sola métrica no captura completamente el desempeño del modelo."
      ]
    },
    {
      "cell_type": "markdown",
      "metadata": {
        "id": "5Tvu6wmKlUzt"
      },
      "source": [
        "## **Especificidad (Specificity)**"
      ]
    },
    {
      "cell_type": "markdown",
      "metadata": {
        "id": "Y3mCA1PQldq7"
      },
      "source": [
        "La especificidad mide la proporción de verdaderos negativos correctamente identificados por el modelo, es decir, aquellos casos que eran negativos y el modelo los predijo como negativos.\n",
        "\n",
        "La fórmula para calcular la especificidad es la siguiente:"
      ]
    },
    {
      "cell_type": "markdown",
      "metadata": {
        "id": "oWr0nOJXljhM"
      },
      "source": [
        "$$\n",
        "\\text{Specificity} = \\frac{TN}{TN + FP}\n",
        "$$"
      ]
    },
    {
      "cell_type": "markdown",
      "metadata": {
        "id": "J8GtSVHMljYb"
      },
      "source": [
        "**TN (Verdaderos Negativos):** El número de instancias negativas correctamente clasificadas por el modelo.\n",
        "\n",
        "**FP (Falsos Positivos)**: El número de instancias negativas que el modelo clasificó incorrectamente como positivas."
      ]
    },
    {
      "cell_type": "markdown",
      "metadata": {
        "id": "Rp-zNxA6mH-D"
      },
      "source": [
        "La especificidad indica qué tan bien el modelo evita cometer errores al identificar los negativos. Un valor de especificidad cercano a 1 significa que el modelo rara vez clasifica erróneamente una instancia negativa como positiva."
      ]
    },
    {
      "cell_type": "markdown",
      "metadata": {
        "id": "6hJotFYamH2s"
      },
      "source": [
        "La especificidad es clave en situaciones donde clasificar incorrectamente un caso negativo como positivo (falso positivo) puede tener consecuencias graves o costosas. Algunos ejemplos incluyen:\n",
        "\n",
        "**Sistemas de Detección de Fraude**: Si el modelo clasifica a un cliente legítimo como fraudulento, podría resultar en bloqueos de cuentas innecesarios, pérdida de confianza y daños a la reputación.\n",
        "\n",
        "**Diagnóstico Médico**: En pruebas médicas, como en la detección de enfermedades raras, es crucial evitar falsos positivos, ya que podrían llevar a tratamientos innecesarios, ansiedad en los pacientes, y costos médicos elevados."
      ]
    },
    {
      "cell_type": "markdown",
      "metadata": {
        "id": "Lm4AhFLUmZgF"
      },
      "source": [
        "Supongamos que estamos construyendo un modelo para detectar transacciones fraudulentas. La matriz de confusión es la siguiente:"
      ]
    },
    {
      "cell_type": "markdown",
      "metadata": {
        "id": "WgKgCcE8mWVL"
      },
      "source": [
        "|                       | Predicción: Fraudulento | Predicción: No Fraudulento |\n",
        "|-----------------------|-------------------------|----------------------------|\n",
        "| Clase Real: Fraudulento | 10 (TP)                | 5 (FN)                     |\n",
        "| Clase Real: No Fraudulento | 90 (TN)             | 15 (FP)                    |"
      ]
    },
    {
      "cell_type": "markdown",
      "metadata": {
        "id": "it-lD8jDmma7"
      },
      "source": [
        "$$\n",
        "\\text{Specificity} = \\frac{TN}{TN + FP} = \\frac{90}{90 + 15} = \\frac{90}{105} = 0.857 \\text{ o } 85.7\\%\n",
        "$$"
      ]
    },
    {
      "cell_type": "markdown",
      "metadata": {
        "id": "ilXtZBFim_QT"
      },
      "source": [
        "Interpretación:\n",
        "La especificidad de 85.7% indica que el modelo clasifica correctamente el 85.7% de las transacciones legítimas como no fraudulentas. Esto es importante para evitar bloquear transacciones legítimas innecesariamente, lo cual podría causar inconvenientes a los clientes y pérdida de confianza en el sistema.\n",
        "\n",
        "En situaciones de detección de fraude, una especificidad alta asegura que las transacciones legítimas no sean marcadas como fraudulentas, reduciendo así las alertas falsas y minimizando interrupciones para los clientes."
      ]
    },
    {
      "cell_type": "markdown",
      "metadata": {
        "id": "ASsjaRUnm-gL"
      },
      "source": [
        "La especificidad es una métrica crítica cuando los falsos positivos son costosos o difíciles de manejar. Evaluar correctamente los casos negativos es esencial en escenarios como la medicina, el fraude o la seguridad, donde los errores pueden tener consecuencias importantes."
      ]
    },
    {
      "cell_type": "markdown",
      "metadata": {
        "id": "YHR8sjVjaIpt"
      },
      "source": [
        "##**AUC-ROC (Curva de Características Operativas del Receptor)**"
      ]
    },
    {
      "cell_type": "markdown",
      "metadata": {
        "id": "pp6X-sLZaX6U"
      },
      "source": [
        "La Curva ROC (Receiver Operating Characteristic) es una representación gráfica que muestra el rendimiento de un modelo de clasificación binaria al variar su umbral de decisión. La curva ROC traza la tasa de verdaderos positivos (TPR o sensibilidad) frente a la tasa de falsos positivos (FPR) para diferentes puntos de corte del umbral."
      ]
    },
    {
      "cell_type": "markdown",
      "metadata": {
        "id": "xrN5Sx2bbfUk"
      },
      "source": [
        "**Tasa de Verdaderos Positivos (TPR o Sensibilidad):**\n",
        "\n",
        "$$\n",
        "\\text{TPR} = \\frac{TP}{TP + FN}\n",
        "$$\n",
        "\n",
        "La TPR mide la capacidad del modelo para detectar correctamente las instancias positivas\n",
        "\n",
        "\n",
        "\n",
        "**Tasa de Falsos Positivos (FPR)**:\n",
        "\n",
        "$$\n",
        "\\text{FPR} = \\frac{FP}{FP + TN}\n",
        "$$\n",
        "\n",
        "La FPR mide cuántos negativos reales son incorrectamente clasificados como positivos por el modelo."
      ]
    },
    {
      "cell_type": "markdown",
      "metadata": {
        "id": "Ig03BvjTfiKe"
      },
      "source": [
        "El umbral en un modelo de clasificación binaria es un valor que define el límite a partir del cual una predicción se clasifica como positiva o negativa. Este umbral no es algo que \"salga\" mágicamente, sino que es un parámetro ajustable basado en el problema y los objetivos específicos del modelo."
      ]
    },
    {
      "cell_type": "markdown",
      "metadata": {
        "id": "__MMKMInfjgm"
      },
      "source": [
        "**Predicciones del modelo:**\n",
        "\n",
        "Los modelos de clasificación binaria (por ejemplo, regresión logística o redes neuronales) producen una probabilidad para cada instancia, que refleja cuán probable es que pertenezca a la clase positiva. Estas probabilidades suelen estar en el rango [0, 1].\n",
        "\n",
        "**Umbral por defecto:**\n",
        "\n",
        "Por defecto, muchos algoritmos usan un umbral de 0.5, es decir:\n",
        "\n",
        "Si la probabilidad predicha es mayor o igual a 0.5, la instancia se clasifica como positiva.\n",
        "Si es menor, se clasifica como negativa.\n",
        "\n",
        "**Exploración de umbrales:**\n",
        "\n",
        "Para calcular la curva ROC, el modelo se evalúa usando múltiples umbrales en el rango [0, 1]. Por ejemplo:\n",
        "\n",
        "Umbral 0.1: Muy permisivo, muchas instancias se clasifican como positivas.\n",
        "\n",
        "Umbral 0.9: Muy estricto, pocas instancias se clasifican como positivas.\n",
        "\n",
        "**Cada umbral produce una combinación única de:**\n",
        "\n",
        "Tasa de Verdaderos Positivos (TPR o Sensibilidad).\n",
        "\n",
        "Tasa de Falsos Positivos (FPR).\n",
        "\n",
        "Estos valores se trazan para construir la curva ROC."
      ]
    },
    {
      "cell_type": "markdown",
      "metadata": {
        "id": "t2khH4_qcRad"
      },
      "source": [
        "Al trazar la TPR frente a la FPR para diferentes umbrales, obtenemos la curva ROC, que muestra el compromiso entre la sensibilidad y la especificidad del modelo."
      ]
    },
    {
      "cell_type": "markdown",
      "metadata": {
        "id": "SDCpDBDya2AU"
      },
      "source": [
        "| Umbral | Tasa de Falsos Positivos (FPR) | Tasa de Verdaderos Positivos (TPR) |\n",
        "|--------|-------------------------------|-----------------------------------|\n",
        "| 0.1    | 0.0                           | 0.0                               |\n",
        "| 0.2    | 0.1                           | 0.4                               |\n",
        "| 0.3    | 0.2                           | 0.6                               |\n",
        "| 0.4    | 0.3                           | 0.7                               |\n",
        "| 0.5    | 0.4                           | 0.8                               |\n",
        "| 0.6    | 0.5                           | 0.85                              |\n",
        "| 0.7    | 0.6                           | 0.9                               |\n",
        "| 0.8    | 0.7                           | 0.95                              |\n",
        "| 0.9    | 0.8                           | 0.97                              |\n",
        "| 1.0    | 1.0                           | 1.0                               |\n"
      ]
    },
    {
      "cell_type": "code",
      "execution_count": null,
      "metadata": {
        "id": "3GxHBmhDdYWV"
      },
      "outputs": [],
      "source": []
    },
    {
      "cell_type": "code",
      "execution_count": 24,
      "metadata": {
        "colab": {
          "base_uri": "https://localhost:8080/",
          "height": 607
        },
        "id": "6xF0SZt8dUo1",
        "outputId": "a8fa0a6d-d348-4673-a357-c65887ce85da"
      },
      "outputs": [
        {
          "data": {
            "image/png": "[encoded data removed]",
            "text/plain": [
              "<Figure size 800x600 with 1 Axes>"
            ]
          },
          "metadata": {},
          "output_type": "display_data"
        }
      ],
      "source": [
        "# Datos para la curva ROC\n",
        "fpr = [0.0, 0.1, 0.2, 0.3, 0.4, 0.5, 0.6, 0.7, 0.8, 1.0]\n",
        "tpr = [0.0, 0.4, 0.6, 0.7, 0.8, 0.85, 0.9, 0.95, 0.97, 1.0]\n",
        "\n",
        "# Crear el gráfico\n",
        "plt.figure(figsize=(8, 6))\n",
        "plt.plot(fpr, tpr, marker='o', label='Curva ROC', color='blue')\n",
        "plt.plot([0, 1], [0, 1], linestyle='--', label='Clasificación Aleatoria (AUC = 0.5)', color='red')\n",
        "\n",
        "# Rellenar el área bajo la curva\n",
        "plt.fill_between(fpr, tpr, alpha=0.2, color='blue', label='Área Bajo la Curva (AUC)')\n",
        "\n",
        "# Personalización del gráfico\n",
        "plt.title('Curva ROC y Área Bajo la Curva (AUC)', fontsize=14)\n",
        "plt.xlabel('Tasa de Falsos Positivos (FPR)', fontsize=12)\n",
        "plt.ylabel('Tasa de Verdaderos Positivos (TPR)', fontsize=12)\n",
        "plt.legend(fontsize=10)\n",
        "plt.grid(True, linestyle='--', alpha=0.7)\n",
        "plt.tight_layout()\n",
        "\n",
        "# Mostrar el gráfico\n",
        "plt.show()"
      ]
    },
    {
      "cell_type": "markdown",
      "metadata": {
        "id": "WVCmoXIidtiQ"
      },
      "source": [
        "La curva azul representa el rendimiento del modelo, mientras que la línea roja diagonal muestra el rendimiento de un clasificador aleatorio (AUC = 0.5). El área sombreada bajo la curva azul refleja el valor de AUC, que es una medida del rendimiento general del modelo."
      ]
    },
    {
      "cell_type": "code",
      "execution_count": 25,
      "metadata": {
        "id": "2sLPQ6_UiSVO"
      },
      "outputs": [],
      "source": [
        "# Importar librerías necesarias\n",
        "import pandas as pd\n",
        "import numpy as np\n",
        "from sklearn.model_selection import train_test_split\n",
        "from sklearn.ensemble import RandomForestClassifier\n",
        "from sklearn.metrics import (\n",
        "    accuracy_score, confusion_matrix, precision_score, recall_score,\n",
        "    f1_score, roc_auc_score, roc_curve, classification_report\n",
        ")\n",
        "import matplotlib.pyplot as plt\n"
      ]
    },
    {
      "cell_type": "code",
      "execution_count": 26,
      "metadata": {
        "colab": {
          "base_uri": "https://localhost:8080/"
        },
        "id": "bzVgkHdnhac-",
        "outputId": "dc280eee-e214-400a-fcd2-35d6bc710e30"
      },
      "outputs": [
        {
          "ename": "ModuleNotFoundError",
          "evalue": "No module named 'google.colab'",
          "output_type": "error",
          "traceback": [
            "\u001b[1;31m---------------------------------------------------------------------------\u001b[0m",
            "\u001b[1;31mModuleNotFoundError\u001b[0m                       Traceback (most recent call last)",
            "Cell \u001b[1;32mIn[26], line 2\u001b[0m\n\u001b[0;32m      1\u001b[0m \u001b[38;5;66;03m# Configuramos el entorno de Python en Google Colab\u001b[39;00m\n\u001b[1;32m----> 2\u001b[0m \u001b[38;5;28;01mfrom\u001b[39;00m \u001b[38;5;21;01mgoogle\u001b[39;00m\u001b[38;5;21;01m.\u001b[39;00m\u001b[38;5;21;01mcolab\u001b[39;00m \u001b[38;5;28;01mimport\u001b[39;00m drive\n\u001b[0;32m      3\u001b[0m \u001b[38;5;28;01mimport\u001b[39;00m \u001b[38;5;21;01mos\u001b[39;00m\n\u001b[0;32m      5\u001b[0m drive\u001b[38;5;241m.\u001b[39mmount(\u001b[38;5;124m\"\u001b[39m\u001b[38;5;124m/content/drive\u001b[39m\u001b[38;5;124m\"\u001b[39m)\n",
            "\u001b[1;31mModuleNotFoundError\u001b[0m: No module named 'google.colab'"
          ]
        }
      ],
      "source": [
        "# Configuramos el entorno de Python en Google Colab\n",
        "from google.colab import drive\n",
        "import os\n",
        "\n",
        "drive.mount(\"/content/drive\")\n",
        "print(os.getcwd())\n",
        "\n",
        "os.chdir(\"/content/drive/My Drive/\")\n",
        "print(os.getcwd())"
      ]
    },
    {
      "cell_type": "code",
      "execution_count": null,
      "metadata": {
        "id": "0g59TBT-hlkn"
      },
      "outputs": [],
      "source": [
        "df = pd.read_csv('/content/drive/MyDrive/Titanic (4).csv')"
      ]
    },
    {
      "cell_type": "code",
      "execution_count": null,
      "metadata": {
        "colab": {
          "base_uri": "https://localhost:8080/",
          "height": 206
        },
        "id": "RzBKQWl6w3G1",
        "outputId": "8c9ab375-01da-48b2-dc87-d4ac1d139b43"
      },
      "outputs": [
        {
          "data": {
            "application/vnd.google.colaboratory.intrinsic+json": {
              "summary": "{\n  \"name\": \"df\",\n  \"rows\": 714,\n  \"fields\": [\n    {\n      \"column\": \"Survived\",\n      \"properties\": {\n        \"dtype\": \"number\",\n        \"std\": 0,\n        \"min\": 0,\n        \"max\": 1,\n        \"num_unique_values\": 2,\n        \"samples\": [\n          1,\n          0\n        ],\n        \"semantic_type\": \"\",\n        \"description\": \"\"\n      }\n    },\n    {\n      \"column\": \"Pclass\",\n      \"properties\": {\n        \"dtype\": \"number\",\n        \"std\": 0,\n        \"min\": 1,\n        \"max\": 3,\n        \"num_unique_values\": 3,\n        \"samples\": [\n          3,\n          1\n        ],\n        \"semantic_type\": \"\",\n        \"description\": \"\"\n      }\n    },\n    {\n      \"column\": \"Sex\",\n      \"properties\": {\n        \"dtype\": \"number\",\n        \"std\": 0,\n        \"min\": 0,\n        \"max\": 1,\n        \"num_unique_values\": 2,\n        \"samples\": [\n          1,\n          0\n        ],\n        \"semantic_type\": \"\",\n        \"description\": \"\"\n      }\n    },\n    {\n      \"column\": \"Age\",\n      \"properties\": {\n        \"dtype\": \"number\",\n        \"std\": 14.526497332334044,\n        \"min\": 0.42,\n        \"max\": 80.0,\n        \"num_unique_values\": 88,\n        \"samples\": [\n          0.75,\n          22.0\n        ],\n        \"semantic_type\": \"\",\n        \"description\": \"\"\n      }\n    },\n    {\n      \"column\": \"SibSp\",\n      \"properties\": {\n        \"dtype\": \"number\",\n        \"std\": 0,\n        \"min\": 0,\n        \"max\": 5,\n        \"num_unique_values\": 6,\n        \"samples\": [\n          1,\n          0\n        ],\n        \"semantic_type\": \"\",\n        \"description\": \"\"\n      }\n    },\n    {\n      \"column\": \"Parch\",\n      \"properties\": {\n        \"dtype\": \"number\",\n        \"std\": 0,\n        \"min\": 0,\n        \"max\": 6,\n        \"num_unique_values\": 7,\n        \"samples\": [\n          0,\n          1\n        ],\n        \"semantic_type\": \"\",\n        \"description\": \"\"\n      }\n    }\n  ]\n}",
              "type": "dataframe",
              "variable_name": "df"
            },
            "text/html": [
              "\n",
              "  <div id=\"df-76332432-cd7a-4c42-bc10-57c84aca0819\" class=\"colab-df-container\">\n",
              "    <div>\n",
              "<style scoped>\n",
              "    .dataframe tbody tr th:only-of-type {\n",
              "        vertical-align: middle;\n",
              "    }\n",
              "\n",
              "    .dataframe tbody tr th {\n",
              "        vertical-align: top;\n",
              "    }\n",
              "\n",
              "    .dataframe thead th {\n",
              "        text-align: right;\n",
              "    }\n",
              "</style>\n",
              "<table border=\"1\" class=\"dataframe\">\n",
              "  <thead>\n",
              "    <tr style=\"text-align: right;\">\n",
              "      <th></th>\n",
              "      <th>Survived</th>\n",
              "      <th>Pclass</th>\n",
              "      <th>Sex</th>\n",
              "      <th>Age</th>\n",
              "      <th>SibSp</th>\n",
              "      <th>Parch</th>\n",
              "    </tr>\n",
              "  </thead>\n",
              "  <tbody>\n",
              "    <tr>\n",
              "      <th>0</th>\n",
              "      <td>0</td>\n",
              "      <td>3</td>\n",
              "      <td>0</td>\n",
              "      <td>22.0</td>\n",
              "      <td>1</td>\n",
              "      <td>0</td>\n",
              "    </tr>\n",
              "    <tr>\n",
              "      <th>1</th>\n",
              "      <td>1</td>\n",
              "      <td>1</td>\n",
              "      <td>1</td>\n",
              "      <td>38.0</td>\n",
              "      <td>1</td>\n",
              "      <td>0</td>\n",
              "    </tr>\n",
              "    <tr>\n",
              "      <th>2</th>\n",
              "      <td>1</td>\n",
              "      <td>3</td>\n",
              "      <td>1</td>\n",
              "      <td>26.0</td>\n",
              "      <td>0</td>\n",
              "      <td>0</td>\n",
              "    </tr>\n",
              "    <tr>\n",
              "      <th>3</th>\n",
              "      <td>1</td>\n",
              "      <td>1</td>\n",
              "      <td>1</td>\n",
              "      <td>35.0</td>\n",
              "      <td>1</td>\n",
              "      <td>0</td>\n",
              "    </tr>\n",
              "    <tr>\n",
              "      <th>4</th>\n",
              "      <td>0</td>\n",
              "      <td>3</td>\n",
              "      <td>0</td>\n",
              "      <td>35.0</td>\n",
              "      <td>0</td>\n",
              "      <td>0</td>\n",
              "    </tr>\n",
              "  </tbody>\n",
              "</table>\n",
              "</div>\n",
              "    <div class=\"colab-df-buttons\">\n",
              "\n",
              "  <div class=\"colab-df-container\">\n",
              "    <button class=\"colab-df-convert\" onclick=\"convertToInteractive('df-76332432-cd7a-4c42-bc10-57c84aca0819')\"\n",
              "            title=\"Convert this dataframe to an interactive table.\"\n",
              "            style=\"display:none;\">\n",
              "\n",
              "  <svg xmlns=\"http://www.w3.org/2000/svg\" height=\"24px\" viewBox=\"0 -960 960 960\">\n",
              "    <path d=\"M120-120v-720h720v720H120Zm60-500h600v-160H180v160Zm220 220h160v-160H400v160Zm0 220h160v-160H400v160ZM180-400h160v-160H180v160Zm440 0h160v-160H620v160ZM180-180h160v-160H180v160Zm440 0h160v-160H620v160Z\"/>\n",
              "  </svg>\n",
              "    </button>\n",
              "\n",
              "  <style>\n",
              "    .colab-df-container {\n",
              "      display:flex;\n",
              "      gap: 12px;\n",
              "    }\n",
              "\n",
              "    .colab-df-convert {\n",
              "      background-color: #E8F0FE;\n",
              "      border: none;\n",
              "      border-radius: 50%;\n",
              "      cursor: pointer;\n",
              "      display: none;\n",
              "      fill: #1967D2;\n",
              "      height: 32px;\n",
              "      padding: 0 0 0 0;\n",
              "      width: 32px;\n",
              "    }\n",
              "\n",
              "    .colab-df-convert:hover {\n",
              "      background-color: #E2EBFA;\n",
              "      box-shadow: 0px 1px 2px rgba(60, 64, 67, 0.3), 0px 1px 3px 1px rgba(60, 64, 67, 0.15);\n",
              "      fill: #174EA6;\n",
              "    }\n",
              "\n",
              "    .colab-df-buttons div {\n",
              "      margin-bottom: 4px;\n",
              "    }\n",
              "\n",
              "    [theme=dark] .colab-df-convert {\n",
              "      background-color: #3B4455;\n",
              "      fill: #D2E3FC;\n",
              "    }\n",
              "\n",
              "    [theme=dark] .colab-df-convert:hover {\n",
              "      background-color: #434B5C;\n",
              "      box-shadow: 0px 1px 3px 1px rgba(0, 0, 0, 0.15);\n",
              "      filter: drop-shadow(0px 1px 2px rgba(0, 0, 0, 0.3));\n",
              "      fill: #FFFFFF;\n",
              "    }\n",
              "  </style>\n",
              "\n",
              "    <script>\n",
              "      const buttonEl =\n",
              "        document.querySelector('#df-76332432-cd7a-4c42-bc10-57c84aca0819 button.colab-df-convert');\n",
              "      buttonEl.style.display =\n",
              "        google.colab.kernel.accessAllowed ? 'block' : 'none';\n",
              "\n",
              "      async function convertToInteractive(key) {\n",
              "        const element = document.querySelector('#df-76332432-cd7a-4c42-bc10-57c84aca0819');\n",
              "        const dataTable =\n",
              "          await google.colab.kernel.invokeFunction('convertToInteractive',\n",
              "                                                    [key], {});\n",
              "        if (!dataTable) return;\n",
              "\n",
              "        const docLinkHtml = 'Like what you see? Visit the ' +\n",
              "          '<a target=\"_blank\" href=https://colab.research.google.com/notebooks/data_table.ipynb>data table notebook</a>'\n",
              "          + ' to learn more about interactive tables.';\n",
              "        element.innerHTML = '';\n",
              "        dataTable['output_type'] = 'display_data';\n",
              "        await google.colab.output.renderOutput(dataTable, element);\n",
              "        const docLink = document.createElement('div');\n",
              "        docLink.innerHTML = docLinkHtml;\n",
              "        element.appendChild(docLink);\n",
              "      }\n",
              "    </script>\n",
              "  </div>\n",
              "\n",
              "\n",
              "<div id=\"df-e6f987df-66f2-48c9-b786-f2d68d6bfcc0\">\n",
              "  <button class=\"colab-df-quickchart\" onclick=\"quickchart('df-e6f987df-66f2-48c9-b786-f2d68d6bfcc0')\"\n",
              "            title=\"Suggest charts\"\n",
              "            style=\"display:none;\">\n",
              "\n",
              "<svg xmlns=\"http://www.w3.org/2000/svg\" height=\"24px\"viewBox=\"0 0 24 24\"\n",
              "     width=\"24px\">\n",
              "    <g>\n",
              "        <path d=\"M19 3H5c-1.1 0-2 .9-2 2v14c0 1.1.9 2 2 2h14c1.1 0 2-.9 2-2V5c0-1.1-.9-2-2-2zM9 17H7v-7h2v7zm4 0h-2V7h2v10zm4 0h-2v-4h2v4z\"/>\n",
              "    </g>\n",
              "</svg>\n",
              "  </button>\n",
              "\n",
              "<style>\n",
              "  .colab-df-quickchart {\n",
              "      --bg-color: #E8F0FE;\n",
              "      --fill-color: #1967D2;\n",
              "      --hover-bg-color: #E2EBFA;\n",
              "      --hover-fill-color: #174EA6;\n",
              "      --disabled-fill-color: #AAA;\n",
              "      --disabled-bg-color: #DDD;\n",
              "  }\n",
              "\n",
              "  [theme=dark] .colab-df-quickchart {\n",
              "      --bg-color: #3B4455;\n",
              "      --fill-color: #D2E3FC;\n",
              "      --hover-bg-color: #434B5C;\n",
              "      --hover-fill-color: #FFFFFF;\n",
              "      --disabled-bg-color: #3B4455;\n",
              "      --disabled-fill-color: #666;\n",
              "  }\n",
              "\n",
              "  .colab-df-quickchart {\n",
              "    background-color: var(--bg-color);\n",
              "    border: none;\n",
              "    border-radius: 50%;\n",
              "    cursor: pointer;\n",
              "    display: none;\n",
              "    fill: var(--fill-color);\n",
              "    height: 32px;\n",
              "    padding: 0;\n",
              "    width: 32px;\n",
              "  }\n",
              "\n",
              "  .colab-df-quickchart:hover {\n",
              "    background-color: var(--hover-bg-color);\n",
              "    box-shadow: 0 1px 2px rgba(60, 64, 67, 0.3), 0 1px 3px 1px rgba(60, 64, 67, 0.15);\n",
              "    fill: var(--button-hover-fill-color);\n",
              "  }\n",
              "\n",
              "  .colab-df-quickchart-complete:disabled,\n",
              "  .colab-df-quickchart-complete:disabled:hover {\n",
              "    background-color: var(--disabled-bg-color);\n",
              "    fill: var(--disabled-fill-color);\n",
              "    box-shadow: none;\n",
              "  }\n",
              "\n",
              "  .colab-df-spinner {\n",
              "    border: 2px solid var(--fill-color);\n",
              "    border-color: transparent;\n",
              "    border-bottom-color: var(--fill-color);\n",
              "    animation:\n",
              "      spin 1s steps(1) infinite;\n",
              "  }\n",
              "\n",
              "  @keyframes spin {\n",
              "    0% {\n",
              "      border-color: transparent;\n",
              "      border-bottom-color: var(--fill-color);\n",
              "      border-left-color: var(--fill-color);\n",
              "    }\n",
              "    20% {\n",
              "      border-color: transparent;\n",
              "      border-left-color: var(--fill-color);\n",
              "      border-top-color: var(--fill-color);\n",
              "    }\n",
              "    30% {\n",
              "      border-color: transparent;\n",
              "      border-left-color: var(--fill-color);\n",
              "      border-top-color: var(--fill-color);\n",
              "      border-right-color: var(--fill-color);\n",
              "    }\n",
              "    40% {\n",
              "      border-color: transparent;\n",
              "      border-right-color: var(--fill-color);\n",
              "      border-top-color: var(--fill-color);\n",
              "    }\n",
              "    60% {\n",
              "      border-color: transparent;\n",
              "      border-right-color: var(--fill-color);\n",
              "    }\n",
              "    80% {\n",
              "      border-color: transparent;\n",
              "      border-right-color: var(--fill-color);\n",
              "      border-bottom-color: var(--fill-color);\n",
              "    }\n",
              "    90% {\n",
              "      border-color: transparent;\n",
              "      border-bottom-color: var(--fill-color);\n",
              "    }\n",
              "  }\n",
              "</style>\n",
              "\n",
              "  <script>\n",
              "    async function quickchart(key) {\n",
              "      const quickchartButtonEl =\n",
              "        document.querySelector('#' + key + ' button');\n",
              "      quickchartButtonEl.disabled = true;  // To prevent multiple clicks.\n",
              "      quickchartButtonEl.classList.add('colab-df-spinner');\n",
              "      try {\n",
              "        const charts = await google.colab.kernel.invokeFunction(\n",
              "            'suggestCharts', [key], {});\n",
              "      } catch (error) {\n",
              "        console.error('Error during call to suggestCharts:', error);\n",
              "      }\n",
              "      quickchartButtonEl.classList.remove('colab-df-spinner');\n",
              "      quickchartButtonEl.classList.add('colab-df-quickchart-complete');\n",
              "    }\n",
              "    (() => {\n",
              "      let quickchartButtonEl =\n",
              "        document.querySelector('#df-e6f987df-66f2-48c9-b786-f2d68d6bfcc0 button');\n",
              "      quickchartButtonEl.style.display =\n",
              "        google.colab.kernel.accessAllowed ? 'block' : 'none';\n",
              "    })();\n",
              "  </script>\n",
              "</div>\n",
              "\n",
              "    </div>\n",
              "  </div>\n"
            ],
            "text/plain": [
              "   Survived  Pclass  Sex   Age  SibSp  Parch\n",
              "0         0       3    0  22.0      1      0\n",
              "1         1       1    1  38.0      1      0\n",
              "2         1       3    1  26.0      0      0\n",
              "3         1       1    1  35.0      1      0\n",
              "4         0       3    0  35.0      0      0"
            ]
          },
          "execution_count": 23,
          "metadata": {},
          "output_type": "execute_result"
        }
      ],
      "source": [
        "df.head()"
      ]
    },
    {
      "cell_type": "code",
      "execution_count": null,
      "metadata": {
        "id": "BgYltpqii6aq"
      },
      "outputs": [],
      "source": [
        "# Separar características (X) y etiqueta (y)\n",
        "X = df.drop(\"Survived\", axis=1)\n",
        "y = df[\"Survived\"]"
      ]
    },
    {
      "cell_type": "code",
      "execution_count": null,
      "metadata": {
        "id": "BmbvQiWdjA8P"
      },
      "outputs": [],
      "source": [
        "# Dividir el dataset en conjuntos de entrenamiento y prueba\n",
        "X_train, X_test, y_train, y_test = train_test_split(X, y, test_size=0.2, random_state=42)"
      ]
    },
    {
      "cell_type": "code",
      "execution_count": null,
      "metadata": {
        "colab": {
          "base_uri": "https://localhost:8080/",
          "height": 80
        },
        "id": "CtZEq5uRjEGv",
        "outputId": "813fc05e-22eb-420c-f709-40f6eca78a19"
      },
      "outputs": [
        {
          "data": {
            "text/html": [
              "<style>#sk-container-id-2 {\n",
              "  /* Definition of color scheme common for light and dark mode */\n",
              "  --sklearn-color-text: #000;\n",
              "  --sklearn-color-text-muted: #666;\n",
              "  --sklearn-color-line: gray;\n",
              "  /* Definition of color scheme for unfitted estimators */\n",
              "  --sklearn-color-unfitted-level-0: #fff5e6;\n",
              "  --sklearn-color-unfitted-level-1: #f6e4d2;\n",
              "  --sklearn-color-unfitted-level-2: #ffe0b3;\n",
              "  --sklearn-color-unfitted-level-3: chocolate;\n",
              "  /* Definition of color scheme for fitted estimators */\n",
              "  --sklearn-color-fitted-level-0: #f0f8ff;\n",
              "  --sklearn-color-fitted-level-1: #d4ebff;\n",
              "  --sklearn-color-fitted-level-2: #b3dbfd;\n",
              "  --sklearn-color-fitted-level-3: cornflowerblue;\n",
              "\n",
              "  /* Specific color for light theme */\n",
              "  --sklearn-color-text-on-default-background: var(--sg-text-color, var(--theme-code-foreground, var(--jp-content-font-color1, black)));\n",
              "  --sklearn-color-background: var(--sg-background-color, var(--theme-background, var(--jp-layout-color0, white)));\n",
              "  --sklearn-color-border-box: var(--sg-text-color, var(--theme-code-foreground, var(--jp-content-font-color1, black)));\n",
              "  --sklearn-color-icon: #696969;\n",
              "\n",
              "  @media (prefers-color-scheme: dark) {\n",
              "    /* Redefinition of color scheme for dark theme */\n",
              "    --sklearn-color-text-on-default-background: var(--sg-text-color, var(--theme-code-foreground, var(--jp-content-font-color1, white)));\n",
              "    --sklearn-color-background: var(--sg-background-color, var(--theme-background, var(--jp-layout-color0, #111)));\n",
              "    --sklearn-color-border-box: var(--sg-text-color, var(--theme-code-foreground, var(--jp-content-font-color1, white)));\n",
              "    --sklearn-color-icon: #878787;\n",
              "  }\n",
              "}\n",
              "\n",
              "#sk-container-id-2 {\n",
              "  color: var(--sklearn-color-text);\n",
              "}\n",
              "\n",
              "#sk-container-id-2 pre {\n",
              "  padding: 0;\n",
              "}\n",
              "\n",
              "#sk-container-id-2 input.sk-hidden--visually {\n",
              "  border: 0;\n",
              "  clip: rect(1px 1px 1px 1px);\n",
              "  clip: rect(1px, 1px, 1px, 1px);\n",
              "  height: 1px;\n",
              "  margin: -1px;\n",
              "  overflow: hidden;\n",
              "  padding: 0;\n",
              "  position: absolute;\n",
              "  width: 1px;\n",
              "}\n",
              "\n",
              "#sk-container-id-2 div.sk-dashed-wrapped {\n",
              "  border: 1px dashed var(--sklearn-color-line);\n",
              "  margin: 0 0.4em 0.5em 0.4em;\n",
              "  box-sizing: border-box;\n",
              "  padding-bottom: 0.4em;\n",
              "  background-color: var(--sklearn-color-background);\n",
              "}\n",
              "\n",
              "#sk-container-id-2 div.sk-container {\n",
              "  /* jupyter's `normalize.less` sets `[hidden] { display: none; }`\n",
              "     but bootstrap.min.css set `[hidden] { display: none !important; }`\n",
              "     so we also need the `!important` here to be able to override the\n",
              "     default hidden behavior on the sphinx rendered scikit-learn.org.\n",
              "     See: https://github.com/scikit-learn/scikit-learn/issues/21755 */\n",
              "  display: inline-block !important;\n",
              "  position: relative;\n",
              "}\n",
              "\n",
              "#sk-container-id-2 div.sk-text-repr-fallback {\n",
              "  display: none;\n",
              "}\n",
              "\n",
              "div.sk-parallel-item,\n",
              "div.sk-serial,\n",
              "div.sk-item {\n",
              "  /* draw centered vertical line to link estimators */\n",
              "  background-image: linear-gradient(var(--sklearn-color-text-on-default-background), var(--sklearn-color-text-on-default-background));\n",
              "  background-size: 2px 100%;\n",
              "  background-repeat: no-repeat;\n",
              "  background-position: center center;\n",
              "}\n",
              "\n",
              "/* Parallel-specific style estimator block */\n",
              "\n",
              "#sk-container-id-2 div.sk-parallel-item::after {\n",
              "  content: \"\";\n",
              "  width: 100%;\n",
              "  border-bottom: 2px solid var(--sklearn-color-text-on-default-background);\n",
              "  flex-grow: 1;\n",
              "}\n",
              "\n",
              "#sk-container-id-2 div.sk-parallel {\n",
              "  display: flex;\n",
              "  align-items: stretch;\n",
              "  justify-content: center;\n",
              "  background-color: var(--sklearn-color-background);\n",
              "  position: relative;\n",
              "}\n",
              "\n",
              "#sk-container-id-2 div.sk-parallel-item {\n",
              "  display: flex;\n",
              "  flex-direction: column;\n",
              "}\n",
              "\n",
              "#sk-container-id-2 div.sk-parallel-item:first-child::after {\n",
              "  align-self: flex-end;\n",
              "  width: 50%;\n",
              "}\n",
              "\n",
              "#sk-container-id-2 div.sk-parallel-item:last-child::after {\n",
              "  align-self: flex-start;\n",
              "  width: 50%;\n",
              "}\n",
              "\n",
              "#sk-container-id-2 div.sk-parallel-item:only-child::after {\n",
              "  width: 0;\n",
              "}\n",
              "\n",
              "/* Serial-specific style estimator block */\n",
              "\n",
              "#sk-container-id-2 div.sk-serial {\n",
              "  display: flex;\n",
              "  flex-direction: column;\n",
              "  align-items: center;\n",
              "  background-color: var(--sklearn-color-background);\n",
              "  padding-right: 1em;\n",
              "  padding-left: 1em;\n",
              "}\n",
              "\n",
              "\n",
              "/* Toggleable style: style used for estimator/Pipeline/ColumnTransformer box that is\n",
              "clickable and can be expanded/collapsed.\n",
              "- Pipeline and ColumnTransformer use this feature and define the default style\n",
              "- Estimators will overwrite some part of the style using the `sk-estimator` class\n",
              "*/\n",
              "\n",
              "/* Pipeline and ColumnTransformer style (default) */\n",
              "\n",
              "#sk-container-id-2 div.sk-toggleable {\n",
              "  /* Default theme specific background. It is overwritten whether we have a\n",
              "  specific estimator or a Pipeline/ColumnTransformer */\n",
              "  background-color: var(--sklearn-color-background);\n",
              "}\n",
              "\n",
              "/* Toggleable label */\n",
              "#sk-container-id-2 label.sk-toggleable__label {\n",
              "  cursor: pointer;\n",
              "  display: flex;\n",
              "  width: 100%;\n",
              "  margin-bottom: 0;\n",
              "  padding: 0.5em;\n",
              "  box-sizing: border-box;\n",
              "  text-align: center;\n",
              "  align-items: start;\n",
              "  justify-content: space-between;\n",
              "  gap: 0.5em;\n",
              "}\n",
              "\n",
              "#sk-container-id-2 label.sk-toggleable__label .caption {\n",
              "  font-size: 0.6rem;\n",
              "  font-weight: lighter;\n",
              "  color: var(--sklearn-color-text-muted);\n",
              "}\n",
              "\n",
              "#sk-container-id-2 label.sk-toggleable__label-arrow:before {\n",
              "  /* Arrow on the left of the label */\n",
              "  content: \"▸\";\n",
              "  float: left;\n",
              "  margin-right: 0.25em;\n",
              "  color: var(--sklearn-color-icon);\n",
              "}\n",
              "\n",
              "#sk-container-id-2 label.sk-toggleable__label-arrow:hover:before {\n",
              "  color: var(--sklearn-color-text);\n",
              "}\n",
              "\n",
              "/* Toggleable content - dropdown */\n",
              "\n",
              "#sk-container-id-2 div.sk-toggleable__content {\n",
              "  max-height: 0;\n",
              "  max-width: 0;\n",
              "  overflow: hidden;\n",
              "  text-align: left;\n",
              "  /* unfitted */\n",
              "  background-color: var(--sklearn-color-unfitted-level-0);\n",
              "}\n",
              "\n",
              "#sk-container-id-2 div.sk-toggleable__content.fitted {\n",
              "  /* fitted */\n",
              "  background-color: var(--sklearn-color-fitted-level-0);\n",
              "}\n",
              "\n",
              "#sk-container-id-2 div.sk-toggleable__content pre {\n",
              "  margin: 0.2em;\n",
              "  border-radius: 0.25em;\n",
              "  color: var(--sklearn-color-text);\n",
              "  /* unfitted */\n",
              "  background-color: var(--sklearn-color-unfitted-level-0);\n",
              "}\n",
              "\n",
              "#sk-container-id-2 div.sk-toggleable__content.fitted pre {\n",
              "  /* unfitted */\n",
              "  background-color: var(--sklearn-color-fitted-level-0);\n",
              "}\n",
              "\n",
              "#sk-container-id-2 input.sk-toggleable__control:checked~div.sk-toggleable__content {\n",
              "  /* Expand drop-down */\n",
              "  max-height: 200px;\n",
              "  max-width: 100%;\n",
              "  overflow: auto;\n",
              "}\n",
              "\n",
              "#sk-container-id-2 input.sk-toggleable__control:checked~label.sk-toggleable__label-arrow:before {\n",
              "  content: \"▾\";\n",
              "}\n",
              "\n",
              "/* Pipeline/ColumnTransformer-specific style */\n",
              "\n",
              "#sk-container-id-2 div.sk-label input.sk-toggleable__control:checked~label.sk-toggleable__label {\n",
              "  color: var(--sklearn-color-text);\n",
              "  background-color: var(--sklearn-color-unfitted-level-2);\n",
              "}\n",
              "\n",
              "#sk-container-id-2 div.sk-label.fitted input.sk-toggleable__control:checked~label.sk-toggleable__label {\n",
              "  background-color: var(--sklearn-color-fitted-level-2);\n",
              "}\n",
              "\n",
              "/* Estimator-specific style */\n",
              "\n",
              "/* Colorize estimator box */\n",
              "#sk-container-id-2 div.sk-estimator input.sk-toggleable__control:checked~label.sk-toggleable__label {\n",
              "  /* unfitted */\n",
              "  background-color: var(--sklearn-color-unfitted-level-2);\n",
              "}\n",
              "\n",
              "#sk-container-id-2 div.sk-estimator.fitted input.sk-toggleable__control:checked~label.sk-toggleable__label {\n",
              "  /* fitted */\n",
              "  background-color: var(--sklearn-color-fitted-level-2);\n",
              "}\n",
              "\n",
              "#sk-container-id-2 div.sk-label label.sk-toggleable__label,\n",
              "#sk-container-id-2 div.sk-label label {\n",
              "  /* The background is the default theme color */\n",
              "  color: var(--sklearn-color-text-on-default-background);\n",
              "}\n",
              "\n",
              "/* On hover, darken the color of the background */\n",
              "#sk-container-id-2 div.sk-label:hover label.sk-toggleable__label {\n",
              "  color: var(--sklearn-color-text);\n",
              "  background-color: var(--sklearn-color-unfitted-level-2);\n",
              "}\n",
              "\n",
              "/* Label box, darken color on hover, fitted */\n",
              "#sk-container-id-2 div.sk-label.fitted:hover label.sk-toggleable__label.fitted {\n",
              "  color: var(--sklearn-color-text);\n",
              "  background-color: var(--sklearn-color-fitted-level-2);\n",
              "}\n",
              "\n",
              "/* Estimator label */\n",
              "\n",
              "#sk-container-id-2 div.sk-label label {\n",
              "  font-family: monospace;\n",
              "  font-weight: bold;\n",
              "  display: inline-block;\n",
              "  line-height: 1.2em;\n",
              "}\n",
              "\n",
              "#sk-container-id-2 div.sk-label-container {\n",
              "  text-align: center;\n",
              "}\n",
              "\n",
              "/* Estimator-specific */\n",
              "#sk-container-id-2 div.sk-estimator {\n",
              "  font-family: monospace;\n",
              "  border: 1px dotted var(--sklearn-color-border-box);\n",
              "  border-radius: 0.25em;\n",
              "  box-sizing: border-box;\n",
              "  margin-bottom: 0.5em;\n",
              "  /* unfitted */\n",
              "  background-color: var(--sklearn-color-unfitted-level-0);\n",
              "}\n",
              "\n",
              "#sk-container-id-2 div.sk-estimator.fitted {\n",
              "  /* fitted */\n",
              "  background-color: var(--sklearn-color-fitted-level-0);\n",
              "}\n",
              "\n",
              "/* on hover */\n",
              "#sk-container-id-2 div.sk-estimator:hover {\n",
              "  /* unfitted */\n",
              "  background-color: var(--sklearn-color-unfitted-level-2);\n",
              "}\n",
              "\n",
              "#sk-container-id-2 div.sk-estimator.fitted:hover {\n",
              "  /* fitted */\n",
              "  background-color: var(--sklearn-color-fitted-level-2);\n",
              "}\n",
              "\n",
              "/* Specification for estimator info (e.g. \"i\" and \"?\") */\n",
              "\n",
              "/* Common style for \"i\" and \"?\" */\n",
              "\n",
              ".sk-estimator-doc-link,\n",
              "a:link.sk-estimator-doc-link,\n",
              "a:visited.sk-estimator-doc-link {\n",
              "  float: right;\n",
              "  font-size: smaller;\n",
              "  line-height: 1em;\n",
              "  font-family: monospace;\n",
              "  background-color: var(--sklearn-color-background);\n",
              "  border-radius: 1em;\n",
              "  height: 1em;\n",
              "  width: 1em;\n",
              "  text-decoration: none !important;\n",
              "  margin-left: 0.5em;\n",
              "  text-align: center;\n",
              "  /* unfitted */\n",
              "  border: var(--sklearn-color-unfitted-level-1) 1pt solid;\n",
              "  color: var(--sklearn-color-unfitted-level-1);\n",
              "}\n",
              "\n",
              ".sk-estimator-doc-link.fitted,\n",
              "a:link.sk-estimator-doc-link.fitted,\n",
              "a:visited.sk-estimator-doc-link.fitted {\n",
              "  /* fitted */\n",
              "  border: var(--sklearn-color-fitted-level-1) 1pt solid;\n",
              "  color: var(--sklearn-color-fitted-level-1);\n",
              "}\n",
              "\n",
              "/* On hover */\n",
              "div.sk-estimator:hover .sk-estimator-doc-link:hover,\n",
              ".sk-estimator-doc-link:hover,\n",
              "div.sk-label-container:hover .sk-estimator-doc-link:hover,\n",
              ".sk-estimator-doc-link:hover {\n",
              "  /* unfitted */\n",
              "  background-color: var(--sklearn-color-unfitted-level-3);\n",
              "  color: var(--sklearn-color-background);\n",
              "  text-decoration: none;\n",
              "}\n",
              "\n",
              "div.sk-estimator.fitted:hover .sk-estimator-doc-link.fitted:hover,\n",
              ".sk-estimator-doc-link.fitted:hover,\n",
              "div.sk-label-container:hover .sk-estimator-doc-link.fitted:hover,\n",
              ".sk-estimator-doc-link.fitted:hover {\n",
              "  /* fitted */\n",
              "  background-color: var(--sklearn-color-fitted-level-3);\n",
              "  color: var(--sklearn-color-background);\n",
              "  text-decoration: none;\n",
              "}\n",
              "\n",
              "/* Span, style for the box shown on hovering the info icon */\n",
              ".sk-estimator-doc-link span {\n",
              "  display: none;\n",
              "  z-index: 9999;\n",
              "  position: relative;\n",
              "  font-weight: normal;\n",
              "  right: .2ex;\n",
              "  padding: .5ex;\n",
              "  margin: .5ex;\n",
              "  width: min-content;\n",
              "  min-width: 20ex;\n",
              "  max-width: 50ex;\n",
              "  color: var(--sklearn-color-text);\n",
              "  box-shadow: 2pt 2pt 4pt #999;\n",
              "  /* unfitted */\n",
              "  background: var(--sklearn-color-unfitted-level-0);\n",
              "  border: .5pt solid var(--sklearn-color-unfitted-level-3);\n",
              "}\n",
              "\n",
              ".sk-estimator-doc-link.fitted span {\n",
              "  /* fitted */\n",
              "  background: var(--sklearn-color-fitted-level-0);\n",
              "  border: var(--sklearn-color-fitted-level-3);\n",
              "}\n",
              "\n",
              ".sk-estimator-doc-link:hover span {\n",
              "  display: block;\n",
              "}\n",
              "\n",
              "/* \"?\"-specific style due to the `<a>` HTML tag */\n",
              "\n",
              "#sk-container-id-2 a.estimator_doc_link {\n",
              "  float: right;\n",
              "  font-size: 1rem;\n",
              "  line-height: 1em;\n",
              "  font-family: monospace;\n",
              "  background-color: var(--sklearn-color-background);\n",
              "  border-radius: 1rem;\n",
              "  height: 1rem;\n",
              "  width: 1rem;\n",
              "  text-decoration: none;\n",
              "  /* unfitted */\n",
              "  color: var(--sklearn-color-unfitted-level-1);\n",
              "  border: var(--sklearn-color-unfitted-level-1) 1pt solid;\n",
              "}\n",
              "\n",
              "#sk-container-id-2 a.estimator_doc_link.fitted {\n",
              "  /* fitted */\n",
              "  border: var(--sklearn-color-fitted-level-1) 1pt solid;\n",
              "  color: var(--sklearn-color-fitted-level-1);\n",
              "}\n",
              "\n",
              "/* On hover */\n",
              "#sk-container-id-2 a.estimator_doc_link:hover {\n",
              "  /* unfitted */\n",
              "  background-color: var(--sklearn-color-unfitted-level-3);\n",
              "  color: var(--sklearn-color-background);\n",
              "  text-decoration: none;\n",
              "}\n",
              "\n",
              "#sk-container-id-2 a.estimator_doc_link.fitted:hover {\n",
              "  /* fitted */\n",
              "  background-color: var(--sklearn-color-fitted-level-3);\n",
              "}\n",
              "</style><div id=\"sk-container-id-2\" class=\"sk-top-container\"><div class=\"sk-text-repr-fallback\"><pre>RandomForestClassifier(random_state=42)</pre><b>In a Jupyter environment, please rerun this cell to show the HTML representation or trust the notebook. <br />On GitHub, the HTML representation is unable to render, please try loading this page with nbviewer.org.</b></div><div class=\"sk-container\" hidden><div class=\"sk-item\"><div class=\"sk-estimator fitted sk-toggleable\"><input class=\"sk-toggleable__control sk-hidden--visually\" id=\"sk-estimator-id-2\" type=\"checkbox\" checked><label for=\"sk-estimator-id-2\" class=\"sk-toggleable__label fitted sk-toggleable__label-arrow\"><div><div>RandomForestClassifier</div></div><div><a class=\"sk-estimator-doc-link fitted\" rel=\"noreferrer\" target=\"_blank\" href=\"https://scikit-learn.org/1.6/modules/generated/sklearn.ensemble.RandomForestClassifier.html\">?<span>Documentation for RandomForestClassifier</span></a><span class=\"sk-estimator-doc-link fitted\">i<span>Fitted</span></span></div></label><div class=\"sk-toggleable__content fitted\"><pre>RandomForestClassifier(random_state=42)</pre></div> </div></div></div></div>"
            ],
            "text/plain": [
              "RandomForestClassifier(random_state=42)"
            ]
          },
          "execution_count": 26,
          "metadata": {},
          "output_type": "execute_result"
        }
      ],
      "source": [
        "# Entrenar un modelo (Random Forest como ejemplo)\n",
        "clf = RandomForestClassifier(random_state=42)\n",
        "clf.fit(X_train, y_train)"
      ]
    },
    {
      "cell_type": "code",
      "execution_count": null,
      "metadata": {
        "id": "_zq-q-0wjGwQ"
      },
      "outputs": [],
      "source": [
        "# Hacer predicciones\n",
        "y_pred = clf.predict(X_test)\n",
        "y_pred_proba = clf.predict_proba(X_test)[:, 1]"
      ]
    },
    {
      "cell_type": "code",
      "execution_count": null,
      "metadata": {
        "id": "RdxWqs3NjJXm"
      },
      "outputs": [],
      "source": [
        "# Calcular métricas\n",
        "accuracy = accuracy_score(y_test, y_pred)\n",
        "precision = precision_score(y_test, y_pred)\n",
        "recall = recall_score(y_test, y_pred)\n",
        "f1 = f1_score(y_test, y_pred)\n",
        "roc_auc = roc_auc_score(y_test, y_pred_proba)\n",
        "conf_matrix = confusion_matrix(y_test, y_pred)"
      ]
    },
    {
      "cell_type": "code",
      "execution_count": null,
      "metadata": {
        "colab": {
          "base_uri": "https://localhost:8080/",
          "height": 410
        },
        "id": "jwfW45vLjNYZ",
        "outputId": "e5568fe7-3953-4cd3-e675-107ed371b843"
      },
      "outputs": [
        {
          "data": {
            "image/png": "[encoded data removed]",
            "text/plain": [
              "<Figure size 600x400 with 2 Axes>"
            ]
          },
          "metadata": {},
          "output_type": "display_data"
        }
      ],
      "source": [
        "# Mostrar matriz de confusión\n",
        "plt.figure(figsize=(6, 4))\n",
        "sns.heatmap(conf_matrix, annot=True, fmt='d', cmap='Blues', xticklabels=[\"No Survived\", \"Survived\"], yticklabels=[\"No Survived\", \"Survived\"])\n",
        "plt.xlabel(\"Predicted\")\n",
        "plt.ylabel(\"Actual\")\n",
        "plt.title(\"Confusion Matrix\")\n",
        "plt.show()"
      ]
    },
    {
      "cell_type": "code",
      "execution_count": null,
      "metadata": {
        "colab": {
          "base_uri": "https://localhost:8080/",
          "height": 564
        },
        "id": "9TJlPMjAjQgm",
        "outputId": "826383d5-0b84-4b15-9bfd-809378a4a1a3"
      },
      "outputs": [
        {
          "data": {
            "image/png": "[encoded data removed]",
            "text/plain": [
              "<Figure size 800x600 with 1 Axes>"
            ]
          },
          "metadata": {},
          "output_type": "display_data"
        }
      ],
      "source": [
        "# Generar y mostrar la curva ROC\n",
        "fpr, tpr, thresholds = roc_curve(y_test, y_pred_proba)\n",
        "plt.figure(figsize=(8, 6))\n",
        "plt.plot(fpr, tpr, label=f\"AUC = {roc_auc:.2f}\", color=\"blue\")\n",
        "plt.plot([0, 1], [0, 1], linestyle=\"--\", color=\"red\")\n",
        "plt.xlabel(\"False Positive Rate\")\n",
        "plt.ylabel(\"True Positive Rate\")\n",
        "plt.title(\"ROC Curve\")\n",
        "plt.legend(loc=\"lower right\")\n",
        "plt.show()"
      ]
    },
    {
      "cell_type": "code",
      "execution_count": null,
      "metadata": {
        "colab": {
          "base_uri": "https://localhost:8080/"
        },
        "id": "uGu4utI4jUUe",
        "outputId": "576b5aee-1825-4fa6-acdc-90bf55d1d32b"
      },
      "outputs": [
        {
          "name": "stdout",
          "output_type": "stream",
          "text": [
            "Classification Report:\n",
            "              precision    recall  f1-score   support\n",
            "\n",
            "           0       0.81      0.76      0.79        87\n",
            "           1       0.66      0.73      0.69        56\n",
            "\n",
            "    accuracy                           0.75       143\n",
            "   macro avg       0.74      0.75      0.74       143\n",
            "weighted avg       0.75      0.75      0.75       143\n",
            "\n"
          ]
        }
      ],
      "source": [
        "# Reporte de clasificación\n",
        "classification_rep = classification_report(y_test, y_pred)\n",
        "print(\"Classification Report:\")\n",
        "print(classification_rep)"
      ]
    },
    {
      "cell_type": "code",
      "execution_count": null,
      "metadata": {
        "colab": {
          "base_uri": "https://localhost:8080/"
        },
        "id": "KBAL2cyddtTN",
        "outputId": "16cb63d1-a411-4406-cb99-a674c3ab3745"
      },
      "outputs": [
        {
          "name": "stdout",
          "output_type": "stream",
          "text": [
            "Accuracy: 0.75\n",
            "Precision: 0.66\n",
            "Recall: 0.73\n",
            "F1 Score: 0.69\n",
            "AUC-ROC: 0.78\n"
          ]
        }
      ],
      "source": [
        "# Mostrar métricas calculadas\n",
        "print(f\"Accuracy: {accuracy:.2f}\")\n",
        "print(f\"Precision: {precision:.2f}\")\n",
        "print(f\"Recall: {recall:.2f}\")\n",
        "print(f\"F1 Score: {f1:.2f}\")\n",
        "print(f\"AUC-ROC: {roc_auc:.2f}\")"
      ]
    }
  ],
  "metadata": {
    "colab": {
      "provenance": []
    },
    "kernelspec": {
      "display_name": "Python 3",
      "name": "python3"
    },
    "language_info": {
      "codemirror_mode": {
        "name": "ipython",
        "version": 3
      },
      "file_extension": ".py",
      "mimetype": "text/x-python",
      "name": "python",
      "nbconvert_exporter": "python",
      "pygments_lexer": "ipython3",
      "version": "3.11.9"
    }
  },
  "nbformat": 4,
  "nbformat_minor": 0
}

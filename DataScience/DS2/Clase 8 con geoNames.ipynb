{
 "cells": [
  {
   "cell_type": "code",
   "execution_count": null,
   "metadata": {},
   "outputs": [],
   "source": [
    "pip install requests pandas\n"
   ]
  },
  {
   "cell_type": "code",
   "execution_count": null,
   "metadata": {},
   "outputs": [
    {
     "name": "stdout",
     "output_type": "stream",
     "text": [
      "DataFrame:\n",
      "                country  1799  1800  1801  1802  1803  1804  1805  1806  1807  \\\n",
      "0           Afghanistan   674   674   674   674   674   674   674   674   674   \n",
      "1                Angola   691   693   697   700   702   705   709   712   716   \n",
      "2               Albania   746   746   746   746   746   747   747   747   747   \n",
      "3               Andorra  1340  1340  1340  1350  1350  1350  1350  1360  1360   \n",
      "4  United Arab Emirates  1120  1120  1120  1130  1130  1140  1140  1150  1150   \n",
      "\n",
      "   ...   2040   2041   2042   2043   2044   2045   2046   2047   2048   2049  \n",
      "0  ...   2880   2940   3000   3070   3130   3200   3270   3340   3410   3480  \n",
      "1  ...   8040   8220   8390   8570   8750   8940   9120   9320   9520   9720  \n",
      "2  ...  24.5k    25k  25.5k  26.1k  26.6k  27.2k  27.8k  28.3k  28.9k  29.6k  \n",
      "3  ...   108k   111k   113k   116k   118k   121k   123k   126k   128k   131k  \n",
      "4  ...  74.5k  76.1k  77.7k  79.3k    81k  82.7k  84.5k  86.3k  88.1k    90k  \n",
      "\n",
      "[5 rows x 252 columns]\n",
      "DataFrame with Regions:\n",
      "Empty DataFrame\n",
      "Columns: [country, Region]\n",
      "Index: []\n"
     ]
    }
   ],
   "source": [
    "import pandas as pd\n",
    "import requests\n",
    "\n",
    "# Cargo\n",
    "url = \"https://raw.githubusercontent.com/JJTorresDS/ds-data-sources/main/income_per_person_gdppercapita_ppp_inflation_adjusted.csv\"\n",
    "df = pd.read_csv(url)\n",
    "\n",
    "\n",
    "# GeoNames para categorizar paises. \n",
    "def get_region(country_name):\n",
    "    username = 'natan.cuello30'  # Replace with your Geonames username\n",
    "    response = requests.get(f\"http://api.geonames.org/countryInfoJSON?formatted=true&lang=eng&country={country_name}&username={username}&style=full\")\n",
    "    data = response.json()\n",
    "    \n",
    "    if 'geonames' in data and len(data['geonames']) > 0:\n",
    "        return data['geonames'][0]['region']\n",
    "    return None\n",
    "\n",
    "# Aplico funcion a la coluna pais y agregocolumna region \n",
    "df['Region'] = df['country'].apply(get_region)\n",
    "\n",
    "# Muestri el data con l anueva columna! \n",
    "print(\"DataFrame with Regions:\")\n",
    "print(df[['country', 'Region']].dropna())\n"
   ]
  }
 ],
 "metadata": {
  "kernelspec": {
   "display_name": "Python 3",
   "language": "python",
   "name": "python3"
  },
  "language_info": {
   "codemirror_mode": {
    "name": "ipython",
    "version": 3
   },
   "file_extension": ".py",
   "mimetype": "text/x-python",
   "name": "python",
   "nbconvert_exporter": "python",
   "pygments_lexer": "ipython3",
   "version": "3.11.9"
  }
 },
 "nbformat": 4,
 "nbformat_minor": 2
}

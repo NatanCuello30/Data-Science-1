{
  "nbformat": 4,
  "nbformat_minor": 0,
  "metadata": {
    "colab": {
      "provenance": []
    },
    "kernelspec": {
      "name": "python3",
      "display_name": "Python 3"
    },
    "language_info": {
      "name": "python"
    }
  },
  "cells": [
    {
      "cell_type": "markdown",
      "source": [
        "##**Clase 1 - Retomando Impulso & Fundamentos de bases de datos**"
      ],
      "metadata": {
        "id": "rvlk12Y3cch_"
      }
    },
    {
      "cell_type": "markdown",
      "source": [
        "**Retomando Impulso (Repaso M1)**"
      ],
      "metadata": {
        "id": "tiWLJxxlc7j_"
      }
    },
    {
      "cell_type": "markdown",
      "source": [
        "https://colab.research.google.com/drive/1UYcDJuFTuPFS1WY8dDdj7IlRyEF41pg5\n",
        "\n",
        "https://colab.research.google.com/drive/1Qfm5RQSP8RNFg9T45VGVBIbElSfX2zrV\n",
        "\n",
        "https://colab.research.google.com/drive/1ftDkimXSpNOeOiUVJM1ses4aOm3spJ_h#scrollTo=rf1279FQ6qB8\n",
        "\n",
        "https://colab.research.google.com/drive/1qoCv8NRMO30Uhqn0w_BNFvZwaXNM6vUz#scrollTo=9faB7h8PkAaT&uniqifier=1\n",
        "\n",
        "https://colab.research.google.com/drive/1oro6F2-E8tXpdco_-Z0XMA2KGoQMzrnb#scrollTo=zqAdWAyxxH1f\n",
        "\n",
        "https://colab.research.google.com/drive/1jHKE7kEZSheXfdwSmWLQ4hfsUM7OJdzG?usp=sharing#scrollTo=Ys6LlxDAQD6y&uniqifier=1\n",
        "\n",
        "https://colab.research.google.com/drive/1PNO28uO78g3zng5UrKeGEEXWGAqHPk6C#scrollTo=eYcRFYXN-M7s\n",
        "\n",
        "https://colab.research.google.com/drive/1zpowcR2gQONlmq3xe1MbzZMbqWriDLSr#scrollTo=tGK6VlElt0pi\n",
        "\n",
        "https://colab.research.google.com/drive/1v6goiXhMYKrEfncQgsEb16bwxNiwKP4O#scrollTo=YFqqkPblug5G\n",
        "\n",
        "https://colab.research.google.com/drive/1j3bQqjHIOOr2KoeDVoUonpSxUiirZnpc#scrollTo=yU6wpmWpsKeG\n",
        "\n",
        "https://colab.research.google.com/drive/1Xut5IdfJzpT_X2wD9YEHy4aJQn-osxq_#scrollTo=EYVWFxfK7YAS"
      ],
      "metadata": {
        "id": "hQ1Yc2Gdd_RN"
      }
    },
    {
      "cell_type": "markdown",
      "source": [
        "**Fundamentos de bases de datos**"
      ],
      "metadata": {
        "id": "O3KM2afeg3KE"
      }
    },
    {
      "cell_type": "markdown",
      "source": [
        "https://colab.research.google.com/drive/1OZ7AqojrOw3WDIFcFvGFkJaazhEzCBvR"
      ],
      "metadata": {
        "id": "yThtlFIGg66F"
      }
    },
    {
      "cell_type": "markdown",
      "source": [
        "##**Clase 2 - Data Acquisition & SQL Básico**"
      ],
      "metadata": {
        "id": "8fQ5-RV8hU3c"
      }
    },
    {
      "cell_type": "markdown",
      "source": [
        "**Data Adquisition**"
      ],
      "metadata": {
        "id": "0_UQVKNuhzll"
      }
    },
    {
      "cell_type": "markdown",
      "source": [
        "https://colab.research.google.com/drive/1GMvarQgXIHKFvDqETVMRUJtrQqP5iHTR#scrollTo=QUiyjRwaf5kn"
      ],
      "metadata": {
        "id": "CbsVPT2QheVk"
      }
    },
    {
      "cell_type": "markdown",
      "source": [
        "**SQL Básico**"
      ],
      "metadata": {
        "id": "9TqjebrBh3UV"
      }
    },
    {
      "cell_type": "markdown",
      "source": [
        "https://colab.research.google.com/drive/1WVm97Kn34Sry817UkXj02cjy-U3uFBAQ#scrollTo=6ukSnrA63pnE"
      ],
      "metadata": {
        "id": "zWw62Kvxh7wk"
      }
    },
    {
      "cell_type": "markdown",
      "source": [
        "##**Clase 3 -  SQL Avanzado & Otros Formatos de Bases de Datos**"
      ],
      "metadata": {
        "id": "JmAOuaRItAM5"
      }
    },
    {
      "cell_type": "markdown",
      "source": [
        "**SQL Avanzado**"
      ],
      "metadata": {
        "id": "tZrlbaiSvCa5"
      }
    },
    {
      "cell_type": "markdown",
      "source": [
        "https://colab.research.google.com/drive/1uOQ9UFpTiMXOfYJZUt-0R1gO3YjWeQEA#scrollTo=qy4P3jtxbjh3"
      ],
      "metadata": {
        "id": "v_ntN0ZgvaKQ"
      }
    },
    {
      "cell_type": "markdown",
      "source": [
        "**Otros Formatos de Bases de Datos**"
      ],
      "metadata": {
        "id": "zlGIoWhDvc8x"
      }
    },
    {
      "cell_type": "markdown",
      "source": [
        "https://colab.research.google.com/drive/1u2Wb4BWjhFnYtLxywrcozRUKgadAtg3b#scrollTo=PHNQotvL_uY5"
      ],
      "metadata": {
        "id": "qGWjJR2xj7b8"
      }
    },
    {
      "cell_type": "markdown",
      "source": [
        "## **Clase 4 - APIs & Data Wrangling I**"
      ],
      "metadata": {
        "id": "mS9PzCtc0i4X"
      }
    },
    {
      "cell_type": "markdown",
      "source": [
        "**APIs**"
      ],
      "metadata": {
        "id": "szrglQav2YPm"
      }
    },
    {
      "cell_type": "markdown",
      "source": [
        "https://colab.research.google.com/drive/1W3t707fYvEIdBC5Uxw7Rw4xijwBgZ1H2#scrollTo=gkRwGTvMOIkr"
      ],
      "metadata": {
        "id": "t4IAFqEf2g29"
      }
    },
    {
      "cell_type": "markdown",
      "source": [
        "**Data Wrangling I**"
      ],
      "metadata": {
        "id": "Q82CSs-w2hSH"
      }
    },
    {
      "cell_type": "markdown",
      "source": [
        "https://colab.research.google.com/drive/14pAtuu8y_gVn0fYkLQXVj827l2G7IpOV#scrollTo=Uv-2Eyv2u5gu"
      ],
      "metadata": {
        "id": "dP_VfGrk3ou-"
      }
    },
    {
      "cell_type": "markdown",
      "source": [
        "https://colab.research.google.com/drive/1AqRskzZlelU1PXjxu240RG4a862qbqs_?usp=sharing"
      ],
      "metadata": {
        "id": "idZKDWaNF1rV"
      }
    },
    {
      "cell_type": "markdown",
      "source": [
        "## **Clase 5 - Data Wrangling II & Workshop: Limpieza de Data**"
      ],
      "metadata": {
        "id": "7THNOX1NPUeP"
      }
    },
    {
      "cell_type": "markdown",
      "source": [
        "**Data Wrangling II**"
      ],
      "metadata": {
        "id": "AgB3-V-vPUQn"
      }
    },
    {
      "cell_type": "markdown",
      "source": [
        "https://colab.research.google.com/drive/1L9PuTSFZH6KAReiIqlBiadGZ_5r6CTlm#scrollTo=iaxJMN_euyNl"
      ],
      "metadata": {
        "id": "DEnb01-rqXNa"
      }
    },
    {
      "cell_type": "markdown",
      "source": [
        "**Workshop Limpieza de Datos**"
      ],
      "metadata": {
        "id": "DyRrQpb3Pf73"
      }
    },
    {
      "cell_type": "markdown",
      "source": [
        "https://colab.research.google.com/drive/1jZMGmXdHC0esStOl_I21dnN8LzIoOFTB#scrollTo=FgNTu3QsJaLx"
      ],
      "metadata": {
        "id": "7IN7ZTEqPYL4"
      }
    },
    {
      "cell_type": "markdown",
      "source": [
        "## **Clase 6 - Exploratory Data Analysis (EDA) & Visualización de Datos**"
      ],
      "metadata": {
        "id": "WbtGDOVJ1YM4"
      }
    },
    {
      "cell_type": "markdown",
      "source": [
        "**Análisis Exploratorio de Datos**"
      ],
      "metadata": {
        "id": "PctOw0lS16l9"
      }
    },
    {
      "cell_type": "markdown",
      "source": [
        "https://colab.research.google.com/drive/1d0x5Ma-svMmVfC2UJJiOCvNPw5yVmD0s#scrollTo=EN2m88Q1IATp"
      ],
      "metadata": {
        "id": "-En12Cmy17HO"
      }
    },
    {
      "cell_type": "markdown",
      "source": [
        "**Visualización de Datos**"
      ],
      "metadata": {
        "id": "zFW8a-5817lW"
      }
    },
    {
      "cell_type": "markdown",
      "source": [
        "https://colab.research.google.com/drive/1NatYbX6OKoBXVqQinI3467dM05G6uzpP#scrollTo=ebjNx76peOf0"
      ],
      "metadata": {
        "id": "zaJq-so_1748"
      }
    },
    {
      "cell_type": "markdown",
      "source": [
        "## **Clase 7 - Storytelling & Datos Espaciales y Visualizaciones Animadas**"
      ],
      "metadata": {
        "id": "Kmd5SYpYvLcN"
      }
    },
    {
      "cell_type": "markdown",
      "source": [
        "**Storytelling**"
      ],
      "metadata": {
        "id": "C24MP72hxOKd"
      }
    },
    {
      "cell_type": "markdown",
      "source": [
        "https://docs.google.com/presentation/d/1pEhozOnLQOqfnvSGQZLzuvnpx94n2G0O/edit#slide=id.p7"
      ],
      "metadata": {
        "id": "m8aMiOEYxP7T"
      }
    },
    {
      "cell_type": "markdown",
      "source": [
        "https://drive.google.com/file/d/1Peg3dze56rPE9VNVBVxAjc5_AMDOLnzL/view"
      ],
      "metadata": {
        "id": "sPWnakcU5M4f"
      }
    },
    {
      "cell_type": "markdown",
      "source": [
        "**Datos Espaciales y Visualizaciones Animadas**"
      ],
      "metadata": {
        "id": "VYmc2OCSxQOz"
      }
    },
    {
      "cell_type": "markdown",
      "source": [
        "https://colab.research.google.com/drive/1vGI33abhonLOjENlVTDBnNXWUm2nMtVy#scrollTo=JMtFYwzEYesf"
      ],
      "metadata": {
        "id": "JmiLqQGqxS_C"
      }
    },
    {
      "cell_type": "markdown",
      "source": [
        "## **Clase 8 - Analisis univariado y gráficos & Análisis Bivariado**"
      ],
      "metadata": {
        "id": "Fc8pdUJI-l7m"
      }
    },
    {
      "cell_type": "markdown",
      "source": [
        "**Analisis Univariado**"
      ],
      "metadata": {
        "id": "gNBqYV8q_i9N"
      }
    },
    {
      "cell_type": "markdown",
      "source": [
        "https://colab.research.google.com/drive/1QDX-CeQHiPUyjUZzjgC76Ctx6k_5F4MF#scrollTo=-rHHsu0LQaWV"
      ],
      "metadata": {
        "id": "eiBwq-b5_sll"
      }
    },
    {
      "cell_type": "markdown",
      "source": [
        "***Actividad - Resuelto*** https://colab.research.google.com/drive/1oKOUBupBKbRCNhEX4SLx01wmRryKVDDG#scrollTo=Kl8S3om62PkQ&uniqifier=1"
      ],
      "metadata": {
        "id": "Njmfyst87wLB"
      }
    },
    {
      "cell_type": "markdown",
      "source": [
        "**Análisis Bivariado**"
      ],
      "metadata": {
        "id": "k8HRtibb_s70"
      }
    },
    {
      "cell_type": "markdown",
      "source": [
        "https://colab.research.google.com/drive/1CmCj0ruUdSoJMEU1sKAzCh4bNiYm-rLP#scrollTo=-pTmZvaGh6Lr"
      ],
      "metadata": {
        "id": "Vj1U29HT_1O9"
      }
    },
    {
      "cell_type": "markdown",
      "source": [
        "***Actividad - Resuelto***\n",
        "\n",
        " https://colab.research.google.com/drive/16wUGVxy8CnstuPMKYrRnZRglN0FoS5xE#scrollTo=POXi4_6LPt41"
      ],
      "metadata": {
        "id": "1RdsTXTpEwVy"
      }
    },
    {
      "cell_type": "markdown",
      "source": [
        "##**Clase 9 -  Analisis Multivariado & Workshop: Revisión de pares**"
      ],
      "metadata": {
        "id": "g_gj4ZmfG-YV"
      }
    },
    {
      "cell_type": "markdown",
      "source": [
        "**Analisis Multivariado**"
      ],
      "metadata": {
        "id": "5uZsYHyVb1N4"
      }
    },
    {
      "cell_type": "markdown",
      "source": [
        "https://colab.research.google.com/drive/1YAag1RuEsl4O0RKRxQ-QRWSTMcRYY5fk#scrollTo=UUjKlgh3AeXM"
      ],
      "metadata": {
        "id": "41-o3TfOHXcM"
      }
    },
    {
      "cell_type": "markdown",
      "source": [
        "***Actividad - Resuelto***"
      ],
      "metadata": {
        "id": "_drsnk7ebgiS"
      }
    },
    {
      "cell_type": "markdown",
      "source": [
        "https://colab.research.google.com/drive/12NdP1GlomsUbiUnoPmSw8_kZztQccj0X#scrollTo=i-GEUns6WpJV"
      ],
      "metadata": {
        "id": "SzrDoy7Yb8Og"
      }
    },
    {
      "cell_type": "markdown",
      "source": [
        "**Workshop: Revisión de pares**"
      ],
      "metadata": {
        "id": "o4Wf5qLCbqcp"
      }
    },
    {
      "cell_type": "markdown",
      "source": [
        "https://github.com/dfbustosus/Proyectos_DS/tree/main/Coder_2021/Prediccion%20rentas%20Bicicletas"
      ],
      "metadata": {
        "id": "OI5bQfySb9Dm"
      }
    },
    {
      "cell_type": "markdown",
      "source": [
        "***Preentrega***"
      ],
      "metadata": {
        "id": "CWJftkIzbmp0"
      }
    },
    {
      "cell_type": "markdown",
      "source": [
        "https://colab.research.google.com/drive/1-8Udcqn6tCak_AnGckoHKuAMDPoj4mVr#scrollTo=06Xa-Tilds7o"
      ],
      "metadata": {
        "id": "CyLZ00J8bnL5"
      }
    },
    {
      "cell_type": "markdown",
      "source": [
        "##**Clase 10 - En foco de selección de mejora de modelos & Machine Learning: Primeras Aplicaciones**"
      ],
      "metadata": {
        "id": "RPOauHsz9tHP"
      }
    },
    {
      "cell_type": "markdown",
      "source": [
        "**En foco de selección de mejora de modelos**"
      ],
      "metadata": {
        "id": "7NBLhGowMCNG"
      }
    },
    {
      "cell_type": "markdown",
      "source": [],
      "metadata": {
        "id": "2gGL9bTDMHN1"
      }
    },
    {
      "cell_type": "markdown",
      "source": [
        "**Machine Learning: Primeras Aplicaciones**"
      ],
      "metadata": {
        "id": "A63zfjTAMI01"
      }
    },
    {
      "cell_type": "markdown",
      "source": [],
      "metadata": {
        "id": "c5Foh7giMJZm"
      }
    }
  ]
}
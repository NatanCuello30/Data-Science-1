{
 "cells": [
  {
   "cell_type": "markdown",
   "metadata": {},
   "source": [
    "# DICCIONARIOS"
   ]
  },
  {
   "cell_type": "markdown",
   "metadata": {},
   "source": [
    "0. Numero de veces embarazada (NEMB).\n",
    "1. Concentracion de plasma de glucosa (GLU) \n",
    "2. Presion arterial diastolica en mm Hg (PART).\n",
    "3. Grosor de piel en triceps en mm (GROS).\n",
    "4. 2-Hour serum insulin en mu U/ml (HUR).\n",
    "5. BMI (peso kg/(altura en m)^2 en (BMI).\n",
    "6. Funcion de prediccion de Diabetes (FPRED)\n",
    "7. Edad (años)  (AGE).\n",
    "8. Variable de clase (0 or 1)  (CLASS)."
   ]
  },
  {
   "cell_type": "code",
   "execution_count": 32,
   "metadata": {},
   "outputs": [
    {
     "name": "stdout",
     "output_type": "stream",
     "text": [
      "{0: 'NEMB', 1: 'GLU', 2: 'PART', 3: 'GROS', 4: 'HUR', 5: 'BMI', 6: 'FPRED', 7: 'AGE', 8: 'CLASS'}\n"
     ]
    }
   ],
   "source": [
    "# Renombramos las columnas\n",
    "nombres_columnas = {0: \"NEMB\", \n",
    "                    1: \"GLU\", \n",
    "                    2: \"PART\",\n",
    "                    3:\"GROS\",\n",
    "                    4:\"HUR\",\n",
    "                    5:\"BMI\",\n",
    "                    6:\"FPRED\",\n",
    "                    7:\"AGE\",\n",
    "                    8:\"CLASS\"}\n",
    "print(nombres_columnas)"
   ]
  },
  {
   "cell_type": "markdown",
   "metadata": {},
   "source": [
    "# LISTS"
   ]
  },
  {
   "cell_type": "code",
   "execution_count": 6,
   "metadata": {},
   "outputs": [
    {
     "name": "stdout",
     "output_type": "stream",
     "text": [
      "[1, 2, 3, 'cuatro', 5.05, 'hola']\n"
     ]
    }
   ],
   "source": [
    "# Listas: NAME = ['A','B','C',1,2,3] los valores de la lista se pueden editar. \n",
    "\n",
    "mi_list = [1,2,3,'cuatro',5.05,'hola']\n",
    "print(mi_list)"
   ]
  },
  {
   "cell_type": "markdown",
   "metadata": {},
   "source": [
    "# TUPLE"
   ]
  },
  {
   "cell_type": "code",
   "execution_count": 5,
   "metadata": {},
   "outputs": [
    {
     "name": "stdout",
     "output_type": "stream",
     "text": [
      "(1, 'dos', 3, 'cuatrooooo')\n"
     ]
    }
   ],
   "source": [
    "# Tuple: NAME = ('A','B','C',1,2,3) Los valores de la tupla no se pueden editar. \n",
    "\n",
    "mi_tuple = (1,'dos',3,'cuatrooooo')\n",
    "print(mi_tuple)"
   ]
  },
  {
   "cell_type": "markdown",
   "metadata": {},
   "source": [
    "# Read a file from GIT"
   ]
  },
  {
   "cell_type": "code",
   "execution_count": 25,
   "metadata": {},
   "outputs": [
    {
     "name": "stdout",
     "output_type": "stream",
     "text": [
      "   0    1   2   3    4     5      6   7  8\n",
      "0  6  148  72  35    0  33.6  0.627  50  1\n",
      "1  1   85  66  29    0  26.6  0.351  31  0\n",
      "2  8  183  64   0    0  23.3  0.672  32  1\n",
      "3  1   89  66  23   94  28.1  0.167  21  0\n",
      "4  0  137  40  35  168  43.1  2.288  33  1\n"
     ]
    }
   ],
   "source": [
    "import pandas as pd\n",
    "import numpy as np\n",
    "url='https://raw.githubusercontent.com/jbrownlee/Datasets/master/pima-indians-diabetes.csv'\n",
    "df= pd.read_csv(url, delimiter=',', header=None)\n",
    "print(df.head())"
   ]
  },
  {
   "cell_type": "code",
   "execution_count": 29,
   "metadata": {},
   "outputs": [
    {
     "name": "stdout",
     "output_type": "stream",
     "text": [
      "   0    1   2   3    4     5      6   7  8\n",
      "0  6  148  72  35    0  33.6  0.627  50  1\n",
      "1  1   85  66  29    0  26.6  0.351  31  0\n",
      "2  8  183  64   0    0  23.3  0.672  32  1\n",
      "3  1   89  66  23   94  28.1  0.167  21  0\n",
      "4  0  137  40  35  168  43.1  2.288  33  1\n"
     ]
    }
   ],
   "source": [
    "# Reemplazar con la media\n",
    "df.fillna(df.mean() , inplace=True)\n",
    "print(df.head())"
   ]
  }
 ],
 "metadata": {
  "kernelspec": {
   "display_name": "Python 3",
   "language": "python",
   "name": "python3"
  },
  "language_info": {
   "codemirror_mode": {
    "name": "ipython",
    "version": 3
   },
   "file_extension": ".py",
   "mimetype": "text/x-python",
   "name": "python",
   "nbconvert_exporter": "python",
   "pygments_lexer": "ipython3",
   "version": "3.11.9"
  }
 },
 "nbformat": 4,
 "nbformat_minor": 2
}

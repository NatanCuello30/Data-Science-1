{
 "cells": [
  {
   "cell_type": "markdown",
   "id": "bd3c0c8d",
   "metadata": {},
   "source": [
    "# Operaciones con Strings"
   ]
  },
  {
   "cell_type": "code",
   "execution_count": 8,
   "id": "87c0e029",
   "metadata": {},
   "outputs": [],
   "source": [
    "import pandas as pd\n",
    "import numpy as np\n",
    "import os"
   ]
  },
  {
   "cell_type": "code",
   "execution_count": 7,
   "id": "d7039097",
   "metadata": {},
   "outputs": [
    {
     "name": "stdout",
     "output_type": "stream",
     "text": [
      "Modificando\n"
     ]
    }
   ],
   "source": [
    "print('Modificando')"
   ]
  },
  {
   "cell_type": "code",
   "execution_count": 9,
   "id": "a46de57d",
   "metadata": {},
   "outputs": [
    {
     "name": "stdout",
     "output_type": "stream",
     "text": [
      "   Unnamed: 0  S.No.           start            end          president  \\\n",
      "0           0      1  April 30, 1789  March 4, 1797  George Washington   \n",
      "1           1      2   March 4, 1797  March 4, 1801         John Adams   \n",
      "2           2      3   March 4, 1801  March 4, 1809   Thomas Jefferson   \n",
      "3           3      4   March 4, 1809  March 4, 1817      James Madison   \n",
      "4           4      5   March 4, 1817  March 4, 1825       James Monroe   \n",
      "\n",
      "                                               prior                    party  \\\n",
      "0  Commander-in-Chief  of the  Continental Army  ...       Nonpartisan   [13]   \n",
      "1           1st  Vice President of the United States               Federalist   \n",
      "2           2nd  Vice President of the United States  Democratic-  Republican   \n",
      "3  5th  United States Secretary of State   (1801–...  Democratic-  Republican   \n",
      "4  7th  United States Secretary of State   (1811–...  Democratic-  Republican   \n",
      "\n",
      "                 vice  \n",
      "0          John Adams  \n",
      "1    Thomas Jefferson  \n",
      "2          Aaron Burr  \n",
      "3      George Clinton  \n",
      "4  Daniel D. Tompkins  \n"
     ]
    }
   ],
   "source": [
    "\n",
    "Presidentes_archivo = pd.read_csv('us_presidents 2.csv', sep=',')\n",
    "print(Presidentes_archivo.head())\n"
   ]
  },
  {
   "cell_type": "code",
   "execution_count": null,
   "id": "c8dc6a22",
   "metadata": {},
   "outputs": [],
   "source": [
    "# Genero una variable llamada Presidentes_nombres\n",
    "Presidentes_nombres = pd.Series(Presidentes_archivo['president'])\n",
    "print(Presidentes_nombres.head())"
   ]
  },
  {
   "cell_type": "code",
   "execution_count": null,
   "id": "068195f6",
   "metadata": {},
   "outputs": [],
   "source": [
    "# Convierto todo a mayusculas\n",
    "Presidentes_nombres_mayus = Presidentes_nombres.str.upper()\n",
    "print(Presidentes_nombres_mayus.head())"
   ]
  },
  {
   "cell_type": "code",
   "execution_count": null,
   "id": "ea436509",
   "metadata": {},
   "outputs": [],
   "source": [
    "# Convierto todo a minusculas\n",
    "Presidentes_nombres_min = Presidentes_nombres.str.lower()\n",
    "print(Presidentes_nombres_min.head())"
   ]
  },
  {
   "cell_type": "code",
   "execution_count": null,
   "id": "29704002",
   "metadata": {},
   "outputs": [],
   "source": [
    "# ¿Cuántos caracteres tiene cada nombre? \n",
    "cant_caracteres = Presidentes_nombres.str.len()\n",
    "print(cant_caracteres.head())"
   ]
  },
  {
   "cell_type": "code",
   "execution_count": null,
   "id": "bbf25052",
   "metadata": {},
   "outputs": [],
   "source": [
    "# Quiénes comienzan con determinada letra? \n",
    "con_j = Presidentes_nombres.str.startswith('J')\n",
    "print(con_j.head())\n",
    "print(Presidentes_nombres[con_j].head())"
   ]
  },
  {
   "cell_type": "code",
   "execution_count": null,
   "id": "82d1e992",
   "metadata": {},
   "outputs": [],
   "source": [
    "# Cómo separo el nombre en varias listas? \n",
    "dividido = Presidentes_nombres.str.split()\n",
    "print(dividido.head())\n"
   ]
  },
  {
   "cell_type": "code",
   "execution_count": null,
   "id": "a9ec442b",
   "metadata": {},
   "outputs": [],
   "source": [
    "print(dividido[0][0])\n",
    "print(dividido[0][1])"
   ]
  },
  {
   "cell_type": "code",
   "execution_count": null,
   "id": "a9c171b4",
   "metadata": {},
   "outputs": [],
   "source": [
    "dividido_2 = Presidentes_nombres.str.split('e')\n",
    "print(dividido_2.head())"
   ]
  },
  {
   "cell_type": "code",
   "execution_count": null,
   "id": "ce5d153d",
   "metadata": {},
   "outputs": [],
   "source": [
    "# Expresiones regulares \n",
    "import re\n",
    "cumple = Presidentes_nombres.str.contains(pat = 'Bill|Calvin', \n",
    "                                         regex = True)\n",
    "print(cumple.head())\n",
    "print(Presidentes_nombres[cumple].head())"
   ]
  },
  {
   "cell_type": "code",
   "execution_count": null,
   "id": "b3e620cf",
   "metadata": {},
   "outputs": [],
   "source": [
    "cumple_2 = Presidentes_nombres.str.contains(pat = 'Bill', \n",
    "                                            regex = True)\n",
    "print(Presidentes_nombres[cumple_2].head())"
   ]
  },
  {
   "cell_type": "code",
   "execution_count": null,
   "id": "b39cf29a",
   "metadata": {},
   "outputs": [],
   "source": [
    "# Los que terminan en n?\n",
    "cumple_3 = Presidentes_nombres.str.contains(pat = 'n$', \n",
    "                                            regex = True)\n",
    "print(Presidentes_nombres[cumple_3].head())"
   ]
  },
  {
   "cell_type": "code",
   "execution_count": null,
   "id": "f4e09a24",
   "metadata": {},
   "outputs": [],
   "source": [
    "# Los que empiezan en R?\n",
    "cumple_4 = Presidentes_nombres.str.contains(pat = '^R', \n",
    "                                            regex = True)\n",
    "print(Presidentes_nombres[cumple_4].head())"
   ]
  },
  {
   "cell_type": "code",
   "execution_count": null,
   "id": "309a2b9d",
   "metadata": {},
   "outputs": [],
   "source": [
    "# Los que tienen un . en el nombre?\n",
    "cumple_5 = Presidentes_nombres.str.contains(pat = '\\.', \n",
    "                                            regex = True)\n",
    "print(Presidentes_nombres[cumple_5].head())"
   ]
  },
  {
   "cell_type": "markdown",
   "id": "58335f6f",
   "metadata": {},
   "source": [
    "# SERIES DE TIEMPO"
   ]
  },
  {
   "cell_type": "code",
   "execution_count": 3,
   "id": "926ec92b",
   "metadata": {},
   "outputs": [
    {
     "data": {
      "text/plain": [
       "Timestamp('2020-01-03 00:00:00')"
      ]
     },
     "execution_count": 3,
     "metadata": {},
     "output_type": "execute_result"
    }
   ],
   "source": [
    "fecha = pd.to_datetime('03/01/2020',dayfirst=True)\n",
    "fecha"
   ]
  },
  {
   "cell_type": "code",
   "execution_count": 4,
   "id": "28c632e9",
   "metadata": {},
   "outputs": [
    {
     "data": {
      "text/plain": [
       "Timestamp('2020-01-10 00:00:00')"
      ]
     },
     "execution_count": 4,
     "metadata": {},
     "output_type": "execute_result"
    }
   ],
   "source": [
    "fin = pd.to_datetime('10/01/2020',dayfirst=True)\n",
    "fin"
   ]
  },
  {
   "cell_type": "code",
   "execution_count": 5,
   "id": "a21555e0",
   "metadata": {},
   "outputs": [
    {
     "data": {
      "text/plain": [
       "DatetimeIndex(['2020-01-03', '2020-01-04', '2020-01-05', '2020-01-06',\n",
       "               '2020-01-07', '2020-01-08', '2020-01-09', '2020-01-10'],\n",
       "              dtype='datetime64[ns]', freq='D')"
      ]
     },
     "execution_count": 5,
     "metadata": {},
     "output_type": "execute_result"
    }
   ],
   "source": [
    "fechas_1 = pd.date_range(start=fecha, end=fin)\n",
    "fechas_1"
   ]
  },
  {
   "cell_type": "code",
   "execution_count": 6,
   "id": "5870b029",
   "metadata": {},
   "outputs": [
    {
     "data": {
      "text/plain": [
       "DatetimeIndex(['2020-01-03', '2020-01-04', '2020-01-05', '2020-01-06',\n",
       "               '2020-01-07', '2020-01-08', '2020-01-09', '2020-01-10'],\n",
       "              dtype='datetime64[ns]', freq='D')"
      ]
     },
     "execution_count": 6,
     "metadata": {},
     "output_type": "execute_result"
    }
   ],
   "source": [
    "fechas_2 = pd.date_range(start=fecha, periods=8)\n",
    "fechas_2"
   ]
  }
 ],
 "metadata": {
  "kernelspec": {
   "display_name": "Python 3 (ipykernel)",
   "language": "python",
   "name": "python3"
  },
  "language_info": {
   "codemirror_mode": {
    "name": "ipython",
    "version": 3
   },
   "file_extension": ".py",
   "mimetype": "text/x-python",
   "name": "python",
   "nbconvert_exporter": "python",
   "pygments_lexer": "ipython3",
   "version": "3.11.9"
  }
 },
 "nbformat": 4,
 "nbformat_minor": 5
}

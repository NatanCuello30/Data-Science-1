{
 "cells": [
  {
   "cell_type": "code",
   "execution_count": 1,
   "id": "ef0a92e3",
   "metadata": {},
   "outputs": [],
   "source": [
    "import pandas as pd\n",
    "import numpy as np\n",
    "import matplotlib as mpl\n",
    "import matplotlib.pyplot as plt\n",
    "import seaborn as sns\n",
    "# Librerías para arboles de decision \n",
    "from sklearn.tree import DecisionTreeClassifier\n",
    "from sklearn import tree\n",
    "from sklearn.tree import DecisionTreeClassifier, plot_tree\n",
    "# Librerias para regresión logística\n",
    "import statsmodels.api as sm\n",
    "import statsmodels.formula.api as smf"
   ]
  },
  {
   "cell_type": "code",
   "execution_count": 2,
   "id": "197327a3",
   "metadata": {},
   "outputs": [],
   "source": [
    "url = 'https://raw.githubusercontent.com/xlisouski/DataCoder/main/Titanic.csv'\n",
    "df = pd.read_csv(url, sep = ',')"
   ]
  },
  {
   "cell_type": "code",
   "execution_count": null,
   "id": "b2b450d6",
   "metadata": {},
   "outputs": [],
   "source": [
    "df.head()"
   ]
  },
  {
   "cell_type": "code",
   "execution_count": null,
   "id": "d03deaef",
   "metadata": {},
   "outputs": [],
   "source": [
    "# Ojo, la edad tiene valores faltantes:\n",
    "df['Age'].isnull().value_counts()"
   ]
  },
  {
   "cell_type": "code",
   "execution_count": null,
   "id": "f55ecf50",
   "metadata": {},
   "outputs": [],
   "source": [
    "# Antes de entrenar, completo valores vacíos de la variable edad: \n",
    "edad_mediana = df['Age'].mean()\n",
    "df['Age_Completa'] = df['Age'].fillna(edad_mediana,\n",
    "                                      inplace = False)\n",
    "df['Age_Completa'].isnull().value_counts()"
   ]
  },
  {
   "cell_type": "markdown",
   "id": "d31fd362",
   "metadata": {},
   "source": [
    "# Arbol de decisión "
   ]
  },
  {
   "cell_type": "code",
   "execution_count": 6,
   "id": "c34fb210",
   "metadata": {},
   "outputs": [],
   "source": [
    "# El algoritmo a utilizar en esta instancia no admite valores categóricos. \n",
    "# Así que vamos a trabajar con transformaciones numéricas:\n",
    "\n",
    "# Genero predictores a usar\n",
    "df['Es_Mujer'] = df['Sex'] == 'female'\n",
    "df['Es_Clase1'] = df['Pclass'] == 1\n",
    "df['Es_Clase3'] = df['Pclass'] == 3\n",
    "\n",
    "# Los enlisto: \n",
    "lista_predictores = ['Es_Mujer','Es_Clase1','Es_Clase3','Age_Completa']\n",
    "\n",
    "# Los transformo en matriz: \n",
    "X = df[lista_predictores].values\n"
   ]
  },
  {
   "cell_type": "code",
   "execution_count": 7,
   "id": "9e86e17e",
   "metadata": {},
   "outputs": [],
   "source": [
    "# Genero vector de target\n",
    "y = df['Survived'].values"
   ]
  },
  {
   "cell_type": "code",
   "execution_count": 8,
   "id": "2ffb6ed4",
   "metadata": {},
   "outputs": [],
   "source": [
    "# Genero modelo: árbol de decisión \n",
    "clf = DecisionTreeClassifier(random_state = 1234, # Semilla aleatoria\n",
    "                             criterion = 'gini', # Funcion para medir calidad de la división\n",
    "                             splitter = 'best', # Estrategia para elegir la división de cada nodo\n",
    "                             max_depth = 4, # Profundidad máxima del árbol\n",
    "                             min_samples_leaf = 20 # Mínima cantidad de registros por nodo final\n",
    "                            )\n",
    "clf.feature_names = lista_predictores\n",
    "model = clf.fit(X, y)"
   ]
  },
  {
   "cell_type": "code",
   "execution_count": null,
   "id": "fe5a92aa",
   "metadata": {},
   "outputs": [],
   "source": [
    "plt.figure(figsize=(12, 8))\n",
    "plot_tree(clf, \n",
    "          filled = True, \n",
    "          rounded = True, \n",
    "          class_names = ['No Sobrevive','Sobrevive'], \n",
    "          feature_names = lista_predictores, \n",
    "          impurity = False,\n",
    "          proportion = True,\n",
    "          node_ids = True)"
   ]
  },
  {
   "cell_type": "code",
   "execution_count": null,
   "id": "5626b64f",
   "metadata": {},
   "outputs": [],
   "source": [
    "# Genero predicciones  \n",
    "df['Predict_Arbol_Clase'] = clf.predict(df[lista_predictores])\n",
    "df['Predict_Arbol_Nodo'] = clf.apply(df[lista_predictores])"
   ]
  },
  {
   "cell_type": "code",
   "execution_count": null,
   "id": "ab55c373",
   "metadata": {},
   "outputs": [],
   "source": [
    "df['Predict_Arbol_Clase'].value_counts()"
   ]
  },
  {
   "cell_type": "code",
   "execution_count": null,
   "id": "fb2fe0ed",
   "metadata": {},
   "outputs": [],
   "source": [
    "df['Predict_Arbol_Nodo'].value_counts()"
   ]
  },
  {
   "cell_type": "code",
   "execution_count": null,
   "id": "b85f2751",
   "metadata": {},
   "outputs": [],
   "source": [
    "# Groupby por prediccion de clase: \n",
    "resultados = df.groupby('Predict_Arbol_Clase').agg(\n",
    "    Cant = ('Predict_Arbol_Clase', 'count'),              \n",
    "    Cant_Sup = ('Survived', 'sum'),            \n",
    "    Tasa_Sup = ('Survived', 'mean')    \n",
    ").reset_index()\n",
    "resultados"
   ]
  },
  {
   "cell_type": "code",
   "execution_count": null,
   "id": "8a168138",
   "metadata": {},
   "outputs": [],
   "source": [
    "# Groupby por prediccion de nodo: \n",
    "resultados_nodo = df.groupby('Predict_Arbol_Nodo').agg(     \n",
    "    Cant = ('Predict_Arbol_Nodo', 'count'),              \n",
    "    Cant_Sup = ('Survived', 'sum'),            \n",
    "    Tasa_Sup = ('Survived', 'mean')    \n",
    ").reset_index()\n",
    "resultados_nodo.rename(columns={'Tasa_Sup': 'Predict_Prob_Arbol'}, inplace=True)\n",
    "resultados_nodo"
   ]
  },
  {
   "cell_type": "code",
   "execution_count": null,
   "id": "9efb3c3e",
   "metadata": {},
   "outputs": [],
   "source": [
    "# Genero la columna con la predicción \n",
    "df = df.merge(resultados_nodo[['Predict_Arbol_Nodo','Predict_Prob_Arbol']],\n",
    "              left_on = 'Predict_Arbol_Nodo',\n",
    "              right_on = 'Predict_Arbol_Nodo',\n",
    "              how = 'left')\n",
    "df.head()"
   ]
  },
  {
   "cell_type": "code",
   "execution_count": null,
   "id": "5fd95f12",
   "metadata": {},
   "outputs": [],
   "source": [
    "# Graficamente \n",
    "g1 = plt.figure()\n",
    "sns.scatterplot(data = df,\n",
    "                x = 'PassengerId',\n",
    "                y = 'Predict_Prob_Arbol',  \n",
    "                alpha = 0.75,\n",
    "                hue = 'Survived')"
   ]
  },
  {
   "cell_type": "code",
   "execution_count": null,
   "id": "29c7c95e",
   "metadata": {},
   "outputs": [],
   "source": [
    "# Histogramas de predicción \n",
    "g1 = plt.figure()\n",
    "sns.histplot(data = df,\n",
    "             x = 'Predict_Prob_Arbol',  \n",
    "             alpha = 0.5,\n",
    "             hue = 'Survived',\n",
    "             stat = 'probability', \n",
    "             bins = 4)"
   ]
  },
  {
   "cell_type": "code",
   "execution_count": null,
   "id": "48fcc5fd",
   "metadata": {},
   "outputs": [],
   "source": [
    "# Barplot por nodo \n",
    "resultados_nodo['Tasa_NoSup'] = (1 - resultados_nodo['Predict_Prob_Arbol'])\n",
    "resultados_nodo = resultados_nodo.sort_values('Predict_Prob_Arbol')\n",
    "\n",
    "# Crear el barplot ordenado\n",
    "sns.barplot(data=resultados_nodo,\n",
    "            x='Predict_Arbol_Nodo',\n",
    "            y='Predict_Prob_Arbol', \n",
    "            label='Porcentaje Supervivencia',\n",
    "            color='#48E074',\n",
    "            order=resultados_nodo['Predict_Arbol_Nodo'])\n",
    "\n",
    "sns.barplot(data=resultados_nodo, \n",
    "            x='Predict_Arbol_Nodo', \n",
    "            y='Tasa_NoSup', \n",
    "            bottom=resultados_nodo['Predict_Prob_Arbol'], \n",
    "            label='Porcentaje No Supervivencia',\n",
    "            color='#E04848',\n",
    "            order=resultados_nodo['Predict_Arbol_Nodo'])"
   ]
  },
  {
   "cell_type": "markdown",
   "id": "8786d2d7",
   "metadata": {},
   "source": [
    "# Regresión logística"
   ]
  },
  {
   "cell_type": "code",
   "execution_count": null,
   "id": "5cc55609",
   "metadata": {},
   "outputs": [],
   "source": [
    "# Genero el modelo\n",
    "formula = \"Survived ~ Es_Mujer + Es_Clase1 + Es_Clase3 + Age_Completa\"\n",
    "reg_log = smf.logit(formula, data = df).fit()\n",
    "\n",
    "# Ver el resumen de resultados\n",
    "print(reg_log.summary())"
   ]
  },
  {
   "cell_type": "code",
   "execution_count": null,
   "id": "284a1231",
   "metadata": {},
   "outputs": [],
   "source": [
    "coeficientes = reg_log.params\n",
    "coeficientes.round(4)"
   ]
  },
  {
   "cell_type": "code",
   "execution_count": null,
   "id": "007d9001",
   "metadata": {},
   "outputs": [],
   "source": [
    "pvalores = reg_log.pvalues\n",
    "pvalores.round(6)"
   ]
  },
  {
   "cell_type": "code",
   "execution_count": 144,
   "id": "2079d4cf",
   "metadata": {},
   "outputs": [],
   "source": [
    "# Predicciones \n",
    "df['Predict_Prob_RegLog'] = reg_log.predict(df)"
   ]
  },
  {
   "cell_type": "code",
   "execution_count": null,
   "id": "88a66b95",
   "metadata": {},
   "outputs": [],
   "source": [
    "# Graficamente \n",
    "g1 = plt.figure()\n",
    "sns.scatterplot(data = df,\n",
    "                x = 'PassengerId',\n",
    "                y = 'Predict_Prob_RegLog',  \n",
    "                alpha = 0.75,\n",
    "                hue = 'Survived')"
   ]
  },
  {
   "cell_type": "code",
   "execution_count": null,
   "id": "bdc254b6",
   "metadata": {},
   "outputs": [],
   "source": [
    "# Histogramas de predicción \n",
    "g1 = plt.figure()\n",
    "sns.histplot(data = df,\n",
    "             x = 'Predict_Prob_RegLog',  \n",
    "             alpha = 0.5,\n",
    "             hue = 'Survived',\n",
    "             stat = 'probability', \n",
    "             bins = 15)"
   ]
  },
  {
   "cell_type": "code",
   "execution_count": null,
   "id": "37d2a7d5",
   "metadata": {},
   "outputs": [],
   "source": [
    "# Groupby por prediccion de clase: \n",
    "df['Predict_RegLog_Clase'] = df['Predict_Prob_RegLog'] > 0.5\n",
    "resultados = df.groupby('Predict_RegLog_Clase').agg(\n",
    "    Cant = ('Predict_RegLog_Clase', 'count'),              \n",
    "    Cant_Sup = ('Survived', 'sum'),            \n",
    "    Tasa_Sup = ('Survived', 'mean')    \n",
    ").reset_index()\n",
    "resultados"
   ]
  },
  {
   "cell_type": "code",
   "execution_count": 148,
   "id": "ab4a7875",
   "metadata": {},
   "outputs": [],
   "source": [
    "# Groupby por prediccion de decil: \n",
    "bin_edges = [0.0, 0.1, 0.2, 0.3, 0.4, 0.5, 0.6, 0.7, 0.8, 0.9, 1.0]\n",
    "bin_labels = range(1, 11)\n",
    "df['Predict_RegLog_Bin'] = pd.cut(df['Predict_Prob_RegLog'], \n",
    "                                  bins=bin_edges, \n",
    "                                  labels=bin_labels, \n",
    "                                  include_lowest=True)\n"
   ]
  },
  {
   "cell_type": "code",
   "execution_count": null,
   "id": "888a27ad",
   "metadata": {},
   "outputs": [],
   "source": [
    "resultados_nodo = df.groupby('Predict_RegLog_Bin').agg(     \n",
    "    Cant = ('Predict_RegLog_Bin', 'count'),              \n",
    "    Cant_Sup = ('Survived', 'sum'),            \n",
    "    Tasa_Sup = ('Survived', 'mean')    \n",
    ").reset_index()\n",
    "resultados_nodo"
   ]
  },
  {
   "cell_type": "code",
   "execution_count": null,
   "id": "8ba6c5fb",
   "metadata": {},
   "outputs": [],
   "source": [
    "# Barplot por nodo \n",
    "resultados_nodo['Tasa_NoSup'] = (1 - resultados_nodo['Tasa_Sup'])\n",
    "sns.barplot(data = resultados_nodo,\n",
    "            x = 'Predict_RegLog_Bin',\n",
    "            y = 'Tasa_Sup', \n",
    "            label = 'Porcentaje Supervivencia',\n",
    "            color = '#48E074')\n",
    "sns.barplot(data=resultados_nodo, \n",
    "            x = 'Predict_RegLog_Bin', \n",
    "            y = 'Tasa_NoSup', \n",
    "            bottom=resultados_nodo['Tasa_Sup'], \n",
    "            label = 'Porcentaje No Supervivencia',\n",
    "            color = '#E04848')"
   ]
  },
  {
   "cell_type": "markdown",
   "id": "3c39a3a0",
   "metadata": {},
   "source": [
    "# Ahora les toca a ustedes.\n",
    "Se van a juntar en salas de a 4 personas y van a generar dos modelos adicionales: \n",
    "\n",
    "1) Regresión logística con variable Fare\n",
    "2) Regresión logística con variable logaritmo natural de Fare\n",
    "\n",
    "Mejoraron las predicciones? Cómo sacan esa conclusión? "
   ]
  },
  {
   "cell_type": "code",
   "execution_count": null,
   "id": "722c1a63",
   "metadata": {},
   "outputs": [],
   "source": [
    "import nltk\n",
    "\n",
    "# Print the list of directories where NLTK will look for data\n",
    "print(nltk.data.path)\n"
   ]
  },
  {
   "cell_type": "code",
   "execution_count": null,
   "id": "5c83021e",
   "metadata": {},
   "outputs": [],
   "source": [
    "import os\n",
    "import shutil\n",
    "import nltk\n",
    "\n",
    "# Print the list of directories where NLTK will look for data\n",
    "print(\"NLTK will look for data in these directories:\")\n",
    "for path in nltk.data.path:\n",
    "    print(path)\n",
    "\n",
    "# Ask for confirmation before deleting\n",
    "confirmation = input(\"Do you really want to delete all these directories and their contents? (yes/no): \")\n",
    "\n",
    "if confirmation.lower() == 'yes':\n",
    "    for path in nltk.data.path:\n",
    "        # Check if the directory exists\n",
    "        if os.path.exists(path):\n",
    "            try:\n",
    "                # Attempt to delete the directory and its contents\n",
    "                shutil.rmtree(path)\n",
    "                print(f\"Successfully deleted {path}\")\n",
    "            except Exception as e:\n",
    "                print(f\"Error deleting {path}: {e}\")\n",
    "        else:\n",
    "            print(f\"Directory does not exist: {path}\")\n",
    "else:\n",
    "    print(\"Deletion cancelled.\")\n"
   ]
  },
  {
   "cell_type": "code",
   "execution_count": null,
   "id": "f6ae056d",
   "metadata": {},
   "outputs": [],
   "source": [
    "pip uninstall nltk"
   ]
  },
  {
   "cell_type": "code",
   "execution_count": 1,
   "id": "a3aa749c",
   "metadata": {},
   "outputs": [
    {
     "name": "stdout",
     "output_type": "stream",
     "text": [
      "NLTK will look for data in these directories:\n",
      "C:\\Users\\QY539GE/nltk_data\n",
      "C:\\Program Files\\WindowsApps\\PythonSoftwareFoundation.Python.3.11_3.11.2544.0_x64__qbz5n2kfra8p0\\nltk_data\n",
      "C:\\Program Files\\WindowsApps\\PythonSoftwareFoundation.Python.3.11_3.11.2544.0_x64__qbz5n2kfra8p0\\share\\nltk_data\n",
      "C:\\Program Files\\WindowsApps\\PythonSoftwareFoundation.Python.3.11_3.11.2544.0_x64__qbz5n2kfra8p0\\lib\\nltk_data\n",
      "C:\\Users\\QY539GE\\AppData\\Roaming\\nltk_data\n",
      "C:\\nltk_data\n",
      "D:\\nltk_data\n",
      "E:\\nltk_data\n"
     ]
    }
   ],
   "source": [
    "import os\n",
    "import shutil\n",
    "import nltk\n",
    "\n",
    "# Print the list of directories where NLTK will look for data\n",
    "print(\"NLTK will look for data in these directories:\")\n",
    "for path in nltk.data.path:\n",
    "    print(path)"
   ]
  },
  {
   "cell_type": "code",
   "execution_count": 1,
   "id": "22d6990e",
   "metadata": {},
   "outputs": [
    {
     "name": "stdout",
     "output_type": "stream",
     "text": [
      "Requirement already satisfied: nltk in c:\\users\\qy539ge\\appdata\\local\\packages\\pythonsoftwarefoundation.python.3.11_qbz5n2kfra8p0\\localcache\\local-packages\\python311\\site-packages (3.9.1)Note: you may need to restart the kernel to use updated packages.\n",
      "\n",
      "Requirement already satisfied: click in c:\\users\\qy539ge\\appdata\\local\\packages\\pythonsoftwarefoundation.python.3.11_qbz5n2kfra8p0\\localcache\\local-packages\\python311\\site-packages (from nltk) (8.1.7)\n",
      "Requirement already satisfied: joblib in c:\\users\\qy539ge\\appdata\\local\\packages\\pythonsoftwarefoundation.python.3.11_qbz5n2kfra8p0\\localcache\\local-packages\\python311\\site-packages (from nltk) (1.4.2)\n",
      "Requirement already satisfied: regex>=2021.8.3 in c:\\users\\qy539ge\\appdata\\local\\packages\\pythonsoftwarefoundation.python.3.11_qbz5n2kfra8p0\\localcache\\local-packages\\python311\\site-packages (from nltk) (2024.9.11)\n",
      "Requirement already satisfied: tqdm in c:\\users\\qy539ge\\appdata\\local\\packages\\pythonsoftwarefoundation.python.3.11_qbz5n2kfra8p0\\localcache\\local-packages\\python311\\site-packages (from nltk) (4.66.5)\n",
      "Requirement already satisfied: colorama in c:\\users\\qy539ge\\appdata\\local\\packages\\pythonsoftwarefoundation.python.3.11_qbz5n2kfra8p0\\localcache\\local-packages\\python311\\site-packages (from click->nltk) (0.4.6)\n"
     ]
    }
   ],
   "source": [
    "pip install nltk"
   ]
  }
 ],
 "metadata": {
  "kernelspec": {
   "display_name": "Python 3 (ipykernel)",
   "language": "python",
   "name": "python3"
  },
  "language_info": {
   "codemirror_mode": {
    "name": "ipython",
    "version": 3
   },
   "file_extension": ".py",
   "mimetype": "text/x-python",
   "name": "python",
   "nbconvert_exporter": "python",
   "pygments_lexer": "ipython3",
   "version": "3.11.9"
  }
 },
 "nbformat": 4,
 "nbformat_minor": 5
}

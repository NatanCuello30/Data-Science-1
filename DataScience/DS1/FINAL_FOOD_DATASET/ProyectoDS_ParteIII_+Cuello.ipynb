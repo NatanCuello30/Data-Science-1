{
  "cells": [
    {
      "cell_type": "markdown",
      "metadata": {
        "id": "UVTO6fOZtsOQ"
      },
      "source": [
        "# Proyecto DS - Parte Final - EDA\n",
        "Ciencia de datos 1 - Data de alimentos"
      ]
    },
    {
      "cell_type": "markdown",
      "metadata": {
        "id": "XkuTw1z1tsOR"
      },
      "source": [
        "# Densidad Nutricional"
      ]
    },
    {
      "cell_type": "markdown",
      "metadata": {
        "id": "vybq0KzstsOR"
      },
      "source": [
        "Problema a resolver: Analizar la densidad nutricional de los alimentos"
      ]
    },
    {
      "cell_type": "markdown",
      "metadata": {
        "id": "gPRZVW1ftsOS"
      },
      "source": [
        "Contexto Analitico:\n",
        "\n",
        "\n",
        " Columnas disponibles\n",
        "1.  **Food**: The name or type of the food item.\n",
        "2.  **Caloric Value**: Total energy provided by the food, typically measured in kilocalories (kcal) per 100 grams.\n",
        "3.  **Fat( in g)**: Total amount of fats in grams per 100 grams, including the breakdowns that follow.\n",
        "4.  **Saturated Fats( in g)**: Amount of saturated fats (fats that typically raise the level of cholesterol in the blood) in grams per 100 grams.\n",
        "5.  **Monounsaturated Fats( in g)**: Amount of monounsaturated fats (considered heart-healthy fats) in grams per 100 grams.\n",
        "6.  **Polyunsaturated Fats( in g)**: Amount of polyunsaturated fats (include essential fats your body needs but can't produce itself) in grams per 100 grams.\n",
        "7.  **Carbohydrates( in g)**: Total carbohydrates in grams per 100 grams, including sugars.\n",
        "8.  **Sugars( in g)**: Total sugars in grams per 100 grams, a subset of carbohydrates.\n",
        "9.  **Protein( in g)**: Total proteins in grams per 100 grams, essential for body repair and growth.\n",
        "10.  **Dietary Fiber( in g)**: Fiber content in grams per 100 grams, important for digestive health.\n",
        "11.  **Cholesterol( in mg)**: Cholesterol content in milligrams per 100 grams, pertinent for cardiovascular health.\n",
        "12.  **Sodium( in g)**: Sodium content in milligrams per 100 grams, crucial for fluid balance and nerve function.\n",
        "13.  **Water( in g)**: Water content in grams per 100 grams, which affects the food�?Ts energy density.\n",
        "14.  **Vitamin A( in mg)**: Amount of Vitamin A in micrograms per 100 grams, important for vision and immune functioning.\n",
        "15.  **Vitamin B1 (Thiamine)( in mg)**: Essential for glucose metabolism.\n",
        "16.  **Vitamin B11 (Folic Acid)( in mg)**: Crucial for cell function and tissue growth, particularly important in pregnancy.\n",
        "17.  **Vitamin B12( in mg)**: Important for brain function and blood formation.\n",
        "18.  **Vitamin B2 (Riboflavin)( in mg)**: Necessary for energy production, cell function, and fat metabolism.\n",
        "19.  **Vitamin B3 (Niacin)( in mg)**: Supports digestive system, skin, and nerves health.\n",
        "20.  **Vitamin B5 (Pantothenic Acid)( in mg)**: Necessary for making blood cells, and helps convert food into energy.\n",
        "21.  **Vitamin B6( in mg)**: Important for normal brain development and keeping the nervous and immune systems healthy.\n",
        "22.  **Vitamin C( in mg)**: Important for the repair of all body tissues.\n",
        "23.  **Vitamin D( in mg)**: Crucial for the absorption of calcium, promoting bone growth and health.\n",
        "24.  **Vitamin E( in mg)**: Acts as an antioxidant, helping to protect cells from the damage caused by free radicals.\n",
        "25.  **Vitamin K( in mg)**: Necessary for blood clotting and bone health.\n",
        "26.  **Calcium( in mg)**: Vital for building and maintaining strong bones and teeth.\n",
        "27.  **Copper( in mg)**: Helps with the formation of collagen, increases the absorption of iron and plays a role in energy production.\n",
        "28.  **Iron( in mg)**: Essential for the creation of red blood cells.\n",
        "29.  **Magnesium( in mg)**: Important for many processes in the body including regulation of muscle and nerve function, blood sugar levels, and blood pressure and making protein, bone, and DNA.\n",
        "30.  **Manganese( in mg)**: Involved in the formation of bones, blood clotting factors, and enzymes that play a role in fat and carbohydrate metabolism, calcium absorption, and blood sugar regulation.\n",
        "31.  **Phosphorus( in mg)**: Helps with the formation of bones and teeth and is necessary for the body to make protein for the growth, maintenance, and repair of cells and tissues.\n",
        "32.  **Potassium( in mg)**: Helps regulate fluid balance, muscle contractions, and nerve signals.\n",
        "33.  **Selenium( in mg)**: Important for reproduction, thyroid gland function, DNA production, and protecting the body from damage caused by free radicals and from infection.\n",
        "34.  **Zinc( in mg)**: Necessary for the immune system to properly function and plays a role in cell division, cell growth, wound healing, and the breakdown of carbohydrates.\n",
        "35.  **Nutrition Density**: A metric indicating the nutrient richness of the food per calorie.  \n",
        "    Each of these columns provides critical data that can help in understanding the nutritional content of various foods, supporting a wide range of dietary, health, and medical research applications.1.  **Food**: The name or type of the food item.\n",
        "2.  **Caloric Value**: Total energy provided by the food, typically measured in kilocalories (kcal) per 100 grams.\n",
        "3.  **Fat( in g)**: Total amount of fats in grams per 100 grams, including the breakdowns that follow.\n",
        "4.  **Saturated Fats( in g)**: Amount of saturated fats (fats that typically raise the level of cholesterol in the blood) in grams per 100 grams.\n",
        "5.  **Monounsaturated Fats( in g)**: Amount of monounsaturated fats (considered heart-healthy fats) in grams per 100 grams.\n",
        "6.  **Polyunsaturated Fats( in g)**: Amount of polyunsaturated fats (include essential fats your body needs but can't produce itself) in grams per 100 grams.\n",
        "7.  **Carbohydrates( in g)**: Total carbohydrates in grams per 100 grams, including sugars.\n",
        "8.  **Sugars( in g)**: Total sugars in grams per 100 grams, a subset of carbohydrates.\n",
        "9.  **Protein( in g)**: Total proteins in grams per 100 grams, essential for body repair and growth.\n",
        "10.  **Dietary Fiber( in g)**: Fiber content in grams per 100 grams, important for digestive health.\n",
        "11.  **Cholesterol( in mg)**: Cholesterol content in milligrams per 100 grams, pertinent for cardiovascular health.\n",
        "12.  **Sodium( in g)**: Sodium content in milligrams per 100 grams, crucial for fluid balance and nerve function.\n",
        "13.  **Water( in g)**: Water content in grams per 100 grams, which affects the food�?Ts energy density.\n",
        "14.  **Vitamin A( in mg)**: Amount of Vitamin A in micrograms per 100 grams, important for vision and immune functioning.\n",
        "15.  **Vitamin B1 (Thiamine)( in mg)**: Essential for glucose metabolism.\n",
        "16.  **Vitamin B11 (Folic Acid)( in mg)**: Crucial for cell function and tissue growth, particularly important in pregnancy.\n",
        "17.  **Vitamin B12( in mg)**: Important for brain function and blood formation.\n",
        "18.  **Vitamin B2 (Riboflavin)( in mg)**: Necessary for energy production, cell function, and fat metabolism.\n",
        "19.  **Vitamin B3 (Niacin)( in mg)**: Supports digestive system, skin, and nerves health.\n",
        "20.  **Vitamin B5 (Pantothenic Acid)( in mg)**: Necessary for making blood cells, and helps convert food into energy.\n",
        "21.  **Vitamin B6( in mg)**: Important for normal brain development and keeping the nervous and immune systems healthy.\n",
        "22.  **Vitamin C( in mg)**: Important for the repair of all body tissues.\n",
        "23.  **Vitamin D( in mg)**: Crucial for the absorption of calcium, promoting bone growth and health.\n",
        "24.  **Vitamin E( in mg)**: Acts as an antioxidant, helping to protect cells from the damage caused by free radicals.\n",
        "25.  **Vitamin K( in mg)**: Necessary for blood clotting and bone health.\n",
        "26.  **Calcium( in mg)**: Vital for building and maintaining strong bones and teeth.\n",
        "27.  **Copper( in mg)**: Helps with the formation of collagen, increases the absorption of iron and plays a role in energy production.\n",
        "28.  **Iron( in mg)**: Essential for the creation of red blood cells.\n",
        "29.  **Magnesium( in mg)**: Important for many processes in the body including regulation of muscle and nerve function, blood sugar levels, and blood pressure and making protein, bone, and DNA.\n",
        "30.  **Manganese( in mg)**: Involved in the formation of bones, blood clotting factors, and enzymes that play a role in fat and carbohydrate metabolism, calcium absorption, and blood sugar regulation.\n",
        "31.  **Phosphorus( in mg)**: Helps with the formation of bones and teeth and is necessary for the body to make protein for the growth, maintenance, and repair of cells and tissues.\n",
        "32.  **Potassium( in mg)**: Helps regulate fluid balance, muscle contractions, and nerve signals.\n",
        "33.  **Selenium( in mg)**: Important for reproduction, thyroid gland function, DNA production, and protecting the body from damage caused by free radicals and from infection.\n",
        "34.  **Zinc( in mg)**: Necessary for the immune system to properly function and plays a role in cell division, cell growth, wound healing, and the breakdown of carbohydrates.\n",
        "35.  **Nutrition Density**: A metric indicating the nutrient richness of the food per calorie.  \n",
        "    Each of these columns provides critical data that can help in understanding the nutritional content of various foods, supporting a wide range of dietary, health, and medical research applications."
      ]
    },
    {
      "cell_type": "code",
      "execution_count": null,
      "metadata": {
        "_cell_guid": "b1076dfc-b9ad-4769-8c92-a6c4dae69d19",
        "_uuid": "8f2839f25d086af736a60e9eeb907d3b93b6e0e5",
        "execution": {
          "iopub.execute_input": "2024-08-11T13:03:59.41086Z",
          "iopub.status.busy": "2024-08-11T13:03:59.410367Z",
          "iopub.status.idle": "2024-08-11T13:04:02.296323Z",
          "shell.execute_reply": "2024-08-11T13:04:02.29514Z",
          "shell.execute_reply.started": "2024-08-11T13:03:59.410818Z"
        },
        "id": "WUz9dsdNtsOS",
        "trusted": true
      },
      "outputs": [],
      "source": [
        "#Hago el import de las librerias a utilizar para la exploracion inicial de datos.\n",
        "import pandas as pd\n",
        "import numpy as np\n",
        "import matplotlib as mpl\n",
        "import matplotlib.pyplot as plt\n",
        "%matplotlib inline\n",
        "import seaborn as sns\n",
        "from urllib.parse import quote\n",
        "# Librerías para arboles de decision\n",
        "from sklearn.feature_extraction.text import TfidfVectorizer\n",
        "from sklearn.model_selection import train_test_split\n",
        "from sklearn.linear_model import LinearRegression\n",
        "from sklearn.metrics import mean_squared_error, r2_score\n",
        "from sklearn.cluster import KMeans\n",
        "from sklearn.feature_extraction import text\n",
        "from sklearn.tree import DecisionTreeClassifier\n",
        "from sklearn import tree\n",
        "from sklearn.tree import DecisionTreeClassifier, plot_tree\n",
        "# Librerias para regresión logística\n",
        "import statsmodels.api as sm\n",
        "import statsmodels.formula.api as smf\n",
        "import os\n",
        "import nltk\n",
        "nltk.download('punkt')\n",
        "nltk.download('punkt_tab')\n",
        "from nltk.stem import WordNetLemmatizer\n",
        "from nltk.tokenize import word_tokenize\n",
        "\n",
        "from googletrans import Translator\n",
        "from deep_translator import GoogleTranslator\n",
        "from translate import Translator\n"
      ]
    },
    {
      "cell_type": "code",
      "execution_count": null,
      "metadata": {
        "colab": {
          "base_uri": "https://localhost:8080/"
        },
        "execution": {
          "iopub.execute_input": "2024-08-11T13:04:02.299703Z",
          "iopub.status.busy": "2024-08-11T13:04:02.298989Z",
          "iopub.status.idle": "2024-08-11T13:04:02.399175Z",
          "shell.execute_reply": "2024-08-11T13:04:02.397928Z",
          "shell.execute_reply.started": "2024-08-11T13:04:02.299659Z"
        },
        "id": "tyIaz8GitsOT",
        "outputId": "90a9331b-acc6-48a2-e9ce-395304840eab",
        "trusted": true
      },
      "outputs": [],
      "source": [
        "# Levanto el primer CSV para hacer una exploracion de los datos\n",
        "csv_url = 'https://raw.githubusercontent.com/NatanCuello30/Data-Science-1/refs/heads/main/DataScience/DS1/FINAL_FOOD_DATASET/FOOD-DATA-GROUP1.csv'\n",
        "\n",
        "# Levanto el CSV en un dataframe de pandas\n",
        "g1 = pd.read_csv(csv_url)\n",
        "\n",
        "# muestro el head\n",
        "print(g1.head())"
      ]
    },
    {
      "cell_type": "code",
      "execution_count": null,
      "metadata": {
        "colab": {
          "base_uri": "https://localhost:8080/"
        },
        "execution": {
          "iopub.execute_input": "2024-08-11T13:04:02.401028Z",
          "iopub.status.busy": "2024-08-11T13:04:02.400625Z",
          "iopub.status.idle": "2024-08-11T13:04:02.409392Z",
          "shell.execute_reply": "2024-08-11T13:04:02.407982Z",
          "shell.execute_reply.started": "2024-08-11T13:04:02.400994Z"
        },
        "id": "5PeJt4DftsOT",
        "outputId": "e227bf84-80f9-4d02-ae58-553d955bf85f",
        "trusted": true
      },
      "outputs": [],
      "source": [
        "# Listas las columnas disponibles\n",
        "print('Las columnas disponibles en el dataset son:')\n",
        "g1.columns"
      ]
    },
    {
      "cell_type": "code",
      "execution_count": null,
      "metadata": {
        "colab": {
          "base_uri": "https://localhost:8080/"
        },
        "id": "TS5r9z0itsOU",
        "outputId": "ee06fb6d-6d43-44ed-a847-39528c8af6f9"
      },
      "outputs": [],
      "source": [
        "# Levanto el segundo CSV para hacer una exploracion de los datos\n",
        "csv_url = 'https://raw.githubusercontent.com/NatanCuello30/Data-Science-1/refs/heads/main/DataScience/DS1/FINAL_FOOD_DATASET/FOOD-DATA-GROUP2.csv'\n",
        "\n",
        "# Levanto el CSV en un dataframe de pandas\n",
        "g2 = pd.read_csv(csv_url)\n",
        "\n",
        "# muestro el head\n",
        "g2.info()\n"
      ]
    },
    {
      "cell_type": "code",
      "execution_count": null,
      "metadata": {
        "colab": {
          "base_uri": "https://localhost:8080/"
        },
        "id": "7f0FFJrttsOU",
        "outputId": "614f8421-689d-4143-aad4-e19949623b19"
      },
      "outputs": [],
      "source": [
        "# Levanto el Tercero CSV para hacer una exploracion de los datos\n",
        "csv_url = 'https://raw.githubusercontent.com/NatanCuello30/Data-Science-1/refs/heads/main/DataScience/DS1/FINAL_FOOD_DATASET/FOOD-DATA-GROUP3.csv'\n",
        "\n",
        "# Levanto el CSV en un dataframe de pandas\n",
        "g3 = pd.read_csv(csv_url)\n",
        "\n",
        "# muestro el head\n",
        "g3.info()"
      ]
    },
    {
      "cell_type": "code",
      "execution_count": null,
      "metadata": {
        "colab": {
          "base_uri": "https://localhost:8080/"
        },
        "id": "o_3y5I7EtsOU",
        "outputId": "1db85a62-1887-4548-8bc2-f6c51a731b3c"
      },
      "outputs": [],
      "source": [
        "# Levanto el cuarto CSV para hacer una exploracion de los datos\n",
        "csv_url = 'https://raw.githubusercontent.com/NatanCuello30/Data-Science-1/refs/heads/main/DataScience/DS1/FINAL_FOOD_DATASET/FOOD-DATA-GROUP4.csv'\n",
        "\n",
        "# Levanto el CSV en un dataframe de pandas\n",
        "g4 = pd.read_csv(csv_url)\n",
        "\n",
        "# muestro el head\n",
        "g4.info()"
      ]
    },
    {
      "cell_type": "code",
      "execution_count": null,
      "metadata": {
        "colab": {
          "base_uri": "https://localhost:8080/"
        },
        "id": "8c_MTCXctsOU",
        "outputId": "a62a66e2-6609-437a-8d6a-1ddc919abcba"
      },
      "outputs": [],
      "source": [
        "# Levanto el Quinto CSV para hacer una exploracion de los datos\n",
        "csv_url = 'https://raw.githubusercontent.com/NatanCuello30/Data-Science-1/refs/heads/main/DataScience/DS1/FINAL_FOOD_DATASET/FOOD-DATA-GROUP5.csv'\n",
        "\n",
        "# Levanto el CSV en un dataframe de pandas\n",
        "g5 = pd.read_csv(csv_url)\n",
        "\n",
        "# muestro el head\n",
        "g5.info()"
      ]
    },
    {
      "cell_type": "code",
      "execution_count": null,
      "metadata": {
        "colab": {
          "base_uri": "https://localhost:8080/"
        },
        "id": "Xjrohs5jtsOU",
        "outputId": "71563966-5087-4e5c-a0e8-eb1140d66329"
      },
      "outputs": [],
      "source": [
        "# Calculate the number of rows for each DataFrame\n",
        "num_rows_g1 = g1.shape[0]\n",
        "num_rows_g2 = g2.shape[0]\n",
        "num_rows_g3 = g3.shape[0]\n",
        "num_rows_g4 = g4.shape[0]\n",
        "num_rows_g5 = g5.shape[0]\n",
        "\n",
        "# Sum the number of rows from all DataFrames\n",
        "total_num_rows = num_rows_g1 + num_rows_g2 + num_rows_g3 + num_rows_g4 + num_rows_g5\n",
        "\n",
        "# Print the total number of rows\n",
        "print(f\"The total number of rows from all 5 DataFrames is: {total_num_rows}\")\n",
        "\n"
      ]
    },
    {
      "cell_type": "code",
      "execution_count": null,
      "metadata": {
        "colab": {
          "base_uri": "https://localhost:8080/"
        },
        "execution": {
          "iopub.execute_input": "2024-08-11T13:04:02.412917Z",
          "iopub.status.busy": "2024-08-11T13:04:02.412489Z",
          "iopub.status.idle": "2024-08-11T13:04:02.447948Z",
          "shell.execute_reply": "2024-08-11T13:04:02.446638Z",
          "shell.execute_reply.started": "2024-08-11T13:04:02.412849Z"
        },
        "id": "feGPID2StsOV",
        "outputId": "f0279c32-b165-4b55-8ff6-93dcfe60b35a",
        "trusted": true
      },
      "outputs": [],
      "source": [
        "#Analizo el data frame para ver detalles de las columnas.\n",
        "g1.info()\n"
      ]
    },
    {
      "cell_type": "code",
      "execution_count": null,
      "metadata": {
        "colab": {
          "base_uri": "https://localhost:8080/"
        },
        "id": "MAWbNiqBtsOV",
        "outputId": "ce4573f3-96bc-459e-914a-07caf505c179"
      },
      "outputs": [],
      "source": [
        "g2.info()\n"
      ]
    },
    {
      "cell_type": "code",
      "execution_count": null,
      "metadata": {
        "colab": {
          "base_uri": "https://localhost:8080/"
        },
        "id": "7Vgep4QgtsOV",
        "outputId": "588b9f10-2807-4918-afca-361b11602cfc"
      },
      "outputs": [],
      "source": [
        "g3.info()\n"
      ]
    },
    {
      "cell_type": "code",
      "execution_count": null,
      "metadata": {
        "colab": {
          "base_uri": "https://localhost:8080/"
        },
        "id": "ymIS3D0XtsOV",
        "outputId": "e379e6d7-8b97-4eee-c6b6-bc146bf28542"
      },
      "outputs": [],
      "source": [
        "g4.info()\n"
      ]
    },
    {
      "cell_type": "code",
      "execution_count": null,
      "metadata": {
        "colab": {
          "base_uri": "https://localhost:8080/"
        },
        "id": "H7Nrk_F2tsOV",
        "outputId": "ca99fac8-4ab1-41f1-e663-5c5206e584cf"
      },
      "outputs": [],
      "source": [
        "g5.info()"
      ]
    },
    {
      "cell_type": "code",
      "execution_count": null,
      "metadata": {
        "colab": {
          "base_uri": "https://localhost:8080/"
        },
        "execution": {
          "iopub.execute_input": "2024-08-11T13:04:02.449795Z",
          "iopub.status.busy": "2024-08-11T13:04:02.449422Z",
          "iopub.status.idle": "2024-08-11T13:04:02.468406Z",
          "shell.execute_reply": "2024-08-11T13:04:02.467182Z",
          "shell.execute_reply.started": "2024-08-11T13:04:02.449763Z"
        },
        "id": "m-IM_FtltsOW",
        "outputId": "f73b185e-34b6-48d3-8b23-ae889bea0238",
        "trusted": true
      },
      "outputs": [],
      "source": [
        "#Tomo las variables numericas para armar una matriz de correlacion mas abajo:\n",
        "g1 = g1[['Caloric Value', 'Fat','Saturated Fats', 'Monounsaturated Fats', 'Polyunsaturated Fats',\n",
        "       'Carbohydrates', 'Sugars', 'Protein', 'Dietary Fiber', 'Cholesterol','Sodium', 'Water',\n",
        "        'Vitamin A', 'Vitamin B1', 'Vitamin B11', 'Vitamin B12', 'Vitamin B2', 'Vitamin B3',\n",
        "         'Vitamin B5', 'Vitamin B6', 'Vitamin C', 'Vitamin D', 'Vitamin E', 'Vitamin K',\n",
        "         'Calcium', 'Copper', 'Iron', 'Magnesium', 'Manganese', 'Phosphorus', 'Potassium',\n",
        "         'Selenium', 'Zinc', 'Nutrition Density']]\n",
        "g1.info()\n"
      ]
    },
    {
      "cell_type": "code",
      "execution_count": null,
      "metadata": {
        "colab": {
          "base_uri": "https://localhost:8080/"
        },
        "execution": {
          "iopub.execute_input": "2024-08-11T13:04:02.470052Z",
          "iopub.status.busy": "2024-08-11T13:04:02.46962Z",
          "iopub.status.idle": "2024-08-11T13:04:02.778488Z",
          "shell.execute_reply": "2024-08-11T13:04:02.777102Z",
          "shell.execute_reply.started": "2024-08-11T13:04:02.470013Z"
        },
        "id": "AeaS_sHZtsOW",
        "outputId": "1ab1c9ce-beef-4ef5-f90d-3cfe805458d1",
        "trusted": true
      },
      "outputs": [],
      "source": [
        "#Para hacer una matriz de correlacion necesito estandarizar los datos, uso SKLearn scaler.\n",
        "from sklearn.preprocessing import StandardScaler\n",
        "scaler = StandardScaler() #Creo un array de varaibles escaladas\n",
        "\n",
        "scaler.fit_transform(g1) #Aplico transformacion a g1"
      ]
    },
    {
      "cell_type": "code",
      "execution_count": null,
      "metadata": {
        "colab": {
          "base_uri": "https://localhost:8080/",
          "height": 576
        },
        "execution": {
          "iopub.execute_input": "2024-08-11T13:04:02.781109Z",
          "iopub.status.busy": "2024-08-11T13:04:02.780602Z",
          "iopub.status.idle": "2024-08-11T13:04:03.637366Z",
          "shell.execute_reply": "2024-08-11T13:04:03.636077Z",
          "shell.execute_reply.started": "2024-08-11T13:04:02.781064Z"
        },
        "id": "uECeWazNtsOW",
        "outputId": "412b6e2f-4d8d-4d98-abe4-47e8d7189627",
        "trusted": true
      },
      "outputs": [],
      "source": [
        "matrix = g1.corr()\n",
        "\n",
        "# Creo una matriz de correlacion\n",
        "plt.imshow(matrix, cmap='Blues')\n",
        "\n",
        "# Le agrego la barra de colores\n",
        "plt.colorbar()\n",
        "\n",
        "# Obtengo las variables\n",
        "variables = []\n",
        "for i in matrix.columns:\n",
        "    variables.append(i)\n",
        "\n",
        "# Agrego las lables al grafico\n",
        "plt.xticks(range(len(matrix)), variables, rotation=90, ha='right')\n",
        "plt.yticks(range(len(matrix)), variables)\n",
        "\n",
        "# Muestro el grafico\n",
        "plt.show()"
      ]
    },
    {
      "cell_type": "code",
      "execution_count": null,
      "metadata": {
        "colab": {
          "base_uri": "https://localhost:8080/",
          "height": 571
        },
        "execution": {
          "iopub.execute_input": "2024-08-11T13:04:03.639562Z",
          "iopub.status.busy": "2024-08-11T13:04:03.63873Z",
          "iopub.status.idle": "2024-08-11T13:04:04.185506Z",
          "shell.execute_reply": "2024-08-11T13:04:04.184289Z",
          "shell.execute_reply.started": "2024-08-11T13:04:03.639513Z"
        },
        "id": "zYsISazStsOW",
        "outputId": "769a1f30-515b-4a67-c86f-a5e7f7073acb",
        "trusted": true
      },
      "outputs": [],
      "source": [
        "plt.bar(variables,matrix['Nutrition Density'])\n",
        "# Agrego labels a la matriz\n",
        "plt.xticks(range(len(matrix)), variables, rotation=90, ha='right')\n",
        "\n",
        "# plteo\n",
        "plt.show()"
      ]
    },
    {
      "cell_type": "code",
      "execution_count": null,
      "metadata": {
        "colab": {
          "base_uri": "https://localhost:8080/",
          "height": 617
        },
        "execution": {
          "iopub.execute_input": "2024-08-11T13:04:04.187415Z",
          "iopub.status.busy": "2024-08-11T13:04:04.187041Z",
          "iopub.status.idle": "2024-08-11T13:04:04.198304Z",
          "shell.execute_reply": "2024-08-11T13:04:04.196759Z",
          "shell.execute_reply.started": "2024-08-11T13:04:04.187382Z"
        },
        "id": "gvxvluSntsOW",
        "outputId": "a2859fdd-716c-4f6a-963f-dcb7151f76fd",
        "trusted": true
      },
      "outputs": [],
      "source": [
        "matrix['Nutrition Density'][matrix['Nutrition Density'] < 0.2]"
      ]
    },
    {
      "cell_type": "code",
      "execution_count": null,
      "metadata": {
        "colab": {
          "base_uri": "https://localhost:8080/",
          "height": 571
        },
        "execution": {
          "iopub.execute_input": "2024-08-11T13:04:04.203523Z",
          "iopub.status.busy": "2024-08-11T13:04:04.20307Z",
          "iopub.status.idle": "2024-08-11T13:04:04.561711Z",
          "shell.execute_reply": "2024-08-11T13:04:04.560467Z",
          "shell.execute_reply.started": "2024-08-11T13:04:04.203477Z"
        },
        "id": "_fryulF2tsOW",
        "outputId": "18c20cef-4eba-42f7-fbb5-e667932bb4f0",
        "trusted": true
      },
      "outputs": [],
      "source": [
        "# extracting variable names\n",
        "variables = []\n",
        "for i in matrix['Nutrition Density'][matrix['Nutrition Density'] > 0.2].keys():\n",
        "    variables.append(i)\n",
        "\n",
        "plt.bar(variables,matrix['Nutrition Density'][matrix['Nutrition Density'] > 0.2])\n",
        "# Adding labels to the matrix\n",
        "plt.xticks(range(len(matrix['Nutrition Density'][matrix['Nutrition Density'] > 0.2])), variables, rotation=90, ha='right')\n",
        "\n",
        "# Display the plot\n",
        "plt.show()"
      ]
    },
    {
      "cell_type": "code",
      "execution_count": 539,
      "metadata": {
        "execution": {
          "iopub.execute_input": "2024-08-11T13:04:04.564704Z",
          "iopub.status.busy": "2024-08-11T13:04:04.563788Z",
          "iopub.status.idle": "2024-08-11T13:04:04.577712Z",
          "shell.execute_reply": "2024-08-11T13:04:04.576223Z",
          "shell.execute_reply.started": "2024-08-11T13:04:04.564656Z"
        },
        "id": "o_wnExp8tsOW",
        "trusted": true
      },
      "outputs": [],
      "source": [
        "g1['PP'] = g1['Potassium'] + g1['Phosphorus']\n",
        "g1['Fats'] = g1['Caloric Value'] + g1['Fat'] + g1['Saturated Fats'] + \\\n",
        "            g1['Monounsaturated Fats'] + g1['Polyunsaturated Fats']\n",
        "g1['PC'] = g1['Protein'] + g1['Cholesterol']"
      ]
    },
    {
      "cell_type": "code",
      "execution_count": 540,
      "metadata": {
        "execution": {
          "iopub.execute_input": "2024-08-11T13:04:04.58095Z",
          "iopub.status.busy": "2024-08-11T13:04:04.579927Z",
          "iopub.status.idle": "2024-08-11T13:04:04.601922Z",
          "shell.execute_reply": "2024-08-11T13:04:04.600323Z",
          "shell.execute_reply.started": "2024-08-11T13:04:04.580882Z"
        },
        "id": "l2sAokTLtsOW",
        "trusted": true
      },
      "outputs": [],
      "source": [
        "g1 = g1.drop(['Potassium', 'Phosphorus', 'Caloric Value', 'Fat', 'Saturated Fats',\n",
        "             'Monounsaturated Fats', 'Polyunsaturated Fats', 'Sugars', 'Dietary Fiber',\n",
        "             'Water', 'Vitamin A', 'Copper', 'Manganese', 'Selenium', 'Zinc',\n",
        "             'Vitamin B1', 'Vitamin B11', 'Vitamin B12', 'Vitamin B5', 'Vitamin B6',\n",
        "             'Vitamin C', 'Vitamin D', 'Vitamin E', 'Vitamin K', 'Protein', 'Cholesterol'], axis=1)"
      ]
    },
    {
      "cell_type": "code",
      "execution_count": 541,
      "metadata": {
        "execution": {
          "iopub.execute_input": "2024-08-11T13:04:04.606101Z",
          "iopub.status.busy": "2024-08-11T13:04:04.604841Z",
          "iopub.status.idle": "2024-08-11T13:04:04.626984Z",
          "shell.execute_reply": "2024-08-11T13:04:04.625296Z",
          "shell.execute_reply.started": "2024-08-11T13:04:04.606031Z"
        },
        "id": "8raQ_uWVtsOW",
        "trusted": true
      },
      "outputs": [],
      "source": [
        "g1 = g1[['PC', 'Carbohydrates', 'Sodium', 'Vitamin B2', 'Vitamin B3', 'Calcium',\n",
        "        'Iron', 'Magnesium', 'Nutrition Density']]"
      ]
    },
    {
      "cell_type": "code",
      "execution_count": null,
      "metadata": {
        "colab": {
          "base_uri": "https://localhost:8080/",
          "height": 539
        },
        "execution": {
          "iopub.execute_input": "2024-08-11T13:04:04.63071Z",
          "iopub.status.busy": "2024-08-11T13:04:04.629005Z",
          "iopub.status.idle": "2024-08-11T13:04:05.050353Z",
          "shell.execute_reply": "2024-08-11T13:04:05.048971Z",
          "shell.execute_reply.started": "2024-08-11T13:04:04.630652Z"
        },
        "id": "6UpFjVOYtsOW",
        "outputId": "f0bd9fa6-008a-4a17-82fd-b9dbab225224",
        "trusted": true
      },
      "outputs": [],
      "source": [
        "matrix = g1.corr()\n",
        "\n",
        "# plotting correlation matrix\n",
        "plt.imshow(matrix, cmap='Blues')\n",
        "\n",
        "# adding colorbar\n",
        "plt.colorbar()\n",
        "\n",
        "# extracting variable names\n",
        "variables = []\n",
        "for i in matrix.columns:\n",
        "    variables.append(i)\n",
        "\n",
        "# Adding labels to the matrix\n",
        "plt.xticks(range(len(matrix)), variables, rotation=90, ha='right')\n",
        "plt.yticks(range(len(matrix)), variables)\n",
        "\n",
        "# Display the plot\n",
        "plt.show()"
      ]
    },
    {
      "cell_type": "code",
      "execution_count": 543,
      "metadata": {
        "execution": {
          "iopub.execute_input": "2024-08-11T13:04:05.052563Z",
          "iopub.status.busy": "2024-08-11T13:04:05.052093Z",
          "iopub.status.idle": "2024-08-11T13:04:05.059862Z",
          "shell.execute_reply": "2024-08-11T13:04:05.058391Z",
          "shell.execute_reply.started": "2024-08-11T13:04:05.05252Z"
        },
        "id": "MBr4gYCAtsOX",
        "trusted": true
      },
      "outputs": [],
      "source": [
        "Y = g1['Nutrition Density']\n",
        "X = g1.drop(['Nutrition Density'], axis=1)"
      ]
    },
    {
      "cell_type": "code",
      "execution_count": 544,
      "metadata": {
        "execution": {
          "iopub.execute_input": "2024-08-11T13:04:05.062104Z",
          "iopub.status.busy": "2024-08-11T13:04:05.061598Z",
          "iopub.status.idle": "2024-08-11T13:04:05.197193Z",
          "shell.execute_reply": "2024-08-11T13:04:05.195813Z",
          "shell.execute_reply.started": "2024-08-11T13:04:05.06206Z"
        },
        "id": "MP50PMXQtsOX",
        "trusted": true
      },
      "outputs": [],
      "source": [
        "from sklearn.model_selection import train_test_split\n",
        "\n",
        "X_train, X_test, y_train, y_test = train_test_split(X, Y, test_size=0.25, random_state=42)"
      ]
    },
    {
      "cell_type": "code",
      "execution_count": null,
      "metadata": {
        "colab": {
          "base_uri": "https://localhost:8080/",
          "height": 80
        },
        "execution": {
          "iopub.execute_input": "2024-08-11T13:04:05.199597Z",
          "iopub.status.busy": "2024-08-11T13:04:05.199054Z",
          "iopub.status.idle": "2024-08-11T13:04:05.343331Z",
          "shell.execute_reply": "2024-08-11T13:04:05.341983Z",
          "shell.execute_reply.started": "2024-08-11T13:04:05.199543Z"
        },
        "id": "GJKBub7jtsOX",
        "outputId": "eae8030b-8862-4ba3-c9e5-3a71301fe8a8",
        "trusted": true
      },
      "outputs": [],
      "source": [
        "from sklearn.linear_model import LinearRegression\n",
        "model = LinearRegression()\n",
        "\n",
        "model.fit(X_train, y_train)"
      ]
    },
    {
      "cell_type": "code",
      "execution_count": null,
      "metadata": {
        "colab": {
          "base_uri": "https://localhost:8080/"
        },
        "execution": {
          "iopub.execute_input": "2024-08-11T13:04:05.345576Z",
          "iopub.status.busy": "2024-08-11T13:04:05.345121Z",
          "iopub.status.idle": "2024-08-11T13:04:05.354127Z",
          "shell.execute_reply": "2024-08-11T13:04:05.3527Z",
          "shell.execute_reply.started": "2024-08-11T13:04:05.345534Z"
        },
        "id": "jgLNAusgtsOY",
        "outputId": "301728c1-06d4-4961-ca7e-2325bdf1cd5b",
        "trusted": true
      },
      "outputs": [],
      "source": [
        "print(model.coef_, model.intercept_)"
      ]
    },
    {
      "cell_type": "code",
      "execution_count": null,
      "metadata": {
        "colab": {
          "base_uri": "https://localhost:8080/"
        },
        "execution": {
          "iopub.execute_input": "2024-08-11T13:04:05.35665Z",
          "iopub.status.busy": "2024-08-11T13:04:05.355967Z",
          "iopub.status.idle": "2024-08-11T13:04:05.368472Z",
          "shell.execute_reply": "2024-08-11T13:04:05.366669Z",
          "shell.execute_reply.started": "2024-08-11T13:04:05.356607Z"
        },
        "id": "8l3SeTrjtsOY",
        "outputId": "3fafd1d0-2213-465a-808b-b51c7b42cf19",
        "trusted": true
      },
      "outputs": [],
      "source": [
        "from sklearn.metrics import r2_score\n",
        "\n",
        "y_pred = model.predict(X_test)\n",
        "\n",
        "print(r2_score(y_test, y_pred))"
      ]
    },
    {
      "cell_type": "code",
      "execution_count": null,
      "metadata": {
        "colab": {
          "base_uri": "https://localhost:8080/",
          "height": 447
        },
        "execution": {
          "iopub.execute_input": "2024-08-11T13:04:05.371325Z",
          "iopub.status.busy": "2024-08-11T13:04:05.370744Z",
          "iopub.status.idle": "2024-08-11T13:04:05.726345Z",
          "shell.execute_reply": "2024-08-11T13:04:05.723727Z",
          "shell.execute_reply.started": "2024-08-11T13:04:05.371278Z"
        },
        "id": "nz-yEnp_tsOZ",
        "outputId": "5730a2fd-2721-40f4-d861-89c204ae19bb",
        "trusted": true
      },
      "outputs": [],
      "source": [
        "plt.scatter(range(len(y_test)), np.sort(y_test-y_pred))"
      ]
    },
    {
      "cell_type": "code",
      "execution_count": null,
      "metadata": {
        "colab": {
          "base_uri": "https://localhost:8080/",
          "height": 517
        },
        "execution": {
          "iopub.execute_input": "2024-08-11T13:08:10.874976Z",
          "iopub.status.busy": "2024-08-11T13:08:10.874504Z",
          "iopub.status.idle": "2024-08-11T13:08:11.188735Z",
          "shell.execute_reply": "2024-08-11T13:08:11.187165Z",
          "shell.execute_reply.started": "2024-08-11T13:08:10.87494Z"
        },
        "id": "gQFTsGa5tsOZ",
        "outputId": "88649fe1-f76b-4733-a042-00d3d59a8b1c",
        "trusted": true
      },
      "outputs": [],
      "source": [
        "plt.hist((y_test-y_pred), bins=[-40, -35, -30, -25, -20, -15, -10, -5, 0, 5, 10, 15, 20, 25, 30, 35, 40], histtype='stepfilled')"
      ]
    },
    {
      "cell_type": "markdown",
      "metadata": {
        "id": "wCoRy2o3tsOZ"
      },
      "source": [
        "# Levanto todo los CSV y los concateneo en uno solo"
      ]
    },
    {
      "cell_type": "markdown",
      "metadata": {
        "id": "dC8uhDBKtsOa"
      },
      "source": [
        "Dos maneras de levantar el data frame"
      ]
    },
    {
      "cell_type": "markdown",
      "metadata": {
        "id": "kQrZ_2DYtsOa"
      },
      "source": [
        "un concat directo luego de haber levantado cada uno por separado"
      ]
    },
    {
      "cell_type": "code",
      "execution_count": 550,
      "metadata": {
        "id": "JXq1pr2VtsOa"
      },
      "outputs": [],
      "source": [
        "Full_df = pd.concat([g1, g2, g3, g4, g5], ignore_index=True)"
      ]
    },
    {
      "cell_type": "code",
      "execution_count": null,
      "metadata": {
        "id": "SqjUM0s0tsOa",
        "outputId": "860de68b-bd8c-4be4-af6f-00a8ed160916"
      },
      "outputs": [],
      "source": [
        "num_rows_Full_df = Full_df.shape[0]\n",
        "print(f\"El numero de rows totales del data frame es: {num_rows_Full_df}\")\n"
      ]
    },
    {
      "cell_type": "code",
      "execution_count": null,
      "metadata": {
        "id": "LtRDnC0_tsOa",
        "outputId": "ac18c398-db8c-485c-c498-5f292acf5cda"
      },
      "outputs": [],
      "source": [
        "Full_df.info()"
      ]
    },
    {
      "cell_type": "markdown",
      "metadata": {
        "id": "E8xGtXUKtsOa"
      },
      "source": [
        "Si no levante los files individuales puedo levantar todo asi:"
      ]
    },
    {
      "cell_type": "code",
      "execution_count": null,
      "metadata": {
        "colab": {
          "base_uri": "https://localhost:8080/"
        },
        "id": "EFZcWaTdtsOa",
        "outputId": "3d345a50-195d-449c-c3b0-878a51b83bd7"
      },
      "outputs": [],
      "source": [
        "\n",
        "# URL Base de donde obtener los files\n",
        "root = \"https://raw.githubusercontent.com/NatanCuello30/Data-Science-1/refs/heads/main/DataScience/DS1/FINAL_FOOD_DATASET/\"\n",
        "\n",
        "groups = []\n",
        "\n",
        "for i in range(1, 6):\n",
        "    # Armo el nombre del archivo\n",
        "    filename = f\"FOOD-DATA-GROUP{i}.csv\"\n",
        "    encoded_filename = quote(filename)\n",
        "    # Armo la URL para cada CSV\n",
        "    fileurl = f\"{root}/{encoded_filename}\"\n",
        "    # Leo los files\n",
        "    df = pd.read_csv(fileurl)\n",
        "    # Dropeo las columnas que no quiero.\n",
        "    df = df.drop([\"Unnamed: 0\", \"Unnamed: 0.1\"], axis=1, errors='ignore')\n",
        "    groups.append(df)\n",
        "\n",
        "# CConcateneo todo usando un outerJoin\n",
        "Test_df = pd.concat(groups, ignore_index=True, join='outer')\n",
        "\n",
        "# Tiro un info para confirmar si tengo todos los datos.\n",
        "Test_df.info()"
      ]
    },
    {
      "cell_type": "code",
      "execution_count": null,
      "metadata": {
        "colab": {
          "base_uri": "https://localhost:8080/",
          "height": 412
        },
        "id": "24y4HwhrtsOb",
        "outputId": "2fbad8c9-367c-47eb-9fc1-13ad971a6b7c"
      },
      "outputs": [],
      "source": [
        "Test_df.head()"
      ]
    },
    {
      "cell_type": "code",
      "execution_count": null,
      "metadata": {
        "colab": {
          "base_uri": "https://localhost:8080/"
        },
        "id": "5qMvNS2EtsOb",
        "outputId": "b32d5aee-7a3f-4627-b10b-701ee4cc0219"
      },
      "outputs": [],
      "source": [
        "# Verifico si tengo algun NaN\n",
        "has_nans = Test_df.isna().any().any()\n",
        "\n",
        "check = \"Yes\" if has_nans else \"No\"\n",
        "\n",
        "\n",
        "# Printeo el resultado del analiss\n",
        "print(f\"Hay Algun 'Nan' en el DataFrame? {check}\")"
      ]
    },
    {
      "cell_type": "code",
      "execution_count": null,
      "metadata": {
        "colab": {
          "base_uri": "https://localhost:8080/"
        },
        "id": "pqTU2-XztsOb",
        "outputId": "40a39b1a-e8aa-42b0-e3f2-8e6274c65dfe"
      },
      "outputs": [],
      "source": [
        "unics, counts = np.unique(Test_df[\"food\"], return_counts=True)\n",
        "\n",
        "unics, counts"
      ]
    },
    {
      "cell_type": "code",
      "execution_count": 557,
      "metadata": {
        "id": "mpKDkyn-tsOb"
      },
      "outputs": [],
      "source": [
        "def plot_nutrient(food: str, data: pd.DataFrame=Test_df):\n",
        "    # Filtrar o dataframe para o alimento especificado\n",
        "    if food not in Test_df['food'].values:\n",
        "        print(f\"O alimento '{food}' não foi encontrado.\")\n",
        "        return\n",
        "\n",
        "    # Ffiltro la linea del alimento especifico\n",
        "    nutrient_data = Test_df[data['food'] == food].iloc[0]\n",
        "\n",
        "    # Elimino la columna con el nombre del alimento para enfocarme en los nutrientes\n",
        "    nutrients = nutrient_data.drop(labels=['food'])\n",
        "\n",
        "    nutrients_df = nutrients.reset_index()\n",
        "    nutrients_df.columns = ['Nutrient', 'Quantity']\n",
        "\n",
        "    # plteo con seaborn\n",
        "    plt.figure(figsize=(10, 6))\n",
        "    sns.barplot(x='Nutrient', y='Quantity', hue='Nutrient', data=nutrients_df, palette='pastel', dodge=False)\n",
        "\n",
        "    plt.legend([],[], frameon=False)\n",
        "\n",
        "    # agrego titulo y labels\n",
        "    plt.title(f\"Nutrientes de {food}\")\n",
        "    plt.xlabel(\"Nutrientes\")\n",
        "    plt.ylabel(\"Cantidad\")\n",
        "    plt.xticks(rotation=75)\n",
        "\n",
        "    # Ploteo\n",
        "    plt.show()\n"
      ]
    },
    {
      "cell_type": "code",
      "execution_count": null,
      "metadata": {
        "colab": {
          "base_uri": "https://localhost:8080/",
          "height": 1000
        },
        "id": "oyOKAHRgtsOb",
        "outputId": "4793d246-6c79-4b55-e8d3-cb94397d96c9"
      },
      "outputs": [],
      "source": [
        "for _ in range(5):\n",
        "    random_food = Test_df.iloc[np.random.randint(len(Test_df))]['food']\n",
        "    plot_nutrient(random_food)\n",
        "    print()"
      ]
    },
    {
      "cell_type": "code",
      "execution_count": null,
      "metadata": {
        "colab": {
          "base_uri": "https://localhost:8080/",
          "height": 335
        },
        "id": "ycevhhJutsOb",
        "outputId": "6b444e48-e3bb-4dee-facb-998a3f6327e6"
      },
      "outputs": [],
      "source": [
        "# Algunas estadísticas\n",
        "var_target = df['Nutrition Density']\n",
        "var_target.describe().round(0)"
      ]
    },
    {
      "cell_type": "code",
      "execution_count": null,
      "metadata": {
        "colab": {
          "base_uri": "https://localhost:8080/",
          "height": 489
        },
        "id": "GUfCbQpwtsOb",
        "outputId": "634430b5-d3cf-49a9-da7d-cabf04cce2d7"
      },
      "outputs": [],
      "source": [
        "# Histograma variable target\n",
        "# Primero calculo algunas medidas que quiero presentar\n",
        "media = var_target.mean()\n",
        "mediana = var_target.median()\n",
        "primer_cuartil = var_target.quantile(0.25)\n",
        "tercer_cuartil = var_target.quantile(0.75)\n",
        "\n",
        "# Luego grafico\n",
        "plt.figure()\n",
        "# Histograma\n",
        "sns.histplot(data = df,\n",
        "             x = 'Nutrition Density',\n",
        "             bins = 30,\n",
        "             alpha = 0.25,\n",
        "             kde = True,\n",
        "             stat='probability')\n",
        "# Agrego linea de promedio\n",
        "plt.axvline(x = media,\n",
        "            color = 'red',\n",
        "            linestyle = '-',\n",
        "            label = 'Promedio',\n",
        "            linewidth = 3)\n",
        "# Agrego linea de mediana\n",
        "plt.axvline(x = mediana,\n",
        "            color = '#11B613',\n",
        "            linestyle = '-',\n",
        "            label = 'Mediana',\n",
        "            linewidth = 3)\n",
        "# Agrego linea de primer cuartil\n",
        "plt.axvline(x = primer_cuartil,\n",
        "            color = 'black',\n",
        "            linestyle = '--',\n",
        "            label = 'Primer Cuartil',\n",
        "            linewidth = 2)\n",
        "# Agrego linea de tercer cuartil\n",
        "plt.axvline(x = tercer_cuartil,\n",
        "            color = 'black',\n",
        "            linestyle = '--',\n",
        "            label = 'Tercer Cuartil',\n",
        "            linewidth = 2)\n",
        "\n",
        "plt.legend()\n",
        "\n",
        "plt.title('Distribución de Densidad Nutricional')"
      ]
    },
    {
      "cell_type": "code",
      "execution_count": null,
      "metadata": {
        "colab": {
          "base_uri": "https://localhost:8080/"
        },
        "id": "0ec5RkqytsOb",
        "outputId": "94036100-5e2c-438a-c5cc-26f2229f76f0"
      },
      "outputs": [],
      "source": [
        "# Metodo 2: Z-Score\n",
        "media = var_target.mean()\n",
        "desvio = var_target.std()\n",
        "valores_z = (var_target - media)/desvio\n",
        "\n",
        "# Limites:\n",
        "limite_inf = (-3)\n",
        "limite_sup = 3\n",
        "\n",
        "print(valores_z)"
      ]
    },
    {
      "cell_type": "markdown",
      "metadata": {
        "id": "Y_L04fq6tsOb"
      },
      "source": [
        "Identifico los outliers con método ZScore"
      ]
    },
    {
      "cell_type": "code",
      "execution_count": null,
      "metadata": {
        "colab": {
          "base_uri": "https://localhost:8080/",
          "height": 178
        },
        "id": "MK6IU9owtsOc",
        "outputId": "45260bc5-423f-4b9f-f351-62f36fb514e6"
      },
      "outputs": [],
      "source": [
        "# Identifico outliers:\n",
        "df['Otlier_ZScore'] = np.where((valores_z < limite_inf) | (valores_z > limite_sup),1,0)\n",
        "df['Otlier_ZScore'].value_counts()"
      ]
    },
    {
      "cell_type": "code",
      "execution_count": null,
      "metadata": {
        "colab": {
          "base_uri": "https://localhost:8080/",
          "height": 465
        },
        "id": "suQvlfrStsOc",
        "outputId": "c4752b9c-ff86-4767-e47f-f19d698d0665"
      },
      "outputs": [],
      "source": [
        "limite_inf_tr = limite_inf * desvio + media\n",
        "limite_sup_tr = limite_sup * desvio + media\n",
        "\n",
        "# Grafico\n",
        "plt.figure()\n",
        "sns.scatterplot(data = df,\n",
        "                x = 'food',\n",
        "                y = 'Nutrition Density',\n",
        "               hue = 'Otlier_ZScore')\n",
        "plt.axhline(y = limite_inf_tr,\n",
        "            color = 'black',\n",
        "            linestyle = '--',\n",
        "            label = 'Limite Inferior',\n",
        "            linewidth = 2)\n",
        "plt.axhline(y = limite_sup_tr,\n",
        "            color = 'black',\n",
        "            linestyle = '--',\n",
        "            label = 'Limite Superior',\n",
        "            linewidth = 2)\n",
        "plt.title('Detección Outliers - Metodo Z Score')\n",
        "\n",
        "# Eliminar las etiquetas del eje X\n",
        "plt.xticks([])"
      ]
    },
    {
      "cell_type": "markdown",
      "metadata": {
        "id": "oMvMr2eOtsOc"
      },
      "source": [
        "Grafico sin outliers"
      ]
    },
    {
      "cell_type": "code",
      "execution_count": null,
      "metadata": {
        "colab": {
          "base_uri": "https://localhost:8080/",
          "height": 448
        },
        "id": "V9OcK8QgtsOc",
        "outputId": "8a3b2407-603d-4db5-b449-6f5708e9ee34"
      },
      "outputs": [],
      "source": [
        "import matplotlib.pyplot as plt\n",
        "import seaborn as sns\n",
        "\n",
        "# Suponiendo que 'limite_inf_tr', 'limite_sup_tr', 'df', 'desvio', y 'media' ya están definidos\n",
        "\n",
        "# Filtrar el DataFrame para excluir outliers\n",
        "df_filtrado = df[(df['Nutrition Density'] >= limite_inf_tr) & (df['Nutrition Density'] <= limite_sup_tr)]\n",
        "\n",
        "# Graficar solo los datos filtrados\n",
        "plt.figure()\n",
        "sns.scatterplot(data = df_filtrado,\n",
        "                x = 'food',\n",
        "                y = 'Nutrition Density',\n",
        "                hue = 'Otlier_ZScore')  # Asegúrate de que 'Otlier_ZScore' es el nombre correcto de la columna\n",
        "plt.axhline(y = limite_inf_tr,\n",
        "            color = 'black',\n",
        "            linestyle = '--',\n",
        "            label = 'Limite Inferior',\n",
        "            linewidth = 2)\n",
        "plt.axhline(y = limite_sup_tr,\n",
        "            color = 'black',\n",
        "            linestyle = '--',\n",
        "            label = 'Limite Superior',\n",
        "            linewidth = 2)\n",
        "plt.title('Detección Outliers - Metodo Z Score')\n",
        "\n",
        "# Eliminar las etiquetas del eje X\n",
        "plt.xticks([])\n",
        "\n",
        "# Mostrar el gráfico\n",
        "plt.show()"
      ]
    },
    {
      "cell_type": "markdown",
      "metadata": {
        "id": "j8p61v27tsOc"
      },
      "source": [
        "Acomodo el eje Y para hacer zoom a los datos"
      ]
    },
    {
      "cell_type": "code",
      "execution_count": null,
      "metadata": {
        "colab": {
          "base_uri": "https://localhost:8080/",
          "height": 448
        },
        "id": "B9EDOp9ktsOc",
        "outputId": "9ad7859c-7130-415c-d503-f0d0a73866b6"
      },
      "outputs": [],
      "source": [
        "import matplotlib.pyplot as plt\n",
        "import seaborn as sns\n",
        "\n",
        "limite_inf_tr = limite_inf * desvio + media\n",
        "limite_sup_tr = limite_sup * desvio + media\n",
        "\n",
        "\n",
        "# Suponiendo que 'limite_inf_tr', 'limite_sup_tr', 'df', 'desvio', y 'media' ya están definidos\n",
        "\n",
        "# Filtrar el DataFrame para excluir outliers\n",
        "df_filtrado = df[(df['Nutrition Density'] >= limite_inf_tr) & (df['Nutrition Density'] <= limite_sup_tr)]\n",
        "\n",
        "# Grafico\n",
        "plt.figure()\n",
        "ax = sns.scatterplot(data = df_filtrado,\n",
        "                     x = 'food',\n",
        "                     y = 'Nutrition Density',\n",
        "                     hue = 'Otlier_ZScore')  # Asegúrate de que 'Otlier_ZScore' es el nombre correcto de la columna\n",
        "plt.axhline(y = limite_inf_tr,\n",
        "            color = 'black',\n",
        "            linestyle = '--',\n",
        "            label = 'Limite Inferior',\n",
        "            linewidth = 2)\n",
        "plt.axhline(y = limite_sup_tr,\n",
        "            color = 'black',\n",
        "            linestyle = '--',\n",
        "            label = 'Limite Superior',\n",
        "            linewidth = 2)\n",
        "plt.title('Detección Outliers - Metodo Z Score')\n",
        "\n",
        "# Establecer el límite inferior del eje Y a 0\n",
        "ax.set_ylim(bottom=0)\n",
        "\n",
        "# Eliminar las etiquetas del eje X\n",
        "plt.xticks([])\n",
        "\n",
        "# Mostrar el gráfico\n",
        "plt.show()"
      ]
    },
    {
      "cell_type": "markdown",
      "metadata": {
        "id": "0ez5cCzotsOd"
      },
      "source": [
        "# Analisis de nutrientes"
      ]
    },
    {
      "cell_type": "code",
      "execution_count": 566,
      "metadata": {
        "id": "gTinwBbhtsOd"
      },
      "outputs": [],
      "source": [
        "def search_foods(name_nutrient: str, Test_df: pd.DataFrame = Test_df, ascending: bool = False, n: int = 10):\n",
        "    # Verificar se o nutriente especificado existe no dataframe\n",
        "    if name_nutrient not in Test_df.columns:\n",
        "        print(f\"Nutriente '{name_nutrient}' No encontrado en el conjunto de datos.\")\n",
        "        return\n",
        "\n",
        "    # Ordenar os alimentos com base no nutriente especificado\n",
        "    foods = Test_df.sort_values(by=name_nutrient, ascending=ascending)[['food', name_nutrient]].head(n)\n",
        "\n",
        "    # Exibir mensagem indicando a ordem\n",
        "    order = \"Menores\" if ascending else \"Mayores\"\n",
        "    print(f\"Los {n} alimentos con los {order} valores de {name_nutrient}:\")\n",
        "\n",
        "    print(foods)"
      ]
    },
    {
      "cell_type": "code",
      "execution_count": null,
      "metadata": {
        "colab": {
          "base_uri": "https://localhost:8080/"
        },
        "id": "YMFfn007tsOd",
        "outputId": "438c5af4-6191-421b-93a8-3c0b1cfec635"
      },
      "outputs": [],
      "source": [
        "# Example 1\n",
        "search_foods('Sugars')"
      ]
    },
    {
      "cell_type": "code",
      "execution_count": null,
      "metadata": {
        "colab": {
          "base_uri": "https://localhost:8080/"
        },
        "id": "AR0Sqj6XtsOd",
        "outputId": "830509a2-08dc-4355-e40e-6339a59c175f"
      },
      "outputs": [],
      "source": [
        "# Example 2\n",
        "search_foods('Vitamin A')"
      ]
    },
    {
      "cell_type": "code",
      "execution_count": null,
      "metadata": {
        "colab": {
          "base_uri": "https://localhost:8080/"
        },
        "id": "F-kZUpG6tsOd",
        "outputId": "c70c384e-fa9a-43f1-e5ee-62ea2d2bb5c2"
      },
      "outputs": [],
      "source": [
        "# Example 3\n",
        "search_foods('Caloric Value')"
      ]
    },
    {
      "cell_type": "markdown",
      "metadata": {
        "id": "zIv_r8tOtsOd"
      },
      "source": [
        "Defino categorias de alimenos"
      ]
    },
    {
      "cell_type": "code",
      "execution_count": null,
      "metadata": {
        "colab": {
          "base_uri": "https://localhost:8080/"
        },
        "id": "IYiL3399tsOd",
        "outputId": "b4411a36-b22e-4f65-f65d-41ec4bd96816"
      },
      "outputs": [],
      "source": [
        "# Definir las categorías y las variables que pertenecen a cada una\n",
        "variables_nutricionales = ['Caloric Value', 'Fat', 'Saturated Fats', 'Monounsaturated Fats', 'Polyunsaturated Fats', 'Carbohydrates', 'Sugars', 'Protein', 'Dietary Fiber']\n",
        "vitaminas_minerales = ['Vitamin A', 'Vitamin B1', 'Vitamin B11', 'Vitamin B12', 'Vitamin B2', 'Vitamin B3', 'Vitamin B5', 'Vitamin B6', 'Vitamin C', 'Vitamin D', 'Vitamin E', 'Vitamin K', 'Calcium', 'Copper', 'Iron', 'Magnesium', 'Manganese', 'Phosphorus', 'Potassium', 'Selenium', 'Zinc']\n",
        "otros_componentes = ['Water', 'Cholesterol', 'Sodium']\n",
        "\n",
        "# Reordenar las columnas en Test_df para agruparlas por categoría\n",
        "columnas_ordenadas = ['food', 'Nutrition Density'] + variables_nutricionales + vitaminas_minerales + otros_componentes\n",
        "Test_df = Test_df[columnas_ordenadas]\n",
        "\n",
        "# Ahora Test_df tiene las columnas reordenadas y agrupadas por categoría\n",
        "print(Test_df.head())\n"
      ]
    },
    {
      "cell_type": "markdown",
      "metadata": {
        "id": "oXqy6QhGtsOd"
      },
      "source": [
        "# CORRELACIONES\n"
      ]
    },
    {
      "cell_type": "markdown",
      "metadata": {
        "id": "DhZ1r2OptsOd"
      },
      "source": [
        "Correlacion entre densidad nutricional y valor calorico para analizar datos"
      ]
    },
    {
      "cell_type": "code",
      "execution_count": null,
      "metadata": {
        "colab": {
          "base_uri": "https://localhost:8080/",
          "height": 582
        },
        "id": "JlLg3V-NtsOe",
        "outputId": "4ba74c12-a2f2-4d6f-b1ca-11f1bd460d6e"
      },
      "outputs": [],
      "source": [
        "\n",
        "# Calcular el coeficiente de correlación\n",
        "correlation = Test_df['Nutrition Density'].corr(Test_df['Caloric Value'])\n",
        "print(f\"El coeficiente de correlación entre 'Nutrition Density' y 'Caloric Value' es: {correlation}\")\n",
        "\n",
        "# Graficar la relación entre 'Nutrition Density' y 'Caloric Value'\n",
        "plt.figure(figsize=(10, 6))  # Puedes ajustar el tamaño del gráfico según tus necesidades\n",
        "sns.regplot(x='Nutrition Density', y='Caloric Value', data=Test_df, color='blue', marker='+')\n",
        "\n",
        "# Añadir título y etiquetas a los ejes\n",
        "plt.title('Correlación entre Nutrition Density y Caloric Value')\n",
        "plt.xlabel('Nutrition Density')\n",
        "plt.ylabel('Caloric Value')\n",
        "\n",
        "# Establecer el límite del eje X\n",
        "plt.xlim(0, 1600)\n",
        "\n",
        "# Mostrar el gráfico\n",
        "plt.show()"
      ]
    },
    {
      "cell_type": "markdown",
      "metadata": {
        "id": "-Nqx2AHctsOe"
      },
      "source": [
        "Correlacion entre densidad nutricional con la variables nutricionales."
      ]
    },
    {
      "cell_type": "code",
      "execution_count": null,
      "metadata": {
        "colab": {
          "base_uri": "https://localhost:8080/"
        },
        "id": "BONuZ3DutsOe",
        "outputId": "3114c1b4-7874-448e-d41f-7c88b58e76eb"
      },
      "outputs": [],
      "source": [
        "import pandas as pd\n",
        "\n",
        "# Suponiendo que Test_df es tu DataFrame y ya está cargado\n",
        "\n",
        "# Definir las variables nutricionales\n",
        "variables_nutricionales = ['Caloric Value', 'Fat', 'Saturated Fats', 'Monounsaturated Fats', 'Polyunsaturated Fats', 'Carbohydrates', 'Sugars', 'Protein', 'Dietary Fiber']\n",
        "\n",
        "# Asegurarse de que 'Nutrition Density' y las variables nutricionales son numéricas\n",
        "Test_df['Nutrition Density'] = pd.to_numeric(Test_df['Nutrition Density'], errors='coerce')\n",
        "for variable in variables_nutricionales:\n",
        "    Test_df[variable] = pd.to_numeric(Test_df[variable], errors='coerce')\n",
        "\n",
        "# Eliminar filas con valores no numéricos o faltantes en las columnas de interés\n",
        "Test_df.dropna(subset=['Nutrition Density'] + variables_nutricionales, inplace=True)\n",
        "\n",
        "# Calcular la correlación entre 'Nutrition Density' y cada una de las variables nutricionales\n",
        "correlaciones = Test_df[['Nutrition Density'] + variables_nutricionales].corr()\n",
        "\n",
        "# Seleccionar solo la fila o columna de 'Nutrition Density' para ver las correlaciones con las variables nutricionales\n",
        "correlaciones_nutrition_density = correlaciones.loc['Nutrition Density'].drop('Nutrition Density')\n",
        "\n",
        "# Mostrar las correlaciones con 'Nutrition Density'\n",
        "print(correlaciones_nutrition_density)\n"
      ]
    },
    {
      "cell_type": "markdown",
      "metadata": {
        "id": "ECDKzeZWtsOe"
      },
      "source": [
        "Los resultados de la correlación que has proporcionado representan los coeficientes de correlación de Pearson entre \"Nutrition Density\" y cada una de las variables nutricionales en tu conjunto de datos. Aquí hay una interpretación de cada uno de los valores:\n",
        "\n",
        "#Caloric Value: 0.535323 <br>\n",
        "Una correlación moderadamente positiva con \"Nutrition Density\". A medida que el valor calórico aumenta, también tiende a aumentar la densidad nutricional, y viceversa. <br>\n",
        "#Fat: 0.422081<br>\n",
        "Una correlación positiva más débil que la anterior con \"Nutrition Density\". Un mayor contenido de grasa tiende a estar asociado con una mayor densidad nutricional, pero no tan fuertemente como el valor calórico.<br>\n",
        "#Saturated Fats: 0.202325<br>\n",
        "Una correlación positiva débil con \"Nutrition Density\". Un aumento en las grasas saturadas tiene una pequeña asociación con un aumento en la densidad nutricional.<br>\n",
        "#Monounsaturated Fats: 0.358096<br>\n",
        "Una correlación positiva moderada con \"Nutrition Density\". Los alimentos con más grasas monoinsaturadas tienden a tener una mayor densidad nutricional.<br>\n",
        "#Polyunsaturated Fats: 0.285149<br>\n",
        "Una correlación positiva débil a moderada con \"Nutrition Density\". Un mayor contenido de grasas poliinsaturadas tiende a estar asociado con una mayor densidad nutricional.<br>\n",
        "#Carbohydrates: 0.323416<br>\n",
        "Una correlación positiva moderada con \"Nutrition Density\". Los carbohidratos tienden a tener una relación moderada con la densidad nutricional.<br>\n",
        "#Sugars: 0.114739<br>\n",
        "Una correlación positiva muy débil con \"Nutrition Density\". Esto sugiere que hay una asociación muy pequeña entre el contenido de azúcares y la densidad nutricional.<br>\n",
        "#Protein: 0.455231<br>\n",
        "Una correlación positiva moderada con \"Nutrition Density\". Un mayor contenido de proteínas tiende a estar asociado con una mayor densidad nutricional.<br>\n",
        "#Dietary Fiber: 0.274237<br>\n",
        "Una correlación positiva débil a moderada con \"Nutrition Density\". La fibra dietética tiene una asociación positiva con la densidad nutricional.<br>\n",
        "\n",
        "En general, estos coeficientes indican que hay una tendencia a que la densidad nutricional aumente con el aumento de estos valores nutricionales, aunque la fuerza de esta asociación varía. Los valores más altos indican una relación más fuerte, mientras que los valores más bajos indican una relación más débil. Ninguno de los valores es cercano a 1 o -1, lo que significaría una correlación perfecta (positiva o negativa), ni son 0, lo que indicaría ninguna correlación."
      ]
    },
    {
      "cell_type": "code",
      "execution_count": null,
      "metadata": {
        "colab": {
          "base_uri": "https://localhost:8080/",
          "height": 607
        },
        "id": "3JDDzI2qtsOe",
        "outputId": "f210a7ea-4acf-4534-d469-5952b514bbec"
      },
      "outputs": [],
      "source": [
        "import matplotlib.pyplot as plt\n",
        "\n",
        "# Datos de correlación\n",
        "variables = ['Caloric Value', 'Fat', 'Saturated Fats', 'Monounsaturated Fats', 'Polyunsaturated Fats', 'Carbohydrates', 'Sugars', 'Protein', 'Dietary Fiber']\n",
        "correlaciones = [0.535323, 0.422081, 0.202325, 0.358096, 0.285149, 0.323416, 0.114739, 0.455231, 0.274237]\n",
        "\n",
        "# Ordenar los datos de correlación de mayor a menor\n",
        "ordenados = sorted(zip(correlaciones, variables), reverse=True)\n",
        "correlaciones_ordenadas, variables_ordenadas = zip(*ordenados)\n",
        "\n",
        "# Crear el gráfico de barras\n",
        "plt.figure(figsize=(10, 6))  # Tamaño del gráfico\n",
        "plt.bar(variables_ordenadas, correlaciones_ordenadas, color='skyblue')  # Crear barras con los datos de correlación ordenados\n",
        "\n",
        "# Añadir título y etiquetas a los ejes\n",
        "plt.title('Correlación entre Nutrition Density y Variables Nutricionales (Ordenadas)')\n",
        "plt.xlabel('Variables Nutricionales')\n",
        "plt.ylabel('Coeficiente de Correlación de Pearson')\n",
        "\n",
        "# Rotar las etiquetas del eje x para mejor visualización\n",
        "plt.xticks(rotation=45, ha='right')\n",
        "\n",
        "# Mostrar el gráfico\n",
        "plt.tight_layout()  # Ajustar automáticamente los parámetros del subplot para que el subplot se ajuste al área del gráfico\n",
        "plt.show()\n"
      ]
    },
    {
      "cell_type": "markdown",
      "metadata": {
        "id": "La8S7cO7tsOe"
      },
      "source": [
        "# Entrenamiento"
      ]
    },
    {
      "cell_type": "markdown",
      "metadata": {
        "id": "3HQ2MX0HtsOe"
      },
      "source": [
        "ENTRENAMIENTO CON VARIABLES NUTRICIONALES UNICAMENTE"
      ]
    },
    {
      "cell_type": "markdown",
      "metadata": {
        "id": "MJih_N6WtsOe"
      },
      "source": [
        "Con menos variables solo obtengo un coeficiente bajo cercana al 50%"
      ]
    },
    {
      "cell_type": "code",
      "execution_count": null,
      "metadata": {
        "colab": {
          "base_uri": "https://localhost:8080/"
        },
        "id": "V5fPICSntsOe",
        "outputId": "68e82974-a6cd-4256-804d-2f558b7e47ce"
      },
      "outputs": [],
      "source": [
        "\n",
        "# Definir las variables nutricionales\n",
        "variables_nutricionales = ['Caloric Value', 'Fat', 'Saturated Fats', 'Monounsaturated Fats', 'Polyunsaturated Fats', 'Carbohydrates', 'Sugars', 'Protein', 'Dietary Fiber']\n",
        "\n",
        "# Asegurarse de que 'Nutrition Density' y las variables nutricionales son numéricas\n",
        "Test_df['Nutrition Density'] = pd.to_numeric(Test_df['Nutrition Density'], errors='coerce')\n",
        "for variable in variables_nutricionales:\n",
        "    Test_df[variable] = pd.to_numeric(Test_df[variable], errors='coerce')\n",
        "\n",
        "# Eliminar filas con valores no numéricos o faltantes en las columnas de interés\n",
        "Test_df.dropna(subset=['Nutrition Density'] + variables_nutricionales, inplace=True)\n",
        "\n",
        "# Separar las características y la variable objetivo\n",
        "X = Test_df[variables_nutricionales]  # Características\n",
        "y = Test_df['Nutrition Density']  # Variable objetivo\n",
        "\n",
        "# Dividir los datos en conjuntos de entrenamiento y prueba\n",
        "X_train, X_test, y_train, y_test = train_test_split(X, y, test_size=0.2, random_state=42)\n",
        "\n",
        "# Elegir y entrenar el modelo\n",
        "modelo = LinearRegression()\n",
        "modelo.fit(X_train, y_train)\n",
        "\n",
        "# Evaluar el modelo\n",
        "y_pred = modelo.predict(X_test)\n",
        "mse = mean_squared_error(y_test, y_pred)\n",
        "r2 = r2_score(y_test, y_pred)\n",
        "\n",
        "print(f\"Error cuadrático medio (MSE): {mse}\")\n",
        "print(f\"Coeficiente de determinación (R^2): {r2}\")\n",
        "\n",
        "# Utilizar el modelo para hacer predicciones\n",
        "# Supongamos que tienes un nuevo alimento con las siguientes características nutricionales:\n",
        "nuevo_alimento = pd.DataFrame([[200, 10, 3, 5, 2, 30, 15, 20, 8]], columns=variables_nutricionales)\n",
        "prediccion_nutrition_density = modelo.predict(nuevo_alimento)\n",
        "print(f\"La densidad nutricional predicha para el nuevo alimento es: {prediccion_nutrition_density[0]}\")\n"
      ]
    },
    {
      "cell_type": "markdown",
      "metadata": {},
      "source": [
        "Con un MSE alto y un R2 moderadamente bajo se consideran hacer ajustes a las variables de entrenamiento del modelo para mejorar la prediccion. "
      ]
    },
    {
      "cell_type": "markdown",
      "metadata": {
        "id": "1CTESAV-tsOe"
      },
      "source": [
        "# ENTRENAMIENTO CON MAS VARIABLES"
      ]
    },
    {
      "cell_type": "markdown",
      "metadata": {
        "id": "2MWJyHf7tsOe"
      },
      "source": [
        "Al utilizar mas variables el modelo es mas preciso logrando un coeficiente de determinacion mas cercano a 1."
      ]
    },
    {
      "cell_type": "code",
      "execution_count": null,
      "metadata": {
        "colab": {
          "base_uri": "https://localhost:8080/"
        },
        "id": "GSM6L5yHtsOe",
        "outputId": "28313118-149f-49fa-b501-b6415a97114f"
      },
      "outputs": [],
      "source": [
        "import pandas as pd\n",
        "from sklearn.model_selection import train_test_split\n",
        "from sklearn.linear_model import LinearRegression\n",
        "from sklearn.metrics import mean_squared_error, r2_score\n",
        "\n",
        "# Definir las variables nutricionales y las vitaminas y minerales\n",
        "variables_nutricionales = ['Caloric Value', 'Fat', 'Saturated Fats', 'Monounsaturated Fats', 'Polyunsaturated Fats', 'Carbohydrates', 'Sugars', 'Protein', 'Dietary Fiber']\n",
        "vitaminas_minerales = ['Vitamin A', 'Vitamin B1', 'Vitamin B11', 'Vitamin B12', 'Vitamin B2', 'Vitamin B3', 'Vitamin B5', 'Vitamin B6', 'Vitamin C', 'Vitamin D', 'Vitamin E', 'Vitamin K', 'Calcium', 'Copper', 'Iron', 'Magnesium', 'Manganese', 'Phosphorus', 'Potassium', 'Selenium', 'Zinc']\n",
        "\n",
        "\n",
        "\n",
        "# Combinar las listas de variables nutricionales y vitaminas y minerales\n",
        "todas_las_variables = variables_nutricionales + vitaminas_minerales\n",
        "\n",
        "# Asegurarse de que todas las variables son numéricas\n",
        "for variable in todas_las_variables:\n",
        "    Test_df[variable] = pd.to_numeric(Test_df[variable], errors='coerce')\n",
        "\n",
        "# Eliminar filas con valores no numéricos o faltantes en las columnas de interés\n",
        "Test_df.dropna(subset=['Nutrition Density'] + todas_las_variables, inplace=True)\n",
        "\n",
        "# Separar las características y la variable objetivo\n",
        "X = Test_df[todas_las_variables]  # Características\n",
        "y = Test_df['Nutrition Density']  # Variable objetivo\n",
        "\n",
        "# Dividir los datos en conjuntos de entrenamiento y prueba\n",
        "X_train, X_test, y_train, y_test = train_test_split(X, y, test_size=0.2, random_state=42)\n",
        "\n",
        "# Elegir y entrenar el modelo\n",
        "modelo = LinearRegression()\n",
        "modelo.fit(X_train, y_train)\n",
        "\n",
        "# Evaluar el modelo\n",
        "y_pred = modelo.predict(X_test)\n",
        "mse = mean_squared_error(y_test, y_pred)\n",
        "r2 = r2_score(y_test, y_pred)\n",
        "\n",
        "print(f\"Error cuadrático medio (MSE): {mse}\")\n",
        "print(f\"Coeficiente de determinación (R^2): {r2}\")\n",
        "\n",
        "# Crear un nuevo DataFrame para el nuevo alimento con las mismas columnas que X_train\n",
        "nuevo_alimento = pd.DataFrame([[\n",
        "    200, 10, 3, 5, 2, 30, 15, 20, 8,  # Variables nutricionales\n",
        "    0.5, 0.1, 0.2, 0.3, 0.4, 0.5, 0.6, 0.7, 0.8, 0.9, 1.0,  # Vitaminas\n",
        "    1.1, 1.2, 1.3, 1.4, 1.5, 1.6, 1.7, 1.8, 1.9, 2.0  # Minerales\n",
        "]], columns=todas_las_variables)\n",
        "\n",
        "assert nuevo_alimento.shape[1] == X_train.shape[1], \"El número de columnas en nuevo_alimento debe coincidir con el número de características del modelo.\"\n",
        "\n",
        "# Utilizar el modelo para hacer predicciones\n",
        "prediccion_nutrition_density = modelo.predict(nuevo_alimento)\n",
        "print(f\"La densidad nutricional predicha para el nuevo alimento es: {prediccion_nutrition_density[0]}\")"
      ]
    },
    {
      "cell_type": "code",
      "execution_count": null,
      "metadata": {},
      "outputs": [],
      "source": [
        "# Crear un nuevo DataFrame para el nuevo alimento con las mismas columnas que X_train\n",
        "nuevo_alimento_2 = pd.DataFrame([[\n",
        "    200, 10, 3, 5, 2, 30, 15, 20, 8,  # Variables nutricionales\n",
        "    0.5, 0.1, 0.2, 0.3, 0.4, 0.5, 0.6, 0.7, 0.8, 0.9, 1.0,  # Vitaminas\n",
        "    1.1, 1.2, 1.3, 1.4, 1.5, 1.6, 1.7, 1.8, 1.9, 2.0  # Minerales\n",
        "]], columns=todas_las_variables)\n",
        "\n",
        "assert nuevo_alimento_2.shape[1] == X_train.shape[1], \"El número de columnas en nuevo_alimento debe coincidir con el número de características del modelo.\"\n",
        "\n",
        "# Utilizar el modelo para hacer predicciones\n",
        "prediccion_nutrition_density = modelo.predict(nuevo_alimento_2)\n",
        "print(f\"La densidad nutricional predicha para el nuevo alimento es: {prediccion_nutrition_density[0]}\")"
      ]
    },
    {
      "cell_type": "markdown",
      "metadata": {},
      "source": [
        "El valor del MSE es 0.0013076378519854962, lo cual es bastante bajo. Esto indica que, en promedio, el cuadrado de la diferencia entre los valores predichos por el modelo y los valores reales es pequeño, lo que sugiere que el modelo tiene un buen ajuste y está haciendo predicciones muy cercanas a los valores reales.\n",
        "El valor de R^2 q es 0.999999946409718, lo cual es extremadamente cercano a 1. Esto significa que el modelo de regresión que estás evaluando tiene un poder explicativo casi perfecto y es capaz de explicar prácticamente toda la variabilidad de los datos de respuesta con las variables predictoras incluidas en el modelo.\n",
        "\n"
      ]
    },
    {
      "cell_type": "markdown",
      "metadata": {
        "id": "_VVIBpwItsOe"
      },
      "source": [
        "# Arbol de decisión  NO SIRVE SOLO QUERIA PROBAR HACER UN ARBOL. NO APLICA PARA MIS VARIABLES"
      ]
    },
    {
      "cell_type": "code",
      "execution_count": null,
      "metadata": {
        "id": "xolmPQDGtsOe",
        "outputId": "e631b386-f719-4893-a36c-d947620d6079"
      },
      "outputs": [],
      "source": [
        "# Los transformo en matriz:\n",
        "# Separar las características y la variable objetivo\n",
        "variables_nutricionales_2 = ['Caloric Value', 'Fat', 'Saturated Fats', 'Monounsaturated Fats', 'Polyunsaturated Fats', 'Carbohydrates', 'Sugars', 'Protein', 'Dietary Fiber']\n",
        "\n",
        "X = Test_df[variables_nutricionales].values  # Características\n",
        "y = Test_df['Nutrition Density'].values  # Variable objetivo\n",
        "X\n"
      ]
    },
    {
      "cell_type": "code",
      "execution_count": 578,
      "metadata": {
        "id": "fGDtDsuZtsOe"
      },
      "outputs": [],
      "source": [
        "from sklearn.tree import DecisionTreeRegressor\n",
        "\n",
        "# Genero modelo: árbol de decisión para regresión\n",
        "reg = DecisionTreeRegressor(random_state=1234,  # Semilla aleatoria\n",
        "                            criterion='squared_error',  # Función para medir calidad de la división, 'squared_error' para regresión\n",
        "                            splitter='best',  # Estrategia para elegir la división de cada nodo\n",
        "                            max_depth=4,  # Profundidad máxima del árbol\n",
        "                            min_samples_leaf=20  # Mínima cantidad de registros por nodo final\n",
        "                           )\n",
        "\n",
        "# Entrenar el modelo con los datos\n",
        "reg = reg.fit(X, y)"
      ]
    },
    {
      "cell_type": "code",
      "execution_count": null,
      "metadata": {
        "id": "zc4eW9YUtsOf",
        "outputId": "8710437e-07fc-4878-f69b-9008b7080200"
      },
      "outputs": [],
      "source": [
        "plt.figure(figsize=(12, 8))\n",
        "plot_tree(reg,\n",
        "          filled = True,\n",
        "          rounded = True,\n",
        "          class_names = ['No Sobrevive','Sobrevive'],\n",
        "          feature_names = variables_nutricionales_2,\n",
        "          impurity = False,\n",
        "          proportion = True,\n",
        "          node_ids = True)"
      ]
    },
    {
      "cell_type": "code",
      "execution_count": null,
      "metadata": {
        "id": "a-TCzarAtsOf",
        "outputId": "d6c5c5a1-d8cc-4817-8a7a-8eb956d2d7bc"
      },
      "outputs": [],
      "source": [
        "# Genero predicciones\n",
        "df['Predict_Arbol_Clase'] = reg.predict(df[variables_nutricionales_2])\n",
        "df['Predict_Arbol_Nodo'] = reg.apply(df[variables_nutricionales_2])"
      ]
    },
    {
      "cell_type": "code",
      "execution_count": null,
      "metadata": {
        "id": "MYo54gFZtsOf",
        "outputId": "8b3820a7-3e29-4806-9a61-07b474fd6be5"
      },
      "outputs": [],
      "source": [
        "df['Predict_Arbol_Clase'].value_counts()"
      ]
    },
    {
      "cell_type": "markdown",
      "metadata": {
        "id": "_q0q314JtsOf"
      },
      "source": [
        "# Intentando hacer una categorizacion de los alimentos"
      ]
    },
    {
      "cell_type": "code",
      "execution_count": null,
      "metadata": {
        "colab": {
          "base_uri": "https://localhost:8080/"
        },
        "id": "6fdOslHvtsOf",
        "outputId": "d4ef359f-c777-43cf-99ac-43af4f8aaf55"
      },
      "outputs": [],
      "source": [
        "import pandas as pd\n",
        "from sklearn.feature_extraction.text import TfidfVectorizer\n",
        "from sklearn.cluster import KMeans\n",
        "from sklearn.feature_extraction import text\n",
        "import nltk\n",
        "\n",
        "# Descargar la lista de palabras vacías en portugués de nltk\n",
        "nltk.download('stopwords')\n",
        "from nltk.corpus import stopwords\n",
        "\n",
        "# Combinar las listas de palabras vacías en inglés y portugués en una lista\n",
        "english_stop_words = list(text.ENGLISH_STOP_WORDS)\n",
        "portuguese_stop_words = stopwords.words('portuguese')\n",
        "combined_stop_words = english_stop_words + portuguese_stop_words\n",
        "\n",
        "# Vectorizar la columna 'Food' utilizando TF-IDF con palabras vacías en inglés y portugués\n",
        "vectorizer = TfidfVectorizer(stop_words=combined_stop_words)\n",
        "X = vectorizer.fit_transform(Test_df['food'])\n",
        "\n",
        "# Elegir un número de clusters para K-Means\n",
        "# Este número debería ser elegido basado en el conocimiento del dominio o métodos como el método del codo\n",
        "num_clusters = 5  # Ejemplo: 5 categorías de alimentos\n",
        "\n",
        "# Crear y entrenar el modelo K-Means\n",
        "kmeans = KMeans(n_clusters=num_clusters, random_state=42)\n",
        "kmeans.fit(X)\n",
        "\n",
        "# Asignar los clusters a cada elemento en 'Food'\n",
        "Test_df['Cluster'] = kmeans.labels_\n",
        "\n",
        "# Asignar una categoría provisional a cada cluster\n",
        "# Esto es solo un ejemplo, necesitarás revisar los clusters y asignar las categorías apropiadas\n",
        "for cluster_num in range(num_clusters):\n",
        "    Test_df.loc[Test_df['Cluster'] == cluster_num, 'Category'] = f'Category_{cluster_num}'\n",
        "\n",
        "# Seleccionar y mostrar solo las columnas 'food' y 'Category'\n",
        "print(Test_df[['food', 'Category']])\n",
        "# O si estás en Jupyter Notebook, puedes usar:\n",
        "# display(Test_df[['food', 'Category']])\n"
      ]
    },
    {
      "cell_type": "code",
      "execution_count": null,
      "metadata": {
        "colab": {
          "base_uri": "https://localhost:8080/"
        },
        "id": "PPwOYXbntsOf",
        "outputId": "2ff0e57f-d16f-4f0c-87de-8a6e5f2d0e4d"
      },
      "outputs": [],
      "source": [
        "import pandas as pd\n",
        "from sklearn.model_selection import train_test_split\n",
        "from sklearn.feature_extraction.text import TfidfVectorizer\n",
        "from sklearn.ensemble import RandomForestClassifier\n",
        "from sklearn.pipeline import Pipeline\n",
        "from sklearn.metrics import classification_report\n",
        "\n",
        "# Preprocesamiento de datos: Lematización (puedes usar la función lemmatize_text que ya definiste)\n",
        "\n",
        "# División de datos en conjuntos de entrenamiento y prueba\n",
        "X_train, X_test, y_train, y_test = train_test_split(\n",
        "    Test_df['food'], Test_df['Category'], test_size=0.2, random_state=42)\n",
        "\n",
        "# Crear un pipeline que incluye vectorización TF-IDF y un clasificador de bosques aleatorios\n",
        "pipeline = Pipeline([\n",
        "    ('tfidf', TfidfVectorizer(stop_words='english')),\n",
        "    ('clf', RandomForestClassifier(random_state=42))\n",
        "])\n",
        "\n",
        "# Entrenar el modelo\n",
        "pipeline.fit(X_train, y_train)\n",
        "\n",
        "# Evaluar el modelo\n",
        "y_pred = pipeline.predict(X_test)\n",
        "print(classification_report(y_test, y_pred))\n",
        "\n",
        "# Utilizar el modelo para hacer predicciones sobre nuevos datos\n",
        "new_foods = ['Apple Pie', 'Chicken Salad']\n",
        "predicted_categories = pipeline.predict(new_foods)\n",
        "print(list(zip(new_foods, predicted_categories)))\n"
      ]
    },
    {
      "cell_type": "code",
      "execution_count": null,
      "metadata": {
        "colab": {
          "base_uri": "https://localhost:8080/",
          "height": 1242
        },
        "id": "YdlP5066tsOf",
        "outputId": "289e8b3b-33e4-49f8-d34d-7d74bf7de477"
      },
      "outputs": [],
      "source": [
        "import pandas as pd\n",
        "import nltk\n",
        "from nltk.corpus import stopwords\n",
        "from nltk.stem import WordNetLemmatizer\n",
        "from nltk.tokenize import word_tokenize\n",
        "from sklearn.feature_extraction.text import TfidfVectorizer\n",
        "from sklearn.cluster import KMeans\n",
        "from sklearn.feature_extraction import text\n",
        "\n",
        "# Descargar recursos necesarios de nltk\n",
        "nltk.download('stopwords')\n",
        "nltk.download('wordnet')\n",
        "nltk.download('punkt')\n",
        "\n",
        "# Combinar las listas de palabras vacías en inglés y portugués en una lista\n",
        "english_stop_words = list(text.ENGLISH_STOP_WORDS)\n",
        "portuguese_stop_words = stopwords.words('portuguese')\n",
        "combined_stop_words = english_stop_words + portuguese_stop_words\n",
        "\n",
        "# Inicializar el lematizador\n",
        "lemmatizer = WordNetLemmatizer()\n",
        "\n",
        "# Definir la función de lematización\n",
        "def lemmatize_text(text):\n",
        "    # Comprobar si el texto es nulo o no es una cadena\n",
        "    if pd.isnull(text) or not isinstance(text, str):\n",
        "        return \"\"\n",
        "    tokens = word_tokenize(text.lower())\n",
        "    lemmatized = [lemmatizer.lemmatize(token) for token in tokens if token.isalpha()]\n",
        "    return ' '.join(lemmatized)\n",
        "\n",
        "# Crear un DataFrame de ejemplo\n",
        "data = {'food': ['apple pie', 'banana bread', 'carrot cake', 'donut', 'egg tart']}\n",
        "Test_df = pd.DataFrame(data)\n",
        "\n",
        "# Asegurarse de que los datos necesarios de NLTK estén descargados\n",
        "nltk.download('wordnet')\n",
        "nltk.download('punkt')\n",
        "\n",
        "# Aplicar la lematización a la columna 'food'\n",
        "try:\n",
        "    Test_df['food_processed'] = Test_df['food'].apply(lemmatize_text)\n",
        "except LookupError as e:\n",
        "    print(f\"Error: {e}\")\n",
        "    nltk.download('punkt_tab')\n",
        "    nltk.download('wordnet')\n",
        "    nltk.download('punkt')\n",
        "    Test_df['food_processed'] = Test_df['food'].apply(lemmatize_text)\n",
        "\n",
        "# Vectorizar la columna 'food_processed' utilizando TF-IDF con palabras vacías en inglés y portugués\n",
        "vectorizer = TfidfVectorizer(stop_words=combined_stop_words)\n",
        "X = vectorizer.fit_transform(Test_df['food_processed'])\n",
        "\n",
        "# Elegir un número de clusters para K-Means\n",
        "# Este número debería ser elegido basado en el conocimiento del dominio o métodos como el método del codo\n",
        "num_clusters = 5  # Ejemplo: 5 categorías de alimentos\n",
        "\n",
        "# Crear y entrenar el modelo K-Means\n",
        "kmeans = KMeans(n_clusters=num_clusters, random_state=42)\n",
        "kmeans.fit(X)\n",
        "\n",
        "# Asignar los clusters a cada elemento en 'food_processed'\n",
        "Test_df['Cluster'] = kmeans.labels_\n",
        "\n",
        "# Asignar una categoría provisional a cada cluster\n",
        "# Esto es solo un ejemplo, necesitarás revisar los clusters y asignar las categorías apropiadas\n",
        "for cluster_num in range(num_clusters):\n",
        "    Test_df.loc[Test_df['Cluster'] == cluster_num, 'Category'] = f'Category_{cluster_num}'\n",
        "\n",
        "# Seleccionar y mostrar solo las columnas 'food' y 'Category'\n",
        "print(Test_df[['food', 'Category', 'food_processed']])\n"
      ]
    },
    {
      "cell_type": "code",
      "execution_count": null,
      "metadata": {},
      "outputs": [],
      "source": [
        "from translatepy import Translator\n",
        "\n",
        "# Crear un DataFrame de ejemplo\n",
        "data = {'food': ['apple pie', 'banana bread', 'bolo de cenoura', 'donut', 'torta de ovo']}\n",
        "Test_df = pd.DataFrame(data)\n",
        "\n",
        "# Inicializar el traductor\n",
        "translator = Translator()\n",
        "\n",
        "# Definir la función de traducción\n",
        "def translate_to_spanish(text):\n",
        "    if pd.isnull(text) or not isinstance(text, str):\n",
        "        return \"\"\n",
        "    translation = translator.translate(text, \"Spanish\")\n",
        "    return translation.result\n",
        "\n",
        "# Aplicar la traducción a la columna 'food'\n",
        "Test_df['food_translated'] = Test_df['food'].apply(translate_to_spanish)\n",
        "\n",
        "# Mostrar el DataFrame con la columna traducida\n",
        "print(Test_df[['food', 'food_translated']])\n"
      ]
    },
    {
      "cell_type": "code",
      "execution_count": null,
      "metadata": {},
      "outputs": [],
      "source": [
        "import pandas as pd\n",
        "import nltk\n",
        "from nltk.corpus import stopwords\n",
        "from nltk.stem import WordNetLemmatizer\n",
        "from nltk.tokenize import word_tokenize\n",
        "from sklearn.feature_extraction.text import TfidfVectorizer\n",
        "from sklearn.cluster import KMeans\n",
        "from translatepy import Translator\n",
        "\n",
        "# Descargar recursos necesarios de nltk\n",
        "nltk.download('stopwords')\n",
        "nltk.download('wordnet')\n",
        "nltk.download('punkt')\n",
        "\n",
        "# Inicializar el lematizador\n",
        "lemmatizer = WordNetLemmatizer()\n",
        "\n",
        "# Definir la función de lematización\n",
        "def lemmatize_text(text):\n",
        "    # Comprobar si el texto es nulo o no es una cadena\n",
        "    if pd.isnull(text) or not isinstance(text, str):\n",
        "        return \"\"\n",
        "    tokens = word_tokenize(text.lower())\n",
        "    lemmatized = [lemmatizer.lemmatize(token) for token in tokens if token.isalpha()]\n",
        "    return ' '.join(lemmatized)\n",
        "\n",
        "# Supongamos que este es tu DataFrame original llamado Test_df\n",
        "Test_df = pd.DataFrame({\n",
        "    'food': [\n",
        "        'apple pie', 'banana bread', 'bolo de cenoura', 'donut', 'torta de ovo',\n",
        "        'carrot cake', 'egg tart', 'pão de queijo', 'brigadeiro', 'pastel de nata',\n",
        "        # Agrega más registros aquí...\n",
        "    ]\n",
        "})\n",
        "\n",
        "# Crear una copia del DataFrame original para procesamiento\n",
        "processed_df = Test_df.copy()\n",
        "\n",
        "# Inicializar el traductor\n",
        "translator = Translator()\n",
        "\n",
        "# Definir la función de traducción\n",
        "def translate_to_spanish(text):\n",
        "    if pd.isnull(text) or not isinstance(text, str):\n",
        "        return \"\"\n",
        "    translation = translator.translate(text, \"Spanish\")\n",
        "    return translation.result\n",
        "\n",
        "# Aplicar la traducción a la columna 'food'\n",
        "processed_df['food_translated'] = processed_df['food'].apply(translate_to_spanish)\n",
        "\n",
        "# Aplicar la lematización a la columna 'food_translated'\n",
        "processed_df['food_processed'] = processed_df['food_translated'].apply(lemmatize_text)\n",
        "\n",
        "# Vectorizar la columna 'food_processed' utilizando TF-IDF\n",
        "vectorizer = TfidfVectorizer(stop_words=stopwords.words('spanish'))\n",
        "X = vectorizer.fit_transform(processed_df['food_processed'])\n",
        "\n",
        "# Elegir un número de clusters para K-Means\n",
        "# Este número debería ser elegido basado en el conocimiento del dominio o métodos como el método del codo\n",
        "num_clusters = 5  # Ejemplo: 5 categorías de alimentos\n",
        "\n",
        "# Crear y entrenar el modelo K-Means\n",
        "kmeans = KMeans(n_clusters=num_clusters, random_state=42)\n",
        "kmeans.fit(X)\n",
        "\n",
        "# Asignar los clusters a cada elemento en 'food_processed'\n",
        "processed_df['Cluster'] = kmeans.labels_\n",
        "\n",
        "# Asignar una categoría provisional a cada cluster\n",
        "# Esto es solo un ejemplo, necesitarás revisar los clusters y asignar las categorías apropiadas\n",
        "for cluster_num in range(num_clusters):\n",
        "    processed_df.loc[processed_df['Cluster'] == cluster_num, 'Category'] = f'Category_{cluster_num}'\n",
        "\n",
        "# Seleccionar y mostrar solo las columnas 'food', 'food_translated', 'food_processed', y 'Category'\n",
        "print(processed_df[['food', 'food_translated', 'food_processed', 'Category']])\n",
        "\n",
        "# Mostrar 100 registros aleatorios del DataFrame procesado\n",
        "print(processed_df.sample(n=100))\n"
      ]
    },
    {
      "cell_type": "code",
      "execution_count": null,
      "metadata": {},
      "outputs": [],
      "source": [
        "print(Test_df.shape[0])\n"
      ]
    }
  ],
  "metadata": {
    "colab": {
      "provenance": []
    },
    "kaggle": {
      "accelerator": "none",
      "dataSources": [
        {
          "datasetId": 5306169,
          "sourceId": 8820139,
          "sourceType": "datasetVersion"
        }
      ],
      "dockerImageVersionId": 30746,
      "isGpuEnabled": false,
      "isInternetEnabled": false,
      "language": "python",
      "sourceType": "notebook"
    },
    "kernelspec": {
      "display_name": "Python 3",
      "language": "python",
      "name": "python3"
    },
    "language_info": {
      "codemirror_mode": {
        "name": "ipython",
        "version": 3
      },
      "file_extension": ".py",
      "mimetype": "text/x-python",
      "name": "python",
      "nbconvert_exporter": "python",
      "pygments_lexer": "ipython3",
      "version": "3.11.9"
    }
  },
  "nbformat": 4,
  "nbformat_minor": 0
}

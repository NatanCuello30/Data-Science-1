{
  "cells": [
    {
      "cell_type": "markdown",
      "metadata": {
        "id": "300BW70OVdXq"
      },
      "source": [
        "# Pequeño asistente virtual"
      ]
    },
    {
      "cell_type": "markdown",
      "metadata": {
        "id": "xBqd7rjJV80V"
      },
      "source": [
        "## Texto a audio"
      ]
    },
    {
      "cell_type": "code",
      "execution_count": 1,
      "metadata": {
        "colab": {
          "base_uri": "https://localhost:8080/"
        },
        "id": "JlNMRiaaUYnU",
        "outputId": "2a63ccf0-afbd-40a2-a3f1-d1a2afddd456"
      },
      "outputs": [
        {
          "name": "stdout",
          "output_type": "stream",
          "text": [
            "Collecting gTTS\n",
            "  Downloading gTTS-2.5.3-py3-none-any.whl.metadata (4.1 kB)\n",
            "Requirement already satisfied: requests<3,>=2.27 in c:\\users\\qy539ge\\appdata\\local\\packages\\pythonsoftwarefoundation.python.3.11_qbz5n2kfra8p0\\localcache\\local-packages\\python311\\site-packages (from gTTS) (2.32.3)\n",
            "Requirement already satisfied: click<8.2,>=7.1 in c:\\users\\qy539ge\\appdata\\local\\packages\\pythonsoftwarefoundation.python.3.11_qbz5n2kfra8p0\\localcache\\local-packages\\python311\\site-packages (from gTTS) (8.1.7)\n",
            "Requirement already satisfied: colorama in c:\\users\\qy539ge\\appdata\\local\\packages\\pythonsoftwarefoundation.python.3.11_qbz5n2kfra8p0\\localcache\\local-packages\\python311\\site-packages (from click<8.2,>=7.1->gTTS) (0.4.6)\n",
            "Requirement already satisfied: charset-normalizer<4,>=2 in c:\\users\\qy539ge\\appdata\\local\\packages\\pythonsoftwarefoundation.python.3.11_qbz5n2kfra8p0\\localcache\\local-packages\\python311\\site-packages (from requests<3,>=2.27->gTTS) (3.3.2)\n",
            "Requirement already satisfied: idna<4,>=2.5 in c:\\users\\qy539ge\\appdata\\local\\packages\\pythonsoftwarefoundation.python.3.11_qbz5n2kfra8p0\\localcache\\local-packages\\python311\\site-packages (from requests<3,>=2.27->gTTS) (3.8)\n",
            "Requirement already satisfied: urllib3<3,>=1.21.1 in c:\\users\\qy539ge\\appdata\\local\\packages\\pythonsoftwarefoundation.python.3.11_qbz5n2kfra8p0\\localcache\\local-packages\\python311\\site-packages (from requests<3,>=2.27->gTTS) (2.2.2)\n",
            "Requirement already satisfied: certifi>=2017.4.17 in c:\\users\\qy539ge\\appdata\\local\\packages\\pythonsoftwarefoundation.python.3.11_qbz5n2kfra8p0\\localcache\\local-packages\\python311\\site-packages (from requests<3,>=2.27->gTTS) (2024.7.4)\n",
            "Downloading gTTS-2.5.3-py3-none-any.whl (29 kB)\n",
            "Installing collected packages: gTTS\n",
            "Successfully installed gTTS-2.5.3\n"
          ]
        }
      ],
      "source": [
        "!pip install gTTS"
      ]
    },
    {
      "cell_type": "code",
      "execution_count": 2,
      "metadata": {
        "colab": {
          "base_uri": "https://localhost:8080/",
          "height": 75
        },
        "id": "UldziVGLTn0A",
        "outputId": "25e9f845-a1ce-4cff-e2fa-a4814de21204"
      },
      "outputs": [
        {
          "data": {
            "text/html": [
              "\n",
              "                <audio  controls=\"controls\" autoplay=\"autoplay\">\n",
              "                    <source src=\"data:audio/wav;base64,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\" type=\"audio/wav\" />\n",
              "                    Your browser does not support the audio element.\n",
              "                </audio>\n",
              "              "
            ],
            "text/plain": [
              "<IPython.lib.display.Audio object>"
            ]
          },
          "execution_count": 2,
          "metadata": {},
          "output_type": "execute_result"
        }
      ],
      "source": [
        "from gtts import gTTS\n",
        "from IPython.display import Audio\n",
        "tts = gTTS('hola David como estás',lang='es')\n",
        "tts.save('1.wav')\n",
        "sound_file = '1.wav'\n",
        "Audio(sound_file, autoplay=True)"
      ]
    },
    {
      "cell_type": "code",
      "execution_count": null,
      "metadata": {
        "colab": {
          "base_uri": "https://localhost:8080/",
          "height": 75
        },
        "id": "VeItryPbV1VC",
        "outputId": "f169491c-d903-4c62-ffad-bd0f242c9547"
      },
      "outputs": [
        {
          "data": {
            "text/html": [
              "\n",
              "                <audio  controls=\"controls\" autoplay=\"autoplay\">\n",
              "                    <source src=\"data:audio/x-wav;base64,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\" type=\"audio/x-wav\" />\n",
              "                    Your browser does not support the audio element.\n",
              "                </audio>\n",
              "              "
            ],
            "text/plain": [
              "<IPython.lib.display.Audio object>"
            ]
          },
          "execution_count": 3,
          "metadata": {},
          "output_type": "execute_result"
        }
      ],
      "source": [
        "from gtts import gTTS\n",
        "from IPython.display import Audio\n",
        "tts = gTTS('hello David how are you?',lang='en')\n",
        "tts.save('1.wav')\n",
        "sound_file = '1.wav'\n",
        "Audio(sound_file, autoplay=True)"
      ]
    },
    {
      "cell_type": "markdown",
      "metadata": {
        "id": "DyNjhrvzV_T9"
      },
      "source": [
        "# Clima"
      ]
    },
    {
      "cell_type": "code",
      "execution_count": 3,
      "metadata": {
        "colab": {
          "base_uri": "https://localhost:8080/"
        },
        "id": "oCqXcpCMWwvJ",
        "outputId": "0e1c8937-05a6-4f76-97ca-9d955ee0bb0c"
      },
      "outputs": [
        {
          "ename": "ModuleNotFoundError",
          "evalue": "No module named 'bs4'",
          "output_type": "error",
          "traceback": [
            "\u001b[1;31m---------------------------------------------------------------------------\u001b[0m",
            "\u001b[1;31mModuleNotFoundError\u001b[0m                       Traceback (most recent call last)",
            "Cell \u001b[1;32mIn[3], line 2\u001b[0m\n\u001b[0;32m      1\u001b[0m \u001b[38;5;28;01mimport\u001b[39;00m \u001b[38;5;21;01mrequests\u001b[39;00m\n\u001b[1;32m----> 2\u001b[0m \u001b[38;5;28;01mfrom\u001b[39;00m \u001b[38;5;21;01mbs4\u001b[39;00m \u001b[38;5;28;01mimport\u001b[39;00m BeautifulSoup\n\u001b[0;32m      4\u001b[0m \u001b[38;5;66;03m# Ciudad de Argentina\u001b[39;00m\n\u001b[0;32m      5\u001b[0m city \u001b[38;5;241m=\u001b[39m \u001b[38;5;124m\"\u001b[39m\u001b[38;5;124mBuenos Aires\u001b[39m\u001b[38;5;124m\"\u001b[39m\n",
            "\u001b[1;31mModuleNotFoundError\u001b[0m: No module named 'bs4'"
          ]
        }
      ],
      "source": [
        "import requests\n",
        "from bs4 import BeautifulSoup\n",
        "\n",
        "# Ciudad de Argentina\n",
        "city = \"Buenos Aires\"\n",
        "\n",
        "# creating url and requests instance\n",
        "url = \"https://www.google.com/search?q=\"+\"weather\"+city\n",
        "html = requests.get(url).content\n",
        "\n",
        "# Obtener la data\n",
        "soup = BeautifulSoup(html, 'html.parser')\n",
        "temp = soup.find('div', attrs={'class': 'BNeawe iBp4i AP7Wnd'}).text\n",
        "str = soup.find('div', attrs={'class': 'BNeawe tAd8D AP7Wnd'}).text\n",
        "\n",
        "# Formatear la data\n",
        "data = str.split('\\n')\n",
        "time = data[0]\n",
        "sky = data[1]\n",
        "\n",
        "# Obtener todos los tags tipo div\n",
        "listdiv = soup.findAll('div', attrs={'class': 'BNeawe s3v9rd AP7Wnd'})\n",
        "strd = listdiv[5].text\n",
        "\n",
        "# Obtener otros datos interesantes\n",
        "pos = strd.find('Wind')\n",
        "other_data = strd[pos:]\n",
        "\n",
        "# Mostrar la data\n",
        "print(\"Temperatura es\", temp)\n",
        "print(\"Tiempo: \", time)\n",
        "print(\"Descripcion del cielo: \", sky)\n",
        "print(other_data)"
      ]
    },
    {
      "cell_type": "markdown",
      "metadata": {
        "id": "fiUaMmRBXaLG"
      },
      "source": [
        "# Imagen a texto"
      ]
    },
    {
      "cell_type": "code",
      "execution_count": null,
      "metadata": {
        "colab": {
          "base_uri": "https://localhost:8080/"
        },
        "id": "ooA0y1XNXtro",
        "outputId": "fd775cbd-0cb6-439c-f837-b6716b6c2ee8"
      },
      "outputs": [
        {
          "name": "stdout",
          "output_type": "stream",
          "text": [
            "Reading package lists... Done\n",
            "Building dependency tree       \n",
            "Reading state information... Done\n",
            "tesseract-ocr is already the newest version (4.00~git2288-10f4998a-2).\n",
            "The following package was automatically installed and is no longer required:\n",
            "  libnvidia-common-460\n",
            "Use 'sudo apt autoremove' to remove it.\n",
            "0 upgraded, 0 newly installed, 0 to remove and 12 not upgraded.\n",
            "Looking in indexes: https://pypi.org/simple, https://us-python.pkg.dev/colab-wheels/public/simple/\n",
            "Requirement already satisfied: pytesseract in /usr/local/lib/python3.7/dist-packages (0.3.10)\n",
            "Requirement already satisfied: Pillow>=8.0.0 in /usr/local/lib/python3.7/dist-packages (from pytesseract) (9.2.0)\n",
            "Requirement already satisfied: packaging>=21.3 in /usr/local/lib/python3.7/dist-packages (from pytesseract) (21.3)\n",
            "Requirement already satisfied: pyparsing!=3.0.5,>=2.0.2 in /usr/local/lib/python3.7/dist-packages (from packaging>=21.3->pytesseract) (3.0.9)\n"
          ]
        }
      ],
      "source": [
        "!sudo apt install tesseract-ocr\n",
        "!pip install pytesseract"
      ]
    },
    {
      "cell_type": "code",
      "execution_count": null,
      "metadata": {
        "colab": {
          "base_uri": "https://localhost:8080/"
        },
        "id": "mFrDbMeEYFgc",
        "outputId": "cbd0ce69-f529-4461-cc02-cd8c6f437921"
      },
      "outputs": [
        {
          "name": "stdout",
          "output_type": "stream",
          "text": [
            "Drive already mounted at /content/gdrive; to attempt to forcibly remount, call drive.mount(\"/content/gdrive\", force_remount=True).\n",
            "/content/gdrive/My Drive\n"
          ]
        }
      ],
      "source": [
        "from google.colab import drive\n",
        "import os\n",
        "drive.mount('/content/gdrive')\n",
        "# Establecer ruta de acceso en dr\n",
        "import os\n",
        "print(os.getcwd())\n",
        "os.chdir(\"/content/gdrive/My Drive\")"
      ]
    },
    {
      "cell_type": "code",
      "execution_count": null,
      "metadata": {
        "colab": {
          "base_uri": "https://localhost:8080/",
          "height": 313
        },
        "id": "vxlXVBGhYbCK",
        "outputId": "268b5c8d-1908-4b5f-ea95-b6b1415d1d43"
      },
      "outputs": [
        {
          "ename": "UnidentifiedImageError",
          "evalue": "ignored",
          "output_type": "error",
          "traceback": [
            "\u001b[0;31m---------------------------------------------------------------------------\u001b[0m",
            "\u001b[0;31mUnidentifiedImageError\u001b[0m                    Traceback (most recent call last)",
            "\u001b[0;32m<ipython-input-20-c318749341bb>\u001b[0m in \u001b[0;36m<module>\u001b[0;34m\u001b[0m\n\u001b[1;32m      1\u001b[0m \u001b[0;32mfrom\u001b[0m \u001b[0mPIL\u001b[0m \u001b[0;32mimport\u001b[0m \u001b[0mImage\u001b[0m\u001b[0;34m\u001b[0m\u001b[0;34m\u001b[0m\u001b[0m\n\u001b[0;32m----> 2\u001b[0;31m \u001b[0mImage\u001b[0m\u001b[0;34m.\u001b[0m\u001b[0mopen\u001b[0m\u001b[0;34m(\u001b[0m\u001b[0;34m'/content/imagen_prueba.jpg'\u001b[0m\u001b[0;34m)\u001b[0m\u001b[0;34m\u001b[0m\u001b[0;34m\u001b[0m\u001b[0m\n\u001b[0m",
            "\u001b[0;32m/usr/local/lib/python3.7/dist-packages/PIL/Image.py\u001b[0m in \u001b[0;36mopen\u001b[0;34m(fp, mode)\u001b[0m\n\u001b[1;32m   2894\u001b[0m             \u001b[0;32mif\u001b[0m \u001b[0mmode\u001b[0m \u001b[0;34m==\u001b[0m \u001b[0;34m\"P\"\u001b[0m\u001b[0;34m:\u001b[0m\u001b[0;34m\u001b[0m\u001b[0;34m\u001b[0m\u001b[0m\n\u001b[1;32m   2895\u001b[0m                 \u001b[0;32mfrom\u001b[0m \u001b[0;34m.\u001b[0m \u001b[0;32mimport\u001b[0m \u001b[0mImagePalette\u001b[0m\u001b[0;34m\u001b[0m\u001b[0;34m\u001b[0m\u001b[0m\n\u001b[0;32m-> 2896\u001b[0;31m \u001b[0;34m\u001b[0m\u001b[0m\n\u001b[0m\u001b[1;32m   2897\u001b[0m                 \u001b[0mim\u001b[0m\u001b[0;34m.\u001b[0m\u001b[0mpalette\u001b[0m \u001b[0;34m=\u001b[0m \u001b[0mImagePalette\u001b[0m\u001b[0;34m.\u001b[0m\u001b[0mImagePalette\u001b[0m\u001b[0;34m(\u001b[0m\u001b[0;34m\"RGB\"\u001b[0m\u001b[0;34m,\u001b[0m \u001b[0mim\u001b[0m\u001b[0;34m.\u001b[0m\u001b[0mim\u001b[0m\u001b[0;34m.\u001b[0m\u001b[0mgetpalette\u001b[0m\u001b[0;34m(\u001b[0m\u001b[0;34m\"RGB\"\u001b[0m\u001b[0;34m)\u001b[0m\u001b[0;34m)\u001b[0m\u001b[0;34m\u001b[0m\u001b[0;34m\u001b[0m\u001b[0m\n\u001b[1;32m   2898\u001b[0m             \u001b[0mim\u001b[0m\u001b[0;34m.\u001b[0m\u001b[0mreadonly\u001b[0m \u001b[0;34m=\u001b[0m \u001b[0;36m1\u001b[0m\u001b[0;34m\u001b[0m\u001b[0;34m\u001b[0m\u001b[0m\n",
            "\u001b[0;31mUnidentifiedImageError\u001b[0m: cannot identify image file '/content/imagen_prueba.jpg'"
          ]
        }
      ],
      "source": [
        "from PIL import Image\n",
        "Image.open('/content/imagen_prueba.jpg')"
      ]
    },
    {
      "cell_type": "code",
      "execution_count": null,
      "metadata": {
        "colab": {
          "base_uri": "https://localhost:8080/",
          "height": 349
        },
        "id": "07SnuErWXvS8",
        "outputId": "8a7b7771-9533-4a27-ebd8-4e6978a2090b"
      },
      "outputs": [
        {
          "ename": "FileNotFoundError",
          "evalue": "ignored",
          "output_type": "error",
          "traceback": [
            "\u001b[0;31m---------------------------------------------------------------------------\u001b[0m",
            "\u001b[0;31mFileNotFoundError\u001b[0m                         Traceback (most recent call last)",
            "\u001b[0;32m<ipython-input-8-64b886bb6740>\u001b[0m in \u001b[0;36m<module>\u001b[0;34m\u001b[0m\n\u001b[1;32m      1\u001b[0m \u001b[0;32mimport\u001b[0m \u001b[0mpytesseract\u001b[0m\u001b[0;34m\u001b[0m\u001b[0;34m\u001b[0m\u001b[0m\n\u001b[1;32m      2\u001b[0m \u001b[0;32mfrom\u001b[0m \u001b[0mPIL\u001b[0m \u001b[0;32mimport\u001b[0m \u001b[0mImage\u001b[0m\u001b[0;34m\u001b[0m\u001b[0;34m\u001b[0m\u001b[0m\n\u001b[0;32m----> 3\u001b[0;31m \u001b[0mtext\u001b[0m \u001b[0;34m=\u001b[0m \u001b[0mpytesseract\u001b[0m\u001b[0;34m.\u001b[0m\u001b[0mimage_to_string\u001b[0m\u001b[0;34m(\u001b[0m\u001b[0mImage\u001b[0m\u001b[0;34m.\u001b[0m\u001b[0mopen\u001b[0m\u001b[0;34m(\u001b[0m\u001b[0;34m'imagen_prueba.jpg'\u001b[0m\u001b[0;34m)\u001b[0m\u001b[0;34m)\u001b[0m\u001b[0;34m\u001b[0m\u001b[0;34m\u001b[0m\u001b[0m\n\u001b[0m\u001b[1;32m      4\u001b[0m \u001b[0mprint\u001b[0m\u001b[0;34m(\u001b[0m\u001b[0mtext\u001b[0m\u001b[0;34m)\u001b[0m\u001b[0;34m\u001b[0m\u001b[0;34m\u001b[0m\u001b[0m\n",
            "\u001b[0;32m/usr/local/lib/python3.7/dist-packages/PIL/Image.py\u001b[0m in \u001b[0;36mopen\u001b[0;34m(fp, mode)\u001b[0m\n\u001b[1;32m   2841\u001b[0m \u001b[0;34m\u001b[0m\u001b[0m\n\u001b[1;32m   2842\u001b[0m     \u001b[0mim\u001b[0m \u001b[0;34m=\u001b[0m \u001b[0mnew\u001b[0m\u001b[0;34m(\u001b[0m\u001b[0mmode\u001b[0m\u001b[0;34m,\u001b[0m \u001b[0msize\u001b[0m\u001b[0;34m)\u001b[0m\u001b[0;34m\u001b[0m\u001b[0;34m\u001b[0m\u001b[0m\n\u001b[0;32m-> 2843\u001b[0;31m     \u001b[0mim\u001b[0m\u001b[0;34m.\u001b[0m\u001b[0mfrombytes\u001b[0m\u001b[0;34m(\u001b[0m\u001b[0mdata\u001b[0m\u001b[0;34m,\u001b[0m \u001b[0mdecoder_name\u001b[0m\u001b[0;34m,\u001b[0m \u001b[0margs\u001b[0m\u001b[0;34m)\u001b[0m\u001b[0;34m\u001b[0m\u001b[0;34m\u001b[0m\u001b[0m\n\u001b[0m\u001b[1;32m   2844\u001b[0m     \u001b[0;32mreturn\u001b[0m \u001b[0mim\u001b[0m\u001b[0;34m\u001b[0m\u001b[0;34m\u001b[0m\u001b[0m\n\u001b[1;32m   2845\u001b[0m \u001b[0;34m\u001b[0m\u001b[0m\n",
            "\u001b[0;31mFileNotFoundError\u001b[0m: [Errno 2] No such file or directory: 'imagen_prueba.jpg'"
          ]
        }
      ],
      "source": [
        "import pytesseract\n",
        "from PIL import Image\n",
        "text = pytesseract.image_to_string(Image.open('imagen_prueba.jpg'))\n",
        "print(text)"
      ]
    },
    {
      "cell_type": "markdown",
      "metadata": {
        "id": "V662IZTnayiu"
      },
      "source": [
        "# Para poder leer en español debemos instalar primero el lenguaje"
      ]
    },
    {
      "cell_type": "code",
      "execution_count": null,
      "metadata": {
        "colab": {
          "base_uri": "https://localhost:8080/"
        },
        "id": "1-WrD1mZatat",
        "outputId": "10e7d1b1-5ae4-4123-fe2a-47f2cf02854b"
      },
      "outputs": [
        {
          "name": "stdout",
          "output_type": "stream",
          "text": [
            "Reading package lists... Done\n",
            "Building dependency tree       \n",
            "Reading state information... Done\n",
            "The following package was automatically installed and is no longer required:\n",
            "  libnvidia-common-460\n",
            "Use 'sudo apt autoremove' to remove it.\n",
            "The following NEW packages will be installed:\n",
            "  tesseract-ocr-spa\n",
            "0 upgraded, 1 newly installed, 0 to remove and 12 not upgraded.\n",
            "Need to get 951 kB of archives.\n",
            "After this operation, 2,309 kB of additional disk space will be used.\n",
            "Get:1 http://archive.ubuntu.com/ubuntu bionic/universe amd64 tesseract-ocr-spa all 4.00~git24-0e00fe6-1.2 [951 kB]\n",
            "Fetched 951 kB in 2s (484 kB/s)\n",
            "debconf: unable to initialize frontend: Dialog\n",
            "debconf: (No usable dialog-like program is installed, so the dialog based frontend cannot be used. at /usr/share/perl5/Debconf/FrontEnd/Dialog.pm line 76, <> line 1.)\n",
            "debconf: falling back to frontend: Readline\n",
            "debconf: unable to initialize frontend: Readline\n",
            "debconf: (This frontend requires a controlling tty.)\n",
            "debconf: falling back to frontend: Teletype\n",
            "dpkg-preconfigure: unable to re-open stdin: \n",
            "Selecting previously unselected package tesseract-ocr-spa.\n",
            "(Reading database ... 123981 files and directories currently installed.)\n",
            "Preparing to unpack .../tesseract-ocr-spa_4.00~git24-0e00fe6-1.2_all.deb ...\n",
            "Unpacking tesseract-ocr-spa (4.00~git24-0e00fe6-1.2) ...\n",
            "Setting up tesseract-ocr-spa (4.00~git24-0e00fe6-1.2) ...\n"
          ]
        }
      ],
      "source": [
        "!sudo apt-get install tesseract-ocr-spa"
      ]
    },
    {
      "cell_type": "code",
      "execution_count": null,
      "metadata": {
        "colab": {
          "base_uri": "https://localhost:8080/",
          "height": 331
        },
        "id": "rdddJn80ZdDy",
        "outputId": "e5469776-116a-4544-e9fd-1e4593974b30"
      },
      "outputs": [
        {
          "ename": "UnidentifiedImageError",
          "evalue": "ignored",
          "output_type": "error",
          "traceback": [
            "\u001b[0;31m---------------------------------------------------------------------------\u001b[0m",
            "\u001b[0;31mUnidentifiedImageError\u001b[0m                    Traceback (most recent call last)",
            "\u001b[0;32m<ipython-input-19-f2bc99348924>\u001b[0m in \u001b[0;36m<module>\u001b[0;34m\u001b[0m\n\u001b[0;32m----> 1\u001b[0;31m text1 = pytesseract.image_to_string(Image.open('/content/imagen_prueba1.jpg'),\n\u001b[0m\u001b[1;32m      2\u001b[0m                                     lang=\"spa\")\n\u001b[1;32m      3\u001b[0m \u001b[0mprint\u001b[0m\u001b[0;34m(\u001b[0m\u001b[0mtext1\u001b[0m\u001b[0;34m)\u001b[0m\u001b[0;34m\u001b[0m\u001b[0;34m\u001b[0m\u001b[0m\n",
            "\u001b[0;32m/usr/local/lib/python3.7/dist-packages/PIL/Image.py\u001b[0m in \u001b[0;36mopen\u001b[0;34m(fp, mode)\u001b[0m\n\u001b[1;32m   2894\u001b[0m             \u001b[0;32mif\u001b[0m \u001b[0mmode\u001b[0m \u001b[0;34m==\u001b[0m \u001b[0;34m\"P\"\u001b[0m\u001b[0;34m:\u001b[0m\u001b[0;34m\u001b[0m\u001b[0;34m\u001b[0m\u001b[0m\n\u001b[1;32m   2895\u001b[0m                 \u001b[0;32mfrom\u001b[0m \u001b[0;34m.\u001b[0m \u001b[0;32mimport\u001b[0m \u001b[0mImagePalette\u001b[0m\u001b[0;34m\u001b[0m\u001b[0;34m\u001b[0m\u001b[0m\n\u001b[0;32m-> 2896\u001b[0;31m \u001b[0;34m\u001b[0m\u001b[0m\n\u001b[0m\u001b[1;32m   2897\u001b[0m                 \u001b[0mim\u001b[0m\u001b[0;34m.\u001b[0m\u001b[0mpalette\u001b[0m \u001b[0;34m=\u001b[0m \u001b[0mImagePalette\u001b[0m\u001b[0;34m.\u001b[0m\u001b[0mImagePalette\u001b[0m\u001b[0;34m(\u001b[0m\u001b[0;34m\"RGB\"\u001b[0m\u001b[0;34m,\u001b[0m \u001b[0mim\u001b[0m\u001b[0;34m.\u001b[0m\u001b[0mim\u001b[0m\u001b[0;34m.\u001b[0m\u001b[0mgetpalette\u001b[0m\u001b[0;34m(\u001b[0m\u001b[0;34m\"RGB\"\u001b[0m\u001b[0;34m)\u001b[0m\u001b[0;34m)\u001b[0m\u001b[0;34m\u001b[0m\u001b[0;34m\u001b[0m\u001b[0m\n\u001b[1;32m   2898\u001b[0m             \u001b[0mim\u001b[0m\u001b[0;34m.\u001b[0m\u001b[0mreadonly\u001b[0m \u001b[0;34m=\u001b[0m \u001b[0;36m1\u001b[0m\u001b[0;34m\u001b[0m\u001b[0;34m\u001b[0m\u001b[0m\n",
            "\u001b[0;31mUnidentifiedImageError\u001b[0m: cannot identify image file '/content/imagen_prueba1.jpg'"
          ]
        }
      ],
      "source": [
        "text1 = pytesseract.image_to_string(Image.open('/content/imagen_prueba1.jpg'),\n",
        "                                    lang=\"spa\")\n",
        "print(text1)"
      ]
    }
  ],
  "metadata": {
    "accelerator": "GPU",
    "colab": {
      "provenance": []
    },
    "kernelspec": {
      "display_name": "Python 3",
      "name": "python3"
    },
    "language_info": {
      "codemirror_mode": {
        "name": "ipython",
        "version": 3
      },
      "file_extension": ".py",
      "mimetype": "text/x-python",
      "name": "python",
      "nbconvert_exporter": "python",
      "pygments_lexer": "ipython3",
      "version": "3.11.9"
    }
  },
  "nbformat": 4,
  "nbformat_minor": 0
}

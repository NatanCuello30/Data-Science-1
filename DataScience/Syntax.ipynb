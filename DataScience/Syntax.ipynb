{
 "cells": [
  {
   "cell_type": "markdown",
   "metadata": {},
   "source": [
    "# LISTS"
   ]
  },
  {
   "cell_type": "code",
   "execution_count": 6,
   "metadata": {},
   "outputs": [
    {
     "name": "stdout",
     "output_type": "stream",
     "text": [
      "[1, 2, 3, 'cuatro', 5.05, 'hola']\n"
     ]
    }
   ],
   "source": [
    "# Listas: NAME = ['A','B','C',1,2,3] los valores de la lista se pueden editar. \n",
    "\n",
    "mi_list = [1,2,3,'cuatro',5.05,'hola']\n",
    "print(mi_list)"
   ]
  },
  {
   "cell_type": "markdown",
   "metadata": {},
   "source": [
    "# TUPLE"
   ]
  },
  {
   "cell_type": "code",
   "execution_count": 5,
   "metadata": {},
   "outputs": [
    {
     "name": "stdout",
     "output_type": "stream",
     "text": [
      "(1, 'dos', 3, 'cuatrooooo')\n"
     ]
    }
   ],
   "source": [
    "# Tuple: NAME = ('A','B','C',1,2,3) Los valores de la tupla no se pueden editar. \n",
    "\n",
    "mi_tuple = (1,'dos',3,'cuatrooooo')\n",
    "print(mi_tuple)"
   ]
  }
 ],
 "metadata": {
  "kernelspec": {
   "display_name": "Python 3",
   "language": "python",
   "name": "python3"
  },
  "language_info": {
   "codemirror_mode": {
    "name": "ipython",
    "version": 3
   },
   "file_extension": ".py",
   "mimetype": "text/x-python",
   "name": "python",
   "nbconvert_exporter": "python",
   "pygments_lexer": "ipython3",
   "version": "3.11.9"
  }
 },
 "nbformat": 4,
 "nbformat_minor": 2
}

{
 "cells": [
  {
   "cell_type": "code",
   "execution_count": 3,
   "metadata": {},
   "outputs": [
    {
     "data": {
      "text/plain": [
       "int"
      ]
     },
     "execution_count": 3,
     "metadata": {},
     "output_type": "execute_result"
    }
   ],
   "source": [
    "X=1\n",
    "type (X)"
   ]
  },
  {
   "cell_type": "code",
   "execution_count": 6,
   "metadata": {},
   "outputs": [
    {
     "name": "stdout",
     "output_type": "stream",
     "text": [
      "Hola Mundo\n",
      "Hola Mundo\n"
     ]
    }
   ],
   "source": [
    "print(X)\n",
    "X=\"Hola Mundo\"\n",
    "print(X)"
   ]
  },
  {
   "cell_type": "code",
   "execution_count": 8,
   "metadata": {},
   "outputs": [
    {
     "name": "stdout",
     "output_type": "stream",
     "text": [
      "[1, 2, 3] [1, 2, 3]\n"
     ]
    }
   ],
   "source": [
    "X=[1,2,3]\n",
    "Y=X\n",
    "print(Y,X)"
   ]
  },
  {
   "cell_type": "code",
   "execution_count": 9,
   "metadata": {},
   "outputs": [
    {
     "name": "stdout",
     "output_type": "stream",
     "text": [
      "[1, 2, 3, 4]\n"
     ]
    }
   ],
   "source": [
    "X.append(4)\n",
    "print(Y)"
   ]
  },
  {
   "cell_type": "code",
   "execution_count": 11,
   "metadata": {},
   "outputs": [
    {
     "name": "stdout",
     "output_type": "stream",
     "text": [
      "5 [1, 2, 3, 4]\n"
     ]
    }
   ],
   "source": [
    "X=5\n",
    "print(X,Y)"
   ]
  },
  {
   "cell_type": "code",
   "execution_count": 1,
   "metadata": {},
   "outputs": [],
   "source": [
    "#Estoy probando datos simples:\n",
    "dato_num= 8\n",
    "dato_float= 10.22\n",
    "dato_boolean= True\n",
    "dato_boolean_2= False\n",
    "dato_string= \"Soy Nate\"\n",
    "# Esto es un comentatio\n",
    "\n"
   ]
  },
  {
   "cell_type": "code",
   "execution_count": 2,
   "metadata": {},
   "outputs": [
    {
     "name": "stdout",
     "output_type": "stream",
     "text": [
      "Los Datos Son\n",
      "True False\n",
      "\n",
      "Los Tipos de Datos son:\n",
      "<class 'bool'> <class 'bool'>\n"
     ]
    }
   ],
   "source": [
    "print('Los Datos Son')\n",
    "print(dato_boolean,dato_boolean_2)\n",
    "print('')\n",
    "print('Los Tipos de Datos son:')\n",
    "print(type(dato_boolean),type(dato_boolean_2))"
   ]
  },
  {
   "cell_type": "code",
   "execution_count": 3,
   "metadata": {},
   "outputs": [
    {
     "name": "stdout",
     "output_type": "stream",
     "text": [
      "8\n",
      "<class 'int'>\n"
     ]
    }
   ],
   "source": [
    "#Tipos de datos\n",
    "print(dato_num)\n",
    "print(type(dato_num))"
   ]
  },
  {
   "cell_type": "code",
   "execution_count": 4,
   "metadata": {},
   "outputs": [],
   "source": [
    "#Vamos a exporar datos estrcturados\n",
    "\n",
    "#Diccionarios -Entre llaves y formato clave valor Python reconoce un diccionario\n",
    "#Cada elemento tiene un nombre.\n",
    "persona = {'nombre' : 'Nate' , 'Edad' :34 , 'Profesion' : 'PM'}"
   ]
  },
  {
   "cell_type": "code",
   "execution_count": 5,
   "metadata": {},
   "outputs": [
    {
     "name": "stdout",
     "output_type": "stream",
     "text": [
      "{'nombre': 'Nate', 'Edad': 34, 'Profesion': 'PM'}\n",
      " \n",
      "Nate\n"
     ]
    }
   ],
   "source": [
    "#Trae todo el diccionario\n",
    "print (persona)\n",
    "print(\" \")\n",
    "#Trae solo lo que pido\n",
    "print(persona['nombre'])"
   ]
  },
  {
   "cell_type": "code",
   "execution_count": 24,
   "metadata": {},
   "outputs": [],
   "source": [
    "#Modificar un elemento de la lista:\n",
    "persona['nombre'] = 'Matias'"
   ]
  },
  {
   "cell_type": "code",
   "execution_count": 25,
   "metadata": {},
   "outputs": [
    {
     "name": "stdout",
     "output_type": "stream",
     "text": [
      "{'nombre': 'Matias', 'Edad': 34, 'Profesion': 'PM'}\n"
     ]
    }
   ],
   "source": [
    "print(persona)"
   ]
  },
  {
   "cell_type": "code",
   "execution_count": 6,
   "metadata": {},
   "outputs": [
    {
     "name": "stdout",
     "output_type": "stream",
     "text": [
      "<class 'dict'>\n"
     ]
    }
   ],
   "source": [
    "print(type(persona))"
   ]
  },
  {
   "cell_type": "code",
   "execution_count": 8,
   "metadata": {},
   "outputs": [],
   "source": [
    "#Exploremos lista\n",
    "#Lista se abre corchetes se separa con comas y pueden haber diferentes tipos de elemtos\n",
    "#Cada elemento tiene un indice , o lugar en la lista, se arranca desde 0.\n",
    "mi_lista = [1,2,3,'cuatro',5.05,'hola']"
   ]
  },
  {
   "cell_type": "code",
   "execution_count": 9,
   "metadata": {},
   "outputs": [
    {
     "name": "stdout",
     "output_type": "stream",
     "text": [
      "[1, 2, 3, 'cuatro', 5.05, 'hola']\n"
     ]
    }
   ],
   "source": [
    "print(mi_lista)"
   ]
  },
  {
   "cell_type": "code",
   "execution_count": 14,
   "metadata": {},
   "outputs": [
    {
     "name": "stdout",
     "output_type": "stream",
     "text": [
      "1\n",
      "hola\n"
     ]
    }
   ],
   "source": [
    "#Como accedo a elementos de la lista: usando el indice\n",
    "#El primer indice es 0 y el ultimo es -1\n",
    "print(mi_lista[0])\n",
    "print(mi_lista[-1])"
   ]
  },
  {
   "cell_type": "code",
   "execution_count": 15,
   "metadata": {},
   "outputs": [
    {
     "name": "stdout",
     "output_type": "stream",
     "text": [
      "6\n"
     ]
    }
   ],
   "source": [
    "#Para saber cantidad de elementos de una lista:\n",
    "print(len(mi_lista))"
   ]
  },
  {
   "cell_type": "code",
   "execution_count": 16,
   "metadata": {},
   "outputs": [],
   "source": [
    "#Modificar un elemento de la lista:\n",
    "#Quiero cambiar el \"4\" por otra cosa, el objeto ubicado en el indice 3 lo quiero cambiar por otra cosa:\n",
    "mi_lista[3] = \"Nuevo Valor\""
   ]
  },
  {
   "cell_type": "code",
   "execution_count": 17,
   "metadata": {},
   "outputs": [
    {
     "name": "stdout",
     "output_type": "stream",
     "text": [
      "[1, 2, 3, 'Nuevo Valor', 5.05, 'hola']\n"
     ]
    }
   ],
   "source": [
    "print(mi_lista)"
   ]
  },
  {
   "cell_type": "code",
   "execution_count": 18,
   "metadata": {},
   "outputs": [
    {
     "name": "stdout",
     "output_type": "stream",
     "text": [
      "3\n"
     ]
    }
   ],
   "source": [
    "print(mi_lista[-4])"
   ]
  },
  {
   "cell_type": "code",
   "execution_count": 20,
   "metadata": {},
   "outputs": [
    {
     "name": "stdout",
     "output_type": "stream",
     "text": [
      "<class 'list'>\n"
     ]
    }
   ],
   "source": [
    "print(type(mi_lista))"
   ]
  },
  {
   "cell_type": "code",
   "execution_count": 19,
   "metadata": {},
   "outputs": [
    {
     "name": "stdout",
     "output_type": "stream",
     "text": [
      "(1, 'dos', 3, 'cuatro')\n"
     ]
    }
   ],
   "source": [
    "#Veamos una tupla\n",
    "#Tupla entre parentesis:\n",
    "mi_tupla = (1,'dos',3,'cuatro')\n",
    "print(mi_tupla)"
   ]
  },
  {
   "cell_type": "code",
   "execution_count": 21,
   "metadata": {},
   "outputs": [
    {
     "name": "stdout",
     "output_type": "stream",
     "text": [
      "<class 'tuple'>\n"
     ]
    }
   ],
   "source": [
    "print(type(mi_tupla))"
   ]
  },
  {
   "cell_type": "code",
   "execution_count": 22,
   "metadata": {},
   "outputs": [
    {
     "name": "stdout",
     "output_type": "stream",
     "text": [
      "1\n"
     ]
    }
   ],
   "source": [
    "print(mi_tupla[0])"
   ]
  },
  {
   "cell_type": "code",
   "execution_count": 23,
   "metadata": {},
   "outputs": [],
   "source": [
    "#Modificar un elemento de la Tupla:\n",
    "#No se pueden cambiar elementos de una tupla. \"Tuple does not alow item assignment\""
   ]
  },
  {
   "cell_type": "markdown",
   "metadata": {},
   "source": [
    "# Estructuras de Control\n",
    "\n",
    "En este apartado vamos a ver cómo es la sintáxis para ejecutar distintas estructuras de control. \n",
    "*FOR\n",
    "*WHILE\n",
    "*IF"
   ]
  },
  {
   "cell_type": "code",
   "execution_count": 28,
   "metadata": {},
   "outputs": [
    {
     "data": {
      "text/plain": [
       "range"
      ]
     },
     "execution_count": 28,
     "metadata": {},
     "output_type": "execute_result"
    }
   ],
   "source": [
    "#FOR\n",
    "rango = range(1,10)\n",
    "type(rango)\n"
   ]
  },
  {
   "cell_type": "code",
   "execution_count": 33,
   "metadata": {},
   "outputs": [
    {
     "name": "stdout",
     "output_type": "stream",
     "text": [
      "primer elemento:  1\n",
      "Ultimo elemento:  9\n"
     ]
    }
   ],
   "source": [
    "#Exploramos qué elementos tienen\n",
    "print('primer elemento: ', rango[0])\n",
    "print('Ultimo elemento: ' , rango[-1])"
   ]
  },
  {
   "cell_type": "code",
   "execution_count": 34,
   "metadata": {},
   "outputs": [
    {
     "name": "stdout",
     "output_type": "stream",
     "text": [
      "1\n",
      "2\n",
      "3\n",
      "4\n",
      "5\n",
      "6\n",
      "7\n",
      "8\n",
      "9\n"
     ]
    }
   ],
   "source": [
    "#Programemos el bucle\n",
    "for i  in rango : \n",
    "    print(i)"
   ]
  },
  {
   "cell_type": "code",
   "execution_count": 35,
   "metadata": {},
   "outputs": [
    {
     "name": "stdout",
     "output_type": "stream",
     "text": [
      "2\n",
      "3\n",
      "4\n",
      "5\n",
      "6\n",
      "7\n",
      "8\n",
      "9\n",
      "10\n"
     ]
    }
   ],
   "source": [
    "for i  in rango : \n",
    "    a = i + 1\n",
    "    print(a)"
   ]
  },
  {
   "cell_type": "code",
   "execution_count": 37,
   "metadata": {},
   "outputs": [
    {
     "name": "stdout",
     "output_type": "stream",
     "text": [
      "2 2\n",
      "3 6\n",
      "4 12\n",
      "5 20\n",
      "6 30\n",
      "7 42\n",
      "8 56\n",
      "9 72\n",
      "10 90\n"
     ]
    }
   ],
   "source": [
    "for i  in rango : \n",
    "    a = i + 1\n",
    "    b = a * i\n",
    "    print(a, b)"
   ]
  },
  {
   "cell_type": "code",
   "execution_count": 38,
   "metadata": {},
   "outputs": [
    {
     "name": "stdout",
     "output_type": "stream",
     "text": [
      "1\n",
      "2\n",
      "3\n",
      "Nuevo Valor\n",
      "5.05\n",
      "hola\n"
     ]
    }
   ],
   "source": [
    "# Recorrer una lista\n",
    "for i in mi_lista : \n",
    "    print(i)"
   ]
  },
  {
   "cell_type": "code",
   "execution_count": 46,
   "metadata": {},
   "outputs": [
    {
     "name": "stdout",
     "output_type": "stream",
     "text": [
      "1\n",
      "2\n",
      "3\n",
      "4\n",
      "5\n"
     ]
    }
   ],
   "source": [
    "# WHILE \n",
    "s = 1\n",
    "while s <= 5:\n",
    "    print(s)\n",
    "    s = s + 1"
   ]
  },
  {
   "cell_type": "code",
   "execution_count": 47,
   "metadata": {},
   "outputs": [
    {
     "name": "stdout",
     "output_type": "stream",
     "text": [
      "2\n",
      "3\n",
      "4\n",
      "5\n",
      "6\n"
     ]
    }
   ],
   "source": [
    "s = 1\n",
    "while s <= 5:\n",
    "    s = s + 1\n",
    "    print(s)\n",
    "    "
   ]
  },
  {
   "cell_type": "code",
   "execution_count": 48,
   "metadata": {},
   "outputs": [
    {
     "name": "stdout",
     "output_type": "stream",
     "text": [
      "es mayor o igual a 9\n"
     ]
    }
   ],
   "source": [
    "# IF\n",
    "prueba = 10\n",
    "if prueba < 5:\n",
    "    print('es menor a cinco')\n",
    "elif prueba < 9:\n",
    "    print('es menor a 9')\n",
    "else:\n",
    "    print('es mayor o igual a 9')"
   ]
  },
  {
   "cell_type": "code",
   "execution_count": 49,
   "metadata": {},
   "outputs": [
    {
     "name": "stdout",
     "output_type": "stream",
     "text": [
      "primer grupo 1\n",
      "primer grupo 2\n",
      "primer grupo 3\n",
      "primer grupo 4\n",
      "otra cosa 10\n",
      "otra cosa 12\n",
      "final 49\n",
      "final 64\n",
      "final 81\n"
     ]
    }
   ],
   "source": [
    "# FOR + IF\n",
    "for i in rango:\n",
    "    if i <= 4:\n",
    "        print('primer grupo' , i)\n",
    "    elif i <= 6:\n",
    "        print('otra cosa' , i*2)\n",
    "    else:\n",
    "        print('final', i**2)"
   ]
  },
  {
   "cell_type": "markdown",
   "metadata": {},
   "source": [
    "#**#TAREA\n",
    "**"
   ]
  },
  {
   "cell_type": "code",
   "execution_count": 78,
   "metadata": {},
   "outputs": [],
   "source": [
    "valores = [200 , 225 , 232 , 221 , 243 , 256 , 255]\n",
    "Dias = ['Lunes' , 'Martes' ,'Miercoles' , 'Jueves' , 'Viernes' , 'Sabado' , 'Domingo']"
   ]
  },
  {
   "cell_type": "code",
   "execution_count": 81,
   "metadata": {},
   "outputs": [
    {
     "name": "stdout",
     "output_type": "stream",
     "text": [
      "El Jueves el valor 221 es menor que el del día anterior (Miercoles): 232.\n",
      "El Domingo el valor 255 es menor que el del día anterior (Sabado): 256.\n"
     ]
    }
   ],
   "source": [
    "# Initialize the previous value as the first value in the list\n",
    "previous_value = valores[0]\n",
    "\n",
    "# Iterate through the list of values starting from the second element\n",
    "for i in range(1, len(valores)):\n",
    "    # Check if the current value is lower than the previous value\n",
    "    if valores[i] < previous_value:\n",
    "        # Print the day where the value is lower than the previous day's value\n",
    "        print(f\"El {Dias[i]} el valor {valores[i]} es menor que el del día anterior ({Dias[i-1]}): {valores[i-1]}.\")\n",
    "    # Update the previous value to the current one for the next iteration\n",
    "    previous_value = valores[i]"
   ]
  },
  {
   "cell_type": "code",
   "execution_count": 83,
   "metadata": {},
   "outputs": [
    {
     "name": "stdout",
     "output_type": "stream",
     "text": [
      "Requirement already satisfied: numpy in c:\\users\\qy539ge\\appdata\\local\\packages\\pythonsoftwarefoundation.python.3.11_qbz5n2kfra8p0\\localcache\\local-packages\\python311\\site-packages (2.0.1)\n",
      "Requirement already satisfied: pandas in c:\\users\\qy539ge\\appdata\\local\\packages\\pythonsoftwarefoundation.python.3.11_qbz5n2kfra8p0\\localcache\\local-packages\\python311\\site-packages (2.2.2)\n",
      "Requirement already satisfied: numpy>=1.23.2 in c:\\users\\qy539ge\\appdata\\local\\packages\\pythonsoftwarefoundation.python.3.11_qbz5n2kfra8p0\\localcache\\local-packages\\python311\\site-packages (from pandas) (2.0.1)\n",
      "Requirement already satisfied: python-dateutil>=2.8.2 in c:\\users\\qy539ge\\appdata\\local\\packages\\pythonsoftwarefoundation.python.3.11_qbz5n2kfra8p0\\localcache\\local-packages\\python311\\site-packages (from pandas) (2.9.0.post0)\n",
      "Requirement already satisfied: pytz>=2020.1 in c:\\users\\qy539ge\\appdata\\local\\packages\\pythonsoftwarefoundation.python.3.11_qbz5n2kfra8p0\\localcache\\local-packages\\python311\\site-packages (from pandas) (2024.1)\n",
      "Requirement already satisfied: tzdata>=2022.7 in c:\\users\\qy539ge\\appdata\\local\\packages\\pythonsoftwarefoundation.python.3.11_qbz5n2kfra8p0\\localcache\\local-packages\\python311\\site-packages (from pandas) (2024.1)\n",
      "Requirement already satisfied: six>=1.5 in c:\\users\\qy539ge\\appdata\\local\\packages\\pythonsoftwarefoundation.python.3.11_qbz5n2kfra8p0\\localcache\\local-packages\\python311\\site-packages (from python-dateutil>=2.8.2->pandas) (1.16.0)\n"
     ]
    }
   ],
   "source": [
    "!pip install numpy\n",
    "!pip install pandas"
   ]
  }
 ],
 "metadata": {
  "kernelspec": {
   "display_name": "Python 3",
   "language": "python",
   "name": "python3"
  },
  "language_info": {
   "codemirror_mode": {
    "name": "ipython",
    "version": 3
   },
   "file_extension": ".py",
   "mimetype": "text/x-python",
   "name": "python",
   "nbconvert_exporter": "python",
   "pygments_lexer": "ipython3",
   "version": "3.11.9"
  }
 },
 "nbformat": 4,
 "nbformat_minor": 2
}

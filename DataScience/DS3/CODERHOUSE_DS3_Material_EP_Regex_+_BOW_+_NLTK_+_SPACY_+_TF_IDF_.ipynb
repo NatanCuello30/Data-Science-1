{
  "cells": [
    {
      "cell_type": "markdown",
      "metadata": {
        "id": "RkBbg9jNw4f0"
      },
      "source": [
        "#**Expresiones Regulares**"
      ]
    },
    {
      "cell_type": "markdown",
      "metadata": {
        "id": "biVxcMSb5-Ey"
      },
      "source": [
        "Las expresiones regulares son secuencias de caracteres que forman un patrón de búsqueda. Estas se utilizan para encontrar y manipular texto, como validar formatos, buscar coincidencias, reemplazar texto y más.\n",
        "\n",
        "Documentación de operaciones con expresiones regulares de Python\n",
        "https://docs.python.org/3/library/re.html\n",
        "\n",
        "Reglas para escribir expresiones regulares\n",
        "https://es.wikipedia.org/wiki/Expresi%C3%B3n_regular"
      ]
    },
    {
      "cell_type": "code",
      "execution_count": 1,
      "metadata": {
        "id": "p3Pj1kYOxeA4"
      },
      "outputs": [],
      "source": [
        "import re"
      ]
    },
    {
      "cell_type": "markdown",
      "metadata": {
        "id": "uQO5F6D86oBq"
      },
      "source": [
        "**Algunos metodos**"
      ]
    },
    {
      "cell_type": "markdown",
      "metadata": {
        "id": "EqnDa35Y2yHv"
      },
      "source": [
        "**re.findall(pattern, string):** Devuelve todas las coincidencias como una lista.\n",
        "\n",
        "**re.sub(pattern, repl, string):** Reemplaza todas las coincidencias con una nueva cadena.\n",
        "\n",
        "**re.search(pattern, string):** Busca la primera coincidencia y devuelve un objeto de coincidencia.\n",
        "\n",
        "**re.match(pattern, string):** Busca una coincidencia al comienzo de la cadena.\n",
        "\n",
        "**re.split(pattern, string):** Divide la cadena en una lista utilizando un patrón como delimitador."
      ]
    },
    {
      "cell_type": "markdown",
      "metadata": {
        "id": "2myFa10dwt-I"
      },
      "source": [
        "1. Extraer todos los números de un documento"
      ]
    },
    {
      "cell_type": "markdown",
      "metadata": {
        "id": "W0LfiU6ry83D"
      },
      "source": [
        "La expresión regular [0-9]+ se utiliza para encontrar secuencias de uno o más dígitos entre 0 y 9."
      ]
    },
    {
      "cell_type": "code",
      "execution_count": 2,
      "metadata": {
        "id": "dbnNiOjmyd6Y"
      },
      "outputs": [],
      "source": [
        "# Ejemplo de texto\n",
        "texto = \"En el año 2023, hubo mas de 100 alumnos por comisión en los 3 modulos de Data Science. Ash tuvo buenas notas\""
      ]
    },
    {
      "cell_type": "code",
      "execution_count": 3,
      "metadata": {
        "colab": {
          "base_uri": "https://localhost:8080/"
        },
        "id": "Zli9G9JywnK7",
        "outputId": "ec25399f-da9b-4266-d918-635ce8eae18f"
      },
      "outputs": [
        {
          "data": {
            "text/plain": [
              "['2023', '100', '3']"
            ]
          },
          "execution_count": 3,
          "metadata": {},
          "output_type": "execute_result"
        }
      ],
      "source": [
        "# Patrón para extraer todos los números\n",
        "\n",
        "\"\"\"r'[0-9]+': La r antes de las comillas indica una cadena cruda (raw string).\n",
        "   [0-9]: Coincide con cualquier dígito del 0 al 9.\n",
        "   +: Indica una o más ocurrencias del patrón anterior.\"\"\"\n",
        "\n",
        "re.findall(r'[0-9]+', texto)"
      ]
    },
    {
      "cell_type": "code",
      "execution_count": 4,
      "metadata": {
        "colab": {
          "base_uri": "https://localhost:8080/"
        },
        "id": "j-8Mi8y-OBtS",
        "outputId": "30eb9647-e610-4eef-de04-5b04cdf3d94f"
      },
      "outputs": [
        {
          "data": {
            "text/plain": [
              "['n',\n",
              " 'el',\n",
              " 'a',\n",
              " 'o',\n",
              " 'hubo',\n",
              " 'mas',\n",
              " 'de',\n",
              " 'alumnos',\n",
              " 'por',\n",
              " 'comisi',\n",
              " 'n',\n",
              " 'en',\n",
              " 'los',\n",
              " 'modulos',\n",
              " 'de',\n",
              " 'ata',\n",
              " 'cience',\n",
              " 'sh',\n",
              " 'tuvo',\n",
              " 'buenas',\n",
              " 'notas']"
            ]
          },
          "execution_count": 4,
          "metadata": {},
          "output_type": "execute_result"
        }
      ],
      "source": [
        "# patrón para extraer todas las letras minusculas\n",
        "re.findall(r'[a-z]+', texto)"
      ]
    },
    {
      "cell_type": "code",
      "execution_count": 5,
      "metadata": {
        "colab": {
          "base_uri": "https://localhost:8080/"
        },
        "id": "zMuOqznGOtiP",
        "outputId": "5adbb733-a651-4477-b05a-fc625daf3f3f"
      },
      "outputs": [
        {
          "data": {
            "text/plain": [
              "['En',\n",
              " 'el',\n",
              " 'a',\n",
              " 'o',\n",
              " 'hubo',\n",
              " 'mas',\n",
              " 'de',\n",
              " 'alumnos',\n",
              " 'por',\n",
              " 'comisi',\n",
              " 'n',\n",
              " 'en',\n",
              " 'los',\n",
              " 'modulos',\n",
              " 'de',\n",
              " 'Data',\n",
              " 'Science',\n",
              " 'Ash',\n",
              " 'tuvo',\n",
              " 'buenas',\n",
              " 'notas']"
            ]
          },
          "execution_count": 5,
          "metadata": {},
          "output_type": "execute_result"
        }
      ],
      "source": [
        "# patrón para extraer todas las letras\n",
        "re.findall(r'[a-zA-Z]+', texto)"
      ]
    },
    {
      "cell_type": "markdown",
      "metadata": {
        "id": "DZm6d3v1zQEI"
      },
      "source": [
        "2. Remover todos los caracteres que no son números"
      ]
    },
    {
      "cell_type": "markdown",
      "metadata": {
        "id": "NBfaLo57zTEi"
      },
      "source": [
        "La expresión regular [^0-9]+ se utiliza para encontrar secuencias de uno o más caracteres que no son dígitos."
      ]
    },
    {
      "cell_type": "code",
      "execution_count": 6,
      "metadata": {
        "colab": {
          "base_uri": "https://localhost:8080/",
          "height": 35
        },
        "id": "AUX8WAsdzXVr",
        "outputId": "9a046da0-22ac-40c2-8559-59721c1bb675"
      },
      "outputs": [
        {
          "data": {
            "text/plain": [
              "'x2023x100x3x'"
            ]
          },
          "execution_count": 6,
          "metadata": {},
          "output_type": "execute_result"
        }
      ],
      "source": [
        "# Remover todos los caracteres que no son números\n",
        "\n",
        "\n",
        "\"\"\"[^0-9]: Coincide con cualquier carácter que no sea un dígito.\n",
        "   +: Indica una o más ocurrencias del patrón anterior.\n",
        "   re.sub: Reemplaza las ocurrencias del patrón en el texto con una cadena vacía.\"\"\"\n",
        "\n",
        "# r'': Es un raw string, útil para que Python no interprete caracteres como \\.\n",
        "\n",
        "# 'x' (reemplazo)\n",
        "\n",
        "re.sub(r'[^0-9]+', 'x', texto)\n",
        "\n",
        "# Podemos probar cambiar la X por un espacio\n"
      ]
    },
    {
      "cell_type": "markdown",
      "metadata": {
        "id": "fJaF8EfT0T5x"
      },
      "source": [
        "3. Extraer palabras que empiecen por “A” y terminen en “h”"
      ]
    },
    {
      "cell_type": "markdown",
      "metadata": {
        "id": "MJZPBZFD0k8p"
      },
      "source": [
        "La expresión regular ^A[a-zA-Z]+h$ se utiliza para encontrar palabras que comiencen con 'A' y terminen con 'h'."
      ]
    },
    {
      "cell_type": "code",
      "execution_count": 7,
      "metadata": {
        "colab": {
          "base_uri": "https://localhost:8080/"
        },
        "id": "_2SOEe530ruI",
        "outputId": "b5b800b6-5e43-406d-ddf1-24c2a706bb3b"
      },
      "outputs": [
        {
          "data": {
            "text/plain": [
              "['Ash']"
            ]
          },
          "execution_count": 7,
          "metadata": {},
          "output_type": "execute_result"
        }
      ],
      "source": [
        "# Extraer palabras que empiecen por 'A' y terminen en 'h'\n",
        "\n",
        "\"\"\"\\b: Coincide con un límite de palabra.\n",
        "   A: Coincide con el carácter 'A'.\n",
        "   [a-zA-Z]+: Coincide con una o más letras.\n",
        "   h: Coincide con el carácter 'h'.\n",
        "   \\b: Coincide con un límite de palabra.\"\"\"\n",
        "\n",
        "re.findall(r'\\bA[a-zA-Z]+h\\b', texto)"
      ]
    },
    {
      "cell_type": "markdown",
      "metadata": {
        "id": "g3Y5r1_e1vyj"
      },
      "source": [
        "4. Extraer correos electrónicos"
      ]
    },
    {
      "cell_type": "markdown",
      "metadata": {
        "id": "NPpWHTd-1xLg"
      },
      "source": [
        "La expresión regular ^[a-zA-Z][a-zA-Z0-9._+-]+@[A-Za-z]+\\.[A-Za-z]+ se utiliza para encontrar correos electrónicos."
      ]
    },
    {
      "cell_type": "code",
      "execution_count": 8,
      "metadata": {
        "id": "x8pUsvjL2DSx"
      },
      "outputs": [],
      "source": [
        "# Ejemplo de texto 2\n",
        "texto2 = \"Puedes contactarme en ejemplo123@gmail.com o en otro.correo@dominio.org.\""
      ]
    },
    {
      "cell_type": "code",
      "execution_count": 9,
      "metadata": {
        "colab": {
          "base_uri": "https://localhost:8080/"
        },
        "id": "EYnhZe0i1wX_",
        "outputId": "db972b9e-e027-4f5e-b648-b7aee878436e"
      },
      "outputs": [
        {
          "data": {
            "text/plain": [
              "['ejemplo123@gmail.com', 'otro.correo@dominio.org']"
            ]
          },
          "execution_count": 9,
          "metadata": {},
          "output_type": "execute_result"
        }
      ],
      "source": [
        "# Extraer correos electrónicos\n",
        "# Descomponemos y analizamos el patrón\n",
        "\n",
        "\"\"\"[a-zA-Z]: Coincide con cualquier letra.\n",
        "[a-zA-Z0-9._+-]+: Coincide con una o más letras, dígitos, puntos, guiones bajos, guiones y signos de más.\n",
        "@: Coincide con el carácter '@'.\n",
        "[A-Za-z]+: Coincide con una o más letras (dominio).\n",
        "\\.: Coincide con el punto literal.\n",
        "[A-Za-z]+: Coincide con una o más letras (dominio de nivel superior).\"\"\"\n",
        "\n",
        "re.findall(r'[a-zA-Z][a-zA-Z0-9._+-]+@[A-Za-z]+\\.[A-Za-z]+', texto2)"
      ]
    },
    {
      "cell_type": "markdown",
      "metadata": {
        "id": "FysxceC-YRKm"
      },
      "source": [
        "¿La regular expression [a-z] extrae solo las letras a y z de los documentos de análisis?"
      ]
    },
    {
      "cell_type": "code",
      "execution_count": 10,
      "metadata": {
        "colab": {
          "base_uri": "https://localhost:8080/"
        },
        "id": "3DQrza97YOqy",
        "outputId": "9131144e-bc7f-4555-9da6-b2b97a22b34e"
      },
      "outputs": [
        {
          "data": {
            "text/plain": [
              "['n',\n",
              " 'e',\n",
              " 'l',\n",
              " 'a',\n",
              " 'o',\n",
              " 'h',\n",
              " 'u',\n",
              " 'b',\n",
              " 'o',\n",
              " 'm',\n",
              " 'a',\n",
              " 's',\n",
              " 'd',\n",
              " 'e',\n",
              " 'a',\n",
              " 'l',\n",
              " 'u',\n",
              " 'm',\n",
              " 'n',\n",
              " 'o',\n",
              " 's',\n",
              " 'p',\n",
              " 'o',\n",
              " 'r',\n",
              " 'c',\n",
              " 'o',\n",
              " 'm',\n",
              " 'i',\n",
              " 's',\n",
              " 'i',\n",
              " 'n',\n",
              " 'e',\n",
              " 'n',\n",
              " 'l',\n",
              " 'o',\n",
              " 's',\n",
              " 'm',\n",
              " 'o',\n",
              " 'd',\n",
              " 'u',\n",
              " 'l',\n",
              " 'o',\n",
              " 's',\n",
              " 'd',\n",
              " 'e',\n",
              " 'a',\n",
              " 't',\n",
              " 'a',\n",
              " 'c',\n",
              " 'i',\n",
              " 'e',\n",
              " 'n',\n",
              " 'c',\n",
              " 'e',\n",
              " 's',\n",
              " 'h',\n",
              " 't',\n",
              " 'u',\n",
              " 'v',\n",
              " 'o',\n",
              " 'b',\n",
              " 'u',\n",
              " 'e',\n",
              " 'n',\n",
              " 'a',\n",
              " 's',\n",
              " 'n',\n",
              " 'o',\n",
              " 't',\n",
              " 'a',\n",
              " 's']"
            ]
          },
          "execution_count": 10,
          "metadata": {},
          "output_type": "execute_result"
        }
      ],
      "source": [
        "re.findall(r'[a-z]', texto)"
      ]
    },
    {
      "cell_type": "markdown",
      "metadata": {
        "id": "nK9TEX569VS7"
      },
      "source": [
        "#**Intro a NLTK**"
      ]
    },
    {
      "cell_type": "code",
      "execution_count": 11,
      "metadata": {
        "id": "pF0jU49p9cRs"
      },
      "outputs": [
        {
          "name": "stderr",
          "output_type": "stream",
          "text": [
            "C:\\Users\\QY539GE\\AppData\\Local\\Packages\\PythonSoftwareFoundation.Python.3.11_qbz5n2kfra8p0\\LocalCache\\local-packages\\Python311\\site-packages\\nltk\\metrics\\association.py:26: UserWarning: A NumPy version >=1.23.5 and <2.3.0 is required for this version of SciPy (detected version 2.3.1)\n",
            "  from scipy.stats import fisher_exact\n"
          ]
        }
      ],
      "source": [
        "import nltk"
      ]
    },
    {
      "cell_type": "markdown",
      "metadata": {
        "id": "IYOYHQLvoD2n"
      },
      "source": [
        "**Tokenización**\n",
        "\n",
        "La tokenización es el proceso de dividir una cadena de texto en unidades más pequeñas, llamadas tokens. Estos tokens pueden ser palabras individuales, números, símbolos de puntuación, etc."
      ]
    },
    {
      "cell_type": "markdown",
      "metadata": {
        "id": "I_gAmX_QoSoH"
      },
      "source": [
        "Probemos usando regex"
      ]
    },
    {
      "cell_type": "code",
      "execution_count": 12,
      "metadata": {
        "colab": {
          "base_uri": "https://localhost:8080/"
        },
        "id": "AytwHYhAodZL",
        "outputId": "f14999b9-ddb3-4eed-d40b-56d097b4a51a"
      },
      "outputs": [
        {
          "name": "stdout",
          "output_type": "stream",
          "text": [
            " Cuando sea rey del mundo (imaginaba él en su cabeza) no tendré que preocuparme por todas estas bobadas.\n",
            "            Era solo un niño de 7 años de edad, pero pensaba que podría ser cualquier cosa que su imaginación le permitiera visualizar en su cabeza ...\n"
          ]
        }
      ],
      "source": [
        "texto = \"\"\" Cuando sea rey del mundo (imaginaba él en su cabeza) no tendré que preocuparme por todas estas bobadas.\n",
        "            Era solo un niño de 7 años de edad, pero pensaba que podría ser cualquier cosa que su imaginación le permitiera visualizar en su cabeza ...\"\"\"\n",
        "print(texto)"
      ]
    },
    {
      "cell_type": "code",
      "execution_count": 13,
      "metadata": {
        "colab": {
          "base_uri": "https://localhost:8080/"
        },
        "id": "IVpfDZNDpo5I",
        "outputId": "cabd7635-8b71-409a-d827-53be6f0a1c0e"
      },
      "outputs": [
        {
          "data": {
            "text/plain": [
              "['',\n",
              " 'Cuando',\n",
              " 'sea',\n",
              " 'rey',\n",
              " 'del',\n",
              " 'mundo',\n",
              " '(imaginaba',\n",
              " 'él',\n",
              " 'en',\n",
              " 'su',\n",
              " 'cabeza)',\n",
              " 'no',\n",
              " 'tendré',\n",
              " 'que',\n",
              " 'preocuparme',\n",
              " 'por',\n",
              " 'todas',\n",
              " 'estas',\n",
              " 'bobadas.\\n',\n",
              " '',\n",
              " '',\n",
              " '',\n",
              " '',\n",
              " '',\n",
              " '',\n",
              " '',\n",
              " '',\n",
              " '',\n",
              " '',\n",
              " '',\n",
              " 'Era',\n",
              " 'solo',\n",
              " 'un',\n",
              " 'niño',\n",
              " 'de',\n",
              " '7',\n",
              " 'años',\n",
              " 'de',\n",
              " 'edad,',\n",
              " 'pero',\n",
              " 'pensaba',\n",
              " 'que',\n",
              " 'podría',\n",
              " 'ser',\n",
              " 'cualquier',\n",
              " 'cosa',\n",
              " 'que',\n",
              " 'su',\n",
              " 'imaginación',\n",
              " 'le',\n",
              " 'permitiera',\n",
              " 'visualizar',\n",
              " 'en',\n",
              " 'su',\n",
              " 'cabeza',\n",
              " '...']"
            ]
          },
          "execution_count": 13,
          "metadata": {},
          "output_type": "execute_result"
        }
      ],
      "source": [
        "# Tokenizacion simple filtrando por espacios vacios\n",
        "re.split(r' ', texto)"
      ]
    },
    {
      "cell_type": "code",
      "execution_count": 14,
      "metadata": {
        "colab": {
          "base_uri": "https://localhost:8080/"
        },
        "id": "iEa_djjip-wn",
        "outputId": "342c4022-f3ce-44f7-d162-08e05bec362c"
      },
      "outputs": [
        {
          "data": {
            "text/plain": [
              "['',\n",
              " 'Cuando',\n",
              " 'sea',\n",
              " 'rey',\n",
              " 'del',\n",
              " 'mundo',\n",
              " 'imaginaba',\n",
              " 'él',\n",
              " 'en',\n",
              " 'su',\n",
              " 'cabeza',\n",
              " 'no',\n",
              " 'tendré',\n",
              " 'que',\n",
              " 'preocuparme',\n",
              " 'por',\n",
              " 'todas',\n",
              " 'estas',\n",
              " 'bobadas',\n",
              " 'Era',\n",
              " 'solo',\n",
              " 'un',\n",
              " 'niño',\n",
              " 'de',\n",
              " '7',\n",
              " 'años',\n",
              " 'de',\n",
              " 'edad',\n",
              " 'pero',\n",
              " 'pensaba',\n",
              " 'que',\n",
              " 'podría',\n",
              " 'ser',\n",
              " 'cualquier',\n",
              " 'cosa',\n",
              " 'que',\n",
              " 'su',\n",
              " 'imaginación',\n",
              " 'le',\n",
              " 'permitiera',\n",
              " 'visualizar',\n",
              " 'en',\n",
              " 'su',\n",
              " 'cabeza',\n",
              " '']"
            ]
          },
          "execution_count": 14,
          "metadata": {},
          "output_type": "execute_result"
        }
      ],
      "source": [
        "\"\"\"Esta expresión regular busca cualquier secuencia de uno o más caracteres que sean espacios en blanco, puntuaciones o caracteres especiales (que no sean\n",
        "   letras, dígitos o guiones bajos) y los utiliza como delimitadores para dividir el texto en tokens\"\"\"\n",
        "re.split(r'[ \\W\\t\\n]+', texto)"
      ]
    },
    {
      "cell_type": "code",
      "execution_count": 15,
      "metadata": {
        "id": "t5e10PM3QiLU"
      },
      "outputs": [],
      "source": [
        "import nltk"
      ]
    },
    {
      "cell_type": "code",
      "execution_count": 16,
      "metadata": {
        "colab": {
          "base_uri": "https://localhost:8080/"
        },
        "id": "5hW0EF4urhrY",
        "outputId": "f9164b13-9202-48ab-d0b0-f0e8e73dd42e"
      },
      "outputs": [
        {
          "name": "stderr",
          "output_type": "stream",
          "text": [
            "[nltk_data] Downloading package punkt to\n",
            "[nltk_data]     C:\\Users\\QY539GE\\AppData\\Roaming\\nltk_data...\n",
            "[nltk_data]   Package punkt is already up-to-date!\n",
            "[nltk_data] Downloading package punkt_tab to\n",
            "[nltk_data]     C:\\Users\\QY539GE\\AppData\\Roaming\\nltk_data...\n",
            "[nltk_data]   Package punkt_tab is already up-to-date!\n"
          ]
        }
      ],
      "source": [
        "nltk.download('punkt')  #tokenizer de nltk\n",
        "nltk.download('punkt_tab')  #tokenizer de nltk\n",
        "\n",
        "from nltk.tokenize import word_tokenize"
      ]
    },
    {
      "cell_type": "code",
      "execution_count": 17,
      "metadata": {
        "colab": {
          "base_uri": "https://localhost:8080/"
        },
        "id": "mO6eqjfIn-4G",
        "outputId": "0186e86d-4cc0-4ee2-e9d4-da6b53594b33"
      },
      "outputs": [
        {
          "name": "stdout",
          "output_type": "stream",
          "text": [
            "Texto original:\n",
            " Cuando sea rey del mundo (imaginaba él en su cabeza) no tendré que preocuparme por todas estas bobadas.\n",
            "            Era solo un niño de 7 años de edad, pero pensaba que podría ser cualquier cosa que su imaginación le permitiera visualizar en su cabeza ...\n",
            "\n",
            "Tokens:\n",
            "['Cuando', 'sea', 'rey', 'del', 'mundo', '(', 'imaginaba', 'él', 'en', 'su', 'cabeza', ')', 'no', 'tendré', 'que', 'preocuparme', 'por', 'todas', 'estas', 'bobadas', '.', 'Era', 'solo', 'un', 'niño', 'de', '7', 'años', 'de', 'edad', ',', 'pero', 'pensaba', 'que', 'podría', 'ser', 'cualquier', 'cosa', 'que', 'su', 'imaginación', 'le', 'permitiera', 'visualizar', 'en', 'su', 'cabeza', '...']\n"
          ]
        }
      ],
      "source": [
        "# Tokenizar el texto usando word_tokenize de nltk\n",
        "tokens = word_tokenize(texto)\n",
        "\n",
        "# Mostrar los tokens resultantes\n",
        "print(\"Texto original:\")\n",
        "print(texto)\n",
        "print(\"\\nTokens:\")\n",
        "print(tokens)"
      ]
    },
    {
      "cell_type": "code",
      "execution_count": 18,
      "metadata": {
        "colab": {
          "base_uri": "https://localhost:8080/"
        },
        "id": "cq1uAYyusFI3",
        "outputId": "96e831a7-2a22-4385-b62f-cdd5f9cd1fa2"
      },
      "outputs": [
        {
          "name": "stdout",
          "output_type": "stream",
          "text": [
            "['En', 'los', 'E', 'U', 'esa', 'computadora', 'vale', '600', '50', '']\n"
          ]
        }
      ],
      "source": [
        "texto = 'En los E.U. esa computadora vale $600.50...'\n",
        "print(re.split(r'[ \\W\\t\\n]+', texto))"
      ]
    },
    {
      "cell_type": "code",
      "execution_count": 19,
      "metadata": {
        "colab": {
          "base_uri": "https://localhost:8080/"
        },
        "id": "6QssC6Sgs9MH",
        "outputId": "816beafd-b7a6-40bb-8835-19bf40eac67f"
      },
      "outputs": [
        {
          "data": {
            "text/plain": [
              "['En', 'los', 'E.U', '.', 'esa', 'computadora', 'vale', '$', '600.50', '...']"
            ]
          },
          "execution_count": 19,
          "metadata": {},
          "output_type": "execute_result"
        }
      ],
      "source": [
        "word_tokenize(texto)"
      ]
    },
    {
      "cell_type": "markdown",
      "metadata": {
        "id": "uHIiVJUAtVqH"
      },
      "source": [
        "Vamos a tokenizar usando las rgex que trae NLTK"
      ]
    },
    {
      "cell_type": "code",
      "execution_count": 20,
      "metadata": {
        "colab": {
          "base_uri": "https://localhost:8080/"
        },
        "id": "Kj51fjp-sE_F",
        "outputId": "4de0a584-de30-44d9-ecb7-29943b82f906"
      },
      "outputs": [
        {
          "data": {
            "text/plain": [
              "['En', 'los', 'E.U.', 'esa', 'computadora', 'vale', '$600.50', '...']"
            ]
          },
          "execution_count": 20,
          "metadata": {},
          "output_type": "execute_result"
        }
      ],
      "source": [
        "patron = r'''(?x)\n",
        "              (?:[A-Z]\\.)+\n",
        "              | \\w+(?:-\\w+)*\n",
        "              | \\$?\\d+(?:\\.\\d+)?%?\n",
        "              | \\.\\.\\.\n",
        "              | [][.,;\"'?():-_`]\n",
        "'''\n",
        "nltk.regexp_tokenize(texto, patron)"
      ]
    },
    {
      "cell_type": "markdown",
      "metadata": {
        "id": "Mt1ILD2pui3a"
      },
      "source": [
        "**Conversión a minúsculas (Lowercase):**\n",
        "\n",
        "La conversión a minúsculas (lowercase) y a mayúsculas (uppercase) se refiere a transformar todos los caracteres de una cadena de texto a letras minúsculas o mayúsculas, respectivamente. Esto es útil en el procesamiento de lenguaje natural (NLP) para normalizar el texto y evitar inconsistencias en el análisis donde la distinción entre mayúsculas y minúsculas no es relevante."
      ]
    },
    {
      "cell_type": "code",
      "execution_count": 21,
      "metadata": {
        "colab": {
          "base_uri": "https://localhost:8080/"
        },
        "id": "e9ceiO62vQHf",
        "outputId": "cb2c62eb-eb6b-479d-8059-f0af9582d476"
      },
      "outputs": [
        {
          "name": "stdout",
          "output_type": "stream",
          "text": [
            "Texto original:\n",
            "Este es Un Ejemplo con TEXTO en MAYÚSCULAS y Minúsculas.\n",
            "\n",
            "Texto en minúsculas:\n",
            "este es un ejemplo con texto en mayúsculas y minúsculas.\n"
          ]
        }
      ],
      "source": [
        "texto = \"Este es Un Ejemplo con TEXTO en MAYÚSCULAS y Minúsculas.\"\n",
        "\n",
        "# Convertir el texto a minúsculas\n",
        "texto_min = texto.lower()\n",
        "\n",
        "# Mostrar el texto convertido a minúsculas\n",
        "print(\"Texto original:\")\n",
        "print(texto)\n",
        "print(\"\\nTexto en minúsculas:\")\n",
        "print(texto_min)"
      ]
    },
    {
      "cell_type": "markdown",
      "metadata": {
        "id": "uPxP7lrQxxmI"
      },
      "source": [
        "**Remoción de Stopwords**"
      ]
    },
    {
      "cell_type": "markdown",
      "metadata": {
        "id": "RVBXN8eZzT7Y"
      },
      "source": [
        "Consiste en eliminar palabras que son muy frecuentes en un idioma y que generalmente no aportan información significativa para tareas específicas de análisis de texto, como clasificación de documentos, análisis de sentimientos o extracción de información. Ejemplos de stopwords en inglés podrían ser \"the\", \"is\", \"and\", mientras que en español podrían ser \"el\", \"la\"."
      ]
    },
    {
      "cell_type": "code",
      "execution_count": 22,
      "metadata": {
        "colab": {
          "base_uri": "https://localhost:8080/"
        },
        "id": "rcUyK6BXvQFq",
        "outputId": "c5f40623-9ec6-4da8-fb96-bbb056c1e1d2"
      },
      "outputs": [
        {
          "name": "stderr",
          "output_type": "stream",
          "text": [
            "[nltk_data] Downloading package stopwords to\n",
            "[nltk_data]     C:\\Users\\QY539GE\\AppData\\Roaming\\nltk_data...\n",
            "[nltk_data]   Package stopwords is already up-to-date!\n"
          ]
        }
      ],
      "source": [
        "nltk.download('stopwords')\n",
        "from nltk.corpus import stopwords"
      ]
    },
    {
      "cell_type": "code",
      "execution_count": 23,
      "metadata": {
        "colab": {
          "base_uri": "https://localhost:8080/"
        },
        "id": "yGJTzfbHzO-I",
        "outputId": "eabb4a54-6717-4f51-cd2e-d29582d78928"
      },
      "outputs": [
        {
          "name": "stdout",
          "output_type": "stream",
          "text": [
            "Stopwords en español:\n",
            "['de', 'la', 'que', 'el', 'en', 'y', 'a', 'los', 'del', 'se', 'las', 'por', 'un', 'para', 'con', 'no', 'una', 'su', 'al', 'lo', 'como', 'más', 'pero', 'sus', 'le', 'ya', 'o', 'este', 'sí', 'porque', 'esta', 'entre', 'cuando', 'muy', 'sin', 'sobre', 'también', 'me', 'hasta', 'hay', 'donde', 'quien', 'desde', 'todo', 'nos', 'durante', 'todos', 'uno', 'les', 'ni', 'contra', 'otros', 'ese', 'eso', 'ante', 'ellos', 'e', 'esto', 'mí', 'antes', 'algunos', 'qué', 'unos', 'yo', 'otro', 'otras', 'otra', 'él', 'tanto', 'esa', 'estos', 'mucho', 'quienes', 'nada', 'muchos', 'cual', 'poco', 'ella', 'estar', 'estas', 'algunas', 'algo', 'nosotros', 'mi', 'mis', 'tú', 'te', 'ti', 'tu', 'tus', 'ellas', 'nosotras', 'vosotros', 'vosotras', 'os', 'mío', 'mía', 'míos', 'mías', 'tuyo', 'tuya', 'tuyos', 'tuyas', 'suyo', 'suya', 'suyos', 'suyas', 'nuestro', 'nuestra', 'nuestros', 'nuestras', 'vuestro', 'vuestra', 'vuestros', 'vuestras', 'esos', 'esas', 'estoy', 'estás', 'está', 'estamos', 'estáis', 'están', 'esté', 'estés', 'estemos', 'estéis', 'estén', 'estaré', 'estarás', 'estará', 'estaremos', 'estaréis', 'estarán', 'estaría', 'estarías', 'estaríamos', 'estaríais', 'estarían', 'estaba', 'estabas', 'estábamos', 'estabais', 'estaban', 'estuve', 'estuviste', 'estuvo', 'estuvimos', 'estuvisteis', 'estuvieron', 'estuviera', 'estuvieras', 'estuviéramos', 'estuvierais', 'estuvieran', 'estuviese', 'estuvieses', 'estuviésemos', 'estuvieseis', 'estuviesen', 'estando', 'estado', 'estada', 'estados', 'estadas', 'estad', 'he', 'has', 'ha', 'hemos', 'habéis', 'han', 'haya', 'hayas', 'hayamos', 'hayáis', 'hayan', 'habré', 'habrás', 'habrá', 'habremos', 'habréis', 'habrán', 'habría', 'habrías', 'habríamos', 'habríais', 'habrían', 'había', 'habías', 'habíamos', 'habíais', 'habían', 'hube', 'hubiste', 'hubo', 'hubimos', 'hubisteis', 'hubieron', 'hubiera', 'hubieras', 'hubiéramos', 'hubierais', 'hubieran', 'hubiese', 'hubieses', 'hubiésemos', 'hubieseis', 'hubiesen', 'habiendo', 'habido', 'habida', 'habidos', 'habidas', 'soy', 'eres', 'es', 'somos', 'sois', 'son', 'sea', 'seas', 'seamos', 'seáis', 'sean', 'seré', 'serás', 'será', 'seremos', 'seréis', 'serán', 'sería', 'serías', 'seríamos', 'seríais', 'serían', 'era', 'eras', 'éramos', 'erais', 'eran', 'fui', 'fuiste', 'fue', 'fuimos', 'fuisteis', 'fueron', 'fuera', 'fueras', 'fuéramos', 'fuerais', 'fueran', 'fuese', 'fueses', 'fuésemos', 'fueseis', 'fuesen', 'sintiendo', 'sentido', 'sentida', 'sentidos', 'sentidas', 'siente', 'sentid', 'tengo', 'tienes', 'tiene', 'tenemos', 'tenéis', 'tienen', 'tenga', 'tengas', 'tengamos', 'tengáis', 'tengan', 'tendré', 'tendrás', 'tendrá', 'tendremos', 'tendréis', 'tendrán', 'tendría', 'tendrías', 'tendríamos', 'tendríais', 'tendrían', 'tenía', 'tenías', 'teníamos', 'teníais', 'tenían', 'tuve', 'tuviste', 'tuvo', 'tuvimos', 'tuvisteis', 'tuvieron', 'tuviera', 'tuvieras', 'tuviéramos', 'tuvierais', 'tuvieran', 'tuviese', 'tuvieses', 'tuviésemos', 'tuvieseis', 'tuviesen', 'teniendo', 'tenido', 'tenida', 'tenidos', 'tenidas', 'tened']\n"
          ]
        }
      ],
      "source": [
        "# Stopwords en Español\n",
        "stopwords_es = stopwords.words('spanish')\n",
        "print(\"Stopwords en español:\")\n",
        "print(stopwords_es)"
      ]
    },
    {
      "cell_type": "code",
      "execution_count": 24,
      "metadata": {
        "colab": {
          "base_uri": "https://localhost:8080/"
        },
        "id": "Y-IooCrS0DC6",
        "outputId": "7afa2af6-c700-41a0-b07f-b4af47adea7a"
      },
      "outputs": [
        {
          "name": "stdout",
          "output_type": "stream",
          "text": [
            "\n",
            "Stopwords en inglés:\n",
            "['a', 'about', 'above', 'after', 'again', 'against', 'ain', 'all', 'am', 'an', 'and', 'any', 'are', 'aren', \"aren't\", 'as', 'at', 'be', 'because', 'been', 'before', 'being', 'below', 'between', 'both', 'but', 'by', 'can', 'couldn', \"couldn't\", 'd', 'did', 'didn', \"didn't\", 'do', 'does', 'doesn', \"doesn't\", 'doing', 'don', \"don't\", 'down', 'during', 'each', 'few', 'for', 'from', 'further', 'had', 'hadn', \"hadn't\", 'has', 'hasn', \"hasn't\", 'have', 'haven', \"haven't\", 'having', 'he', \"he'd\", \"he'll\", 'her', 'here', 'hers', 'herself', \"he's\", 'him', 'himself', 'his', 'how', 'i', \"i'd\", 'if', \"i'll\", \"i'm\", 'in', 'into', 'is', 'isn', \"isn't\", 'it', \"it'd\", \"it'll\", \"it's\", 'its', 'itself', \"i've\", 'just', 'll', 'm', 'ma', 'me', 'mightn', \"mightn't\", 'more', 'most', 'mustn', \"mustn't\", 'my', 'myself', 'needn', \"needn't\", 'no', 'nor', 'not', 'now', 'o', 'of', 'off', 'on', 'once', 'only', 'or', 'other', 'our', 'ours', 'ourselves', 'out', 'over', 'own', 're', 's', 'same', 'shan', \"shan't\", 'she', \"she'd\", \"she'll\", \"she's\", 'should', 'shouldn', \"shouldn't\", \"should've\", 'so', 'some', 'such', 't', 'than', 'that', \"that'll\", 'the', 'their', 'theirs', 'them', 'themselves', 'then', 'there', 'these', 'they', \"they'd\", \"they'll\", \"they're\", \"they've\", 'this', 'those', 'through', 'to', 'too', 'under', 'until', 'up', 've', 'very', 'was', 'wasn', \"wasn't\", 'we', \"we'd\", \"we'll\", \"we're\", 'were', 'weren', \"weren't\", \"we've\", 'what', 'when', 'where', 'which', 'while', 'who', 'whom', 'why', 'will', 'with', 'won', \"won't\", 'wouldn', \"wouldn't\", 'y', 'you', \"you'd\", \"you'll\", 'your', \"you're\", 'yours', 'yourself', 'yourselves', \"you've\"]\n"
          ]
        }
      ],
      "source": [
        "# Stopwords en inglés\n",
        "stopwords_en = stopwords.words('english')\n",
        "print(\"\\nStopwords en inglés:\")\n",
        "print(stopwords_en)"
      ]
    },
    {
      "cell_type": "code",
      "execution_count": 25,
      "metadata": {
        "id": "RFA4CQcPvQDn"
      },
      "outputs": [],
      "source": [
        "# Definir una frase de ejemplo\n",
        "frase = \"Este es un ejemplo de cómo remover stopwords en un texto en español\""
      ]
    },
    {
      "cell_type": "code",
      "execution_count": 26,
      "metadata": {
        "colab": {
          "base_uri": "https://localhost:8080/"
        },
        "id": "T6Z0LAdUvQAi",
        "outputId": "593a7ba1-b5bb-4169-9b2e-2012f6cea357"
      },
      "outputs": [
        {
          "name": "stdout",
          "output_type": "stream",
          "text": [
            "['Este', 'es', 'un', 'ejemplo', 'de', 'cómo', 'remover', 'stopwords', 'en', 'un', 'texto', 'en', 'español']\n"
          ]
        }
      ],
      "source": [
        "# Tokenizar la frase en palabras individuales\n",
        "palabras = word_tokenize(frase, language='spanish')\n",
        "print(palabras)"
      ]
    },
    {
      "cell_type": "code",
      "execution_count": 27,
      "metadata": {
        "id": "5OPLdGFEvP9s"
      },
      "outputs": [],
      "source": [
        "# Obtener stopwords en español desde NLTK\n",
        "stopwords_es = set(stopwords.words('spanish'))"
      ]
    },
    {
      "cell_type": "code",
      "execution_count": 28,
      "metadata": {
        "id": "L6lwnYYVvP6-"
      },
      "outputs": [],
      "source": [
        "# Filtrar palabras que no son stopwords\n",
        "palabras_filtradas = [palabra for palabra in palabras if palabra.lower() not in stopwords_es]"
      ]
    },
    {
      "cell_type": "code",
      "execution_count": 29,
      "metadata": {
        "colab": {
          "base_uri": "https://localhost:8080/"
        },
        "id": "Buqtk7dtyrKG",
        "outputId": "280c9671-2a01-4baa-a39d-8c53c65ff84e"
      },
      "outputs": [
        {
          "name": "stdout",
          "output_type": "stream",
          "text": [
            "Frase original:\n",
            "Este es un ejemplo de cómo remover stopwords en un texto en español\n",
            "\n",
            "Palabras filtradas sin stopwords:\n",
            "['ejemplo', 'cómo', 'remover', 'stopwords', 'texto', 'español']\n"
          ]
        }
      ],
      "source": [
        "# Mostrar resultado\n",
        "print(\"Frase original:\")\n",
        "print(frase)\n",
        "print(\"\\nPalabras filtradas sin stopwords:\")\n",
        "print(palabras_filtradas)"
      ]
    },
    {
      "cell_type": "markdown",
      "metadata": {
        "id": "T7UViaxT05wV"
      },
      "source": [
        "**Steamming**\n",
        "\n",
        "El stemming es el proceso de reducir las palabras a su forma base o raíz, conocida como stem. Esta raíz no necesariamente es una palabra con significado en el idioma, sino una base común para diferentes formas de una palabra. El objetivo del stemming es agrupar palabras con significados similares para que puedan ser analizadas juntas en tareas de procesamiento de lenguaje natural (NLP), como la búsqueda de información, la clasificación de textos y la minería de texto.\n"
      ]
    },
    {
      "cell_type": "code",
      "execution_count": 30,
      "metadata": {
        "colab": {
          "base_uri": "https://localhost:8080/"
        },
        "id": "ZSSQwV-e3es8",
        "outputId": "908ef170-5a4b-4f88-d088-65b5572fcd2e"
      },
      "outputs": [
        {
          "name": "stderr",
          "output_type": "stream",
          "text": [
            "[nltk_data] Downloading package punkt to\n",
            "[nltk_data]     C:\\Users\\QY539GE\\AppData\\Roaming\\nltk_data...\n",
            "[nltk_data]   Package punkt is already up-to-date!\n"
          ]
        }
      ],
      "source": [
        "nltk.download('punkt')\n",
        "from nltk.stem.snowball import SnowballStemmer"
      ]
    },
    {
      "cell_type": "code",
      "execution_count": 31,
      "metadata": {
        "id": "FwTckHD15Fye"
      },
      "outputs": [],
      "source": [
        "# Crear una instancia del SnowballStemmer para español\n",
        "stemmer = SnowballStemmer('spanish')\n",
        "\n",
        "# Definir una frase de ejemplo\n",
        "frase = \"Los gatos están corriendo más rápido que los perros y los niños están jugando con sus juguetes\""
      ]
    },
    {
      "cell_type": "code",
      "execution_count": 32,
      "metadata": {
        "colab": {
          "base_uri": "https://localhost:8080/"
        },
        "id": "UiU-y8Nj04_1",
        "outputId": "fd9f3853-400d-4a98-81ce-b8858087a0f7"
      },
      "outputs": [
        {
          "name": "stdout",
          "output_type": "stream",
          "text": [
            "['Los', 'gatos', 'están', 'corriendo', 'más', 'rápido', 'que', 'los', 'perros', 'y', 'los', 'niños', 'están', 'jugando', 'con', 'sus', 'juguetes']\n"
          ]
        }
      ],
      "source": [
        "# Tokenizar la frase en palabras individuales\n",
        "palabras = word_tokenize(frase, language='spanish')\n",
        "print(palabras)"
      ]
    },
    {
      "cell_type": "code",
      "execution_count": 33,
      "metadata": {
        "id": "m18xjXRw5M-t"
      },
      "outputs": [],
      "source": [
        "# Aplicar stemming a cada palabra\n",
        "palabras_stemmizadas = [stemmer.stem(palabra) for palabra in palabras]"
      ]
    },
    {
      "cell_type": "code",
      "execution_count": 34,
      "metadata": {
        "colab": {
          "base_uri": "https://localhost:8080/"
        },
        "id": "bUkK9WW_5PId",
        "outputId": "b25001fc-d355-493d-9d7f-7ae14646f121"
      },
      "outputs": [
        {
          "name": "stdout",
          "output_type": "stream",
          "text": [
            "Frase original:\n",
            "Los gatos están corriendo más rápido que los perros y los niños están jugando con sus juguetes\n",
            "\n",
            "Palabras después de aplicar stemming:\n",
            "['los', 'gat', 'estan', 'corr', 'mas', 'rap', 'que', 'los', 'perr', 'y', 'los', 'niñ', 'estan', 'jug', 'con', 'sus', 'juguet']\n"
          ]
        }
      ],
      "source": [
        "# Mostrar el resultado\n",
        "print(\"Frase original:\")\n",
        "print(frase)\n",
        "print(\"\\nPalabras después de aplicar stemming:\")\n",
        "print(palabras_stemmizadas)"
      ]
    },
    {
      "cell_type": "markdown",
      "metadata": {
        "id": "vYn6zjpO042N"
      },
      "source": [
        "En el ejemplo anterior, las palabras \"gatos\", \"corriendo\", \"perros\", y \"jugando\" se reducen a \"gat\", \"corr\", \"perr\", y \"jug\" respectivamente, mostrando cómo el stemming puede agrupar diferentes formas de una palabra a una base común en español."
      ]
    },
    {
      "cell_type": "markdown",
      "metadata": {
        "id": "IWZJsRUw5j40"
      },
      "source": [
        "**Lematización**\n",
        "\n",
        "La lematización es el proceso de reducir las palabras a su forma base o lema, que es la forma canónica o de diccionario de una palabra. A diferencia del stemming, que simplemente corta los sufijos de las palabras, la lematización utiliza un análisis más profundo del contexto y la morfología de las palabras para convertirlas a su forma raíz. Esto significa que las palabras derivadas de la misma raíz se normalizan a una forma común basada en su significado. La lematización suele ser más precisa que el stemming porque considera la estructura gramatical y el contexto"
      ]
    },
    {
      "cell_type": "code",
      "execution_count": 35,
      "metadata": {
        "colab": {
          "base_uri": "https://localhost:8080/"
        },
        "id": "t4fXgugM5jld",
        "outputId": "7de3aea0-610b-4982-8051-85cc0e46454d"
      },
      "outputs": [
        {
          "name": "stderr",
          "output_type": "stream",
          "text": [
            "[nltk_data] Downloading package wordnet to\n",
            "[nltk_data]     C:\\Users\\QY539GE\\AppData\\Roaming\\nltk_data...\n",
            "[nltk_data]   Package wordnet is already up-to-date!\n",
            "[nltk_data] Downloading package omw-1.4 to\n",
            "[nltk_data]     C:\\Users\\QY539GE\\AppData\\Roaming\\nltk_data...\n",
            "[nltk_data]   Package omw-1.4 is already up-to-date!\n"
          ]
        },
        {
          "data": {
            "text/plain": [
              "True"
            ]
          },
          "execution_count": 35,
          "metadata": {},
          "output_type": "execute_result"
        }
      ],
      "source": [
        "nltk.download('wordnet')\n",
        "nltk.download('omw-1.4')"
      ]
    },
    {
      "cell_type": "code",
      "execution_count": 36,
      "metadata": {
        "colab": {
          "base_uri": "https://localhost:8080/"
        },
        "id": "dXfqcLeY7rNp",
        "outputId": "3f6e18fb-1b42-44ce-f9de-744be19e5736"
      },
      "outputs": [
        {
          "name": "stdout",
          "output_type": "stream",
          "text": [
            "Original Sentence:\n",
            "The cats are running faster than the dogs and the children are playing with their toys\n",
            "\n",
            "Lemmatized Words:\n",
            "['The', 'cat', 'are', 'running', 'faster', 'than', 'the', 'dog', 'and', 'the', 'child', 'are', 'playing', 'with', 'their', 'toy']\n"
          ]
        }
      ],
      "source": [
        "from nltk.stem import WordNetLemmatizer\n",
        "\n",
        "# Crear una instancia del WordNetLemmatizer\n",
        "lemmatizer = WordNetLemmatizer()\n",
        "\n",
        "# Definir una frase de ejemplo\n",
        "sentence = \"The cats are running faster than the dogs and the children are playing with their toys\"\n",
        "\n",
        "# Tokenizar la frase en palabras individuales\n",
        "words = word_tokenize(sentence)\n",
        "\n",
        "# Aplicar lematización a cada palabra\n",
        "lemmatized_words = [lemmatizer.lemmatize(word) for word in words]\n",
        "\n",
        "# Mostrar el resultado\n",
        "print(\"Original Sentence:\")\n",
        "print(sentence)\n",
        "print(\"\\nLemmatized Words:\")\n",
        "print(lemmatized_words)"
      ]
    },
    {
      "cell_type": "markdown",
      "metadata": {
        "id": "luyvkD37PJZ1"
      },
      "source": [
        "# SPACY"
      ]
    },
    {
      "cell_type": "code",
      "execution_count": 37,
      "metadata": {
        "colab": {
          "base_uri": "https://localhost:8080/"
        },
        "id": "orOiiYUf8wRw",
        "outputId": "755c369b-180a-47ab-e119-f763d19107fe"
      },
      "outputs": [
        {
          "name": "stdout",
          "output_type": "stream",
          "text": [
            "Requirement already satisfied: spacy in c:\\users\\qy539ge\\appdata\\local\\packages\\pythonsoftwarefoundation.python.3.11_qbz5n2kfra8p0\\localcache\\local-packages\\python311\\site-packages (3.8.7)\n",
            "Requirement already satisfied: spacy-legacy<3.1.0,>=3.0.11 in c:\\users\\qy539ge\\appdata\\local\\packages\\pythonsoftwarefoundation.python.3.11_qbz5n2kfra8p0\\localcache\\local-packages\\python311\\site-packages (from spacy) (3.0.12)\n",
            "Requirement already satisfied: spacy-loggers<2.0.0,>=1.0.0 in c:\\users\\qy539ge\\appdata\\local\\packages\\pythonsoftwarefoundation.python.3.11_qbz5n2kfra8p0\\localcache\\local-packages\\python311\\site-packages (from spacy) (1.0.5)\n",
            "Requirement already satisfied: murmurhash<1.1.0,>=0.28.0 in c:\\users\\qy539ge\\appdata\\local\\packages\\pythonsoftwarefoundation.python.3.11_qbz5n2kfra8p0\\localcache\\local-packages\\python311\\site-packages (from spacy) (1.0.13)\n",
            "Requirement already satisfied: cymem<2.1.0,>=2.0.2 in c:\\users\\qy539ge\\appdata\\local\\packages\\pythonsoftwarefoundation.python.3.11_qbz5n2kfra8p0\\localcache\\local-packages\\python311\\site-packages (from spacy) (2.0.11)\n",
            "Requirement already satisfied: preshed<3.1.0,>=3.0.2 in c:\\users\\qy539ge\\appdata\\local\\packages\\pythonsoftwarefoundation.python.3.11_qbz5n2kfra8p0\\localcache\\local-packages\\python311\\site-packages (from spacy) (3.0.10)\n",
            "Requirement already satisfied: thinc<8.4.0,>=8.3.4 in c:\\users\\qy539ge\\appdata\\local\\packages\\pythonsoftwarefoundation.python.3.11_qbz5n2kfra8p0\\localcache\\local-packages\\python311\\site-packages (from spacy) (8.3.6)\n",
            "Requirement already satisfied: wasabi<1.2.0,>=0.9.1 in c:\\users\\qy539ge\\appdata\\local\\packages\\pythonsoftwarefoundation.python.3.11_qbz5n2kfra8p0\\localcache\\local-packages\\python311\\site-packages (from spacy) (1.1.3)\n",
            "Requirement already satisfied: srsly<3.0.0,>=2.4.3 in c:\\users\\qy539ge\\appdata\\local\\packages\\pythonsoftwarefoundation.python.3.11_qbz5n2kfra8p0\\localcache\\local-packages\\python311\\site-packages (from spacy) (2.5.1)\n",
            "Requirement already satisfied: catalogue<2.1.0,>=2.0.6 in c:\\users\\qy539ge\\appdata\\local\\packages\\pythonsoftwarefoundation.python.3.11_qbz5n2kfra8p0\\localcache\\local-packages\\python311\\site-packages (from spacy) (2.0.10)\n",
            "Requirement already satisfied: weasel<0.5.0,>=0.1.0 in c:\\users\\qy539ge\\appdata\\local\\packages\\pythonsoftwarefoundation.python.3.11_qbz5n2kfra8p0\\localcache\\local-packages\\python311\\site-packages (from spacy) (0.4.1)\n",
            "Requirement already satisfied: typer<1.0.0,>=0.3.0 in c:\\users\\qy539ge\\appdata\\local\\packages\\pythonsoftwarefoundation.python.3.11_qbz5n2kfra8p0\\localcache\\local-packages\\python311\\site-packages (from spacy) (0.16.0)\n",
            "Requirement already satisfied: tqdm<5.0.0,>=4.38.0 in c:\\users\\qy539ge\\appdata\\local\\packages\\pythonsoftwarefoundation.python.3.11_qbz5n2kfra8p0\\localcache\\local-packages\\python311\\site-packages (from spacy) (4.66.5)\n",
            "Requirement already satisfied: numpy>=1.19.0 in c:\\users\\qy539ge\\appdata\\local\\packages\\pythonsoftwarefoundation.python.3.11_qbz5n2kfra8p0\\localcache\\local-packages\\python311\\site-packages (from spacy) (2.3.1)\n",
            "Requirement already satisfied: requests<3.0.0,>=2.13.0 in c:\\users\\qy539ge\\appdata\\local\\packages\\pythonsoftwarefoundation.python.3.11_qbz5n2kfra8p0\\localcache\\local-packages\\python311\\site-packages (from spacy) (2.32.3)\n",
            "Requirement already satisfied: pydantic!=1.8,!=1.8.1,<3.0.0,>=1.7.4 in c:\\users\\qy539ge\\appdata\\local\\packages\\pythonsoftwarefoundation.python.3.11_qbz5n2kfra8p0\\localcache\\local-packages\\python311\\site-packages (from spacy) (2.11.7)\n",
            "Requirement already satisfied: jinja2 in c:\\users\\qy539ge\\appdata\\local\\packages\\pythonsoftwarefoundation.python.3.11_qbz5n2kfra8p0\\localcache\\local-packages\\python311\\site-packages (from spacy) (3.1.4)\n",
            "Requirement already satisfied: setuptools in c:\\program files\\windowsapps\\pythonsoftwarefoundation.python.3.11_3.11.2544.0_x64__qbz5n2kfra8p0\\lib\\site-packages (from spacy) (65.5.0)\n",
            "Requirement already satisfied: packaging>=20.0 in c:\\users\\qy539ge\\appdata\\local\\packages\\pythonsoftwarefoundation.python.3.11_qbz5n2kfra8p0\\localcache\\local-packages\\python311\\site-packages (from spacy) (24.1)\n",
            "Requirement already satisfied: langcodes<4.0.0,>=3.2.0 in c:\\users\\qy539ge\\appdata\\local\\packages\\pythonsoftwarefoundation.python.3.11_qbz5n2kfra8p0\\localcache\\local-packages\\python311\\site-packages (from spacy) (3.5.0)\n",
            "Requirement already satisfied: language-data>=1.2 in c:\\users\\qy539ge\\appdata\\local\\packages\\pythonsoftwarefoundation.python.3.11_qbz5n2kfra8p0\\localcache\\local-packages\\python311\\site-packages (from langcodes<4.0.0,>=3.2.0->spacy) (1.3.0)\n",
            "Requirement already satisfied: annotated-types>=0.6.0 in c:\\users\\qy539ge\\appdata\\local\\packages\\pythonsoftwarefoundation.python.3.11_qbz5n2kfra8p0\\localcache\\local-packages\\python311\\site-packages (from pydantic!=1.8,!=1.8.1,<3.0.0,>=1.7.4->spacy) (0.7.0)\n",
            "Requirement already satisfied: pydantic-core==2.33.2 in c:\\users\\qy539ge\\appdata\\local\\packages\\pythonsoftwarefoundation.python.3.11_qbz5n2kfra8p0\\localcache\\local-packages\\python311\\site-packages (from pydantic!=1.8,!=1.8.1,<3.0.0,>=1.7.4->spacy) (2.33.2)\n",
            "Requirement already satisfied: typing-extensions>=4.12.2 in c:\\users\\qy539ge\\appdata\\local\\packages\\pythonsoftwarefoundation.python.3.11_qbz5n2kfra8p0\\localcache\\local-packages\\python311\\site-packages (from pydantic!=1.8,!=1.8.1,<3.0.0,>=1.7.4->spacy) (4.12.2)\n",
            "Requirement already satisfied: typing-inspection>=0.4.0 in c:\\users\\qy539ge\\appdata\\local\\packages\\pythonsoftwarefoundation.python.3.11_qbz5n2kfra8p0\\localcache\\local-packages\\python311\\site-packages (from pydantic!=1.8,!=1.8.1,<3.0.0,>=1.7.4->spacy) (0.4.1)\n",
            "Requirement already satisfied: charset-normalizer<4,>=2 in c:\\users\\qy539ge\\appdata\\local\\packages\\pythonsoftwarefoundation.python.3.11_qbz5n2kfra8p0\\localcache\\local-packages\\python311\\site-packages (from requests<3.0.0,>=2.13.0->spacy) (3.3.2)\n",
            "Requirement already satisfied: idna<4,>=2.5 in c:\\users\\qy539ge\\appdata\\local\\packages\\pythonsoftwarefoundation.python.3.11_qbz5n2kfra8p0\\localcache\\local-packages\\python311\\site-packages (from requests<3.0.0,>=2.13.0->spacy) (2.10)\n",
            "Requirement already satisfied: urllib3<3,>=1.21.1 in c:\\users\\qy539ge\\appdata\\local\\packages\\pythonsoftwarefoundation.python.3.11_qbz5n2kfra8p0\\localcache\\local-packages\\python311\\site-packages (from requests<3.0.0,>=2.13.0->spacy) (2.2.2)\n",
            "Requirement already satisfied: certifi>=2017.4.17 in c:\\users\\qy539ge\\appdata\\local\\packages\\pythonsoftwarefoundation.python.3.11_qbz5n2kfra8p0\\localcache\\local-packages\\python311\\site-packages (from requests<3.0.0,>=2.13.0->spacy) (2025.1.31)\n",
            "Requirement already satisfied: blis<1.4.0,>=1.3.0 in c:\\users\\qy539ge\\appdata\\local\\packages\\pythonsoftwarefoundation.python.3.11_qbz5n2kfra8p0\\localcache\\local-packages\\python311\\site-packages (from thinc<8.4.0,>=8.3.4->spacy) (1.3.0)\n",
            "Requirement already satisfied: confection<1.0.0,>=0.0.1 in c:\\users\\qy539ge\\appdata\\local\\packages\\pythonsoftwarefoundation.python.3.11_qbz5n2kfra8p0\\localcache\\local-packages\\python311\\site-packages (from thinc<8.4.0,>=8.3.4->spacy) (0.1.5)\n",
            "Requirement already satisfied: colorama in c:\\users\\qy539ge\\appdata\\local\\packages\\pythonsoftwarefoundation.python.3.11_qbz5n2kfra8p0\\localcache\\local-packages\\python311\\site-packages (from tqdm<5.0.0,>=4.38.0->spacy) (0.4.6)\n",
            "Requirement already satisfied: click>=8.0.0 in c:\\users\\qy539ge\\appdata\\local\\packages\\pythonsoftwarefoundation.python.3.11_qbz5n2kfra8p0\\localcache\\local-packages\\python311\\site-packages (from typer<1.0.0,>=0.3.0->spacy) (8.1.7)\n",
            "Requirement already satisfied: shellingham>=1.3.0 in c:\\users\\qy539ge\\appdata\\local\\packages\\pythonsoftwarefoundation.python.3.11_qbz5n2kfra8p0\\localcache\\local-packages\\python311\\site-packages (from typer<1.0.0,>=0.3.0->spacy) (1.5.4)\n",
            "Requirement already satisfied: rich>=10.11.0 in c:\\users\\qy539ge\\appdata\\local\\packages\\pythonsoftwarefoundation.python.3.11_qbz5n2kfra8p0\\localcache\\local-packages\\python311\\site-packages (from typer<1.0.0,>=0.3.0->spacy) (13.8.0)\n",
            "Requirement already satisfied: cloudpathlib<1.0.0,>=0.7.0 in c:\\users\\qy539ge\\appdata\\local\\packages\\pythonsoftwarefoundation.python.3.11_qbz5n2kfra8p0\\localcache\\local-packages\\python311\\site-packages (from weasel<0.5.0,>=0.1.0->spacy) (0.21.1)\n",
            "Requirement already satisfied: smart-open<8.0.0,>=5.2.1 in c:\\users\\qy539ge\\appdata\\local\\packages\\pythonsoftwarefoundation.python.3.11_qbz5n2kfra8p0\\localcache\\local-packages\\python311\\site-packages (from weasel<0.5.0,>=0.1.0->spacy) (7.3.0.post1)\n",
            "Requirement already satisfied: wrapt in c:\\users\\qy539ge\\appdata\\local\\packages\\pythonsoftwarefoundation.python.3.11_qbz5n2kfra8p0\\localcache\\local-packages\\python311\\site-packages (from smart-open<8.0.0,>=5.2.1->weasel<0.5.0,>=0.1.0->spacy) (1.16.0)\n",
            "Requirement already satisfied: marisa-trie>=1.1.0 in c:\\users\\qy539ge\\appdata\\local\\packages\\pythonsoftwarefoundation.python.3.11_qbz5n2kfra8p0\\localcache\\local-packages\\python311\\site-packages (from language-data>=1.2->langcodes<4.0.0,>=3.2.0->spacy) (1.2.1)\n",
            "Requirement already satisfied: markdown-it-py>=2.2.0 in c:\\users\\qy539ge\\appdata\\local\\packages\\pythonsoftwarefoundation.python.3.11_qbz5n2kfra8p0\\localcache\\local-packages\\python311\\site-packages (from rich>=10.11.0->typer<1.0.0,>=0.3.0->spacy) (3.0.0)\n",
            "Requirement already satisfied: pygments<3.0.0,>=2.13.0 in c:\\users\\qy539ge\\appdata\\local\\packages\\pythonsoftwarefoundation.python.3.11_qbz5n2kfra8p0\\localcache\\local-packages\\python311\\site-packages (from rich>=10.11.0->typer<1.0.0,>=0.3.0->spacy) (2.18.0)\n",
            "Requirement already satisfied: mdurl~=0.1 in c:\\users\\qy539ge\\appdata\\local\\packages\\pythonsoftwarefoundation.python.3.11_qbz5n2kfra8p0\\localcache\\local-packages\\python311\\site-packages (from markdown-it-py>=2.2.0->rich>=10.11.0->typer<1.0.0,>=0.3.0->spacy) (0.1.2)\n",
            "Requirement already satisfied: MarkupSafe>=2.0 in c:\\users\\qy539ge\\appdata\\local\\packages\\pythonsoftwarefoundation.python.3.11_qbz5n2kfra8p0\\localcache\\local-packages\\python311\\site-packages (from jinja2->spacy) (2.1.5)\n",
            "Collecting es-core-news-sm==3.8.0\n",
            "  Downloading https://github.com/explosion/spacy-models/releases/download/es_core_news_sm-3.8.0/es_core_news_sm-3.8.0-py3-none-any.whl (12.9 MB)\n",
            "     ---------------------------------------- 0.0/12.9 MB ? eta -:--:--\n",
            "     ------------- -------------------------- 4.5/12.9 MB 26.9 MB/s eta 0:00:01\n",
            "     --------------------------------- ----- 11.0/12.9 MB 28.7 MB/s eta 0:00:01\n",
            "     --------------------------------------  12.8/12.9 MB 28.8 MB/s eta 0:00:01\n",
            "     --------------------------------------  12.8/12.9 MB 28.8 MB/s eta 0:00:01\n",
            "     --------------------------------------- 12.9/12.9 MB 13.5 MB/s eta 0:00:00\n",
            "\u001b[38;5;2m✔ Download and installation successful\u001b[0m\n",
            "You can now load the package via spacy.load('es_core_news_sm')\n"
          ]
        }
      ],
      "source": [
        "! pip install spacy\n",
        "! python -m spacy download es_core_news_sm"
      ]
    },
    {
      "cell_type": "code",
      "execution_count": 38,
      "metadata": {
        "colab": {
          "base_uri": "https://localhost:8080/"
        },
        "id": "UAyCUGYa8RGX",
        "outputId": "8b32503d-6bb0-4e73-9874-cd83050e3e2d"
      },
      "outputs": [
        {
          "name": "stdout",
          "output_type": "stream",
          "text": [
            "Frase original:\n",
            "Los gatos están corriendo más rápido que los perros y los niños están jugando con sus juguetes\n",
            "\n",
            "Lemas:\n",
            "['el', 'gato', 'estar', 'correr', 'más', 'rápido', 'que', 'el', 'perro', 'y', 'el', 'niño', 'estar', 'jugar', 'con', 'su', 'juguete']\n"
          ]
        }
      ],
      "source": [
        "# Acá estamos usando SpaCy para procesar una frase en español y extraer los lemas de las palabras.\n",
        "# Esto nos permite obtener las formas base de las palabras, eliminando conjugaciones, plurales o variaciones gramaticales,\n",
        "# lo que facilita el análisis de texto en tareas de procesamiento de lenguaje natural.\n",
        "import spacy\n",
        "\n",
        "# Cargar el modelo de idioma español\n",
        "nlp = spacy.load(\"es_core_news_sm\")\n",
        "\n",
        "# Definir una frase de ejemplo\n",
        "frase = \"Los gatos están corriendo más rápido que los perros y los niños están jugando con sus juguetes\"\n",
        "\n",
        "# Procesar la frase con SpaCy\n",
        "doc = nlp(frase)\n",
        "\n",
        "# Extraer las lemas de cada palabra\n",
        "lemas = [token.lemma_ for token in doc]\n",
        "\n",
        "# Mostrar el resultado\n",
        "print(\"Frase original:\")\n",
        "print(frase)\n",
        "print(\"\\nLemas:\")\n",
        "print(lemas)"
      ]
    },
    {
      "cell_type": "markdown",
      "metadata": {
        "id": "u2pIIeie-QbN"
      },
      "source": [
        "**Árbol de análisis (Parse Tree)**\n",
        "\n",
        "Es una estructura de árbol que representa la sintaxis de una oración conforme a una gramática formal. Cada nodo del árbol representa un constituyente (parte de la oración), y las ramas muestran cómo estos constituyentes se combinan para formar la oración."
      ]
    },
    {
      "cell_type": "code",
      "execution_count": 39,
      "metadata": {
        "colab": {
          "base_uri": "https://localhost:8080/"
        },
        "id": "tFwI-hao-P5m",
        "outputId": "27815d3f-3c11-4670-c21e-ff360fbd6289"
      },
      "outputs": [
        {
          "name": "stdout",
          "output_type": "stream",
          "text": [
            "El -> det -> zorro\n",
            "rápido -> amod -> zorro\n",
            "zorro -> ROOT -> zorro\n",
            "marrón -> amod -> zorro\n",
            "salta -> compound -> zorro\n",
            "sobre -> case -> perro\n",
            "el -> det -> perro\n",
            "perro -> nmod -> zorro\n",
            "perezoso -> amod -> perro\n"
          ]
        },
        {
          "data": {
            "text/html": [
              "<span class=\"tex2jax_ignore\"><svg xmlns=\"http://www.w3.org/2000/svg\" xmlns:xlink=\"http://www.w3.org/1999/xlink\" xml:lang=\"es\" id=\"a88dd44a81d74e0ea9a19f36a04ea50c-0\" class=\"displacy\" width=\"860\" height=\"272.0\" direction=\"ltr\" style=\"max-width: none; height: 272.0px; color: #000000; background: #ffffff; font-family: Arial; direction: ltr\">\n",
              "<text class=\"displacy-token\" fill=\"currentColor\" text-anchor=\"middle\" y=\"182.0\">\n",
              "    <tspan class=\"displacy-word\" fill=\"currentColor\" x=\"50\">El</tspan>\n",
              "    <tspan class=\"displacy-tag\" dy=\"2em\" fill=\"currentColor\" x=\"50\">DET</tspan>\n",
              "</text>\n",
              "\n",
              "<text class=\"displacy-token\" fill=\"currentColor\" text-anchor=\"middle\" y=\"182.0\">\n",
              "    <tspan class=\"displacy-word\" fill=\"currentColor\" x=\"140\">rápido</tspan>\n",
              "    <tspan class=\"displacy-tag\" dy=\"2em\" fill=\"currentColor\" x=\"140\">ADJ</tspan>\n",
              "</text>\n",
              "\n",
              "<text class=\"displacy-token\" fill=\"currentColor\" text-anchor=\"middle\" y=\"182.0\">\n",
              "    <tspan class=\"displacy-word\" fill=\"currentColor\" x=\"230\">zorro</tspan>\n",
              "    <tspan class=\"displacy-tag\" dy=\"2em\" fill=\"currentColor\" x=\"230\">NOUN</tspan>\n",
              "</text>\n",
              "\n",
              "<text class=\"displacy-token\" fill=\"currentColor\" text-anchor=\"middle\" y=\"182.0\">\n",
              "    <tspan class=\"displacy-word\" fill=\"currentColor\" x=\"320\">marrón</tspan>\n",
              "    <tspan class=\"displacy-tag\" dy=\"2em\" fill=\"currentColor\" x=\"320\">ADJ</tspan>\n",
              "</text>\n",
              "\n",
              "<text class=\"displacy-token\" fill=\"currentColor\" text-anchor=\"middle\" y=\"182.0\">\n",
              "    <tspan class=\"displacy-word\" fill=\"currentColor\" x=\"410\">salta</tspan>\n",
              "    <tspan class=\"displacy-tag\" dy=\"2em\" fill=\"currentColor\" x=\"410\">NOUN</tspan>\n",
              "</text>\n",
              "\n",
              "<text class=\"displacy-token\" fill=\"currentColor\" text-anchor=\"middle\" y=\"182.0\">\n",
              "    <tspan class=\"displacy-word\" fill=\"currentColor\" x=\"500\">sobre</tspan>\n",
              "    <tspan class=\"displacy-tag\" dy=\"2em\" fill=\"currentColor\" x=\"500\">ADP</tspan>\n",
              "</text>\n",
              "\n",
              "<text class=\"displacy-token\" fill=\"currentColor\" text-anchor=\"middle\" y=\"182.0\">\n",
              "    <tspan class=\"displacy-word\" fill=\"currentColor\" x=\"590\">el</tspan>\n",
              "    <tspan class=\"displacy-tag\" dy=\"2em\" fill=\"currentColor\" x=\"590\">DET</tspan>\n",
              "</text>\n",
              "\n",
              "<text class=\"displacy-token\" fill=\"currentColor\" text-anchor=\"middle\" y=\"182.0\">\n",
              "    <tspan class=\"displacy-word\" fill=\"currentColor\" x=\"680\">perro</tspan>\n",
              "    <tspan class=\"displacy-tag\" dy=\"2em\" fill=\"currentColor\" x=\"680\">NOUN</tspan>\n",
              "</text>\n",
              "\n",
              "<text class=\"displacy-token\" fill=\"currentColor\" text-anchor=\"middle\" y=\"182.0\">\n",
              "    <tspan class=\"displacy-word\" fill=\"currentColor\" x=\"770\">perezoso</tspan>\n",
              "    <tspan class=\"displacy-tag\" dy=\"2em\" fill=\"currentColor\" x=\"770\">ADJ</tspan>\n",
              "</text>\n",
              "\n",
              "<g class=\"displacy-arrow\">\n",
              "    <path class=\"displacy-arc\" id=\"arrow-a88dd44a81d74e0ea9a19f36a04ea50c-0-0\" stroke-width=\"2px\" d=\"M70,137.0 C70,47.0 225.0,47.0 225.0,137.0\" fill=\"none\" stroke=\"currentColor\"/>\n",
              "    <text dy=\"1.25em\" style=\"font-size: 0.8em; letter-spacing: 1px\">\n",
              "        <textPath xlink:href=\"#arrow-a88dd44a81d74e0ea9a19f36a04ea50c-0-0\" class=\"displacy-label\" startOffset=\"50%\" side=\"left\" fill=\"currentColor\" text-anchor=\"middle\">det</textPath>\n",
              "    </text>\n",
              "    <path class=\"displacy-arrowhead\" d=\"M70,139.0 L62,127.0 78,127.0\" fill=\"currentColor\"/>\n",
              "</g>\n",
              "\n",
              "<g class=\"displacy-arrow\">\n",
              "    <path class=\"displacy-arc\" id=\"arrow-a88dd44a81d74e0ea9a19f36a04ea50c-0-1\" stroke-width=\"2px\" d=\"M160,137.0 C160,92.0 220.0,92.0 220.0,137.0\" fill=\"none\" stroke=\"currentColor\"/>\n",
              "    <text dy=\"1.25em\" style=\"font-size: 0.8em; letter-spacing: 1px\">\n",
              "        <textPath xlink:href=\"#arrow-a88dd44a81d74e0ea9a19f36a04ea50c-0-1\" class=\"displacy-label\" startOffset=\"50%\" side=\"left\" fill=\"currentColor\" text-anchor=\"middle\">amod</textPath>\n",
              "    </text>\n",
              "    <path class=\"displacy-arrowhead\" d=\"M160,139.0 L152,127.0 168,127.0\" fill=\"currentColor\"/>\n",
              "</g>\n",
              "\n",
              "<g class=\"displacy-arrow\">\n",
              "    <path class=\"displacy-arc\" id=\"arrow-a88dd44a81d74e0ea9a19f36a04ea50c-0-2\" stroke-width=\"2px\" d=\"M250,137.0 C250,92.0 310.0,92.0 310.0,137.0\" fill=\"none\" stroke=\"currentColor\"/>\n",
              "    <text dy=\"1.25em\" style=\"font-size: 0.8em; letter-spacing: 1px\">\n",
              "        <textPath xlink:href=\"#arrow-a88dd44a81d74e0ea9a19f36a04ea50c-0-2\" class=\"displacy-label\" startOffset=\"50%\" side=\"left\" fill=\"currentColor\" text-anchor=\"middle\">amod</textPath>\n",
              "    </text>\n",
              "    <path class=\"displacy-arrowhead\" d=\"M310.0,139.0 L318.0,127.0 302.0,127.0\" fill=\"currentColor\"/>\n",
              "</g>\n",
              "\n",
              "<g class=\"displacy-arrow\">\n",
              "    <path class=\"displacy-arc\" id=\"arrow-a88dd44a81d74e0ea9a19f36a04ea50c-0-3\" stroke-width=\"2px\" d=\"M250,137.0 C250,47.0 405.0,47.0 405.0,137.0\" fill=\"none\" stroke=\"currentColor\"/>\n",
              "    <text dy=\"1.25em\" style=\"font-size: 0.8em; letter-spacing: 1px\">\n",
              "        <textPath xlink:href=\"#arrow-a88dd44a81d74e0ea9a19f36a04ea50c-0-3\" class=\"displacy-label\" startOffset=\"50%\" side=\"left\" fill=\"currentColor\" text-anchor=\"middle\">compound</textPath>\n",
              "    </text>\n",
              "    <path class=\"displacy-arrowhead\" d=\"M405.0,139.0 L413.0,127.0 397.0,127.0\" fill=\"currentColor\"/>\n",
              "</g>\n",
              "\n",
              "<g class=\"displacy-arrow\">\n",
              "    <path class=\"displacy-arc\" id=\"arrow-a88dd44a81d74e0ea9a19f36a04ea50c-0-4\" stroke-width=\"2px\" d=\"M520,137.0 C520,47.0 675.0,47.0 675.0,137.0\" fill=\"none\" stroke=\"currentColor\"/>\n",
              "    <text dy=\"1.25em\" style=\"font-size: 0.8em; letter-spacing: 1px\">\n",
              "        <textPath xlink:href=\"#arrow-a88dd44a81d74e0ea9a19f36a04ea50c-0-4\" class=\"displacy-label\" startOffset=\"50%\" side=\"left\" fill=\"currentColor\" text-anchor=\"middle\">case</textPath>\n",
              "    </text>\n",
              "    <path class=\"displacy-arrowhead\" d=\"M520,139.0 L512,127.0 528,127.0\" fill=\"currentColor\"/>\n",
              "</g>\n",
              "\n",
              "<g class=\"displacy-arrow\">\n",
              "    <path class=\"displacy-arc\" id=\"arrow-a88dd44a81d74e0ea9a19f36a04ea50c-0-5\" stroke-width=\"2px\" d=\"M610,137.0 C610,92.0 670.0,92.0 670.0,137.0\" fill=\"none\" stroke=\"currentColor\"/>\n",
              "    <text dy=\"1.25em\" style=\"font-size: 0.8em; letter-spacing: 1px\">\n",
              "        <textPath xlink:href=\"#arrow-a88dd44a81d74e0ea9a19f36a04ea50c-0-5\" class=\"displacy-label\" startOffset=\"50%\" side=\"left\" fill=\"currentColor\" text-anchor=\"middle\">det</textPath>\n",
              "    </text>\n",
              "    <path class=\"displacy-arrowhead\" d=\"M610,139.0 L602,127.0 618,127.0\" fill=\"currentColor\"/>\n",
              "</g>\n",
              "\n",
              "<g class=\"displacy-arrow\">\n",
              "    <path class=\"displacy-arc\" id=\"arrow-a88dd44a81d74e0ea9a19f36a04ea50c-0-6\" stroke-width=\"2px\" d=\"M250,137.0 C250,2.0 680.0,2.0 680.0,137.0\" fill=\"none\" stroke=\"currentColor\"/>\n",
              "    <text dy=\"1.25em\" style=\"font-size: 0.8em; letter-spacing: 1px\">\n",
              "        <textPath xlink:href=\"#arrow-a88dd44a81d74e0ea9a19f36a04ea50c-0-6\" class=\"displacy-label\" startOffset=\"50%\" side=\"left\" fill=\"currentColor\" text-anchor=\"middle\">nmod</textPath>\n",
              "    </text>\n",
              "    <path class=\"displacy-arrowhead\" d=\"M680.0,139.0 L688.0,127.0 672.0,127.0\" fill=\"currentColor\"/>\n",
              "</g>\n",
              "\n",
              "<g class=\"displacy-arrow\">\n",
              "    <path class=\"displacy-arc\" id=\"arrow-a88dd44a81d74e0ea9a19f36a04ea50c-0-7\" stroke-width=\"2px\" d=\"M700,137.0 C700,92.0 760.0,92.0 760.0,137.0\" fill=\"none\" stroke=\"currentColor\"/>\n",
              "    <text dy=\"1.25em\" style=\"font-size: 0.8em; letter-spacing: 1px\">\n",
              "        <textPath xlink:href=\"#arrow-a88dd44a81d74e0ea9a19f36a04ea50c-0-7\" class=\"displacy-label\" startOffset=\"50%\" side=\"left\" fill=\"currentColor\" text-anchor=\"middle\">amod</textPath>\n",
              "    </text>\n",
              "    <path class=\"displacy-arrowhead\" d=\"M760.0,139.0 L768.0,127.0 752.0,127.0\" fill=\"currentColor\"/>\n",
              "</g>\n",
              "</svg></span>"
            ],
            "text/plain": [
              "<IPython.core.display.HTML object>"
            ]
          },
          "metadata": {},
          "output_type": "display_data"
        }
      ],
      "source": [
        "# Definir una frase de ejemplo\n",
        "sentence = \"El rápido zorro marrón salta sobre el perro perezoso\"\n",
        "\n",
        "# Procesar la frase\n",
        "doc = nlp(sentence)\n",
        "\n",
        "# Mostrar las relaciones de dependencia y el árbol de análisis\n",
        "for token in doc:\n",
        "    print(f\"{token.text} -> {token.dep_} -> {token.head.text}\")\n",
        "\n",
        "# Dibujar el árbol de análisis sintáctico\n",
        "from spacy import displacy\n",
        "displacy.render(doc, style='dep', jupyter=True, options={'distance': 90})"
      ]
    },
    {
      "cell_type": "markdown",
      "metadata": {
        "id": "P5UDQmEiBbjH"
      },
      "source": [
        "**POS tagging (Part-of-Speech tagging)**\n",
        "\n",
        "Es el proceso de asignar a cada palabra en un texto una categoría gramatical (parte del discurso) según su contexto y significado en la oración."
      ]
    },
    {
      "cell_type": "code",
      "execution_count": 40,
      "metadata": {
        "colab": {
          "base_uri": "https://localhost:8080/"
        },
        "id": "zWVfHb5JC_B3",
        "outputId": "e01a36da-045f-42b1-f682-b2151fcd4537"
      },
      "outputs": [
        {
          "name": "stdout",
          "output_type": "stream",
          "text": [
            "Etiquetado Gramatical con SpaCy:\n",
            "El DET\n",
            "rápido ADJ\n",
            "zorro NOUN\n",
            "marrón ADJ\n",
            "salta NOUN\n",
            "sobre ADP\n",
            "el DET\n",
            "perro NOUN\n",
            "perezoso ADJ\n"
          ]
        }
      ],
      "source": [
        "# Oración de ejemplo en español\n",
        "sentence = \"El rápido zorro marrón salta sobre el perro perezoso\"\n",
        "\n",
        "# Procesamiento del texto con SpaCy\n",
        "doc = nlp(sentence)\n",
        "\n",
        "# Mostrar tokens y etiquetas POS\n",
        "print(\"Etiquetado Gramatical con SpaCy:\")\n",
        "for token in doc:\n",
        "    print(token.text, token.pos_)"
      ]
    },
    {
      "cell_type": "markdown",
      "metadata": {
        "id": "kR0WVaH2Basb"
      },
      "source": [
        "**Etiquetas para palabras**\n",
        "\n",
        "ADJ: Adjetivo\n",
        "\n",
        "ADP: Adposición (preposición o postposición)\n",
        "\n",
        "ADV: Adverbio\n",
        "\n",
        "AUX: Verbo auxiliar\n",
        "\n",
        "CCONJ: Conjunción coordinada\n",
        "\n",
        "DET: Determinante\n",
        "\n",
        "INTJ: Interjección\n",
        "\n",
        "NOUN: Sustantivo\n",
        "\n",
        "NUM: Numeral\n",
        "\n",
        "PART: Partícula (palabra que no cabe en otras categorías gramaticales)\n",
        "\n",
        "PRON: Pronombre\n",
        "\n",
        "PROPN: Nombre propio\n",
        "\n",
        "PUNCT: Puntuación\n",
        "\n",
        "SCONJ: Conjunción subordinada\n",
        "\n",
        "SYM: Símbolo\n",
        "\n",
        "VERB: Verbo\n",
        "\n",
        "X: Otras (por ejemplo, palabras que no son lingüísticamente relevantes)"
      ]
    },
    {
      "cell_type": "markdown",
      "metadata": {
        "id": "dJJfwRmwdFx9"
      },
      "source": [
        "# **Bag of Word**"
      ]
    },
    {
      "cell_type": "markdown",
      "metadata": {
        "id": "QYRVBC6NZ_W7"
      },
      "source": [
        "El \"Bag of Words\" (BoW) es una técnica que se utiliza para representar documentos de texto como vectores numéricos. Es un modelo simplificado pero poderoso que se centra en el conteo de ocurrencias de palabras en un documento, ignorando la estructura gramatical y el orden de las palabras"
      ]
    },
    {
      "cell_type": "code",
      "execution_count": 41,
      "metadata": {
        "colab": {
          "base_uri": "https://localhost:8080/"
        },
        "id": "nfAIsxBYdFVO",
        "outputId": "f8a45c7a-72f4-440a-d8a2-79099f2403c2"
      },
      "outputs": [
        {
          "name": "stdout",
          "output_type": "stream",
          "text": [
            "Vocabulario:\n",
            "['de' 'edad' 'el' 'era' 'fue' 'la' 'locura' 'los' 'mejor' 'peor'\n",
            " 'sabiduria' 'sabiduría' 'tiempos']\n",
            "\n",
            "Matriz BoW:\n",
            "[[1 0 1 0 1 0 0 1 1 0 0 0 1]\n",
            " [1 0 1 0 1 0 0 1 0 1 0 0 1]\n",
            " [1 1 0 1 0 2 0 0 0 0 1 1 0]\n",
            " [1 1 0 1 0 2 1 0 0 0 0 0 0]]\n"
          ]
        }
      ],
      "source": [
        "# sklearn: es el nombre abreviado de Scikit-learn, una biblioteca de Python muy usada para aprendizaje automático (machine learning).\n",
        "# feature_extraction: es un módulo dentro de sklearn que se usa para convertir datos crudos (como texto) en características numéricas que los modelos de ML puedan usar.\n",
        "# text: es un submódulo específico para trabajar con texto, y contiene herramientas para convertir texto a vectores numéricos.\n",
        "\n",
        "# CountVectorizer es una clase que permite transformar un conjunto de textos en una matriz de frecuencia de palabras.\n",
        "# Esta matriz es la representación clásica del modelo Bag of Words, donde:\n",
        "\n",
        "######### Cada fila representa un documento.\n",
        "######### Cada columna representa una palabra del vocabulario.\n",
        "######### Cada celda contiene el número de veces que esa palabra aparece en ese documento.\n",
        "\n",
        "\n",
        "from sklearn.feature_extraction.text import CountVectorizer\n",
        "\n",
        "# Ejemplo de documentos\n",
        "documentos = [\n",
        "    \"Fue el mejor de los !&/(!!tiempos\",\n",
        "    \"fue el peor de los tiempos\",\n",
        "    \"era la edad de la sabiduría sabiduria\",\n",
        "    \"era la edad de la locura\"\n",
        "]\n",
        "\n",
        "# Paso 1: Crear una instancia de CountVectorizer\n",
        "vectorizador = CountVectorizer()\n",
        "\n",
        "# Paso 2: Ajustar el vectorizador y transformar los documentos en una matriz BoW\n",
        "matriz_bow = vectorizador.fit_transform(documentos)\n",
        "\n",
        "# Paso 3: Obtener el vocabulario generado\n",
        "vocabulario = vectorizador.get_feature_names_out()\n",
        "\n",
        "# Mostrar el vocabulario y la matriz BoW resultante\n",
        "print(\"Vocabulario:\")\n",
        "print(vocabulario)\n",
        "print(\"\\nMatriz BoW:\")\n",
        "print(matriz_bow.toarray())"
      ]
    },
    {
      "cell_type": "markdown",
      "metadata": {
        "id": "NIbXFnm7jAvh"
      },
      "source": [
        "Documentos:\n",
        "\n",
        "Definimos una lista de documentos como ejemplo. Cada documento es una cadena de texto.\n",
        "CountVectorizer:\n",
        "\n",
        "CountVectorizer es una clase de scikit-learn que convierte una colección de documentos de texto en una matriz de recuentos de términos o en una representación de bolsa de palabras (BoW).\n",
        "\n",
        "Creamos una instancia de CountVectorizer y luego ajustamos (fit_transform) esta instancia a nuestros documentos. Esto construye el vocabulario y transforma los documentos en una matriz BoW.\n",
        "\n",
        "Vocabulario:\n",
        "\n",
        "get_feature_names_out() nos proporciona el vocabulario generado a partir de nuestros documentos. Cada palabra única en los documentos se convierte en una columna en la matriz BoW.\n",
        "Matriz BoW:\n",
        "\n",
        "matriz_bow.toarray() nos muestra la representación numérica de nuestros documentos en forma de matriz BoW, donde cada fila corresponde a un documento y cada columna corresponde a una palabra en el vocabulario."
      ]
    },
    {
      "cell_type": "markdown",
      "metadata": {
        "id": "2sDfc15UagJU"
      },
      "source": [
        "Interpretación:\n",
        "Vamos a interpretar la matriz BoW línea por línea, correspondiendo cada fila a un documento (o texto).\n",
        "\n",
        "Primera fila:\n",
        "\n",
        "Las palabras presentes y su frecuencia son: 'de': 1, 'el': 1, 'era': 1, 'fue': 1, 'los': 1, 'mejor': 1, 'sabiduría': 1.\n",
        "Esta fila indica que el primer documento contiene una vez cada una de estas palabras del vocabulario.\n",
        "\n",
        "Segunda fila:\n",
        "\n",
        "Las palabras presentes y su frecuencia son: 'de': 1, 'el': 1, 'era': 1, 'fue': 1, 'los': 1, 'peor': 1, 'tiempos': 1.\n",
        "Este segundo documento contiene una vez cada una de estas palabras del vocabulario.\n",
        "\n",
        "Tercera fila:\n",
        "\n",
        "Las palabras presentes y su frecuencia son: 'de': 1, 'edad': 1, 'la': 2, 'locura': 1, 'sabiduría': 1, 'tiempos': 1.\n",
        "El tercer documento contiene 'de' y 'edad' una vez cada una, 'la' dos veces, 'locura', 'sabiduría' y 'tiempos' una vez cada una.\n",
        "\n",
        "Cuarta fila:\n",
        "\n",
        "Las palabras presentes y su frecuencia son: 'de': 1, 'edad': 1, 'la': 2, 'locura': 1.\n",
        "El cuarto documento contiene 'de' y 'edad' una vez cada una, 'la' dos veces y 'locura' una vez."
      ]
    },
    {
      "cell_type": "markdown",
      "metadata": {
        "id": "oRzGDf95kdZp"
      },
      "source": [
        "**Obtener las palabras más frecuentes en todo el conjunto de documentos:**"
      ]
    },
    {
      "cell_type": "code",
      "execution_count": 42,
      "metadata": {
        "colab": {
          "base_uri": "https://localhost:8080/"
        },
        "id": "KK2ojecVjXKx",
        "outputId": "9671c0d4-f891-4883-8c52-b3adee10ec31"
      },
      "outputs": [
        {
          "name": "stdout",
          "output_type": "stream",
          "text": [
            "Palabras más frecuentes:\n",
            "[['locura' 'sabiduria' 'peor' 'mejor' 'sabiduría' 'edad' 'era' 'el'\n",
            "  'tiempos' 'los' 'fue' 'de' 'la']]: [[1 1 1 1 1 2 2 2 2 2 2 4 4]]\n"
          ]
        }
      ],
      "source": [
        "import numpy as np\n",
        "\n",
        "# Sumar las frecuencias de cada palabra en toda la matriz BoW\n",
        "frecuencia_total = np.sum(matriz_bow, axis=0)\n",
        "\n",
        "# Obtener las palabras más frecuentes y sus frecuencias\n",
        "indices_palabras_mas_frecuentes = np.argsort(frecuencia_total)[::-1][:5]  # obtener las 5 más frecuentes\n",
        "palabras_mas_frecuentes = [vocabulario[idx] for idx in indices_palabras_mas_frecuentes]\n",
        "frecuencias_mas_frecuentes = [frecuencia_total[0, idx] for idx in indices_palabras_mas_frecuentes]\n",
        "\n",
        "# Imprimir las palabras más frecuentes y sus frecuencias\n",
        "print(\"Palabras más frecuentes:\")\n",
        "for palabra, frecuencia in zip(palabras_mas_frecuentes, frecuencias_mas_frecuentes):\n",
        "    print(f\"{palabra}: {frecuencia}\")"
      ]
    },
    {
      "cell_type": "markdown",
      "metadata": {
        "id": "xi_U4WGql1jX"
      },
      "source": [
        "**Obtener el índice de una palabra en el vocabulario:**"
      ]
    },
    {
      "cell_type": "code",
      "execution_count": 43,
      "metadata": {
        "colab": {
          "base_uri": "https://localhost:8080/"
        },
        "id": "nx6OtwdplESl",
        "outputId": "995ae174-c7b1-431f-9ab6-a7d8f01c5bc3"
      },
      "outputs": [
        {
          "name": "stdout",
          "output_type": "stream",
          "text": [
            "Índice de 'tiempos' en el vocabulario: 12\n"
          ]
        }
      ],
      "source": [
        "# Convertir el numpy.ndarray a una lista estándar de Python\n",
        "vocabulario_lista = vocabulario.tolist()\n",
        "\n",
        "# Obtener el índice de la palabra \"tiempos\" en el vocabulario convertido a lista\n",
        "indice_tiempos = vocabulario_lista.index(\"tiempos\")\n",
        "print(f\"Índice de 'tiempos' en el vocabulario: {indice_tiempos}\")"
      ]
    },
    {
      "cell_type": "markdown",
      "metadata": {
        "id": "umqnAXlektr_"
      },
      "source": [
        "**Acceder al indice y a la frecuencia de una palabra específica en un documento:**"
      ]
    },
    {
      "cell_type": "code",
      "execution_count": 44,
      "metadata": {
        "colab": {
          "base_uri": "https://localhost:8080/"
        },
        "id": "SRjz485ukiLu",
        "outputId": "b5c0c444-3b4a-41b4-c8df-49ba997d491b"
      },
      "outputs": [
        {
          "name": "stdout",
          "output_type": "stream",
          "text": [
            "Índice de 'era' en el vocabulario: 3\n",
            "Frecuencia de 'era' en el segundo documento: 0\n"
          ]
        }
      ],
      "source": [
        "# Supongamos que queremos saber la frecuencia de la palabra \"era\" en el segundo documento\n",
        "\n",
        "# Obtener el índice de \"era\" en el vocabulario\n",
        "indice_era = np.where(vocabulario == \"era\")[0][0]\n",
        "\n",
        "# Obtener la frecuencia de \"era\" en el segundo documento\n",
        "indice_documento = 1  # índice del segundo documento\n",
        "frecuencia_era = matriz_bow[indice_documento, indice_era]\n",
        "\n",
        "print(f\"Índice de 'era' en el vocabulario: {indice_era}\")\n",
        "print(f\"Frecuencia de 'era' en el segundo documento: {frecuencia_era}\")"
      ]
    },
    {
      "cell_type": "markdown",
      "metadata": {
        "id": "btJpLW-VjCjL"
      },
      "source": [
        "# **TF-IDF**"
      ]
    },
    {
      "cell_type": "markdown",
      "metadata": {
        "id": "D_d3frPNn-p_"
      },
      "source": [
        "\n",
        "**TF-IDF**\n",
        "Es una medida que combina la frecuencia de una palabra en un documento con su rareza en el corpus completo.\n",
        "\n",
        "Matriz TF-IDF:\n",
        "Es una transformación de la DTM (o TDM) que pondera cada término en función de su frecuencia en el documento y su rareza en el corpus.\n",
        "\n",
        "TF (Term Frequency): frecuencia del término en un documento.\n",
        "\n",
        "IDF (Inverse Document Frequency): logaritmo inverso de la frecuencia de documentos que contienen el término."
      ]
    },
    {
      "cell_type": "markdown",
      "metadata": {
        "id": "-r1YYGqHhrBD"
      },
      "source": [
        "**Conceptos importantes**"
      ]
    },
    {
      "cell_type": "markdown",
      "metadata": {
        "id": "K6rzzDbmFKSP"
      },
      "source": [
        "**Corpus**\n",
        "\n",
        "Un corpus es un conjunto de textos escritos o hablados que se utilizan como fuente de datos y análisis lingüístico.\n",
        "Un corpus puede consistir en documentos individuales, frases o incluso palabras, dependiendo del nivel de detalle requerido para el análisis. Los corpus pueden ser pequeños, como una colección de documentos académicos, o enormes, como todos los textos disponibles en internet para un idioma específico"
      ]
    },
    {
      "cell_type": "markdown",
      "metadata": {
        "id": "iq9fRJwHLpwo"
      },
      "source": [
        "Cada fila representa un documento del corpus original, y cada columna corresponde a una palabra del vocabulario. Los valores en la matriz son los scores TF-IDF de cada palabra en cada documento"
      ]
    },
    {
      "cell_type": "code",
      "execution_count": 45,
      "metadata": {
        "colab": {
          "base_uri": "https://localhost:8080/"
        },
        "id": "grq3roFzKHig",
        "outputId": "4aa9ae49-06ae-43ea-e4d7-e1b4761ce3b4"
      },
      "outputs": [
        {
          "name": "stdout",
          "output_type": "stream",
          "text": [
            "Vocabulario:\n",
            "['de' 'edad' 'el' 'era' 'fue' 'la' 'locura' 'los' 'mejor' 'peor'\n",
            " 'sabiduría' 'tiempos']\n",
            "\n",
            "Matriz TF-IDF:\n",
            "[[0.26916612 0.         0.40666307 0.         0.40666307 0.\n",
            "  0.         0.40666307 0.51580054 0.         0.         0.40666307]\n",
            " [0.26916612 0.         0.40666307 0.         0.40666307 0.\n",
            "  0.         0.40666307 0.         0.51580054 0.         0.40666307]\n",
            " [0.23333087 0.35252226 0.         0.35252226 0.         0.70504452\n",
            "  0.         0.         0.         0.         0.44712979 0.        ]\n",
            " [0.23333087 0.35252226 0.         0.35252226 0.         0.70504452\n",
            "  0.44712979 0.         0.         0.         0.         0.        ]]\n"
          ]
        }
      ],
      "source": [
        "from sklearn.feature_extraction.text import TfidfVectorizer\n",
        "\n",
        "# Ejemplo de documentos\n",
        "documentos = [\n",
        "    \"Fue el mejor de los tiempos\",\n",
        "    \"Fue el peor de los tiempos\",\n",
        "    \"Era la edad de la sabiduría\",\n",
        "    \"Era la edad de la locura\"\n",
        "]\n",
        "\n",
        "#Crear una instancia del vectorizador TF-IDF\n",
        "vectorizador = TfidfVectorizer()\n",
        "\n",
        "#Ajustar el vectorizador y transformar los documentos en una matriz TF-IDF\n",
        "matriz_tfidf = vectorizador.fit_transform(documentos)\n",
        "\n",
        "#Obtener el vocabulario generado\n",
        "vocabulario = vectorizador.get_feature_names_out()\n",
        "\n",
        "# Mostrar el vocabulario y la matriz TF-IDF resultante\n",
        "print(\"Vocabulario:\")\n",
        "print(vocabulario)\n",
        "print(\"\\nMatriz TF-IDF:\")\n",
        "print(matriz_tfidf.toarray())"
      ]
    },
    {
      "cell_type": "markdown",
      "metadata": {
        "id": "YOuPP9fyMNR7"
      },
      "source": [
        "En el primer documento, las palabras \"de\", \"el\", \"fue\" y \"tiempos\" tienen scores TF-IDF más altos, lo que indica que son más importantes o distintivas en ese documento en comparación con el corpus general.\n",
        "En el tercer documento, las palabras \"era\", \"edad\", \"la\" y \"sabiduría\" tienen scores TF-IDF significativos, indicando su relevancia dentro de ese documento específico."
      ]
    },
    {
      "cell_type": "markdown",
      "metadata": {
        "id": "UX9ORsqfbFZq"
      },
      "source": [
        "**BoW** es más adecuado para tareas sencillas de NLP donde la frecuencia de palabras es suficiente, pero no se requiere capturar el contexto o la relevancia.\n",
        "\n",
        "**TF-IDF** es preferible cuando se necesita ponderar las palabras por su relevancia, como en sistemas de búsqueda, clasificación más avanzada o análisis de similitud entre documentos."
      ]
    },
    {
      "cell_type": "code",
      "execution_count": 46,
      "metadata": {
        "colab": {
          "base_uri": "https://localhost:8080/",
          "height": 614
        },
        "id": "XjpHjFvSKop3",
        "outputId": "c201f84a-c4bb-4a82-f6ec-a52f02a34035"
      },
      "outputs": [
        {
          "data": {
            "image/png": "[encoded data removed]",
            "text/plain": [
              "<Figure size 1000x600 with 2 Axes>"
            ]
          },
          "metadata": {},
          "output_type": "display_data"
        }
      ],
      "source": [
        "import matplotlib.pyplot as plt\n",
        "import seaborn as sns\n",
        "import numpy as np\n",
        "\n",
        "# Matriz TF-IDF de ejemplo\n",
        "tfidf_matrix = np.array([\n",
        "    [0.26916612, 0.,         0.40666307, 0.,         0.40666307, 0.,         0.,         0.40666307, 0.51580054, 0.,         0.,         0.40666307],\n",
        "    [0.26916612, 0.,         0.40666307, 0.,         0.40666307, 0.,         0.,         0.40666307, 0.,         0.51580054, 0.,         0.40666307],\n",
        "    [0.23333087, 0.35252226, 0.,         0.35252226, 0.,         0.70504452, 0.,         0.,         0.,         0.,         0.44712979, 0.        ],\n",
        "    [0.23333087, 0.35252226, 0.,         0.35252226, 0.,         0.70504452, 0.44712979, 0.,         0.,         0.,         0.,         0.        ]\n",
        "])\n",
        "\n",
        "# Etiquetas de los documentos y términos\n",
        "documentos = [\"Doc 1\", \"Doc 2\", \"Doc 3\", \"Doc 4\"]\n",
        "terminos = ['de', 'edad', 'el', 'era', 'fue', 'la', 'locura', 'los', 'mejor', 'peor', 'sabiduría', 'tiempos']\n",
        "\n",
        "# Crear el heatmap\n",
        "plt.figure(figsize=(10, 6))\n",
        "sns.heatmap(tfidf_matrix, annot=True, cmap=\"YlGnBu\", xticklabels=terminos, yticklabels=documentos, fmt=\".2f\")\n",
        "plt.title(\"Matriz TF-IDF\")\n",
        "plt.xlabel(\"Términos\")\n",
        "plt.ylabel(\"Documentos\")\n",
        "plt.show()"
      ]
    },
    {
      "cell_type": "markdown",
      "metadata": {
        "id": "8x_ch2KYLDCi"
      },
      "source": [
        "Los colores más oscuros representan valores más altos de TF-IDF, indicando mayor importancia relativa de los términos en esos documentos específicos"
      ]
    },
    {
      "cell_type": "markdown",
      "metadata": {
        "id": "ZeOawNXxYP5q"
      },
      "source": [
        "**Aplicación con un modelo BoW y uno TF-IDF**"
      ]
    },
    {
      "cell_type": "code",
      "execution_count": 47,
      "metadata": {
        "id": "Ap-41pQyTgya"
      },
      "outputs": [],
      "source": [
        "import pandas as pd                                  # Importa la librería pandas para manipulación de datos.\n",
        "from sklearn.feature_extraction.text import CountVectorizer, TfidfVectorizer # Importa herramientas para convertir texto en números (conteo y TF-IDF).\n",
        "from sklearn.model_selection import train_test_split     # Importa función para dividir datos en entrenamiento y prueba.\n",
        "from sklearn.linear_model import LogisticRegression    # Importa el modelo de regresión logística para clasificación.\n",
        "from sklearn.metrics import accuracy_score              # Importa métrica para evaluar la precisión del modelo."
      ]
    },
    {
      "cell_type": "code",
      "execution_count": 48,
      "metadata": {
        "colab": {
          "base_uri": "https://localhost:8080/",
          "height": 363
        },
        "id": "8D_tpLSGTpaE",
        "outputId": "09cdf480-f5e6-4b44-855a-486dc2b0f16b"
      },
      "outputs": [
        {
          "data": {
            "text/html": [
              "<div>\n",
              "<style scoped>\n",
              "    .dataframe tbody tr th:only-of-type {\n",
              "        vertical-align: middle;\n",
              "    }\n",
              "\n",
              "    .dataframe tbody tr th {\n",
              "        vertical-align: top;\n",
              "    }\n",
              "\n",
              "    .dataframe thead th {\n",
              "        text-align: right;\n",
              "    }\n",
              "</style>\n",
              "<table border=\"1\" class=\"dataframe\">\n",
              "  <thead>\n",
              "    <tr style=\"text-align: right;\">\n",
              "      <th></th>\n",
              "      <th>reseña</th>\n",
              "      <th>clasificacion</th>\n",
              "    </tr>\n",
              "  </thead>\n",
              "  <tbody>\n",
              "    <tr>\n",
              "      <th>0</th>\n",
              "      <td>Me encantó la película, fue increíble.</td>\n",
              "      <td>1</td>\n",
              "    </tr>\n",
              "    <tr>\n",
              "      <th>1</th>\n",
              "      <td>Muy aburrida y larga, no la recomiendo.</td>\n",
              "      <td>0</td>\n",
              "    </tr>\n",
              "    <tr>\n",
              "      <th>2</th>\n",
              "      <td>Los efectos especiales fueron excelentes.</td>\n",
              "      <td>1</td>\n",
              "    </tr>\n",
              "    <tr>\n",
              "      <th>3</th>\n",
              "      <td>La trama fue predecible y poco interesante.</td>\n",
              "      <td>0</td>\n",
              "    </tr>\n",
              "    <tr>\n",
              "      <th>4</th>\n",
              "      <td>Gran actuación, me gustó mucho.</td>\n",
              "      <td>1</td>\n",
              "    </tr>\n",
              "    <tr>\n",
              "      <th>5</th>\n",
              "      <td>El guion es muy malo y los personajes son poco...</td>\n",
              "      <td>0</td>\n",
              "    </tr>\n",
              "    <tr>\n",
              "      <th>6</th>\n",
              "      <td>Una obra maestra, de principio a fin impresion...</td>\n",
              "      <td>1</td>\n",
              "    </tr>\n",
              "    <tr>\n",
              "      <th>7</th>\n",
              "      <td>No pude terminarla, fue muy mala.</td>\n",
              "      <td>0</td>\n",
              "    </tr>\n",
              "    <tr>\n",
              "      <th>8</th>\n",
              "      <td>La fotografía es preciosa, pero la historia no...</td>\n",
              "      <td>0</td>\n",
              "    </tr>\n",
              "    <tr>\n",
              "      <th>9</th>\n",
              "      <td>Una película emocionante, me mantuvo interesad...</td>\n",
              "      <td>1</td>\n",
              "    </tr>\n",
              "  </tbody>\n",
              "</table>\n",
              "</div>"
            ],
            "text/plain": [
              "                                              reseña  clasificacion\n",
              "0             Me encantó la película, fue increíble.              1\n",
              "1            Muy aburrida y larga, no la recomiendo.              0\n",
              "2          Los efectos especiales fueron excelentes.              1\n",
              "3        La trama fue predecible y poco interesante.              0\n",
              "4                    Gran actuación, me gustó mucho.              1\n",
              "5  El guion es muy malo y los personajes son poco...              0\n",
              "6  Una obra maestra, de principio a fin impresion...              1\n",
              "7                  No pude terminarla, fue muy mala.              0\n",
              "8  La fotografía es preciosa, pero la historia no...              0\n",
              "9  Una película emocionante, me mantuvo interesad...              1"
            ]
          },
          "execution_count": 48,
          "metadata": {},
          "output_type": "execute_result"
        }
      ],
      "source": [
        "# Dataset con ejemplos de reseñas de peliculas\n",
        "data = {\n",
        "    'reseña': [\n",
        "        \"Me encantó la película, fue increíble.\",\n",
        "        \"Muy aburrida y larga, no la recomiendo.\",\n",
        "        \"Los efectos especiales fueron excelentes.\",\n",
        "        \"La trama fue predecible y poco interesante.\",\n",
        "        \"Gran actuación, me gustó mucho.\",\n",
        "        \"El guion es muy malo y los personajes son poco creíbles.\",\n",
        "        \"Una obra maestra, de principio a fin impresionante.\",\n",
        "        \"No pude terminarla, fue muy mala.\",\n",
        "        \"La fotografía es preciosa, pero la historia no tanto.\",\n",
        "        \"Una película emocionante, me mantuvo interesado todo el tiempo.\",\n",
        "        \"Una película más del montón, nada especial.\",\n",
        "        \"La banda sonora es increíble, la mejor parte.\",\n",
        "        \"Actuaciones muy flojas, no la recomiendo.\",\n",
        "        \"Una obra de arte cinematográfica, lo mejor que he visto.\",\n",
        "        \"Mala dirección, no tiene ningún sentido la trama.\",\n",
        "        \"Una de las peores películas que he visto.\",\n",
        "        \"No pude parar de reír, muy divertida.\",\n",
        "        \"Una experiencia visual impresionante, pero la historia es débil.\",\n",
        "        \"Es una película que recordaré siempre.\",\n",
        "        \"Terrible, no vale la pena verla.\",\n",
        "        \"La dirección fue magistral, cada escena fue perfecta.\",\n",
        "        \"El casting fue muy bueno, pero la historia no tanto.\",\n",
        "        \"Nada original, parece una copia de otras películas.\",\n",
        "        \"Los personajes fueron inolvidables, sobre todo el protagonista.\",\n",
        "        \"Una pérdida de tiempo, no la recomiendo para nada.\",\n",
        "        \"El ritmo de la película fue excelente, no aburre en ningún momento.\",\n",
        "        \"Me pareció muy lenta y sin ningún sentido.\",\n",
        "        \"Una joya del cine moderno, realmente me sorprendió.\",\n",
        "        \"Un desastre total, no sé cómo alguien la puede disfrutar.\",\n",
        "        \"La cinematografía es hermosa, pero la historia es aburrida.\",\n",
        "        \"Es la mejor película que he visto este año.\",\n",
        "        \"Una trama muy confusa, no entendí casi nada.\",\n",
        "        \"Gran química entre los actores, eso salvó la película.\",\n",
        "        \"No tiene nada de especial, una película muy promedio.\",\n",
        "        \"Me reí de principio a fin, muy entretenida.\",\n",
        "        \"El guion fue muy pobre, no me enganchó en ningún momento.\",\n",
        "        \"Una experiencia cinematográfica que te atrapa desde el inicio.\",\n",
        "        \"No entiendo por qué tiene tan buenas críticas, fue pésima.\",\n",
        "        \"Un clásico instantáneo, la volvería a ver sin dudas.\",\n",
        "        \"El final fue muy predecible, una decepción.\",\n",
        "        \"Una película inspiradora, realmente me llegó al corazón.\",\n",
        "        \"Aburrida de principio a fin, me quedé dormido.\",\n",
        "        \"Los efectos visuales son impresionantes, la mejor parte de la película.\",\n",
        "        \"No tiene trama, solo se enfoca en los efectos visuales.\",\n",
        "        \"Una mezcla de emociones, realmente increíble.\",\n",
        "        \"Pésima actuación, los actores no dieron la talla.\",\n",
        "        \"Un viaje emocional, me hizo llorar en varias escenas.\",\n",
        "        \"Muy sobrevalorada, no entiendo por qué a la gente le gusta.\",\n",
        "        \"Una experiencia cinematográfica profunda, me dejó pensando.\",\n",
        "        \"Nada memorable, una película que olvidaré pronto.\"\n",
        "    ],\n",
        "    'clasificacion': [1, 0, 1, 0, 1, 0, 1, 0, 0, 1, 0, 1, 0, 1, 0, 0, 1, 0, 1, 0,\n",
        "                      1, 0, 0, 1, 0, 1, 0, 1, 0, 1, 0, 1, 0, 1, 0, 1, 0, 1, 0, 1,\n",
        "                      0, 1, 0, 1, 0, 1, 0, 1, 0, 0]\n",
        "}\n",
        "\n",
        "df = pd.DataFrame(data)\n",
        "df.head(10)"
      ]
    },
    {
      "cell_type": "code",
      "execution_count": 49,
      "metadata": {
        "id": "2asZJYCDTxzC"
      },
      "outputs": [],
      "source": [
        "# Separar características (reseña) y objetivo (clasificacion)\n",
        "X = df['reseña']\n",
        "y = df['clasificacion']"
      ]
    },
    {
      "cell_type": "code",
      "execution_count": 50,
      "metadata": {
        "colab": {
          "base_uri": "https://localhost:8080/",
          "height": 1000
        },
        "id": "pVyf4IhlYsny",
        "outputId": "12e72b67-3636-4003-8525-437392ff478a"
      },
      "outputs": [
        {
          "data": {
            "text/plain": [
              "0                Me encantó la película, fue increíble.\n",
              "1               Muy aburrida y larga, no la recomiendo.\n",
              "2             Los efectos especiales fueron excelentes.\n",
              "3           La trama fue predecible y poco interesante.\n",
              "4                       Gran actuación, me gustó mucho.\n",
              "5     El guion es muy malo y los personajes son poco...\n",
              "6     Una obra maestra, de principio a fin impresion...\n",
              "7                     No pude terminarla, fue muy mala.\n",
              "8     La fotografía es preciosa, pero la historia no...\n",
              "9     Una película emocionante, me mantuvo interesad...\n",
              "10          Una película más del montón, nada especial.\n",
              "11        La banda sonora es increíble, la mejor parte.\n",
              "12            Actuaciones muy flojas, no la recomiendo.\n",
              "13    Una obra de arte cinematográfica, lo mejor que...\n",
              "14    Mala dirección, no tiene ningún sentido la trama.\n",
              "15            Una de las peores películas que he visto.\n",
              "16                No pude parar de reír, muy divertida.\n",
              "17    Una experiencia visual impresionante, pero la ...\n",
              "18               Es una película que recordaré siempre.\n",
              "19                     Terrible, no vale la pena verla.\n",
              "20    La dirección fue magistral, cada escena fue pe...\n",
              "21    El casting fue muy bueno, pero la historia no ...\n",
              "22    Nada original, parece una copia de otras pelíc...\n",
              "23    Los personajes fueron inolvidables, sobre todo...\n",
              "24    Una pérdida de tiempo, no la recomiendo para n...\n",
              "25    El ritmo de la película fue excelente, no abur...\n",
              "26           Me pareció muy lenta y sin ningún sentido.\n",
              "27    Una joya del cine moderno, realmente me sorpre...\n",
              "28    Un desastre total, no sé cómo alguien la puede...\n",
              "29    La cinematografía es hermosa, pero la historia...\n",
              "30          Es la mejor película que he visto este año.\n",
              "31         Una trama muy confusa, no entendí casi nada.\n",
              "32    Gran química entre los actores, eso salvó la p...\n",
              "33    No tiene nada de especial, una película muy pr...\n",
              "34          Me reí de principio a fin, muy entretenida.\n",
              "35    El guion fue muy pobre, no me enganchó en ning...\n",
              "36    Una experiencia cinematográfica que te atrapa ...\n",
              "37    No entiendo por qué tiene tan buenas críticas,...\n",
              "38    Un clásico instantáneo, la volvería a ver sin ...\n",
              "39          El final fue muy predecible, una decepción.\n",
              "40    Una película inspiradora, realmente me llegó a...\n",
              "41       Aburrida de principio a fin, me quedé dormido.\n",
              "42    Los efectos visuales son impresionantes, la me...\n",
              "43    No tiene trama, solo se enfoca en los efectos ...\n",
              "44        Una mezcla de emociones, realmente increíble.\n",
              "45    Pésima actuación, los actores no dieron la talla.\n",
              "46    Un viaje emocional, me hizo llorar en varias e...\n",
              "47    Muy sobrevalorada, no entiendo por qué a la ge...\n",
              "48    Una experiencia cinematográfica profunda, me d...\n",
              "49    Nada memorable, una película que olvidaré pronto.\n",
              "Name: reseña, dtype: object"
            ]
          },
          "execution_count": 50,
          "metadata": {},
          "output_type": "execute_result"
        }
      ],
      "source": [
        "X"
      ]
    },
    {
      "cell_type": "code",
      "execution_count": 51,
      "metadata": {
        "colab": {
          "base_uri": "https://localhost:8080/",
          "height": 1000
        },
        "id": "8jC3L7goY1Hm",
        "outputId": "55337b2e-2e88-49db-d621-e5f1f9c2c2c3"
      },
      "outputs": [
        {
          "data": {
            "text/plain": [
              "0     1\n",
              "1     0\n",
              "2     1\n",
              "3     0\n",
              "4     1\n",
              "5     0\n",
              "6     1\n",
              "7     0\n",
              "8     0\n",
              "9     1\n",
              "10    0\n",
              "11    1\n",
              "12    0\n",
              "13    1\n",
              "14    0\n",
              "15    0\n",
              "16    1\n",
              "17    0\n",
              "18    1\n",
              "19    0\n",
              "20    1\n",
              "21    0\n",
              "22    0\n",
              "23    1\n",
              "24    0\n",
              "25    1\n",
              "26    0\n",
              "27    1\n",
              "28    0\n",
              "29    1\n",
              "30    0\n",
              "31    1\n",
              "32    0\n",
              "33    1\n",
              "34    0\n",
              "35    1\n",
              "36    0\n",
              "37    1\n",
              "38    0\n",
              "39    1\n",
              "40    0\n",
              "41    1\n",
              "42    0\n",
              "43    1\n",
              "44    0\n",
              "45    1\n",
              "46    0\n",
              "47    1\n",
              "48    0\n",
              "49    0\n",
              "Name: clasificacion, dtype: int64"
            ]
          },
          "execution_count": 51,
          "metadata": {},
          "output_type": "execute_result"
        }
      ],
      "source": [
        "y"
      ]
    },
    {
      "cell_type": "code",
      "execution_count": 52,
      "metadata": {
        "id": "GHwHugocYoiq"
      },
      "outputs": [],
      "source": [
        "# Dividir el dataset en conjunto de entrenamiento y prueba\n",
        "X_train, X_test, y_train, y_test = train_test_split(X, y, test_size=0.3, random_state=42)"
      ]
    },
    {
      "cell_type": "code",
      "execution_count": 53,
      "metadata": {
        "id": "lo8O0kXZT6T6"
      },
      "outputs": [],
      "source": [
        "# Inicializar el CountVectorizer (BoW)\n",
        "vectorizador_bow = CountVectorizer()\n",
        "\n",
        "# Ajustar y transformar las reseñas de entrenamiento\n",
        "X_train_bow = vectorizador_bow.fit_transform(X_train)"
      ]
    },
    {
      "cell_type": "code",
      "execution_count": 54,
      "metadata": {
        "colab": {
          "base_uri": "https://localhost:8080/"
        },
        "id": "H5x2S0E1ZLHi",
        "outputId": "c2993754-5f4b-43e6-d004-87106e49aad6"
      },
      "outputs": [
        {
          "data": {
            "text/plain": [
              "<Compressed Sparse Row sparse matrix of dtype 'int64'\n",
              "\twith 278 stored elements and shape (35, 148)>"
            ]
          },
          "execution_count": 54,
          "metadata": {},
          "output_type": "execute_result"
        }
      ],
      "source": [
        "X_train_bow"
      ]
    },
    {
      "cell_type": "code",
      "execution_count": 55,
      "metadata": {
        "colab": {
          "base_uri": "https://localhost:8080/"
        },
        "id": "7Dn7F1X8UBAx",
        "outputId": "c9a76dab-a996-46a7-a4c8-c70e4ad9cdcb"
      },
      "outputs": [
        {
          "name": "stdout",
          "output_type": "stream",
          "text": [
            "Vocabulario BoW: ['aburrida' 'al' 'alguien' 'atrapa' 'banda' 'bueno' 'cada' 'casi'\n",
            " 'casting' 'cine' 'cinematografía' 'cinematográfica' 'clásico' 'confusa'\n",
            " 'copia' 'corazón' 'creíbles' 'cómo' 'de' 'del' 'desastre' 'desde'\n",
            " 'dirección' 'disfrutar' 'divertida' 'dormido' 'dudas' 'efectos' 'el'\n",
            " 'emocional' 'emocionante' 'emociones' 'en' 'encantó' 'enfoca' 'enganchó'\n",
            " 'entendí' 'entiendo' 'entretenida' 'es' 'escena' 'escenas' 'especial'\n",
            " 'especiales' 'excelentes' 'experiencia' 'fin' 'fue' 'fueron' 'gente'\n",
            " 'guion' 'gusta' 'he' 'hermosa' 'historia' 'hizo' 'impresionante'\n",
            " 'impresionantes' 'increíble' 'inicio' 'inolvidables' 'inspiradora'\n",
            " 'instantáneo' 'interesado' 'joya' 'la' 'larga' 'las' 'le' 'llegó'\n",
            " 'llorar' 'los' 'maestra' 'magistral' 'mala' 'malo' 'mantuvo' 'me' 'mejor'\n",
            " 'memorable' 'mezcla' 'moderno' 'momento' 'montón' 'muy' 'más' 'nada'\n",
            " 'ningún' 'no' 'obra' 'olvidaré' 'original' 'otras' 'para' 'parar'\n",
            " 'parece' 'parte' 'película' 'películas' 'peores' 'perfecta' 'pero'\n",
            " 'personajes' 'pobre' 'poco' 'por' 'principio' 'promedio' 'pronto'\n",
            " 'protagonista' 'pude' 'puede' 'pérdida' 'que' 'quedé' 'qué' 'realmente'\n",
            " 'recomiendo' 'recordaré' 'reí' 'reír' 'se' 'sentido' 'siempre' 'sin'\n",
            " 'sobre' 'sobrevalorada' 'solo' 'son' 'sonora' 'sorprendió' 'sé' 'tanto'\n",
            " 'te' 'terminarla' 'tiempo' 'tiene' 'todo' 'total' 'trama' 'un' 'una'\n",
            " 'varias' 'ver' 'viaje' 'visto' 'visuales' 'volvería']\n",
            "Matriz BoW de entrenamiento:\n",
            " [[0 0 0 ... 0 0 0]\n",
            " [1 0 0 ... 0 0 0]\n",
            " [0 0 0 ... 0 0 0]\n",
            " ...\n",
            " [0 0 0 ... 0 0 0]\n",
            " [0 0 1 ... 0 0 0]\n",
            " [0 0 0 ... 0 0 1]]\n"
          ]
        }
      ],
      "source": [
        "# Transformar las reseñas de prueba\n",
        "X_test_bow = vectorizador_bow.transform(X_test)\n",
        "\n",
        "print(\"Vocabulario BoW:\", vectorizador_bow.get_feature_names_out())\n",
        "print(\"Matriz BoW de entrenamiento:\\n\", X_train_bow.toarray())"
      ]
    },
    {
      "cell_type": "code",
      "execution_count": 56,
      "metadata": {
        "colab": {
          "base_uri": "https://localhost:8080/",
          "height": 81
        },
        "id": "PnBDFE23UbWS",
        "outputId": "f03a4e75-b034-453b-e861-bb8e4ad787b4"
      },
      "outputs": [
        {
          "data": {
            "text/html": [
              "<style>#sk-container-id-1 {\n",
              "  /* Definition of color scheme common for light and dark mode */\n",
              "  --sklearn-color-text: black;\n",
              "  --sklearn-color-line: gray;\n",
              "  /* Definition of color scheme for unfitted estimators */\n",
              "  --sklearn-color-unfitted-level-0: #fff5e6;\n",
              "  --sklearn-color-unfitted-level-1: #f6e4d2;\n",
              "  --sklearn-color-unfitted-level-2: #ffe0b3;\n",
              "  --sklearn-color-unfitted-level-3: chocolate;\n",
              "  /* Definition of color scheme for fitted estimators */\n",
              "  --sklearn-color-fitted-level-0: #f0f8ff;\n",
              "  --sklearn-color-fitted-level-1: #d4ebff;\n",
              "  --sklearn-color-fitted-level-2: #b3dbfd;\n",
              "  --sklearn-color-fitted-level-3: cornflowerblue;\n",
              "\n",
              "  /* Specific color for light theme */\n",
              "  --sklearn-color-text-on-default-background: var(--sg-text-color, var(--theme-code-foreground, var(--jp-content-font-color1, black)));\n",
              "  --sklearn-color-background: var(--sg-background-color, var(--theme-background, var(--jp-layout-color0, white)));\n",
              "  --sklearn-color-border-box: var(--sg-text-color, var(--theme-code-foreground, var(--jp-content-font-color1, black)));\n",
              "  --sklearn-color-icon: #696969;\n",
              "\n",
              "  @media (prefers-color-scheme: dark) {\n",
              "    /* Redefinition of color scheme for dark theme */\n",
              "    --sklearn-color-text-on-default-background: var(--sg-text-color, var(--theme-code-foreground, var(--jp-content-font-color1, white)));\n",
              "    --sklearn-color-background: var(--sg-background-color, var(--theme-background, var(--jp-layout-color0, #111)));\n",
              "    --sklearn-color-border-box: var(--sg-text-color, var(--theme-code-foreground, var(--jp-content-font-color1, white)));\n",
              "    --sklearn-color-icon: #878787;\n",
              "  }\n",
              "}\n",
              "\n",
              "#sk-container-id-1 {\n",
              "  color: var(--sklearn-color-text);\n",
              "}\n",
              "\n",
              "#sk-container-id-1 pre {\n",
              "  padding: 0;\n",
              "}\n",
              "\n",
              "#sk-container-id-1 input.sk-hidden--visually {\n",
              "  border: 0;\n",
              "  clip: rect(1px 1px 1px 1px);\n",
              "  clip: rect(1px, 1px, 1px, 1px);\n",
              "  height: 1px;\n",
              "  margin: -1px;\n",
              "  overflow: hidden;\n",
              "  padding: 0;\n",
              "  position: absolute;\n",
              "  width: 1px;\n",
              "}\n",
              "\n",
              "#sk-container-id-1 div.sk-dashed-wrapped {\n",
              "  border: 1px dashed var(--sklearn-color-line);\n",
              "  margin: 0 0.4em 0.5em 0.4em;\n",
              "  box-sizing: border-box;\n",
              "  padding-bottom: 0.4em;\n",
              "  background-color: var(--sklearn-color-background);\n",
              "}\n",
              "\n",
              "#sk-container-id-1 div.sk-container {\n",
              "  /* jupyter's `normalize.less` sets `[hidden] { display: none; }`\n",
              "     but bootstrap.min.css set `[hidden] { display: none !important; }`\n",
              "     so we also need the `!important` here to be able to override the\n",
              "     default hidden behavior on the sphinx rendered scikit-learn.org.\n",
              "     See: https://github.com/scikit-learn/scikit-learn/issues/21755 */\n",
              "  display: inline-block !important;\n",
              "  position: relative;\n",
              "}\n",
              "\n",
              "#sk-container-id-1 div.sk-text-repr-fallback {\n",
              "  display: none;\n",
              "}\n",
              "\n",
              "div.sk-parallel-item,\n",
              "div.sk-serial,\n",
              "div.sk-item {\n",
              "  /* draw centered vertical line to link estimators */\n",
              "  background-image: linear-gradient(var(--sklearn-color-text-on-default-background), var(--sklearn-color-text-on-default-background));\n",
              "  background-size: 2px 100%;\n",
              "  background-repeat: no-repeat;\n",
              "  background-position: center center;\n",
              "}\n",
              "\n",
              "/* Parallel-specific style estimator block */\n",
              "\n",
              "#sk-container-id-1 div.sk-parallel-item::after {\n",
              "  content: \"\";\n",
              "  width: 100%;\n",
              "  border-bottom: 2px solid var(--sklearn-color-text-on-default-background);\n",
              "  flex-grow: 1;\n",
              "}\n",
              "\n",
              "#sk-container-id-1 div.sk-parallel {\n",
              "  display: flex;\n",
              "  align-items: stretch;\n",
              "  justify-content: center;\n",
              "  background-color: var(--sklearn-color-background);\n",
              "  position: relative;\n",
              "}\n",
              "\n",
              "#sk-container-id-1 div.sk-parallel-item {\n",
              "  display: flex;\n",
              "  flex-direction: column;\n",
              "}\n",
              "\n",
              "#sk-container-id-1 div.sk-parallel-item:first-child::after {\n",
              "  align-self: flex-end;\n",
              "  width: 50%;\n",
              "}\n",
              "\n",
              "#sk-container-id-1 div.sk-parallel-item:last-child::after {\n",
              "  align-self: flex-start;\n",
              "  width: 50%;\n",
              "}\n",
              "\n",
              "#sk-container-id-1 div.sk-parallel-item:only-child::after {\n",
              "  width: 0;\n",
              "}\n",
              "\n",
              "/* Serial-specific style estimator block */\n",
              "\n",
              "#sk-container-id-1 div.sk-serial {\n",
              "  display: flex;\n",
              "  flex-direction: column;\n",
              "  align-items: center;\n",
              "  background-color: var(--sklearn-color-background);\n",
              "  padding-right: 1em;\n",
              "  padding-left: 1em;\n",
              "}\n",
              "\n",
              "\n",
              "/* Toggleable style: style used for estimator/Pipeline/ColumnTransformer box that is\n",
              "clickable and can be expanded/collapsed.\n",
              "- Pipeline and ColumnTransformer use this feature and define the default style\n",
              "- Estimators will overwrite some part of the style using the `sk-estimator` class\n",
              "*/\n",
              "\n",
              "/* Pipeline and ColumnTransformer style (default) */\n",
              "\n",
              "#sk-container-id-1 div.sk-toggleable {\n",
              "  /* Default theme specific background. It is overwritten whether we have a\n",
              "  specific estimator or a Pipeline/ColumnTransformer */\n",
              "  background-color: var(--sklearn-color-background);\n",
              "}\n",
              "\n",
              "/* Toggleable label */\n",
              "#sk-container-id-1 label.sk-toggleable__label {\n",
              "  cursor: pointer;\n",
              "  display: block;\n",
              "  width: 100%;\n",
              "  margin-bottom: 0;\n",
              "  padding: 0.5em;\n",
              "  box-sizing: border-box;\n",
              "  text-align: center;\n",
              "}\n",
              "\n",
              "#sk-container-id-1 label.sk-toggleable__label-arrow:before {\n",
              "  /* Arrow on the left of the label */\n",
              "  content: \"▸\";\n",
              "  float: left;\n",
              "  margin-right: 0.25em;\n",
              "  color: var(--sklearn-color-icon);\n",
              "}\n",
              "\n",
              "#sk-container-id-1 label.sk-toggleable__label-arrow:hover:before {\n",
              "  color: var(--sklearn-color-text);\n",
              "}\n",
              "\n",
              "/* Toggleable content - dropdown */\n",
              "\n",
              "#sk-container-id-1 div.sk-toggleable__content {\n",
              "  max-height: 0;\n",
              "  max-width: 0;\n",
              "  overflow: hidden;\n",
              "  text-align: left;\n",
              "  /* unfitted */\n",
              "  background-color: var(--sklearn-color-unfitted-level-0);\n",
              "}\n",
              "\n",
              "#sk-container-id-1 div.sk-toggleable__content.fitted {\n",
              "  /* fitted */\n",
              "  background-color: var(--sklearn-color-fitted-level-0);\n",
              "}\n",
              "\n",
              "#sk-container-id-1 div.sk-toggleable__content pre {\n",
              "  margin: 0.2em;\n",
              "  border-radius: 0.25em;\n",
              "  color: var(--sklearn-color-text);\n",
              "  /* unfitted */\n",
              "  background-color: var(--sklearn-color-unfitted-level-0);\n",
              "}\n",
              "\n",
              "#sk-container-id-1 div.sk-toggleable__content.fitted pre {\n",
              "  /* unfitted */\n",
              "  background-color: var(--sklearn-color-fitted-level-0);\n",
              "}\n",
              "\n",
              "#sk-container-id-1 input.sk-toggleable__control:checked~div.sk-toggleable__content {\n",
              "  /* Expand drop-down */\n",
              "  max-height: 200px;\n",
              "  max-width: 100%;\n",
              "  overflow: auto;\n",
              "}\n",
              "\n",
              "#sk-container-id-1 input.sk-toggleable__control:checked~label.sk-toggleable__label-arrow:before {\n",
              "  content: \"▾\";\n",
              "}\n",
              "\n",
              "/* Pipeline/ColumnTransformer-specific style */\n",
              "\n",
              "#sk-container-id-1 div.sk-label input.sk-toggleable__control:checked~label.sk-toggleable__label {\n",
              "  color: var(--sklearn-color-text);\n",
              "  background-color: var(--sklearn-color-unfitted-level-2);\n",
              "}\n",
              "\n",
              "#sk-container-id-1 div.sk-label.fitted input.sk-toggleable__control:checked~label.sk-toggleable__label {\n",
              "  background-color: var(--sklearn-color-fitted-level-2);\n",
              "}\n",
              "\n",
              "/* Estimator-specific style */\n",
              "\n",
              "/* Colorize estimator box */\n",
              "#sk-container-id-1 div.sk-estimator input.sk-toggleable__control:checked~label.sk-toggleable__label {\n",
              "  /* unfitted */\n",
              "  background-color: var(--sklearn-color-unfitted-level-2);\n",
              "}\n",
              "\n",
              "#sk-container-id-1 div.sk-estimator.fitted input.sk-toggleable__control:checked~label.sk-toggleable__label {\n",
              "  /* fitted */\n",
              "  background-color: var(--sklearn-color-fitted-level-2);\n",
              "}\n",
              "\n",
              "#sk-container-id-1 div.sk-label label.sk-toggleable__label,\n",
              "#sk-container-id-1 div.sk-label label {\n",
              "  /* The background is the default theme color */\n",
              "  color: var(--sklearn-color-text-on-default-background);\n",
              "}\n",
              "\n",
              "/* On hover, darken the color of the background */\n",
              "#sk-container-id-1 div.sk-label:hover label.sk-toggleable__label {\n",
              "  color: var(--sklearn-color-text);\n",
              "  background-color: var(--sklearn-color-unfitted-level-2);\n",
              "}\n",
              "\n",
              "/* Label box, darken color on hover, fitted */\n",
              "#sk-container-id-1 div.sk-label.fitted:hover label.sk-toggleable__label.fitted {\n",
              "  color: var(--sklearn-color-text);\n",
              "  background-color: var(--sklearn-color-fitted-level-2);\n",
              "}\n",
              "\n",
              "/* Estimator label */\n",
              "\n",
              "#sk-container-id-1 div.sk-label label {\n",
              "  font-family: monospace;\n",
              "  font-weight: bold;\n",
              "  display: inline-block;\n",
              "  line-height: 1.2em;\n",
              "}\n",
              "\n",
              "#sk-container-id-1 div.sk-label-container {\n",
              "  text-align: center;\n",
              "}\n",
              "\n",
              "/* Estimator-specific */\n",
              "#sk-container-id-1 div.sk-estimator {\n",
              "  font-family: monospace;\n",
              "  border: 1px dotted var(--sklearn-color-border-box);\n",
              "  border-radius: 0.25em;\n",
              "  box-sizing: border-box;\n",
              "  margin-bottom: 0.5em;\n",
              "  /* unfitted */\n",
              "  background-color: var(--sklearn-color-unfitted-level-0);\n",
              "}\n",
              "\n",
              "#sk-container-id-1 div.sk-estimator.fitted {\n",
              "  /* fitted */\n",
              "  background-color: var(--sklearn-color-fitted-level-0);\n",
              "}\n",
              "\n",
              "/* on hover */\n",
              "#sk-container-id-1 div.sk-estimator:hover {\n",
              "  /* unfitted */\n",
              "  background-color: var(--sklearn-color-unfitted-level-2);\n",
              "}\n",
              "\n",
              "#sk-container-id-1 div.sk-estimator.fitted:hover {\n",
              "  /* fitted */\n",
              "  background-color: var(--sklearn-color-fitted-level-2);\n",
              "}\n",
              "\n",
              "/* Specification for estimator info (e.g. \"i\" and \"?\") */\n",
              "\n",
              "/* Common style for \"i\" and \"?\" */\n",
              "\n",
              ".sk-estimator-doc-link,\n",
              "a:link.sk-estimator-doc-link,\n",
              "a:visited.sk-estimator-doc-link {\n",
              "  float: right;\n",
              "  font-size: smaller;\n",
              "  line-height: 1em;\n",
              "  font-family: monospace;\n",
              "  background-color: var(--sklearn-color-background);\n",
              "  border-radius: 1em;\n",
              "  height: 1em;\n",
              "  width: 1em;\n",
              "  text-decoration: none !important;\n",
              "  margin-left: 1ex;\n",
              "  /* unfitted */\n",
              "  border: var(--sklearn-color-unfitted-level-1) 1pt solid;\n",
              "  color: var(--sklearn-color-unfitted-level-1);\n",
              "}\n",
              "\n",
              ".sk-estimator-doc-link.fitted,\n",
              "a:link.sk-estimator-doc-link.fitted,\n",
              "a:visited.sk-estimator-doc-link.fitted {\n",
              "  /* fitted */\n",
              "  border: var(--sklearn-color-fitted-level-1) 1pt solid;\n",
              "  color: var(--sklearn-color-fitted-level-1);\n",
              "}\n",
              "\n",
              "/* On hover */\n",
              "div.sk-estimator:hover .sk-estimator-doc-link:hover,\n",
              ".sk-estimator-doc-link:hover,\n",
              "div.sk-label-container:hover .sk-estimator-doc-link:hover,\n",
              ".sk-estimator-doc-link:hover {\n",
              "  /* unfitted */\n",
              "  background-color: var(--sklearn-color-unfitted-level-3);\n",
              "  color: var(--sklearn-color-background);\n",
              "  text-decoration: none;\n",
              "}\n",
              "\n",
              "div.sk-estimator.fitted:hover .sk-estimator-doc-link.fitted:hover,\n",
              ".sk-estimator-doc-link.fitted:hover,\n",
              "div.sk-label-container:hover .sk-estimator-doc-link.fitted:hover,\n",
              ".sk-estimator-doc-link.fitted:hover {\n",
              "  /* fitted */\n",
              "  background-color: var(--sklearn-color-fitted-level-3);\n",
              "  color: var(--sklearn-color-background);\n",
              "  text-decoration: none;\n",
              "}\n",
              "\n",
              "/* Span, style for the box shown on hovering the info icon */\n",
              ".sk-estimator-doc-link span {\n",
              "  display: none;\n",
              "  z-index: 9999;\n",
              "  position: relative;\n",
              "  font-weight: normal;\n",
              "  right: .2ex;\n",
              "  padding: .5ex;\n",
              "  margin: .5ex;\n",
              "  width: min-content;\n",
              "  min-width: 20ex;\n",
              "  max-width: 50ex;\n",
              "  color: var(--sklearn-color-text);\n",
              "  box-shadow: 2pt 2pt 4pt #999;\n",
              "  /* unfitted */\n",
              "  background: var(--sklearn-color-unfitted-level-0);\n",
              "  border: .5pt solid var(--sklearn-color-unfitted-level-3);\n",
              "}\n",
              "\n",
              ".sk-estimator-doc-link.fitted span {\n",
              "  /* fitted */\n",
              "  background: var(--sklearn-color-fitted-level-0);\n",
              "  border: var(--sklearn-color-fitted-level-3);\n",
              "}\n",
              "\n",
              ".sk-estimator-doc-link:hover span {\n",
              "  display: block;\n",
              "}\n",
              "\n",
              "/* \"?\"-specific style due to the `<a>` HTML tag */\n",
              "\n",
              "#sk-container-id-1 a.estimator_doc_link {\n",
              "  float: right;\n",
              "  font-size: 1rem;\n",
              "  line-height: 1em;\n",
              "  font-family: monospace;\n",
              "  background-color: var(--sklearn-color-background);\n",
              "  border-radius: 1rem;\n",
              "  height: 1rem;\n",
              "  width: 1rem;\n",
              "  text-decoration: none;\n",
              "  /* unfitted */\n",
              "  color: var(--sklearn-color-unfitted-level-1);\n",
              "  border: var(--sklearn-color-unfitted-level-1) 1pt solid;\n",
              "}\n",
              "\n",
              "#sk-container-id-1 a.estimator_doc_link.fitted {\n",
              "  /* fitted */\n",
              "  border: var(--sklearn-color-fitted-level-1) 1pt solid;\n",
              "  color: var(--sklearn-color-fitted-level-1);\n",
              "}\n",
              "\n",
              "/* On hover */\n",
              "#sk-container-id-1 a.estimator_doc_link:hover {\n",
              "  /* unfitted */\n",
              "  background-color: var(--sklearn-color-unfitted-level-3);\n",
              "  color: var(--sklearn-color-background);\n",
              "  text-decoration: none;\n",
              "}\n",
              "\n",
              "#sk-container-id-1 a.estimator_doc_link.fitted:hover {\n",
              "  /* fitted */\n",
              "  background-color: var(--sklearn-color-fitted-level-3);\n",
              "}\n",
              "</style><div id=\"sk-container-id-1\" class=\"sk-top-container\"><div class=\"sk-text-repr-fallback\"><pre>LogisticRegression()</pre><b>In a Jupyter environment, please rerun this cell to show the HTML representation or trust the notebook. <br />On GitHub, the HTML representation is unable to render, please try loading this page with nbviewer.org.</b></div><div class=\"sk-container\" hidden><div class=\"sk-item\"><div class=\"sk-estimator fitted sk-toggleable\"><input class=\"sk-toggleable__control sk-hidden--visually\" id=\"sk-estimator-id-1\" type=\"checkbox\" checked><label for=\"sk-estimator-id-1\" class=\"sk-toggleable__label fitted sk-toggleable__label-arrow fitted\">&nbsp;&nbsp;LogisticRegression<a class=\"sk-estimator-doc-link fitted\" rel=\"noreferrer\" target=\"_blank\" href=\"https://scikit-learn.org/1.5/modules/generated/sklearn.linear_model.LogisticRegression.html\">?<span>Documentation for LogisticRegression</span></a><span class=\"sk-estimator-doc-link fitted\">i<span>Fitted</span></span></label><div class=\"sk-toggleable__content fitted\"><pre>LogisticRegression()</pre></div> </div></div></div></div>"
            ],
            "text/plain": [
              "LogisticRegression()"
            ]
          },
          "execution_count": 56,
          "metadata": {},
          "output_type": "execute_result"
        }
      ],
      "source": [
        "# Entrenar el modelo de Regresión Logística con Bag of Words\n",
        "modelo_bow = LogisticRegression()\n",
        "modelo_bow.fit(X_train_bow, y_train)"
      ]
    },
    {
      "cell_type": "code",
      "execution_count": 57,
      "metadata": {
        "id": "GhLNX_hKUeXi"
      },
      "outputs": [],
      "source": [
        "# Hacer predicciones en el conjunto de prueba\n",
        "y_pred_bow = modelo_bow.predict(X_test_bow)"
      ]
    },
    {
      "cell_type": "code",
      "execution_count": 58,
      "metadata": {
        "colab": {
          "base_uri": "https://localhost:8080/"
        },
        "id": "Ajks89Z9UTCa",
        "outputId": "c2a8bb53-8744-46da-9464-051926a93f6b"
      },
      "outputs": [
        {
          "name": "stdout",
          "output_type": "stream",
          "text": [
            "Precisión usando Bag of Words: 0.8\n"
          ]
        }
      ],
      "source": [
        "# Calcular la precisión del modelo\n",
        "accuracy_bow = accuracy_score(y_test, y_pred_bow)\n",
        "print(\"Precisión usando Bag of Words:\", accuracy_bow)"
      ]
    },
    {
      "cell_type": "code",
      "execution_count": 59,
      "metadata": {
        "colab": {
          "base_uri": "https://localhost:8080/"
        },
        "id": "MATRgaDtUj06",
        "outputId": "212c8a13-9f63-4052-9018-65c1b7f6eb39"
      },
      "outputs": [
        {
          "name": "stdout",
          "output_type": "stream",
          "text": [
            "Vocabulario TF-IDF: ['aburrida' 'al' 'alguien' 'atrapa' 'banda' 'bueno' 'cada' 'casi'\n",
            " 'casting' 'cine' 'cinematografía' 'cinematográfica' 'clásico' 'confusa'\n",
            " 'copia' 'corazón' 'creíbles' 'cómo' 'de' 'del' 'desastre' 'desde'\n",
            " 'dirección' 'disfrutar' 'divertida' 'dormido' 'dudas' 'efectos' 'el'\n",
            " 'emocional' 'emocionante' 'emociones' 'en' 'encantó' 'enfoca' 'enganchó'\n",
            " 'entendí' 'entiendo' 'entretenida' 'es' 'escena' 'escenas' 'especial'\n",
            " 'especiales' 'excelentes' 'experiencia' 'fin' 'fue' 'fueron' 'gente'\n",
            " 'guion' 'gusta' 'he' 'hermosa' 'historia' 'hizo' 'impresionante'\n",
            " 'impresionantes' 'increíble' 'inicio' 'inolvidables' 'inspiradora'\n",
            " 'instantáneo' 'interesado' 'joya' 'la' 'larga' 'las' 'le' 'llegó'\n",
            " 'llorar' 'los' 'maestra' 'magistral' 'mala' 'malo' 'mantuvo' 'me' 'mejor'\n",
            " 'memorable' 'mezcla' 'moderno' 'momento' 'montón' 'muy' 'más' 'nada'\n",
            " 'ningún' 'no' 'obra' 'olvidaré' 'original' 'otras' 'para' 'parar'\n",
            " 'parece' 'parte' 'película' 'películas' 'peores' 'perfecta' 'pero'\n",
            " 'personajes' 'pobre' 'poco' 'por' 'principio' 'promedio' 'pronto'\n",
            " 'protagonista' 'pude' 'puede' 'pérdida' 'que' 'quedé' 'qué' 'realmente'\n",
            " 'recomiendo' 'recordaré' 'reí' 'reír' 'se' 'sentido' 'siempre' 'sin'\n",
            " 'sobre' 'sobrevalorada' 'solo' 'son' 'sonora' 'sorprendió' 'sé' 'tanto'\n",
            " 'te' 'terminarla' 'tiempo' 'tiene' 'todo' 'total' 'trama' 'un' 'una'\n",
            " 'varias' 'ver' 'viaje' 'visto' 'visuales' 'volvería']\n",
            "Matriz TF-IDF de entrenamiento:\n",
            " [[0.         0.         0.         ... 0.         0.         0.        ]\n",
            " [0.37835501 0.         0.         ... 0.         0.         0.        ]\n",
            " [0.         0.         0.         ... 0.         0.         0.        ]\n",
            " ...\n",
            " [0.         0.         0.         ... 0.         0.         0.        ]\n",
            " [0.         0.         0.34892077 ... 0.         0.         0.        ]\n",
            " [0.         0.         0.         ... 0.         0.         0.37946843]]\n"
          ]
        }
      ],
      "source": [
        "# Inicializar el TfidfVectorizer\n",
        "vectorizador_tfidf = TfidfVectorizer()\n",
        "\n",
        "# Ajustar y transformar las reseñas de entrenamiento\n",
        "X_train_tfidf = vectorizador_tfidf.fit_transform(X_train)\n",
        "\n",
        "# Transformar las reseñas de prueba\n",
        "X_test_tfidf = vectorizador_tfidf.transform(X_test)\n",
        "\n",
        "print(\"Vocabulario TF-IDF:\", vectorizador_tfidf.get_feature_names_out())\n",
        "print(\"Matriz TF-IDF de entrenamiento:\\n\", X_train_tfidf.toarray())"
      ]
    },
    {
      "cell_type": "code",
      "execution_count": 60,
      "metadata": {
        "colab": {
          "base_uri": "https://localhost:8080/",
          "height": 81
        },
        "id": "1qBhY7nsmv9L",
        "outputId": "bde9aa3c-2214-46d9-d6ec-f9f89bc4228c"
      },
      "outputs": [
        {
          "data": {
            "text/html": [
              "<style>#sk-container-id-2 {\n",
              "  /* Definition of color scheme common for light and dark mode */\n",
              "  --sklearn-color-text: black;\n",
              "  --sklearn-color-line: gray;\n",
              "  /* Definition of color scheme for unfitted estimators */\n",
              "  --sklearn-color-unfitted-level-0: #fff5e6;\n",
              "  --sklearn-color-unfitted-level-1: #f6e4d2;\n",
              "  --sklearn-color-unfitted-level-2: #ffe0b3;\n",
              "  --sklearn-color-unfitted-level-3: chocolate;\n",
              "  /* Definition of color scheme for fitted estimators */\n",
              "  --sklearn-color-fitted-level-0: #f0f8ff;\n",
              "  --sklearn-color-fitted-level-1: #d4ebff;\n",
              "  --sklearn-color-fitted-level-2: #b3dbfd;\n",
              "  --sklearn-color-fitted-level-3: cornflowerblue;\n",
              "\n",
              "  /* Specific color for light theme */\n",
              "  --sklearn-color-text-on-default-background: var(--sg-text-color, var(--theme-code-foreground, var(--jp-content-font-color1, black)));\n",
              "  --sklearn-color-background: var(--sg-background-color, var(--theme-background, var(--jp-layout-color0, white)));\n",
              "  --sklearn-color-border-box: var(--sg-text-color, var(--theme-code-foreground, var(--jp-content-font-color1, black)));\n",
              "  --sklearn-color-icon: #696969;\n",
              "\n",
              "  @media (prefers-color-scheme: dark) {\n",
              "    /* Redefinition of color scheme for dark theme */\n",
              "    --sklearn-color-text-on-default-background: var(--sg-text-color, var(--theme-code-foreground, var(--jp-content-font-color1, white)));\n",
              "    --sklearn-color-background: var(--sg-background-color, var(--theme-background, var(--jp-layout-color0, #111)));\n",
              "    --sklearn-color-border-box: var(--sg-text-color, var(--theme-code-foreground, var(--jp-content-font-color1, white)));\n",
              "    --sklearn-color-icon: #878787;\n",
              "  }\n",
              "}\n",
              "\n",
              "#sk-container-id-2 {\n",
              "  color: var(--sklearn-color-text);\n",
              "}\n",
              "\n",
              "#sk-container-id-2 pre {\n",
              "  padding: 0;\n",
              "}\n",
              "\n",
              "#sk-container-id-2 input.sk-hidden--visually {\n",
              "  border: 0;\n",
              "  clip: rect(1px 1px 1px 1px);\n",
              "  clip: rect(1px, 1px, 1px, 1px);\n",
              "  height: 1px;\n",
              "  margin: -1px;\n",
              "  overflow: hidden;\n",
              "  padding: 0;\n",
              "  position: absolute;\n",
              "  width: 1px;\n",
              "}\n",
              "\n",
              "#sk-container-id-2 div.sk-dashed-wrapped {\n",
              "  border: 1px dashed var(--sklearn-color-line);\n",
              "  margin: 0 0.4em 0.5em 0.4em;\n",
              "  box-sizing: border-box;\n",
              "  padding-bottom: 0.4em;\n",
              "  background-color: var(--sklearn-color-background);\n",
              "}\n",
              "\n",
              "#sk-container-id-2 div.sk-container {\n",
              "  /* jupyter's `normalize.less` sets `[hidden] { display: none; }`\n",
              "     but bootstrap.min.css set `[hidden] { display: none !important; }`\n",
              "     so we also need the `!important` here to be able to override the\n",
              "     default hidden behavior on the sphinx rendered scikit-learn.org.\n",
              "     See: https://github.com/scikit-learn/scikit-learn/issues/21755 */\n",
              "  display: inline-block !important;\n",
              "  position: relative;\n",
              "}\n",
              "\n",
              "#sk-container-id-2 div.sk-text-repr-fallback {\n",
              "  display: none;\n",
              "}\n",
              "\n",
              "div.sk-parallel-item,\n",
              "div.sk-serial,\n",
              "div.sk-item {\n",
              "  /* draw centered vertical line to link estimators */\n",
              "  background-image: linear-gradient(var(--sklearn-color-text-on-default-background), var(--sklearn-color-text-on-default-background));\n",
              "  background-size: 2px 100%;\n",
              "  background-repeat: no-repeat;\n",
              "  background-position: center center;\n",
              "}\n",
              "\n",
              "/* Parallel-specific style estimator block */\n",
              "\n",
              "#sk-container-id-2 div.sk-parallel-item::after {\n",
              "  content: \"\";\n",
              "  width: 100%;\n",
              "  border-bottom: 2px solid var(--sklearn-color-text-on-default-background);\n",
              "  flex-grow: 1;\n",
              "}\n",
              "\n",
              "#sk-container-id-2 div.sk-parallel {\n",
              "  display: flex;\n",
              "  align-items: stretch;\n",
              "  justify-content: center;\n",
              "  background-color: var(--sklearn-color-background);\n",
              "  position: relative;\n",
              "}\n",
              "\n",
              "#sk-container-id-2 div.sk-parallel-item {\n",
              "  display: flex;\n",
              "  flex-direction: column;\n",
              "}\n",
              "\n",
              "#sk-container-id-2 div.sk-parallel-item:first-child::after {\n",
              "  align-self: flex-end;\n",
              "  width: 50%;\n",
              "}\n",
              "\n",
              "#sk-container-id-2 div.sk-parallel-item:last-child::after {\n",
              "  align-self: flex-start;\n",
              "  width: 50%;\n",
              "}\n",
              "\n",
              "#sk-container-id-2 div.sk-parallel-item:only-child::after {\n",
              "  width: 0;\n",
              "}\n",
              "\n",
              "/* Serial-specific style estimator block */\n",
              "\n",
              "#sk-container-id-2 div.sk-serial {\n",
              "  display: flex;\n",
              "  flex-direction: column;\n",
              "  align-items: center;\n",
              "  background-color: var(--sklearn-color-background);\n",
              "  padding-right: 1em;\n",
              "  padding-left: 1em;\n",
              "}\n",
              "\n",
              "\n",
              "/* Toggleable style: style used for estimator/Pipeline/ColumnTransformer box that is\n",
              "clickable and can be expanded/collapsed.\n",
              "- Pipeline and ColumnTransformer use this feature and define the default style\n",
              "- Estimators will overwrite some part of the style using the `sk-estimator` class\n",
              "*/\n",
              "\n",
              "/* Pipeline and ColumnTransformer style (default) */\n",
              "\n",
              "#sk-container-id-2 div.sk-toggleable {\n",
              "  /* Default theme specific background. It is overwritten whether we have a\n",
              "  specific estimator or a Pipeline/ColumnTransformer */\n",
              "  background-color: var(--sklearn-color-background);\n",
              "}\n",
              "\n",
              "/* Toggleable label */\n",
              "#sk-container-id-2 label.sk-toggleable__label {\n",
              "  cursor: pointer;\n",
              "  display: block;\n",
              "  width: 100%;\n",
              "  margin-bottom: 0;\n",
              "  padding: 0.5em;\n",
              "  box-sizing: border-box;\n",
              "  text-align: center;\n",
              "}\n",
              "\n",
              "#sk-container-id-2 label.sk-toggleable__label-arrow:before {\n",
              "  /* Arrow on the left of the label */\n",
              "  content: \"▸\";\n",
              "  float: left;\n",
              "  margin-right: 0.25em;\n",
              "  color: var(--sklearn-color-icon);\n",
              "}\n",
              "\n",
              "#sk-container-id-2 label.sk-toggleable__label-arrow:hover:before {\n",
              "  color: var(--sklearn-color-text);\n",
              "}\n",
              "\n",
              "/* Toggleable content - dropdown */\n",
              "\n",
              "#sk-container-id-2 div.sk-toggleable__content {\n",
              "  max-height: 0;\n",
              "  max-width: 0;\n",
              "  overflow: hidden;\n",
              "  text-align: left;\n",
              "  /* unfitted */\n",
              "  background-color: var(--sklearn-color-unfitted-level-0);\n",
              "}\n",
              "\n",
              "#sk-container-id-2 div.sk-toggleable__content.fitted {\n",
              "  /* fitted */\n",
              "  background-color: var(--sklearn-color-fitted-level-0);\n",
              "}\n",
              "\n",
              "#sk-container-id-2 div.sk-toggleable__content pre {\n",
              "  margin: 0.2em;\n",
              "  border-radius: 0.25em;\n",
              "  color: var(--sklearn-color-text);\n",
              "  /* unfitted */\n",
              "  background-color: var(--sklearn-color-unfitted-level-0);\n",
              "}\n",
              "\n",
              "#sk-container-id-2 div.sk-toggleable__content.fitted pre {\n",
              "  /* unfitted */\n",
              "  background-color: var(--sklearn-color-fitted-level-0);\n",
              "}\n",
              "\n",
              "#sk-container-id-2 input.sk-toggleable__control:checked~div.sk-toggleable__content {\n",
              "  /* Expand drop-down */\n",
              "  max-height: 200px;\n",
              "  max-width: 100%;\n",
              "  overflow: auto;\n",
              "}\n",
              "\n",
              "#sk-container-id-2 input.sk-toggleable__control:checked~label.sk-toggleable__label-arrow:before {\n",
              "  content: \"▾\";\n",
              "}\n",
              "\n",
              "/* Pipeline/ColumnTransformer-specific style */\n",
              "\n",
              "#sk-container-id-2 div.sk-label input.sk-toggleable__control:checked~label.sk-toggleable__label {\n",
              "  color: var(--sklearn-color-text);\n",
              "  background-color: var(--sklearn-color-unfitted-level-2);\n",
              "}\n",
              "\n",
              "#sk-container-id-2 div.sk-label.fitted input.sk-toggleable__control:checked~label.sk-toggleable__label {\n",
              "  background-color: var(--sklearn-color-fitted-level-2);\n",
              "}\n",
              "\n",
              "/* Estimator-specific style */\n",
              "\n",
              "/* Colorize estimator box */\n",
              "#sk-container-id-2 div.sk-estimator input.sk-toggleable__control:checked~label.sk-toggleable__label {\n",
              "  /* unfitted */\n",
              "  background-color: var(--sklearn-color-unfitted-level-2);\n",
              "}\n",
              "\n",
              "#sk-container-id-2 div.sk-estimator.fitted input.sk-toggleable__control:checked~label.sk-toggleable__label {\n",
              "  /* fitted */\n",
              "  background-color: var(--sklearn-color-fitted-level-2);\n",
              "}\n",
              "\n",
              "#sk-container-id-2 div.sk-label label.sk-toggleable__label,\n",
              "#sk-container-id-2 div.sk-label label {\n",
              "  /* The background is the default theme color */\n",
              "  color: var(--sklearn-color-text-on-default-background);\n",
              "}\n",
              "\n",
              "/* On hover, darken the color of the background */\n",
              "#sk-container-id-2 div.sk-label:hover label.sk-toggleable__label {\n",
              "  color: var(--sklearn-color-text);\n",
              "  background-color: var(--sklearn-color-unfitted-level-2);\n",
              "}\n",
              "\n",
              "/* Label box, darken color on hover, fitted */\n",
              "#sk-container-id-2 div.sk-label.fitted:hover label.sk-toggleable__label.fitted {\n",
              "  color: var(--sklearn-color-text);\n",
              "  background-color: var(--sklearn-color-fitted-level-2);\n",
              "}\n",
              "\n",
              "/* Estimator label */\n",
              "\n",
              "#sk-container-id-2 div.sk-label label {\n",
              "  font-family: monospace;\n",
              "  font-weight: bold;\n",
              "  display: inline-block;\n",
              "  line-height: 1.2em;\n",
              "}\n",
              "\n",
              "#sk-container-id-2 div.sk-label-container {\n",
              "  text-align: center;\n",
              "}\n",
              "\n",
              "/* Estimator-specific */\n",
              "#sk-container-id-2 div.sk-estimator {\n",
              "  font-family: monospace;\n",
              "  border: 1px dotted var(--sklearn-color-border-box);\n",
              "  border-radius: 0.25em;\n",
              "  box-sizing: border-box;\n",
              "  margin-bottom: 0.5em;\n",
              "  /* unfitted */\n",
              "  background-color: var(--sklearn-color-unfitted-level-0);\n",
              "}\n",
              "\n",
              "#sk-container-id-2 div.sk-estimator.fitted {\n",
              "  /* fitted */\n",
              "  background-color: var(--sklearn-color-fitted-level-0);\n",
              "}\n",
              "\n",
              "/* on hover */\n",
              "#sk-container-id-2 div.sk-estimator:hover {\n",
              "  /* unfitted */\n",
              "  background-color: var(--sklearn-color-unfitted-level-2);\n",
              "}\n",
              "\n",
              "#sk-container-id-2 div.sk-estimator.fitted:hover {\n",
              "  /* fitted */\n",
              "  background-color: var(--sklearn-color-fitted-level-2);\n",
              "}\n",
              "\n",
              "/* Specification for estimator info (e.g. \"i\" and \"?\") */\n",
              "\n",
              "/* Common style for \"i\" and \"?\" */\n",
              "\n",
              ".sk-estimator-doc-link,\n",
              "a:link.sk-estimator-doc-link,\n",
              "a:visited.sk-estimator-doc-link {\n",
              "  float: right;\n",
              "  font-size: smaller;\n",
              "  line-height: 1em;\n",
              "  font-family: monospace;\n",
              "  background-color: var(--sklearn-color-background);\n",
              "  border-radius: 1em;\n",
              "  height: 1em;\n",
              "  width: 1em;\n",
              "  text-decoration: none !important;\n",
              "  margin-left: 1ex;\n",
              "  /* unfitted */\n",
              "  border: var(--sklearn-color-unfitted-level-1) 1pt solid;\n",
              "  color: var(--sklearn-color-unfitted-level-1);\n",
              "}\n",
              "\n",
              ".sk-estimator-doc-link.fitted,\n",
              "a:link.sk-estimator-doc-link.fitted,\n",
              "a:visited.sk-estimator-doc-link.fitted {\n",
              "  /* fitted */\n",
              "  border: var(--sklearn-color-fitted-level-1) 1pt solid;\n",
              "  color: var(--sklearn-color-fitted-level-1);\n",
              "}\n",
              "\n",
              "/* On hover */\n",
              "div.sk-estimator:hover .sk-estimator-doc-link:hover,\n",
              ".sk-estimator-doc-link:hover,\n",
              "div.sk-label-container:hover .sk-estimator-doc-link:hover,\n",
              ".sk-estimator-doc-link:hover {\n",
              "  /* unfitted */\n",
              "  background-color: var(--sklearn-color-unfitted-level-3);\n",
              "  color: var(--sklearn-color-background);\n",
              "  text-decoration: none;\n",
              "}\n",
              "\n",
              "div.sk-estimator.fitted:hover .sk-estimator-doc-link.fitted:hover,\n",
              ".sk-estimator-doc-link.fitted:hover,\n",
              "div.sk-label-container:hover .sk-estimator-doc-link.fitted:hover,\n",
              ".sk-estimator-doc-link.fitted:hover {\n",
              "  /* fitted */\n",
              "  background-color: var(--sklearn-color-fitted-level-3);\n",
              "  color: var(--sklearn-color-background);\n",
              "  text-decoration: none;\n",
              "}\n",
              "\n",
              "/* Span, style for the box shown on hovering the info icon */\n",
              ".sk-estimator-doc-link span {\n",
              "  display: none;\n",
              "  z-index: 9999;\n",
              "  position: relative;\n",
              "  font-weight: normal;\n",
              "  right: .2ex;\n",
              "  padding: .5ex;\n",
              "  margin: .5ex;\n",
              "  width: min-content;\n",
              "  min-width: 20ex;\n",
              "  max-width: 50ex;\n",
              "  color: var(--sklearn-color-text);\n",
              "  box-shadow: 2pt 2pt 4pt #999;\n",
              "  /* unfitted */\n",
              "  background: var(--sklearn-color-unfitted-level-0);\n",
              "  border: .5pt solid var(--sklearn-color-unfitted-level-3);\n",
              "}\n",
              "\n",
              ".sk-estimator-doc-link.fitted span {\n",
              "  /* fitted */\n",
              "  background: var(--sklearn-color-fitted-level-0);\n",
              "  border: var(--sklearn-color-fitted-level-3);\n",
              "}\n",
              "\n",
              ".sk-estimator-doc-link:hover span {\n",
              "  display: block;\n",
              "}\n",
              "\n",
              "/* \"?\"-specific style due to the `<a>` HTML tag */\n",
              "\n",
              "#sk-container-id-2 a.estimator_doc_link {\n",
              "  float: right;\n",
              "  font-size: 1rem;\n",
              "  line-height: 1em;\n",
              "  font-family: monospace;\n",
              "  background-color: var(--sklearn-color-background);\n",
              "  border-radius: 1rem;\n",
              "  height: 1rem;\n",
              "  width: 1rem;\n",
              "  text-decoration: none;\n",
              "  /* unfitted */\n",
              "  color: var(--sklearn-color-unfitted-level-1);\n",
              "  border: var(--sklearn-color-unfitted-level-1) 1pt solid;\n",
              "}\n",
              "\n",
              "#sk-container-id-2 a.estimator_doc_link.fitted {\n",
              "  /* fitted */\n",
              "  border: var(--sklearn-color-fitted-level-1) 1pt solid;\n",
              "  color: var(--sklearn-color-fitted-level-1);\n",
              "}\n",
              "\n",
              "/* On hover */\n",
              "#sk-container-id-2 a.estimator_doc_link:hover {\n",
              "  /* unfitted */\n",
              "  background-color: var(--sklearn-color-unfitted-level-3);\n",
              "  color: var(--sklearn-color-background);\n",
              "  text-decoration: none;\n",
              "}\n",
              "\n",
              "#sk-container-id-2 a.estimator_doc_link.fitted:hover {\n",
              "  /* fitted */\n",
              "  background-color: var(--sklearn-color-fitted-level-3);\n",
              "}\n",
              "</style><div id=\"sk-container-id-2\" class=\"sk-top-container\"><div class=\"sk-text-repr-fallback\"><pre>LogisticRegression()</pre><b>In a Jupyter environment, please rerun this cell to show the HTML representation or trust the notebook. <br />On GitHub, the HTML representation is unable to render, please try loading this page with nbviewer.org.</b></div><div class=\"sk-container\" hidden><div class=\"sk-item\"><div class=\"sk-estimator fitted sk-toggleable\"><input class=\"sk-toggleable__control sk-hidden--visually\" id=\"sk-estimator-id-2\" type=\"checkbox\" checked><label for=\"sk-estimator-id-2\" class=\"sk-toggleable__label fitted sk-toggleable__label-arrow fitted\">&nbsp;&nbsp;LogisticRegression<a class=\"sk-estimator-doc-link fitted\" rel=\"noreferrer\" target=\"_blank\" href=\"https://scikit-learn.org/1.5/modules/generated/sklearn.linear_model.LogisticRegression.html\">?<span>Documentation for LogisticRegression</span></a><span class=\"sk-estimator-doc-link fitted\">i<span>Fitted</span></span></label><div class=\"sk-toggleable__content fitted\"><pre>LogisticRegression()</pre></div> </div></div></div></div>"
            ],
            "text/plain": [
              "LogisticRegression()"
            ]
          },
          "execution_count": 60,
          "metadata": {},
          "output_type": "execute_result"
        }
      ],
      "source": [
        "# Entrenar el modelo de Regresión Logística con TF-IDF\n",
        "modelo_tfidf = LogisticRegression()\n",
        "modelo_tfidf.fit(X_train_tfidf, y_train)"
      ]
    },
    {
      "cell_type": "code",
      "execution_count": 61,
      "metadata": {
        "colab": {
          "base_uri": "https://localhost:8080/"
        },
        "id": "0PZKKzOZUop6",
        "outputId": "a82c7e0a-4f15-4c4b-88f2-57eeb03e22e1"
      },
      "outputs": [
        {
          "name": "stdout",
          "output_type": "stream",
          "text": [
            "Precisión usando TF-IDF: 0.7333333333333333\n"
          ]
        }
      ],
      "source": [
        "# Hacer predicciones en el conjunto de prueba\n",
        "y_pred_tfidf = modelo_tfidf.predict(X_test_tfidf)\n",
        "\n",
        "# Calcular la precisión del modelo\n",
        "accuracy_tfidf = accuracy_score(y_test, y_pred_tfidf)\n",
        "print(\"Precisión usando TF-IDF:\", accuracy_tfidf)"
      ]
    },
    {
      "cell_type": "markdown",
      "metadata": {},
      "source": []
    },
    {
      "cell_type": "code",
      "execution_count": 66,
      "metadata": {
        "colab": {
          "base_uri": "https://localhost:8080/",
          "height": 339
        },
        "id": "ZCr2hk2ZWrHT",
        "outputId": "6a2820c1-3388-4a4d-c140-e5adbb10ff67"
      },
      "outputs": [
        {
          "name": "stdout",
          "output_type": "stream",
          "text": [
            "Reseña ingresada: increible\n",
            "Predicción con Bag of Words: Negativa\n",
            "Predicción con TF-IDF: Negativa\n"
          ]
        }
      ],
      "source": [
        "# Función para predecir una nueva reseña\n",
        "def predecir_reseña(nueva_reseña, modelo_bow, modelo_tfidf, vectorizador_bow, vectorizador_tfidf):\n",
        "    # Preprocesar la nueva reseña\n",
        "    nueva_reseña_bow = vectorizador_bow.transform([nueva_reseña])\n",
        "    nueva_reseña_tfidf = vectorizador_tfidf.transform([nueva_reseña])\n",
        "\n",
        "    # Predicción usando Bag of Words\n",
        "    prediccion_bow = modelo_bow.predict(nueva_reseña_bow)\n",
        "    # Predicción usando TF-IDF\n",
        "    prediccion_tfidf = modelo_tfidf.predict(nueva_reseña_tfidf)\n",
        "\n",
        "    # Mostrar resultados\n",
        "    print(f\"Reseña ingresada: {nueva_reseña}\")\n",
        "    print(f\"Predicción con Bag of Words: {'Positiva' if prediccion_bow[0] == 1 else 'Negativa'}\")\n",
        "    print(f\"Predicción con TF-IDF: {'Positiva' if prediccion_tfidf[0] == 1 else 'Negativa'}\")\n",
        "\n",
        "\n",
        "# Simular ingreso de nueva reseña por el usuario\n",
        "nueva_reseña = input(\"Ingresa una reseña de película: \")\n",
        "predecir_reseña(nueva_reseña, modelo_bow, modelo_tfidf, vectorizador_bow, vectorizador_tfidf)"
      ]
    },
    {
      "cell_type": "code",
      "execution_count": 63,
      "metadata": {
        "id": "WE-Bv1IKQLPw"
      },
      "outputs": [],
      "source": [
        "# nada de especial NN\n",
        "# gran película NP\n",
        "# me sorprendió pp\n",
        "# increíble pp"
      ]
    }
  ],
  "metadata": {
    "colab": {
      "collapsed_sections": [
        "nK9TEX569VS7",
        "luyvkD37PJZ1"
      ],
      "provenance": [],
      "toc_visible": true
    },
    "kernelspec": {
      "display_name": "Python 3",
      "name": "python3"
    },
    "language_info": {
      "codemirror_mode": {
        "name": "ipython",
        "version": 3
      },
      "file_extension": ".py",
      "mimetype": "text/x-python",
      "name": "python",
      "nbconvert_exporter": "python",
      "pygments_lexer": "ipython3",
      "version": "3.11.9"
    }
  },
  "nbformat": 4,
  "nbformat_minor": 0
}

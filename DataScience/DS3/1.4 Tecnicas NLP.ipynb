{
 "cells": [
  {
   "cell_type": "code",
   "execution_count": 36,
   "id": "4c95f46c",
   "metadata": {},
   "outputs": [
    {
     "name": "stdout",
     "output_type": "stream",
     "text": [
      "Requirement already satisfied: pip in c:\\users\\qy539ge\\appdata\\local\\packages\\pythonsoftwarefoundation.python.3.11_qbz5n2kfra8p0\\localcache\\local-packages\\python311\\site-packages (25.1.1)\n",
      "Note: you may need to restart the kernel to use updated packages.\n"
     ]
    }
   ],
   "source": [
    "pip install --upgrade pip\n"
   ]
  },
  {
   "cell_type": "code",
   "execution_count": 20,
   "id": "370f3304",
   "metadata": {},
   "outputs": [],
   "source": [
    "import nltk"
   ]
  },
  {
   "cell_type": "code",
   "execution_count": 21,
   "id": "7edffea5",
   "metadata": {},
   "outputs": [
    {
     "name": "stderr",
     "output_type": "stream",
     "text": [
      "[nltk_data] Downloading package brown to\n",
      "[nltk_data]     C:\\Users\\QY539GE\\AppData\\Roaming\\nltk_data...\n",
      "[nltk_data]   Package brown is already up-to-date!\n"
     ]
    },
    {
     "data": {
      "text/plain": [
       "True"
      ]
     },
     "execution_count": 21,
     "metadata": {},
     "output_type": "execute_result"
    }
   ],
   "source": [
    "nltk.download('brown')"
   ]
  },
  {
   "cell_type": "code",
   "execution_count": 22,
   "id": "392658e4",
   "metadata": {},
   "outputs": [
    {
     "name": "stdout",
     "output_type": "stream",
     "text": [
      "Requirement already satisfied: textblob in c:\\users\\qy539ge\\appdata\\local\\packages\\pythonsoftwarefoundation.python.3.11_qbz5n2kfra8p0\\localcache\\local-packages\\python311\\site-packages (0.19.0)\n",
      "Requirement already satisfied: nltk>=3.9 in c:\\users\\qy539ge\\appdata\\local\\packages\\pythonsoftwarefoundation.python.3.11_qbz5n2kfra8p0\\localcache\\local-packages\\python311\\site-packages (from textblob) (3.9.1)\n",
      "Requirement already satisfied: click in c:\\users\\qy539ge\\appdata\\local\\packages\\pythonsoftwarefoundation.python.3.11_qbz5n2kfra8p0\\localcache\\local-packages\\python311\\site-packages (from nltk>=3.9->textblob) (8.1.7)\n",
      "Requirement already satisfied: joblib in c:\\users\\qy539ge\\appdata\\local\\packages\\pythonsoftwarefoundation.python.3.11_qbz5n2kfra8p0\\localcache\\local-packages\\python311\\site-packages (from nltk>=3.9->textblob) (1.4.2)\n",
      "Requirement already satisfied: regex>=2021.8.3 in c:\\users\\qy539ge\\appdata\\local\\packages\\pythonsoftwarefoundation.python.3.11_qbz5n2kfra8p0\\localcache\\local-packages\\python311\\site-packages (from nltk>=3.9->textblob) (2024.9.11)\n",
      "Requirement already satisfied: tqdm in c:\\users\\qy539ge\\appdata\\local\\packages\\pythonsoftwarefoundation.python.3.11_qbz5n2kfra8p0\\localcache\\local-packages\\python311\\site-packages (from nltk>=3.9->textblob) (4.66.5)\n",
      "Requirement already satisfied: colorama in c:\\users\\qy539ge\\appdata\\local\\packages\\pythonsoftwarefoundation.python.3.11_qbz5n2kfra8p0\\localcache\\local-packages\\python311\\site-packages (from click->nltk>=3.9->textblob) (0.4.6)\n",
      "Note: you may need to restart the kernel to use updated packages.\n"
     ]
    }
   ],
   "source": [
    "pip install textblob"
   ]
  },
  {
   "cell_type": "markdown",
   "id": "58ed34f5",
   "metadata": {},
   "source": [
    "Importamos la libreria"
   ]
  },
  {
   "cell_type": "code",
   "execution_count": 23,
   "id": "2b930a63",
   "metadata": {},
   "outputs": [],
   "source": [
    "from textblob import TextBlob\n"
   ]
  },
  {
   "cell_type": "markdown",
   "id": "9a9ec52b",
   "metadata": {},
   "source": [
    "Evaluando el tono de un texto - Positivo, Negativo o neutro."
   ]
  },
  {
   "cell_type": "code",
   "execution_count": 24,
   "id": "8bff4b2c",
   "metadata": {},
   "outputs": [
    {
     "name": "stdout",
     "output_type": "stream",
     "text": [
      "Sentimiento: Sentiment(polarity=0.5, subjectivity=0.6)\n"
     ]
    }
   ],
   "source": [
    "#Text example:\n",
    "comentario = \"i like a lot to study, i love it.\"\n",
    "\n",
    "#Feelings analysis:\n",
    "blob = TextBlob(comentario)\n",
    "print(f\"Sentimiento: {blob.sentiment}\")"
   ]
  },
  {
   "cell_type": "markdown",
   "id": "e2f70e68",
   "metadata": {},
   "source": [
    "El resultado que obtuviste de la análisis de sentimientos con\n",
    "TextBlob\n",
    "es un objeto\n",
    "Sentiment\n",
    "que contiene dos atributos: polarity y subjectivity. Vamos a desglosar cada uno de estos componentes:\n",
    "\n",
    "Polarity (Polaridad):\n",
    "\n",
    "El valor de polaridad varía entre -1 y 1.\n",
    "Un valor de -1 indica un sentimiento muy negativo, 0 indica neutralidad, y 1 indica un sentimiento muy positivo.\n",
    "\n",
    "Subjectivity (Subjetividad):\n",
    "\n",
    "El valor de subjetividad varía entre 0 y 1.\n",
    "Un valor de 0 indica que el texto es muy objetivo (hechos), mientras que un valor de 1 indica que es muy subjetivo (opiniones, emociones).\n",
    "\n"
   ]
  },
  {
   "cell_type": "markdown",
   "id": "bd9d8b02",
   "metadata": {},
   "source": [
    "Polarity (Polaridad): En tu caso, la polaridad es 0.5, lo que sugiere que el comentario tiene un sentimiento positivo. Esto se debe a que la frase expresa una opinión favorable sobre el estudio y el amor por ello."
   ]
  },
  {
   "cell_type": "markdown",
   "id": "eaab8902",
   "metadata": {},
   "source": [
    "Subjectivity (Subjetividad): En tu caso, la subjetividad es 0.6, lo que sugiere que el comentario es relativamente subjetivo. Esto implica que se basa en la opinión personal del hablante sobre el estudio y su amor por ello, en lugar de ser un hecho objetivo.\n"
   ]
  },
  {
   "cell_type": "markdown",
   "id": "75df2dca",
   "metadata": {},
   "source": [
    "Resumen del análisis:\n",
    "El comentario \"i like a lot to study, i love it.\" es considerado positivo (polaridad de 0.5) y subjetivo (subjetividad de 0.6). Esto significa que la persona que hizo el comentario tiene una opinión favorable sobre el estudio y expresa sus sentimientos personales al respecto.\n",
    "Este tipo de análisis es útil para entender cómo se sienten las personas sobre un tema en particular, lo que puede ser valioso en diversas aplicaciones, como la retroalimentación de productos, la investigación de mercado y el análisis de redes sociales."
   ]
  },
  {
   "cell_type": "code",
   "execution_count": 25,
   "id": "e6a0777e",
   "metadata": {},
   "outputs": [
    {
     "name": "stdout",
     "output_type": "stream",
     "text": [
      "Sentimiento: Sentiment(polarity=-0.8, subjectivity=0.9)\n"
     ]
    }
   ],
   "source": [
    "#Text example:\n",
    "comentario2 = \"i hate the wind.\"\n",
    "\n",
    "#Feelings analysis:\n",
    "blob = TextBlob(comentario2)\n",
    "print(f\"Sentimiento: {blob.sentiment}\")"
   ]
  },
  {
   "cell_type": "markdown",
   "id": "402b159b",
   "metadata": {},
   "source": [
    "Análisis del resultado:\n",
    "Polaridad (Polarity):\n",
    "\n",
    "La polaridad es -0.8, lo que indica un sentimiento muy negativo. Esto es coherente con el contenido del comentario, ya que \"hate\" (odiar) es una expresión clara de desagrado hacia el viento.\n",
    "Un valor de -0.8 sugiere que el hablante tiene una fuerte aversión hacia el viento, lo que es consistente con la naturaleza negativa de la frase.\n",
    "\n",
    "Subjetividad (Subjectivity):\n",
    "La subjetividad es 0.9, lo que indica que el comentario es muy subjetivo. Esto significa que se basa en la opinión personal del hablante y no en un hecho objetivo.\n",
    "Un valor de 0.9 sugiere que el comentario refleja una fuerte emoción personal y no es simplemente una declaración objetiva sobre el viento.\n",
    "\n",
    "Resumen del análisis:\n",
    "El comentario \"i hate the wind.\" es considerado negativo (polaridad de -0.8) y subjetivo (subjetividad de 0.9). Esto implica que la persona que hizo el comentario tiene una opinión desfavorable sobre el viento y expresa sus sentimientos personales al respecto.\n",
    "Conclusión:\n",
    "Este análisis de sentimientos es útil para entender cómo se sienten las personas sobre un tema específico. En este caso, el comentario refleja una fuerte aversión hacia el viento, lo que podría ser relevante en contextos como la retroalimentación sobre el clima, la planificación de actividades al aire libre o el análisis de opiniones en redes sociales."
   ]
  },
  {
   "cell_type": "markdown",
   "id": "69c778ee",
   "metadata": {},
   "source": [
    "En\n",
    "TextBlob\n",
    ", el objeto\n",
    "Blob\n",
    "tiene varios atributos que permiten realizar análisis de texto. Aquí están algunos de los atributos más comunes:\n",
    "\n",
    "sentiment:\n",
    "Descripción: Este atributo devuelve un objeto Sentiment que contiene dos propiedades:\n",
    "polarity\n",
    "y\n",
    "subjectivity\n",
    "Uso: Se utiliza para analizar el sentimiento del texto, donde la polaridad indica si el sentimiento es positivo, negativo o neutral, y la subjetividad indica si el texto es objetivo o subjetivo.\n",
    "\n",
    "words:\n",
    "Descripción: Este atributo devuelve una lista de las palabras en el texto.\n",
    "Uso: Se utiliza para acceder a las palabras individuales en el texto, lo que permite realizar análisis adicionales, como contar palabras o buscar palabras específicas.\n",
    "\n",
    "sentences:\n",
    "Descripción: Este atributo devuelve una lista de las oraciones en el texto.\n",
    "Uso: Se utiliza para dividir el texto en oraciones, lo que permite realizar análisis a nivel de oración, como el análisis de sentimientos por oración.\n",
    "\n",
    "noun_phrases:\n",
    "Descripción: Este atributo devuelve una lista de frases nominales (sustantivos y sus modificadores) en el texto.\n",
    "Uso: Se utiliza para identificar y extraer las frases que representan conceptos clave en el texto.\n",
    "\n",
    "translate(to):\n",
    "Descripción: Este método permite traducir el texto a otro idioma especificado.\n",
    "Uso: Se utiliza para traducir el contenido del texto a un idioma diferente, facilitando la comprensión en contextos multilingües.\n",
    "\n",
    "correct():\n",
    "Descripción: Este método corrige errores ortográficos en el texto.\n",
    "Uso: Se utiliza para mejorar la calidad del texto corrigiendo errores comunes de escritura."
   ]
  },
  {
   "cell_type": "code",
   "execution_count": 34,
   "id": "d2506750",
   "metadata": {},
   "outputs": [
    {
     "name": "stdout",
     "output_type": "stream",
     "text": [
      "Sentimiento: Sentiment(polarity=0.5, subjectivity=0.6)\n",
      "Análisis de sentimiento: Sentiment(polarity=0.5, subjectivity=0.6, assessments=[(['love'], 0.5, 0.6, None)])\n",
      "Palabras: ['i', 'like', 'a', 'lot', 'to', 'study', 'i', 'love', 'it']\n",
      "Conteo de palabras: defaultdict(<class 'int'>, {'i': 2, 'like': 1, 'a': 1, 'lot': 1, 'to': 1, 'study': 1, 'love': 1, 'it': 1})\n",
      "Oraciones: [Sentence(\"i like a lot to study, i love it.\")]\n",
      "Frases nominales: []\n",
      "Texto corregido: i like a lot to study, i love it.\n"
     ]
    }
   ],
   "source": [
    "# Texto de ejemplo\n",
    "comentario = \"i like a lot to study, i love it.\"\n",
    "\n",
    "# Análisis de sentimientos\n",
    "blob = TextBlob(comentario)\n",
    "\n",
    "# 1. Análisis de sentimiento general\n",
    "print(f\"Sentimiento: {blob.sentiment}\")\n",
    "\n",
    "# 2. Análisis de sentimiento detallado\n",
    "print(f\"Análisis de sentimiento: {blob.sentiment_assessments}\")\n",
    "\n",
    "# 3. Palabras en el texto\n",
    "print(f\"Palabras: {blob.words}\")\n",
    "\n",
    "# 4. Conteo de palabras\n",
    "print(f\"Conteo de palabras: {blob.word_counts}\")\n",
    "\n",
    "# 5. Oraciones en el texto\n",
    "print(f\"Oraciones: {blob.sentences}\")\n",
    "\n",
    "# 6. Frases nominales\n",
    "print(f\"Frases nominales: {blob.noun_phrases}\")\n",
    "\n",
    "# 7. Corrección del texto\n",
    "print(f\"Texto corregido: {blob.correct()}\")\n",
    "\n"
   ]
  },
  {
   "cell_type": "markdown",
   "id": "627ed9c7",
   "metadata": {},
   "source": [
    "2. NET (Named Entity Recognition)"
   ]
  },
  {
   "cell_type": "code",
   "execution_count": 37,
   "id": "fa50dc38",
   "metadata": {},
   "outputs": [
    {
     "name": "stdout",
     "output_type": "stream",
     "text": [
      "Collecting spacy\n",
      "  Downloading spacy-3.8.7-cp311-cp311-win_amd64.whl.metadata (28 kB)\n",
      "Collecting spacy-legacy<3.1.0,>=3.0.11 (from spacy)\n",
      "  Downloading spacy_legacy-3.0.12-py2.py3-none-any.whl.metadata (2.8 kB)\n",
      "Collecting spacy-loggers<2.0.0,>=1.0.0 (from spacy)\n",
      "  Downloading spacy_loggers-1.0.5-py3-none-any.whl.metadata (23 kB)\n",
      "Collecting murmurhash<1.1.0,>=0.28.0 (from spacy)\n",
      "  Downloading murmurhash-1.0.13-cp311-cp311-win_amd64.whl.metadata (2.2 kB)\n",
      "Collecting cymem<2.1.0,>=2.0.2 (from spacy)\n",
      "  Downloading cymem-2.0.11-cp311-cp311-win_amd64.whl.metadata (8.8 kB)\n",
      "Collecting preshed<3.1.0,>=3.0.2 (from spacy)\n",
      "  Downloading preshed-3.0.10-cp311-cp311-win_amd64.whl.metadata (2.5 kB)\n",
      "Collecting thinc<8.4.0,>=8.3.4 (from spacy)\n",
      "  Downloading thinc-8.3.6-cp311-cp311-win_amd64.whl.metadata (15 kB)\n",
      "Collecting wasabi<1.2.0,>=0.9.1 (from spacy)\n",
      "  Downloading wasabi-1.1.3-py3-none-any.whl.metadata (28 kB)\n",
      "Collecting srsly<3.0.0,>=2.4.3 (from spacy)\n",
      "  Downloading srsly-2.5.1-cp311-cp311-win_amd64.whl.metadata (20 kB)\n",
      "Collecting catalogue<2.1.0,>=2.0.6 (from spacy)\n",
      "  Downloading catalogue-2.0.10-py3-none-any.whl.metadata (14 kB)\n",
      "Collecting weasel<0.5.0,>=0.1.0 (from spacy)\n",
      "  Downloading weasel-0.4.1-py3-none-any.whl.metadata (4.6 kB)\n",
      "Collecting typer<1.0.0,>=0.3.0 (from spacy)\n",
      "  Downloading typer-0.16.0-py3-none-any.whl.metadata (15 kB)\n",
      "Requirement already satisfied: tqdm<5.0.0,>=4.38.0 in c:\\users\\qy539ge\\appdata\\local\\packages\\pythonsoftwarefoundation.python.3.11_qbz5n2kfra8p0\\localcache\\local-packages\\python311\\site-packages (from spacy) (4.66.5)\n",
      "Requirement already satisfied: numpy>=1.19.0 in c:\\users\\qy539ge\\appdata\\local\\packages\\pythonsoftwarefoundation.python.3.11_qbz5n2kfra8p0\\localcache\\local-packages\\python311\\site-packages (from spacy) (1.26.4)\n",
      "Requirement already satisfied: requests<3.0.0,>=2.13.0 in c:\\users\\qy539ge\\appdata\\local\\packages\\pythonsoftwarefoundation.python.3.11_qbz5n2kfra8p0\\localcache\\local-packages\\python311\\site-packages (from spacy) (2.32.3)\n",
      "Collecting pydantic!=1.8,!=1.8.1,<3.0.0,>=1.7.4 (from spacy)\n",
      "  Downloading pydantic-2.11.7-py3-none-any.whl.metadata (67 kB)\n",
      "Requirement already satisfied: jinja2 in c:\\users\\qy539ge\\appdata\\local\\packages\\pythonsoftwarefoundation.python.3.11_qbz5n2kfra8p0\\localcache\\local-packages\\python311\\site-packages (from spacy) (3.1.4)\n",
      "Requirement already satisfied: setuptools in c:\\program files\\windowsapps\\pythonsoftwarefoundation.python.3.11_3.11.2544.0_x64__qbz5n2kfra8p0\\lib\\site-packages (from spacy) (65.5.0)\n",
      "Requirement already satisfied: packaging>=20.0 in c:\\users\\qy539ge\\appdata\\local\\packages\\pythonsoftwarefoundation.python.3.11_qbz5n2kfra8p0\\localcache\\local-packages\\python311\\site-packages (from spacy) (24.1)\n",
      "Collecting langcodes<4.0.0,>=3.2.0 (from spacy)\n",
      "  Downloading langcodes-3.5.0-py3-none-any.whl.metadata (29 kB)\n",
      "Collecting language-data>=1.2 (from langcodes<4.0.0,>=3.2.0->spacy)\n",
      "  Downloading language_data-1.3.0-py3-none-any.whl.metadata (4.3 kB)\n",
      "Collecting annotated-types>=0.6.0 (from pydantic!=1.8,!=1.8.1,<3.0.0,>=1.7.4->spacy)\n",
      "  Downloading annotated_types-0.7.0-py3-none-any.whl.metadata (15 kB)\n",
      "Collecting pydantic-core==2.33.2 (from pydantic!=1.8,!=1.8.1,<3.0.0,>=1.7.4->spacy)\n",
      "  Downloading pydantic_core-2.33.2-cp311-cp311-win_amd64.whl.metadata (6.9 kB)\n",
      "Requirement already satisfied: typing-extensions>=4.12.2 in c:\\users\\qy539ge\\appdata\\local\\packages\\pythonsoftwarefoundation.python.3.11_qbz5n2kfra8p0\\localcache\\local-packages\\python311\\site-packages (from pydantic!=1.8,!=1.8.1,<3.0.0,>=1.7.4->spacy) (4.12.2)\n",
      "Collecting typing-inspection>=0.4.0 (from pydantic!=1.8,!=1.8.1,<3.0.0,>=1.7.4->spacy)\n",
      "  Downloading typing_inspection-0.4.1-py3-none-any.whl.metadata (2.6 kB)\n",
      "Requirement already satisfied: charset-normalizer<4,>=2 in c:\\users\\qy539ge\\appdata\\local\\packages\\pythonsoftwarefoundation.python.3.11_qbz5n2kfra8p0\\localcache\\local-packages\\python311\\site-packages (from requests<3.0.0,>=2.13.0->spacy) (3.3.2)\n",
      "Requirement already satisfied: idna<4,>=2.5 in c:\\users\\qy539ge\\appdata\\local\\packages\\pythonsoftwarefoundation.python.3.11_qbz5n2kfra8p0\\localcache\\local-packages\\python311\\site-packages (from requests<3.0.0,>=2.13.0->spacy) (2.10)\n",
      "Requirement already satisfied: urllib3<3,>=1.21.1 in c:\\users\\qy539ge\\appdata\\local\\packages\\pythonsoftwarefoundation.python.3.11_qbz5n2kfra8p0\\localcache\\local-packages\\python311\\site-packages (from requests<3.0.0,>=2.13.0->spacy) (2.2.2)\n",
      "Requirement already satisfied: certifi>=2017.4.17 in c:\\users\\qy539ge\\appdata\\local\\packages\\pythonsoftwarefoundation.python.3.11_qbz5n2kfra8p0\\localcache\\local-packages\\python311\\site-packages (from requests<3.0.0,>=2.13.0->spacy) (2025.1.31)\n",
      "Collecting blis<1.4.0,>=1.3.0 (from thinc<8.4.0,>=8.3.4->spacy)\n",
      "  Downloading blis-1.3.0-cp311-cp311-win_amd64.whl.metadata (7.6 kB)\n",
      "Collecting confection<1.0.0,>=0.0.1 (from thinc<8.4.0,>=8.3.4->spacy)\n",
      "  Downloading confection-0.1.5-py3-none-any.whl.metadata (19 kB)\n",
      "Collecting numpy>=1.19.0 (from spacy)\n",
      "  Downloading numpy-2.3.1-cp311-cp311-win_amd64.whl.metadata (60 kB)\n",
      "Requirement already satisfied: colorama in c:\\users\\qy539ge\\appdata\\local\\packages\\pythonsoftwarefoundation.python.3.11_qbz5n2kfra8p0\\localcache\\local-packages\\python311\\site-packages (from tqdm<5.0.0,>=4.38.0->spacy) (0.4.6)\n",
      "Requirement already satisfied: click>=8.0.0 in c:\\users\\qy539ge\\appdata\\local\\packages\\pythonsoftwarefoundation.python.3.11_qbz5n2kfra8p0\\localcache\\local-packages\\python311\\site-packages (from typer<1.0.0,>=0.3.0->spacy) (8.1.7)\n",
      "Collecting shellingham>=1.3.0 (from typer<1.0.0,>=0.3.0->spacy)\n",
      "  Downloading shellingham-1.5.4-py2.py3-none-any.whl.metadata (3.5 kB)\n",
      "Requirement already satisfied: rich>=10.11.0 in c:\\users\\qy539ge\\appdata\\local\\packages\\pythonsoftwarefoundation.python.3.11_qbz5n2kfra8p0\\localcache\\local-packages\\python311\\site-packages (from typer<1.0.0,>=0.3.0->spacy) (13.8.0)\n",
      "Collecting cloudpathlib<1.0.0,>=0.7.0 (from weasel<0.5.0,>=0.1.0->spacy)\n",
      "  Downloading cloudpathlib-0.21.1-py3-none-any.whl.metadata (14 kB)\n",
      "Collecting smart-open<8.0.0,>=5.2.1 (from weasel<0.5.0,>=0.1.0->spacy)\n",
      "  Downloading smart_open-7.3.0.post1-py3-none-any.whl.metadata (24 kB)\n",
      "Requirement already satisfied: wrapt in c:\\users\\qy539ge\\appdata\\local\\packages\\pythonsoftwarefoundation.python.3.11_qbz5n2kfra8p0\\localcache\\local-packages\\python311\\site-packages (from smart-open<8.0.0,>=5.2.1->weasel<0.5.0,>=0.1.0->spacy) (1.16.0)\n",
      "Collecting marisa-trie>=1.1.0 (from language-data>=1.2->langcodes<4.0.0,>=3.2.0->spacy)\n",
      "  Downloading marisa_trie-1.2.1-cp311-cp311-win_amd64.whl.metadata (9.3 kB)\n",
      "Requirement already satisfied: markdown-it-py>=2.2.0 in c:\\users\\qy539ge\\appdata\\local\\packages\\pythonsoftwarefoundation.python.3.11_qbz5n2kfra8p0\\localcache\\local-packages\\python311\\site-packages (from rich>=10.11.0->typer<1.0.0,>=0.3.0->spacy) (3.0.0)\n",
      "Requirement already satisfied: pygments<3.0.0,>=2.13.0 in c:\\users\\qy539ge\\appdata\\local\\packages\\pythonsoftwarefoundation.python.3.11_qbz5n2kfra8p0\\localcache\\local-packages\\python311\\site-packages (from rich>=10.11.0->typer<1.0.0,>=0.3.0->spacy) (2.18.0)\n",
      "Requirement already satisfied: mdurl~=0.1 in c:\\users\\qy539ge\\appdata\\local\\packages\\pythonsoftwarefoundation.python.3.11_qbz5n2kfra8p0\\localcache\\local-packages\\python311\\site-packages (from markdown-it-py>=2.2.0->rich>=10.11.0->typer<1.0.0,>=0.3.0->spacy) (0.1.2)\n",
      "Requirement already satisfied: MarkupSafe>=2.0 in c:\\users\\qy539ge\\appdata\\local\\packages\\pythonsoftwarefoundation.python.3.11_qbz5n2kfra8p0\\localcache\\local-packages\\python311\\site-packages (from jinja2->spacy) (2.1.5)\n",
      "Downloading spacy-3.8.7-cp311-cp311-win_amd64.whl (14.9 MB)\n",
      "   ---------------------------------------- 0.0/14.9 MB ? eta -:--:--\n",
      "   ---------------------------------------- 0.0/14.9 MB ? eta -:--:--\n",
      "   -- ------------------------------------- 0.8/14.9 MB 2.8 MB/s eta 0:00:06\n",
      "   ---- ----------------------------------- 1.8/14.9 MB 4.2 MB/s eta 0:00:04\n",
      "   ----------- ---------------------------- 4.5/14.9 MB 6.4 MB/s eta 0:00:02\n",
      "   ------------------- -------------------- 7.3/14.9 MB 8.2 MB/s eta 0:00:01\n",
      "   ---------------------- ----------------- 8.4/14.9 MB 8.5 MB/s eta 0:00:01\n",
      "   ---------------------------- ----------- 10.7/14.9 MB 8.2 MB/s eta 0:00:01\n",
      "   ------------------------------------ --- 13.6/14.9 MB 9.3 MB/s eta 0:00:01\n",
      "   -------------------------------------- - 14.4/14.9 MB 8.3 MB/s eta 0:00:01\n",
      "   ---------------------------------------- 14.9/14.9 MB 8.3 MB/s eta 0:00:00\n",
      "Downloading catalogue-2.0.10-py3-none-any.whl (17 kB)\n",
      "Downloading cymem-2.0.11-cp311-cp311-win_amd64.whl (39 kB)\n",
      "Downloading langcodes-3.5.0-py3-none-any.whl (182 kB)\n",
      "Downloading murmurhash-1.0.13-cp311-cp311-win_amd64.whl (24 kB)\n",
      "Downloading preshed-3.0.10-cp311-cp311-win_amd64.whl (117 kB)\n",
      "Downloading pydantic-2.11.7-py3-none-any.whl (444 kB)\n",
      "Downloading pydantic_core-2.33.2-cp311-cp311-win_amd64.whl (2.0 MB)\n",
      "   ---------------------------------------- 0.0/2.0 MB ? eta -:--:--\n",
      "   -------------------------------- ------- 1.6/2.0 MB 9.3 MB/s eta 0:00:01\n",
      "   ---------------------------------------- 2.0/2.0 MB 8.3 MB/s eta 0:00:00\n",
      "Downloading spacy_legacy-3.0.12-py2.py3-none-any.whl (29 kB)\n",
      "Downloading spacy_loggers-1.0.5-py3-none-any.whl (22 kB)\n",
      "Downloading srsly-2.5.1-cp311-cp311-win_amd64.whl (632 kB)\n",
      "   ---------------------------------------- 0.0/632.6 kB ? eta -:--:--\n",
      "   ---------------------------------------- 632.6/632.6 kB 7.9 MB/s eta 0:00:00\n",
      "Downloading thinc-8.3.6-cp311-cp311-win_amd64.whl (1.8 MB)\n",
      "   ---------------------------------------- 0.0/1.8 MB ? eta -:--:--\n",
      "   ----------------------------------- ---- 1.6/1.8 MB 8.4 MB/s eta 0:00:01\n",
      "   ---------------------------------------- 1.8/1.8 MB 8.8 MB/s eta 0:00:00\n",
      "Downloading blis-1.3.0-cp311-cp311-win_amd64.whl (6.2 MB)\n",
      "   ---------------------------------------- 0.0/6.2 MB ? eta -:--:--\n",
      "   --- ------------------------------------ 0.5/6.2 MB 17.5 MB/s eta 0:00:01\n",
      "   --------------------- ------------------ 3.4/6.2 MB 7.7 MB/s eta 0:00:01\n",
      "   ---------------------------- ----------- 4.5/6.2 MB 7.1 MB/s eta 0:00:01\n",
      "   ------------------------------------- -- 5.8/6.2 MB 7.0 MB/s eta 0:00:01\n",
      "   ---------------------------------------- 6.2/6.2 MB 6.7 MB/s eta 0:00:00\n",
      "Downloading confection-0.1.5-py3-none-any.whl (35 kB)\n",
      "Downloading numpy-2.3.1-cp311-cp311-win_amd64.whl (13.0 MB)\n",
      "   ---------------------------------------- 0.0/13.0 MB ? eta -:--:--\n",
      "   ---- ----------------------------------- 1.3/13.0 MB 6.7 MB/s eta 0:00:02\n",
      "   -------- ------------------------------- 2.9/13.0 MB 6.7 MB/s eta 0:00:02\n",
      "   ------------ --------------------------- 4.2/13.0 MB 6.6 MB/s eta 0:00:02\n",
      "   ---------------- ----------------------- 5.5/13.0 MB 6.6 MB/s eta 0:00:02\n",
      "   --------------------- ------------------ 7.1/13.0 MB 6.8 MB/s eta 0:00:01\n",
      "   ------------------------- -------------- 8.4/13.0 MB 6.8 MB/s eta 0:00:01\n",
      "   ------------------------------ --------- 10.0/13.0 MB 6.8 MB/s eta 0:00:01\n",
      "   ------------------------------------ --- 11.8/13.0 MB 7.0 MB/s eta 0:00:01\n",
      "   ------------------------------------- -- 12.1/13.0 MB 6.9 MB/s eta 0:00:01\n",
      "   ---------------------------------------- 13.0/13.0 MB 6.4 MB/s eta 0:00:00\n",
      "Downloading typer-0.16.0-py3-none-any.whl (46 kB)\n",
      "Downloading wasabi-1.1.3-py3-none-any.whl (27 kB)\n",
      "Downloading weasel-0.4.1-py3-none-any.whl (50 kB)\n",
      "Downloading cloudpathlib-0.21.1-py3-none-any.whl (52 kB)\n",
      "Downloading smart_open-7.3.0.post1-py3-none-any.whl (61 kB)\n",
      "Downloading annotated_types-0.7.0-py3-none-any.whl (13 kB)\n",
      "Downloading language_data-1.3.0-py3-none-any.whl (5.4 MB)\n",
      "   ---------------------------------------- 0.0/5.4 MB ? eta -:--:--\n",
      "   ------- -------------------------------- 1.0/5.4 MB 5.6 MB/s eta 0:00:01\n",
      "   ----------- ---------------------------- 1.6/5.4 MB 5.2 MB/s eta 0:00:01\n",
      "   ----------------------- ---------------- 3.1/5.4 MB 5.3 MB/s eta 0:00:01\n",
      "   ----------------------------- ---------- 3.9/5.4 MB 4.8 MB/s eta 0:00:01\n",
      "   ----------------------------------- ---- 4.7/5.4 MB 4.6 MB/s eta 0:00:01\n",
      "   ---------------------------------------- 5.4/5.4 MB 4.5 MB/s eta 0:00:00\n",
      "Downloading marisa_trie-1.2.1-cp311-cp311-win_amd64.whl (152 kB)\n",
      "Downloading shellingham-1.5.4-py2.py3-none-any.whl (9.8 kB)\n",
      "Downloading typing_inspection-0.4.1-py3-none-any.whl (14 kB)\n",
      "Installing collected packages: cymem, wasabi, typing-inspection, spacy-loggers, spacy-legacy, smart-open, shellingham, pydantic-core, numpy, murmurhash, marisa-trie, cloudpathlib, catalogue, annotated-types, srsly, pydantic, preshed, language-data, blis, typer, langcodes, confection, weasel, thinc, spacy\n",
      "\n",
      "   --- ------------------------------------  2/25 [typing-inspection]\n",
      "   ------ ---------------------------------  4/25 [spacy-legacy]\n",
      "   -------- -------------------------------  5/25 [smart-open]\n",
      "   ----------- ----------------------------  7/25 [pydantic-core]\n",
      "  Attempting uninstall: numpy\n",
      "   ----------- ----------------------------  7/25 [pydantic-core]\n",
      "    Found existing installation: numpy 1.26.4\n",
      "   ----------- ----------------------------  7/25 [pydantic-core]\n",
      "   ------------ ---------------------------  8/25 [numpy]\n",
      "   ------------ ---------------------------  8/25 [numpy]\n",
      "    Uninstalling numpy-1.26.4:\n",
      "   ------------ ---------------------------  8/25 [numpy]\n",
      "   ------------ ---------------------------  8/25 [numpy]\n",
      "   ------------ ---------------------------  8/25 [numpy]\n",
      "   ------------ ---------------------------  8/25 [numpy]\n",
      "   ------------ ---------------------------  8/25 [numpy]\n",
      "   ------------ ---------------------------  8/25 [numpy]\n",
      "   ------------ ---------------------------  8/25 [numpy]\n",
      "   ------------ ---------------------------  8/25 [numpy]\n",
      "   ------------ ---------------------------  8/25 [numpy]\n",
      "   ------------ ---------------------------  8/25 [numpy]\n",
      "   ------------ ---------------------------  8/25 [numpy]\n",
      "   ------------ ---------------------------  8/25 [numpy]\n",
      "   ------------ ---------------------------  8/25 [numpy]\n",
      "   ------------ ---------------------------  8/25 [numpy]\n",
      "   ------------ ---------------------------  8/25 [numpy]\n",
      "   ------------ ---------------------------  8/25 [numpy]\n",
      "   ------------ ---------------------------  8/25 [numpy]\n",
      "   ------------ ---------------------------  8/25 [numpy]\n",
      "   ------------ ---------------------------  8/25 [numpy]\n",
      "   ------------ ---------------------------  8/25 [numpy]\n",
      "   ------------ ---------------------------  8/25 [numpy]\n",
      "   ------------ ---------------------------  8/25 [numpy]\n",
      "   ------------ ---------------------------  8/25 [numpy]\n",
      "   ------------ ---------------------------  8/25 [numpy]\n",
      "   ------------ ---------------------------  8/25 [numpy]\n",
      "   ------------ ---------------------------  8/25 [numpy]\n",
      "   ------------ ---------------------------  8/25 [numpy]\n",
      "   ------------ ---------------------------  8/25 [numpy]\n",
      "   ------------ ---------------------------  8/25 [numpy]\n",
      "      Successfully uninstalled numpy-1.26.4\n",
      "   ------------ ---------------------------  8/25 [numpy]\n",
      "   ------------ ---------------------------  8/25 [numpy]\n",
      "   ------------ ---------------------------  8/25 [numpy]\n",
      "   ------------ ---------------------------  8/25 [numpy]\n",
      "   ------------ ---------------------------  8/25 [numpy]\n",
      "   ------------ ---------------------------  8/25 [numpy]\n",
      "   ------------ ---------------------------  8/25 [numpy]\n",
      "   ------------ ---------------------------  8/25 [numpy]\n",
      "   ------------ ---------------------------  8/25 [numpy]\n",
      "   ------------ ---------------------------  8/25 [numpy]\n",
      "   ------------ ---------------------------  8/25 [numpy]\n",
      "   ------------ ---------------------------  8/25 [numpy]\n",
      "   ------------ ---------------------------  8/25 [numpy]\n",
      "   ------------ ---------------------------  8/25 [numpy]\n",
      "   ------------ ---------------------------  8/25 [numpy]\n",
      "   ------------ ---------------------------  8/25 [numpy]\n",
      "   ------------ ---------------------------  8/25 [numpy]\n",
      "   ------------ ---------------------------  8/25 [numpy]\n",
      "   ------------ ---------------------------  8/25 [numpy]\n",
      "   ------------ ---------------------------  8/25 [numpy]\n",
      "   ------------ ---------------------------  8/25 [numpy]\n",
      "   ------------ ---------------------------  8/25 [numpy]\n",
      "   ------------ ---------------------------  8/25 [numpy]\n",
      "   ------------ ---------------------------  8/25 [numpy]\n",
      "   ------------ ---------------------------  8/25 [numpy]\n",
      "   ------------ ---------------------------  8/25 [numpy]\n",
      "   ------------ ---------------------------  8/25 [numpy]\n",
      "   ------------ ---------------------------  8/25 [numpy]\n",
      "   ------------ ---------------------------  8/25 [numpy]\n",
      "   ------------ ---------------------------  8/25 [numpy]\n",
      "   ------------ ---------------------------  8/25 [numpy]\n",
      "   ------------ ---------------------------  8/25 [numpy]\n",
      "   ------------ ---------------------------  8/25 [numpy]\n",
      "   ------------ ---------------------------  8/25 [numpy]\n",
      "   ------------ ---------------------------  8/25 [numpy]\n",
      "   ------------ ---------------------------  8/25 [numpy]\n",
      "   ------------ ---------------------------  8/25 [numpy]\n",
      "   ------------ ---------------------------  8/25 [numpy]\n",
      "   ------------ ---------------------------  8/25 [numpy]\n",
      "   ------------ ---------------------------  8/25 [numpy]\n",
      "   ------------ ---------------------------  8/25 [numpy]\n",
      "   ------------ ---------------------------  8/25 [numpy]\n",
      "   ------------ ---------------------------  8/25 [numpy]\n",
      "   ------------ ---------------------------  8/25 [numpy]\n",
      "   ------------ ---------------------------  8/25 [numpy]\n",
      "   ------------ ---------------------------  8/25 [numpy]\n",
      "   ------------ ---------------------------  8/25 [numpy]\n",
      "   ------------ ---------------------------  8/25 [numpy]\n",
      "   ------------ ---------------------------  8/25 [numpy]\n",
      "   ------------ ---------------------------  8/25 [numpy]\n",
      "   ------------ ---------------------------  8/25 [numpy]\n",
      "   ------------ ---------------------------  8/25 [numpy]\n",
      "   ------------ ---------------------------  8/25 [numpy]\n",
      "   ------------ ---------------------------  8/25 [numpy]\n",
      "   ------------ ---------------------------  8/25 [numpy]\n",
      "   ------------ ---------------------------  8/25 [numpy]\n",
      "   ------------ ---------------------------  8/25 [numpy]\n",
      "   ------------ ---------------------------  8/25 [numpy]\n",
      "   ------------ ---------------------------  8/25 [numpy]\n",
      "   ------------ ---------------------------  8/25 [numpy]\n",
      "   ------------ ---------------------------  8/25 [numpy]\n",
      "   ------------ ---------------------------  8/25 [numpy]\n",
      "   ------------ ---------------------------  8/25 [numpy]\n",
      "   ------------ ---------------------------  8/25 [numpy]\n",
      "   ------------ ---------------------------  8/25 [numpy]\n",
      "   ------------ ---------------------------  8/25 [numpy]\n",
      "   ------------ ---------------------------  8/25 [numpy]\n",
      "   ------------ ---------------------------  8/25 [numpy]\n",
      "   ------------ ---------------------------  8/25 [numpy]\n",
      "   ------------ ---------------------------  8/25 [numpy]\n",
      "   ------------ ---------------------------  8/25 [numpy]\n",
      "   ------------ ---------------------------  8/25 [numpy]\n",
      "   ------------ ---------------------------  8/25 [numpy]\n",
      "   ------------ ---------------------------  8/25 [numpy]\n",
      "   ------------ ---------------------------  8/25 [numpy]\n",
      "   ----------------- ---------------------- 11/25 [cloudpathlib]\n",
      "   ------------------- -------------------- 12/25 [catalogue]\n",
      "   ---------------------- ----------------- 14/25 [srsly]\n",
      "   ---------------------- ----------------- 14/25 [srsly]\n",
      "   ---------------------- ----------------- 14/25 [srsly]\n",
      "   ---------------------- ----------------- 14/25 [srsly]\n",
      "   ---------------------- ----------------- 14/25 [srsly]\n",
      "   ------------------------ --------------- 15/25 [pydantic]\n",
      "   ------------------------ --------------- 15/25 [pydantic]\n",
      "   ------------------------ --------------- 15/25 [pydantic]\n",
      "   ------------------------ --------------- 15/25 [pydantic]\n",
      "   ------------------------ --------------- 15/25 [pydantic]\n",
      "   ------------------------- -------------- 16/25 [preshed]\n",
      "   --------------------------- ------------ 17/25 [language-data]\n",
      "   --------------------------- ------------ 17/25 [language-data]\n",
      "   --------------------------- ------------ 17/25 [language-data]\n",
      "   --------------------------- ------------ 17/25 [language-data]\n",
      "   --------------------------- ------------ 17/25 [language-data]\n",
      "   --------------------------- ------------ 17/25 [language-data]\n",
      "   --------------------------- ------------ 17/25 [language-data]\n",
      "   --------------------------- ------------ 17/25 [language-data]\n",
      "   --------------------------- ------------ 17/25 [language-data]\n",
      "   --------------------------- ------------ 17/25 [language-data]\n",
      "   --------------------------- ------------ 17/25 [language-data]\n",
      "   --------------------------- ------------ 17/25 [language-data]\n",
      "   ---------------------------- ----------- 18/25 [blis]\n",
      "   ---------------------------- ----------- 18/25 [blis]\n",
      "   ------------------------------ --------- 19/25 [typer]\n",
      "   ------------------------------ --------- 19/25 [typer]\n",
      "   -------------------------------- ------- 20/25 [langcodes]\n",
      "   ----------------------------------- ---- 22/25 [weasel]\n",
      "   ----------------------------------- ---- 22/25 [weasel]\n",
      "   ----------------------------------- ---- 22/25 [weasel]\n",
      "   ------------------------------------ --- 23/25 [thinc]\n",
      "   ------------------------------------ --- 23/25 [thinc]\n",
      "   ------------------------------------ --- 23/25 [thinc]\n",
      "   ------------------------------------ --- 23/25 [thinc]\n",
      "   ------------------------------------ --- 23/25 [thinc]\n",
      "   ------------------------------------ --- 23/25 [thinc]\n",
      "   ------------------------------------ --- 23/25 [thinc]\n",
      "   ------------------------------------ --- 23/25 [thinc]\n",
      "   -------------------------------------- - 24/25 [spacy]\n",
      "   -------------------------------------- - 24/25 [spacy]\n",
      "   -------------------------------------- - 24/25 [spacy]\n",
      "   -------------------------------------- - 24/25 [spacy]\n",
      "   -------------------------------------- - 24/25 [spacy]\n",
      "   -------------------------------------- - 24/25 [spacy]\n",
      "   -------------------------------------- - 24/25 [spacy]\n",
      "   -------------------------------------- - 24/25 [spacy]\n",
      "   -------------------------------------- - 24/25 [spacy]\n",
      "   -------------------------------------- - 24/25 [spacy]\n",
      "   -------------------------------------- - 24/25 [spacy]\n",
      "   -------------------------------------- - 24/25 [spacy]\n",
      "   -------------------------------------- - 24/25 [spacy]\n",
      "   -------------------------------------- - 24/25 [spacy]\n",
      "   -------------------------------------- - 24/25 [spacy]\n",
      "   -------------------------------------- - 24/25 [spacy]\n",
      "   -------------------------------------- - 24/25 [spacy]\n",
      "   -------------------------------------- - 24/25 [spacy]\n",
      "   -------------------------------------- - 24/25 [spacy]\n",
      "   -------------------------------------- - 24/25 [spacy]\n",
      "   -------------------------------------- - 24/25 [spacy]\n",
      "   -------------------------------------- - 24/25 [spacy]\n",
      "   -------------------------------------- - 24/25 [spacy]\n",
      "   -------------------------------------- - 24/25 [spacy]\n",
      "   -------------------------------------- - 24/25 [spacy]\n",
      "   -------------------------------------- - 24/25 [spacy]\n",
      "   -------------------------------------- - 24/25 [spacy]\n",
      "   -------------------------------------- - 24/25 [spacy]\n",
      "   -------------------------------------- - 24/25 [spacy]\n",
      "   -------------------------------------- - 24/25 [spacy]\n",
      "   -------------------------------------- - 24/25 [spacy]\n",
      "   -------------------------------------- - 24/25 [spacy]\n",
      "   -------------------------------------- - 24/25 [spacy]\n",
      "   -------------------------------------- - 24/25 [spacy]\n",
      "   -------------------------------------- - 24/25 [spacy]\n",
      "   -------------------------------------- - 24/25 [spacy]\n",
      "   -------------------------------------- - 24/25 [spacy]\n",
      "   -------------------------------------- - 24/25 [spacy]\n",
      "   -------------------------------------- - 24/25 [spacy]\n",
      "   -------------------------------------- - 24/25 [spacy]\n",
      "   -------------------------------------- - 24/25 [spacy]\n",
      "   -------------------------------------- - 24/25 [spacy]\n",
      "   -------------------------------------- - 24/25 [spacy]\n",
      "   ---------------------------------------- 25/25 [spacy]\n",
      "\n",
      "Successfully installed annotated-types-0.7.0 blis-1.3.0 catalogue-2.0.10 cloudpathlib-0.21.1 confection-0.1.5 cymem-2.0.11 langcodes-3.5.0 language-data-1.3.0 marisa-trie-1.2.1 murmurhash-1.0.13 numpy-2.3.1 preshed-3.0.10 pydantic-2.11.7 pydantic-core-2.33.2 shellingham-1.5.4 smart-open-7.3.0.post1 spacy-3.8.7 spacy-legacy-3.0.12 spacy-loggers-1.0.5 srsly-2.5.1 thinc-8.3.6 typer-0.16.0 typing-inspection-0.4.1 wasabi-1.1.3 weasel-0.4.1\n",
      "Note: you may need to restart the kernel to use updated packages.\n"
     ]
    },
    {
     "name": "stderr",
     "output_type": "stream",
     "text": [
      "  WARNING: Failed to remove contents in a temporary directory 'C:\\Users\\QY539GE\\AppData\\Local\\Packages\\PythonSoftwareFoundation.Python.3.11_qbz5n2kfra8p0\\LocalCache\\local-packages\\Python311\\site-packages\\~-mpy.libs'.\n",
      "  You can safely remove it manually.\n",
      "  WARNING: Failed to remove contents in a temporary directory 'C:\\Users\\QY539GE\\AppData\\Local\\Packages\\PythonSoftwareFoundation.Python.3.11_qbz5n2kfra8p0\\LocalCache\\local-packages\\Python311\\site-packages\\~-mpy'.\n",
      "  You can safely remove it manually.\n",
      "ERROR: pip's dependency resolver does not currently take into account all the packages that are installed. This behaviour is the source of the following dependency conflicts.\n",
      "pylance 0.18.0 requires numpy<2,>=1.22, but you have numpy 2.3.1 which is incompatible.\n",
      "scipy 1.14.1 requires numpy<2.3,>=1.23.5, but you have numpy 2.3.1 which is incompatible.\n"
     ]
    }
   ],
   "source": [
    "pip install spacy"
   ]
  },
  {
   "cell_type": "code",
   "execution_count": 42,
   "id": "7aca1ec7",
   "metadata": {},
   "outputs": [],
   "source": [
    "import spacy"
   ]
  },
  {
   "cell_type": "markdown",
   "id": "c871fc23",
   "metadata": {},
   "source": [
    "necesito correr un subproceso para instalar el modelo español de Spacey"
   ]
  },
  {
   "cell_type": "code",
   "execution_count": 45,
   "id": "40211561",
   "metadata": {},
   "outputs": [
    {
     "data": {
      "text/plain": [
       "CompletedProcess(args=['C:\\\\Users\\\\QY539GE\\\\AppData\\\\Local\\\\Microsoft\\\\WindowsApps\\\\PythonSoftwareFoundation.Python.3.11_qbz5n2kfra8p0\\\\python.exe', '-m', 'spacy', 'download', 'es_core_news_sm'], returncode=0)"
      ]
     },
     "execution_count": 45,
     "metadata": {},
     "output_type": "execute_result"
    }
   ],
   "source": [
    "import subprocess\n",
    "import sys\n",
    "\n",
    "# Comando para instalar el modelo de español\n",
    "command = [sys.executable, '-m', 'spacy', 'download', 'es_core_news_sm']\n",
    "\n",
    "# Ejecutar el comando\n",
    "subprocess.run(command)\n"
   ]
  },
  {
   "cell_type": "code",
   "execution_count": 46,
   "id": "2f35c5b3",
   "metadata": {},
   "outputs": [],
   "source": [
    "nlp = spacy.load(\"es_core_news_sm\")"
   ]
  },
  {
   "cell_type": "markdown",
   "id": "501491d3",
   "metadata": {},
   "source": [
    "2.2 Reconocimiento de Entidades Nombradas"
   ]
  },
  {
   "cell_type": "markdown",
   "id": "a6243c80",
   "metadata": {},
   "source": [
    "iden"
   ]
  },
  {
   "cell_type": "code",
   "execution_count": 49,
   "id": "fbd29b71",
   "metadata": {},
   "outputs": [
    {
     "name": "stdout",
     "output_type": "stream",
     "text": [
      "Apple ORG\n",
      "California LOC\n"
     ]
    }
   ],
   "source": [
    "#Texto de Ejemplo:\n",
    "texto = \"Apple está trabajando en un nuevo producto en California con un equipo de más de 200 personas\"\n",
    "\n",
    "doc = nlp(texto)\n",
    "for ent in doc.ents:\n",
    "        print(ent.text, ent. label_)"
   ]
  },
  {
   "cell_type": "markdown",
   "id": "edda328b",
   "metadata": {},
   "source": [
    "# Expresiones Regulares y Aplicaciones "
   ]
  },
  {
   "cell_type": "markdown",
   "id": "03e30bd1",
   "metadata": {},
   "source": [
    "Definición de Expresiones Regulares, Ejemplos de Uso en Validaciones y Minería de Datos\n",
    "Definición de Expresiones Regulares\n",
    "Las expresiones regulares (regex) son patrones definidos que permiten buscar, coincidir y manipular cadenas de texto. Son una herramienta muy poderosa para la búsqueda y procesamiento de texto en múltiples lenguajes de programación, incluyendo Python. Las expresiones regulares permiten identificar patrones específicos en los datos, realizar sustituciones y validar entradas de forma eficiente.\n",
    "\n",
    "En términos simples, una expresión regular es una secuencia de caracteres que forma un patrón de búsqueda. Este patrón puede usarse para detectar coincidencias en cadenas de texto, tales como palabras, números, o cualquier combinación de caracteres.\n",
    "\n",
    "Ejemplos de Uso en Validaciones\n",
    "Validación de correos electrónicos Las expresiones regulares se utilizan comúnmente para validar correos electrónicos. Un patrón típico para la validación de un correo electrónico podría ser:"
   ]
  },
  {
   "cell_type": "code",
   "execution_count": 51,
   "id": "5ddfa426",
   "metadata": {},
   "outputs": [
    {
     "name": "stdout",
     "output_type": "stream",
     "text": [
      "Correo válido\n"
     ]
    }
   ],
   "source": [
    "import re\n",
    "\n",
    "correo = \"usuario@example.com\"\n",
    "patron = r'^[a-zA-Z0-9._%+-]+@[a-zA-Z0-9.-]+\\.[a-zA-Z]{2,}$'\n",
    "\n",
    "if re.match(patron, correo):\n",
    "    print(\"Correo válido\")\n",
    "else:\n",
    "    print(\"Correo inválido\")"
   ]
  },
  {
   "cell_type": "markdown",
   "id": "b52b78f7",
   "metadata": {},
   "source": [
    "Explicación: El patrón asegura que el correo tenga una estructura válida, con el nombre de usuario seguido de un \"@\" y un dominio con una extensión válida.\n",
    "\n"
   ]
  },
  {
   "cell_type": "code",
   "execution_count": null,
   "id": "b7a57bb4",
   "metadata": {},
   "outputs": [
    {
     "name": "stdout",
     "output_type": "stream",
     "text": [
      "'usuario@example.com' es un correo válido.\n",
      "'usuario.example.com' no es un correo válido.\n",
      "'usuario@com' no es un correo válido.\n",
      "'usuario@domain.io' es un correo válido.\n",
      "'user@domain' no es un correo válido.\n",
      "'user@domain-.com' es un correo válido.\n"
     ]
    }
   ],
   "source": [
    "#Funcion para validar correo electronico:\n",
    "def es_correo_valido(correo):\n",
    "    # Expresion regular para validar correos electrónicos:\n",
    "    patron = r'^[a-zA-Z0-9._%+-]+@[a-zA-Z0-9.-]+\\.[a-zA-Z]{2,}$'\n",
    "    \n",
    "    # Comprobar si el correo coincide con el patrón:\n",
    "    if re.match(patron, correo):\n",
    "        return True\n",
    "    else:\n",
    "        return False\n",
    "\n",
    "\n",
    "# Ejemplos de correos:\n",
    "correos = [\n",
    "    \"usuario@example.com\", # Valido\n",
    "    \"usuario.example.com\", # No tiene @\n",
    "    \"usuario@com\", # Dominio no válido (muy corto)\n",
    "    \"usuario@domain.io\", # Valido\n",
    "    \"user@domain\", # Sub TKD (.com, .org, etc.)\n",
    "    \"user@domain-.com\", # Guión Inválido\n",
    "]\n",
    "\n",
    "\n",
    "# Probar la validacion para cada correo:\n",
    "for correo in correos:\n",
    "    if es_correo_valido(correo):\n",
    "        print(f\"'{correo}' es un correo válido.\")\n",
    "    else:\n",
    "        print(f\"'{correo}' no es un correo válido.\")"
   ]
  },
  {
   "cell_type": "markdown",
   "id": "881dd102",
   "metadata": {},
   "source": [
    "Validación de números de teléfono Para validar un número de teléfono, podríamos usar un patrón como el siguiente:\n",
    "\n",
    "\n"
   ]
  },
  {
   "cell_type": "code",
   "execution_count": 62,
   "id": "7b15bd8e",
   "metadata": {},
   "outputs": [
    {
     "name": "stdout",
     "output_type": "stream",
     "text": [
      "Número de teléfono válido\n"
     ]
    }
   ],
   "source": [
    "numero = \"123-456-7890\"\n",
    "patron = r'^\\d{3}-\\d{3}-\\d{4}$'\n",
    "\n",
    "if re.match(patron, numero):\n",
    "    print(\"Número de teléfono válido\")\n",
    "else:\n",
    "    print(\"Número de teléfono inválido\")"
   ]
  },
  {
   "cell_type": "markdown",
   "id": "50cfc72b",
   "metadata": {},
   "source": [
    "Explicación: Este patrón verifica que el número de teléfono siga el formato \"XXX-XXX-XXXX\", donde cada \"X\" es un dígito.\n",
    "\n"
   ]
  },
  {
   "cell_type": "code",
   "execution_count": 72,
   "id": "409dcff0",
   "metadata": {},
   "outputs": [
    {
     "name": "stdout",
     "output_type": "stream",
     "text": [
      "'+1-800-555-1234' es un numero de telefono valido\n",
      "'(800)555 1234' es un numero de telefono valido\n",
      "'800.555.1234' es un numero de telefono valido\n",
      "'+34 600 123 456' es un numero de telefono valido\n",
      "'600123456' es un numero de telefono valido\n",
      "'123-456' es un numero de telefono valido\n",
      "'+44 20 7946 0956' es un numero de telefono valido\n",
      "'55-5252' es un numero de telefono valido\n"
     ]
    }
   ],
   "source": [
    "import re\n",
    "\n",
    "# función para validar numeros de telefono:\n",
    "def es_telefono_Valido(numero):\n",
    "    # Expresion regulara para validar numeros de telefono:\n",
    "    patron = r'^(\\+?\\d{1,3})?[-.\\s]?\\(\\d{1,4}\\)?[-.\\s]?\\d{1,4}[-.\\s]?\\d{1,9}$'\n",
    "\n",
    "\n",
    "    # Comprobar si el numeros coincide con el patron\n",
    "    if re.match(patron, numero):\n",
    "        return True\n",
    "    else:\n",
    "            return False\n",
    "    \n",
    "\n",
    "\n",
    "# Ejemplos de numeros de telefono:\n",
    "\n",
    "telefonos = [\n",
    "    \"+1-800-555-1234\", # valido (con codigfo de pais y guiones)\n",
    "    \"(800)555 1234\", # valido (con parentesis y espacios)\n",
    "    \"800.555.1234\", # valido (con puntos)\n",
    "    \"+34 600 123 456\", # valido (con codigo de pais y espacios)\n",
    "    \"600123456\", # valido (sin formato especial)}\n",
    "    \"123-456\", # valido (formato local)\n",
    "    \"+44 20 7946 0956\", # valido (formato internacional)\n",
    "    \"55-5252\", # valido (formato local)\n",
    "]\n",
    "\n",
    "# probar la validacion de cada numero de telefono:\n",
    "for telefono in telefonos:\n",
    "    if es_telefono_Valido:\n",
    "        print(f\"'{telefono}' es un numero de telefono valido\")\n",
    "    else:\n",
    "        print(f\"{telefono}' no es un numero de telefono valido\")\n",
    "\n"
   ]
  },
  {
   "cell_type": "markdown",
   "id": "23209214",
   "metadata": {},
   "source": [
    "Ejemplos de Uso en Minería de Datos\n",
    "Extracción de números de un texto En minería de datos, las expresiones regulares son útiles para extraer datos relevantes de textos desestructurados. Por ejemplo, para extraer todos los números de un texto, podríamos usar:"
   ]
  },
  {
   "cell_type": "code",
   "execution_count": 63,
   "id": "229a6f93",
   "metadata": {},
   "outputs": [
    {
     "name": "stdout",
     "output_type": "stream",
     "text": [
      "['150', '3']\n"
     ]
    }
   ],
   "source": [
    "texto = \"El producto cuesta 150 USD y la entrega es en 3 días.\"\n",
    "numeros = re.findall(r'\\d+', texto)\n",
    "print(numeros)"
   ]
  },
  {
   "cell_type": "markdown",
   "id": "7d548fad",
   "metadata": {},
   "source": [
    "Filtrado de palabras clave en documentos Supongamos que tenemos un documento de texto extenso y queremos extraer todas las palabras que comienzan con una letra mayúscula. Esto es útil para identificar entidades o nombres propios."
   ]
  },
  {
   "cell_type": "code",
   "execution_count": 64,
   "id": "c78499ea",
   "metadata": {},
   "outputs": [
    {
     "name": "stdout",
     "output_type": "stream",
     "text": [
      "['Amazon', 'Google']\n"
     ]
    }
   ],
   "source": [
    "texto = \"Amazon y Google están liderando el mercado de la nube.\"\n",
    "entidades = re.findall(r'\\b[A-Z][a-z]*\\b', texto)\n",
    "print(entidades)"
   ]
  },
  {
   "cell_type": "markdown",
   "id": "2447e029",
   "metadata": {},
   "source": [
    "Explicación: Este patrón busca palabras que comienzan con una letra mayúscula seguida de letras minúsculas, lo que ayuda a identificar nombres propios como \"Amazon\" y \"Google\".\n",
    "\n"
   ]
  },
  {
   "cell_type": "code",
   "execution_count": null,
   "id": "1d4ab38c",
   "metadata": {},
   "outputs": [],
   "source": []
  },
  {
   "cell_type": "markdown",
   "id": "4a00790a",
   "metadata": {},
   "source": [
    "Conclusión\n",
    "Las expresiones regulares son herramientas esenciales en la validación de datos y la minería de datos no estructurados. Permiten realizar búsquedas precisas y estructuradas dentro de grandes volúmenes de texto, facilitando tareas como la validación de entradas de usuario y la extracción de datos relevantes. Su flexibilidad y eficiencia las hacen una opción potente para la manipulación y análisis de datos textuales."
   ]
  }
 ],
 "metadata": {
  "kernelspec": {
   "display_name": "Python 3",
   "language": "python",
   "name": "python3"
  },
  "language_info": {
   "codemirror_mode": {
    "name": "ipython",
    "version": 3
   },
   "file_extension": ".py",
   "mimetype": "text/x-python",
   "name": "python",
   "nbconvert_exporter": "python",
   "pygments_lexer": "ipython3",
   "version": "3.11.9"
  }
 },
 "nbformat": 4,
 "nbformat_minor": 5
}

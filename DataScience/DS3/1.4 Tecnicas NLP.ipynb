{
 "cells": [
  {
   "cell_type": "markdown",
   "id": "2bcd644e",
   "metadata": {},
   "source": [
    "# Instalacion de librerias"
   ]
  },
  {
   "cell_type": "code",
   "execution_count": 1,
   "id": "4c95f46c",
   "metadata": {},
   "outputs": [
    {
     "name": "stdout",
     "output_type": "stream",
     "text": [
      "Requirement already satisfied: pip in c:\\users\\qy539ge\\appdata\\local\\packages\\pythonsoftwarefoundation.python.3.11_qbz5n2kfra8p0\\localcache\\local-packages\\python311\\site-packages (25.1.1)\n",
      "Note: you may need to restart the kernel to use updated packages.\n"
     ]
    }
   ],
   "source": [
    "pip install --upgrade pip\n"
   ]
  },
  {
   "cell_type": "code",
   "execution_count": 25,
   "id": "370f3304",
   "metadata": {},
   "outputs": [],
   "source": [
    "import nltk\n",
    "import pandas as pd"
   ]
  },
  {
   "cell_type": "code",
   "execution_count": 3,
   "id": "7edffea5",
   "metadata": {},
   "outputs": [
    {
     "name": "stderr",
     "output_type": "stream",
     "text": [
      "[nltk_data] Downloading package brown to\n",
      "[nltk_data]     C:\\Users\\QY539GE\\AppData\\Roaming\\nltk_data...\n",
      "[nltk_data]   Package brown is already up-to-date!\n"
     ]
    },
    {
     "data": {
      "text/plain": [
       "True"
      ]
     },
     "execution_count": 3,
     "metadata": {},
     "output_type": "execute_result"
    }
   ],
   "source": [
    "nltk.download('brown')"
   ]
  },
  {
   "cell_type": "code",
   "execution_count": 4,
   "id": "392658e4",
   "metadata": {},
   "outputs": [
    {
     "name": "stdout",
     "output_type": "stream",
     "text": [
      "Requirement already satisfied: textblob in c:\\users\\qy539ge\\appdata\\local\\packages\\pythonsoftwarefoundation.python.3.11_qbz5n2kfra8p0\\localcache\\local-packages\\python311\\site-packages (0.19.0)\n",
      "Requirement already satisfied: nltk>=3.9 in c:\\users\\qy539ge\\appdata\\local\\packages\\pythonsoftwarefoundation.python.3.11_qbz5n2kfra8p0\\localcache\\local-packages\\python311\\site-packages (from textblob) (3.9.1)\n",
      "Requirement already satisfied: click in c:\\users\\qy539ge\\appdata\\local\\packages\\pythonsoftwarefoundation.python.3.11_qbz5n2kfra8p0\\localcache\\local-packages\\python311\\site-packages (from nltk>=3.9->textblob) (8.1.7)\n",
      "Requirement already satisfied: joblib in c:\\users\\qy539ge\\appdata\\local\\packages\\pythonsoftwarefoundation.python.3.11_qbz5n2kfra8p0\\localcache\\local-packages\\python311\\site-packages (from nltk>=3.9->textblob) (1.4.2)\n",
      "Requirement already satisfied: regex>=2021.8.3 in c:\\users\\qy539ge\\appdata\\local\\packages\\pythonsoftwarefoundation.python.3.11_qbz5n2kfra8p0\\localcache\\local-packages\\python311\\site-packages (from nltk>=3.9->textblob) (2024.9.11)\n",
      "Requirement already satisfied: tqdm in c:\\users\\qy539ge\\appdata\\local\\packages\\pythonsoftwarefoundation.python.3.11_qbz5n2kfra8p0\\localcache\\local-packages\\python311\\site-packages (from nltk>=3.9->textblob) (4.66.5)\n",
      "Requirement already satisfied: colorama in c:\\users\\qy539ge\\appdata\\local\\packages\\pythonsoftwarefoundation.python.3.11_qbz5n2kfra8p0\\localcache\\local-packages\\python311\\site-packages (from click->nltk>=3.9->textblob) (0.4.6)\n",
      "Note: you may need to restart the kernel to use updated packages.\n"
     ]
    }
   ],
   "source": [
    "pip install textblob"
   ]
  },
  {
   "cell_type": "markdown",
   "id": "58ed34f5",
   "metadata": {},
   "source": [
    "Importamos la libreria"
   ]
  },
  {
   "cell_type": "code",
   "execution_count": 5,
   "id": "2b930a63",
   "metadata": {},
   "outputs": [],
   "source": [
    "from textblob import TextBlob\n"
   ]
  },
  {
   "cell_type": "markdown",
   "id": "5efa5973",
   "metadata": {},
   "source": [
    "# Sentiment analysis"
   ]
  },
  {
   "cell_type": "markdown",
   "id": "9a9ec52b",
   "metadata": {},
   "source": [
    "Evaluando el tono de un texto - Positivo, Negativo o neutro."
   ]
  },
  {
   "cell_type": "code",
   "execution_count": 6,
   "id": "8bff4b2c",
   "metadata": {},
   "outputs": [
    {
     "name": "stdout",
     "output_type": "stream",
     "text": [
      "Sentimiento: Sentiment(polarity=0.5, subjectivity=0.6)\n"
     ]
    }
   ],
   "source": [
    "#Text example:\n",
    "comentario = \"i like a lot to study, i love it.\"\n",
    "\n",
    "#Feelings analysis:\n",
    "blob = TextBlob(comentario)\n",
    "print(f\"Sentimiento: {blob.sentiment}\")"
   ]
  },
  {
   "cell_type": "markdown",
   "id": "e2f70e68",
   "metadata": {},
   "source": [
    "El resultado que obtuviste de la análisis de sentimientos con\n",
    "TextBlob\n",
    "es un objeto\n",
    "Sentiment\n",
    "que contiene dos atributos: polarity y subjectivity. Vamos a desglosar cada uno de estos componentes:\n",
    "\n",
    "Polarity (Polaridad):\n",
    "\n",
    "El valor de polaridad varía entre -1 y 1.\n",
    "Un valor de -1 indica un sentimiento muy negativo, 0 indica neutralidad, y 1 indica un sentimiento muy positivo.\n",
    "\n",
    "Subjectivity (Subjetividad):\n",
    "\n",
    "El valor de subjetividad varía entre 0 y 1.\n",
    "Un valor de 0 indica que el texto es muy objetivo (hechos), mientras que un valor de 1 indica que es muy subjetivo (opiniones, emociones).\n",
    "\n"
   ]
  },
  {
   "cell_type": "markdown",
   "id": "bd9d8b02",
   "metadata": {},
   "source": [
    "Polarity (Polaridad): En tu caso, la polaridad es 0.5, lo que sugiere que el comentario tiene un sentimiento positivo. Esto se debe a que la frase expresa una opinión favorable sobre el estudio y el amor por ello."
   ]
  },
  {
   "cell_type": "markdown",
   "id": "eaab8902",
   "metadata": {},
   "source": [
    "Subjectivity (Subjetividad): En tu caso, la subjetividad es 0.6, lo que sugiere que el comentario es relativamente subjetivo. Esto implica que se basa en la opinión personal del hablante sobre el estudio y su amor por ello, en lugar de ser un hecho objetivo.\n"
   ]
  },
  {
   "cell_type": "markdown",
   "id": "75df2dca",
   "metadata": {},
   "source": [
    "Resumen del análisis:\n",
    "El comentario \"i like a lot to study, i love it.\" es considerado positivo (polaridad de 0.5) y subjetivo (subjetividad de 0.6). Esto significa que la persona que hizo el comentario tiene una opinión favorable sobre el estudio y expresa sus sentimientos personales al respecto.\n",
    "Este tipo de análisis es útil para entender cómo se sienten las personas sobre un tema en particular, lo que puede ser valioso en diversas aplicaciones, como la retroalimentación de productos, la investigación de mercado y el análisis de redes sociales."
   ]
  },
  {
   "cell_type": "code",
   "execution_count": 7,
   "id": "e6a0777e",
   "metadata": {},
   "outputs": [
    {
     "name": "stdout",
     "output_type": "stream",
     "text": [
      "Sentimiento: Sentiment(polarity=-0.8, subjectivity=0.9)\n"
     ]
    }
   ],
   "source": [
    "#Text example:\n",
    "comentario2 = \"i hate the wind.\"\n",
    "\n",
    "#Feelings analysis:\n",
    "blob = TextBlob(comentario2)\n",
    "print(f\"Sentimiento: {blob.sentiment}\")"
   ]
  },
  {
   "cell_type": "markdown",
   "id": "402b159b",
   "metadata": {},
   "source": [
    "Análisis del resultado:\n",
    "Polaridad (Polarity):\n",
    "\n",
    "La polaridad es -0.8, lo que indica un sentimiento muy negativo. Esto es coherente con el contenido del comentario, ya que \"hate\" (odiar) es una expresión clara de desagrado hacia el viento.\n",
    "Un valor de -0.8 sugiere que el hablante tiene una fuerte aversión hacia el viento, lo que es consistente con la naturaleza negativa de la frase.\n",
    "\n",
    "Subjetividad (Subjectivity):\n",
    "La subjetividad es 0.9, lo que indica que el comentario es muy subjetivo. Esto significa que se basa en la opinión personal del hablante y no en un hecho objetivo.\n",
    "Un valor de 0.9 sugiere que el comentario refleja una fuerte emoción personal y no es simplemente una declaración objetiva sobre el viento.\n",
    "\n",
    "Resumen del análisis:\n",
    "El comentario \"i hate the wind.\" es considerado negativo (polaridad de -0.8) y subjetivo (subjetividad de 0.9). Esto implica que la persona que hizo el comentario tiene una opinión desfavorable sobre el viento y expresa sus sentimientos personales al respecto.\n",
    "Conclusión:\n",
    "Este análisis de sentimientos es útil para entender cómo se sienten las personas sobre un tema específico. En este caso, el comentario refleja una fuerte aversión hacia el viento, lo que podría ser relevante en contextos como la retroalimentación sobre el clima, la planificación de actividades al aire libre o el análisis de opiniones en redes sociales."
   ]
  },
  {
   "cell_type": "markdown",
   "id": "dcaed0a0",
   "metadata": {},
   "source": [
    "# Blob"
   ]
  },
  {
   "cell_type": "markdown",
   "id": "69c778ee",
   "metadata": {},
   "source": [
    "En\n",
    "TextBlob\n",
    ", el objeto\n",
    "Blob\n",
    "tiene varios atributos que permiten realizar análisis de texto. Aquí están algunos de los atributos más comunes:\n",
    "\n",
    "sentiment:\n",
    "Descripción: Este atributo devuelve un objeto Sentiment que contiene dos propiedades:\n",
    "polarity\n",
    "y\n",
    "subjectivity\n",
    "Uso: Se utiliza para analizar el sentimiento del texto, donde la polaridad indica si el sentimiento es positivo, negativo o neutral, y la subjetividad indica si el texto es objetivo o subjetivo.\n",
    "\n",
    "words:\n",
    "Descripción: Este atributo devuelve una lista de las palabras en el texto.\n",
    "Uso: Se utiliza para acceder a las palabras individuales en el texto, lo que permite realizar análisis adicionales, como contar palabras o buscar palabras específicas.\n",
    "\n",
    "sentences:\n",
    "Descripción: Este atributo devuelve una lista de las oraciones en el texto.\n",
    "Uso: Se utiliza para dividir el texto en oraciones, lo que permite realizar análisis a nivel de oración, como el análisis de sentimientos por oración.\n",
    "\n",
    "noun_phrases:\n",
    "Descripción: Este atributo devuelve una lista de frases nominales (sustantivos y sus modificadores) en el texto.\n",
    "Uso: Se utiliza para identificar y extraer las frases que representan conceptos clave en el texto.\n",
    "\n",
    "translate(to):\n",
    "Descripción: Este método permite traducir el texto a otro idioma especificado.\n",
    "Uso: Se utiliza para traducir el contenido del texto a un idioma diferente, facilitando la comprensión en contextos multilingües.\n",
    "\n",
    "correct():\n",
    "Descripción: Este método corrige errores ortográficos en el texto.\n",
    "Uso: Se utiliza para mejorar la calidad del texto corrigiendo errores comunes de escritura."
   ]
  },
  {
   "cell_type": "code",
   "execution_count": 8,
   "id": "d2506750",
   "metadata": {},
   "outputs": [
    {
     "name": "stdout",
     "output_type": "stream",
     "text": [
      "Sentimiento: Sentiment(polarity=0.5, subjectivity=0.6)\n",
      "Análisis de sentimiento: Sentiment(polarity=0.5, subjectivity=0.6, assessments=[(['love'], 0.5, 0.6, None)])\n",
      "Palabras: ['i', 'like', 'a', 'lot', 'to', 'study', 'i', 'love', 'it']\n",
      "Conteo de palabras: defaultdict(<class 'int'>, {'i': 2, 'like': 1, 'a': 1, 'lot': 1, 'to': 1, 'study': 1, 'love': 1, 'it': 1})\n",
      "Oraciones: [Sentence(\"i like a lot to study, i love it.\")]\n",
      "Frases nominales: []\n",
      "Texto corregido: i like a lot to study, i love it.\n"
     ]
    }
   ],
   "source": [
    "# Texto de ejemplo\n",
    "comentario = \"i like a lot to study, i love it.\"\n",
    "\n",
    "# Análisis de sentimientos\n",
    "blob = TextBlob(comentario)\n",
    "\n",
    "# 1. Análisis de sentimiento general\n",
    "print(f\"Sentimiento: {blob.sentiment}\")\n",
    "\n",
    "# 2. Análisis de sentimiento detallado\n",
    "print(f\"Análisis de sentimiento: {blob.sentiment_assessments}\")\n",
    "\n",
    "# 3. Palabras en el texto\n",
    "print(f\"Palabras: {blob.words}\")\n",
    "\n",
    "# 4. Conteo de palabras\n",
    "print(f\"Conteo de palabras: {blob.word_counts}\")\n",
    "\n",
    "# 5. Oraciones en el texto\n",
    "print(f\"Oraciones: {blob.sentences}\")\n",
    "\n",
    "# 6. Frases nominales\n",
    "print(f\"Frases nominales: {blob.noun_phrases}\")\n",
    "\n",
    "# 7. Corrección del texto\n",
    "print(f\"Texto corregido: {blob.correct()}\")\n",
    "\n"
   ]
  },
  {
   "cell_type": "markdown",
   "id": "64855127",
   "metadata": {},
   "source": [
    "# NET Named entity Recognition"
   ]
  },
  {
   "cell_type": "markdown",
   "id": "627ed9c7",
   "metadata": {},
   "source": [
    "2. NET (Named Entity Recognition)"
   ]
  },
  {
   "cell_type": "code",
   "execution_count": 9,
   "id": "fa50dc38",
   "metadata": {},
   "outputs": [
    {
     "name": "stdout",
     "output_type": "stream",
     "text": [
      "Requirement already satisfied: spacy in c:\\users\\qy539ge\\appdata\\local\\packages\\pythonsoftwarefoundation.python.3.11_qbz5n2kfra8p0\\localcache\\local-packages\\python311\\site-packages (3.8.7)\n",
      "Requirement already satisfied: spacy-legacy<3.1.0,>=3.0.11 in c:\\users\\qy539ge\\appdata\\local\\packages\\pythonsoftwarefoundation.python.3.11_qbz5n2kfra8p0\\localcache\\local-packages\\python311\\site-packages (from spacy) (3.0.12)\n",
      "Requirement already satisfied: spacy-loggers<2.0.0,>=1.0.0 in c:\\users\\qy539ge\\appdata\\local\\packages\\pythonsoftwarefoundation.python.3.11_qbz5n2kfra8p0\\localcache\\local-packages\\python311\\site-packages (from spacy) (1.0.5)\n",
      "Requirement already satisfied: murmurhash<1.1.0,>=0.28.0 in c:\\users\\qy539ge\\appdata\\local\\packages\\pythonsoftwarefoundation.python.3.11_qbz5n2kfra8p0\\localcache\\local-packages\\python311\\site-packages (from spacy) (1.0.13)\n",
      "Requirement already satisfied: cymem<2.1.0,>=2.0.2 in c:\\users\\qy539ge\\appdata\\local\\packages\\pythonsoftwarefoundation.python.3.11_qbz5n2kfra8p0\\localcache\\local-packages\\python311\\site-packages (from spacy) (2.0.11)\n",
      "Requirement already satisfied: preshed<3.1.0,>=3.0.2 in c:\\users\\qy539ge\\appdata\\local\\packages\\pythonsoftwarefoundation.python.3.11_qbz5n2kfra8p0\\localcache\\local-packages\\python311\\site-packages (from spacy) (3.0.10)\n",
      "Requirement already satisfied: thinc<8.4.0,>=8.3.4 in c:\\users\\qy539ge\\appdata\\local\\packages\\pythonsoftwarefoundation.python.3.11_qbz5n2kfra8p0\\localcache\\local-packages\\python311\\site-packages (from spacy) (8.3.6)\n",
      "Requirement already satisfied: wasabi<1.2.0,>=0.9.1 in c:\\users\\qy539ge\\appdata\\local\\packages\\pythonsoftwarefoundation.python.3.11_qbz5n2kfra8p0\\localcache\\local-packages\\python311\\site-packages (from spacy) (1.1.3)\n",
      "Requirement already satisfied: srsly<3.0.0,>=2.4.3 in c:\\users\\qy539ge\\appdata\\local\\packages\\pythonsoftwarefoundation.python.3.11_qbz5n2kfra8p0\\localcache\\local-packages\\python311\\site-packages (from spacy) (2.5.1)\n",
      "Requirement already satisfied: catalogue<2.1.0,>=2.0.6 in c:\\users\\qy539ge\\appdata\\local\\packages\\pythonsoftwarefoundation.python.3.11_qbz5n2kfra8p0\\localcache\\local-packages\\python311\\site-packages (from spacy) (2.0.10)\n",
      "Requirement already satisfied: weasel<0.5.0,>=0.1.0 in c:\\users\\qy539ge\\appdata\\local\\packages\\pythonsoftwarefoundation.python.3.11_qbz5n2kfra8p0\\localcache\\local-packages\\python311\\site-packages (from spacy) (0.4.1)\n",
      "Requirement already satisfied: typer<1.0.0,>=0.3.0 in c:\\users\\qy539ge\\appdata\\local\\packages\\pythonsoftwarefoundation.python.3.11_qbz5n2kfra8p0\\localcache\\local-packages\\python311\\site-packages (from spacy) (0.16.0)\n",
      "Requirement already satisfied: tqdm<5.0.0,>=4.38.0 in c:\\users\\qy539ge\\appdata\\local\\packages\\pythonsoftwarefoundation.python.3.11_qbz5n2kfra8p0\\localcache\\local-packages\\python311\\site-packages (from spacy) (4.66.5)\n",
      "Requirement already satisfied: numpy>=1.19.0 in c:\\users\\qy539ge\\appdata\\local\\packages\\pythonsoftwarefoundation.python.3.11_qbz5n2kfra8p0\\localcache\\local-packages\\python311\\site-packages (from spacy) (2.3.1)\n",
      "Requirement already satisfied: requests<3.0.0,>=2.13.0 in c:\\users\\qy539ge\\appdata\\local\\packages\\pythonsoftwarefoundation.python.3.11_qbz5n2kfra8p0\\localcache\\local-packages\\python311\\site-packages (from spacy) (2.32.3)\n",
      "Requirement already satisfied: pydantic!=1.8,!=1.8.1,<3.0.0,>=1.7.4 in c:\\users\\qy539ge\\appdata\\local\\packages\\pythonsoftwarefoundation.python.3.11_qbz5n2kfra8p0\\localcache\\local-packages\\python311\\site-packages (from spacy) (2.11.7)\n",
      "Requirement already satisfied: jinja2 in c:\\users\\qy539ge\\appdata\\local\\packages\\pythonsoftwarefoundation.python.3.11_qbz5n2kfra8p0\\localcache\\local-packages\\python311\\site-packages (from spacy) (3.1.4)\n",
      "Requirement already satisfied: setuptools in c:\\program files\\windowsapps\\pythonsoftwarefoundation.python.3.11_3.11.2544.0_x64__qbz5n2kfra8p0\\lib\\site-packages (from spacy) (65.5.0)\n",
      "Requirement already satisfied: packaging>=20.0 in c:\\users\\qy539ge\\appdata\\local\\packages\\pythonsoftwarefoundation.python.3.11_qbz5n2kfra8p0\\localcache\\local-packages\\python311\\site-packages (from spacy) (24.1)\n",
      "Requirement already satisfied: langcodes<4.0.0,>=3.2.0 in c:\\users\\qy539ge\\appdata\\local\\packages\\pythonsoftwarefoundation.python.3.11_qbz5n2kfra8p0\\localcache\\local-packages\\python311\\site-packages (from spacy) (3.5.0)\n",
      "Requirement already satisfied: language-data>=1.2 in c:\\users\\qy539ge\\appdata\\local\\packages\\pythonsoftwarefoundation.python.3.11_qbz5n2kfra8p0\\localcache\\local-packages\\python311\\site-packages (from langcodes<4.0.0,>=3.2.0->spacy) (1.3.0)\n",
      "Requirement already satisfied: annotated-types>=0.6.0 in c:\\users\\qy539ge\\appdata\\local\\packages\\pythonsoftwarefoundation.python.3.11_qbz5n2kfra8p0\\localcache\\local-packages\\python311\\site-packages (from pydantic!=1.8,!=1.8.1,<3.0.0,>=1.7.4->spacy) (0.7.0)\n",
      "Requirement already satisfied: pydantic-core==2.33.2 in c:\\users\\qy539ge\\appdata\\local\\packages\\pythonsoftwarefoundation.python.3.11_qbz5n2kfra8p0\\localcache\\local-packages\\python311\\site-packages (from pydantic!=1.8,!=1.8.1,<3.0.0,>=1.7.4->spacy) (2.33.2)\n",
      "Requirement already satisfied: typing-extensions>=4.12.2 in c:\\users\\qy539ge\\appdata\\local\\packages\\pythonsoftwarefoundation.python.3.11_qbz5n2kfra8p0\\localcache\\local-packages\\python311\\site-packages (from pydantic!=1.8,!=1.8.1,<3.0.0,>=1.7.4->spacy) (4.12.2)\n",
      "Requirement already satisfied: typing-inspection>=0.4.0 in c:\\users\\qy539ge\\appdata\\local\\packages\\pythonsoftwarefoundation.python.3.11_qbz5n2kfra8p0\\localcache\\local-packages\\python311\\site-packages (from pydantic!=1.8,!=1.8.1,<3.0.0,>=1.7.4->spacy) (0.4.1)\n",
      "Requirement already satisfied: charset-normalizer<4,>=2 in c:\\users\\qy539ge\\appdata\\local\\packages\\pythonsoftwarefoundation.python.3.11_qbz5n2kfra8p0\\localcache\\local-packages\\python311\\site-packages (from requests<3.0.0,>=2.13.0->spacy) (3.3.2)\n",
      "Requirement already satisfied: idna<4,>=2.5 in c:\\users\\qy539ge\\appdata\\local\\packages\\pythonsoftwarefoundation.python.3.11_qbz5n2kfra8p0\\localcache\\local-packages\\python311\\site-packages (from requests<3.0.0,>=2.13.0->spacy) (2.10)\n",
      "Requirement already satisfied: urllib3<3,>=1.21.1 in c:\\users\\qy539ge\\appdata\\local\\packages\\pythonsoftwarefoundation.python.3.11_qbz5n2kfra8p0\\localcache\\local-packages\\python311\\site-packages (from requests<3.0.0,>=2.13.0->spacy) (2.2.2)\n",
      "Requirement already satisfied: certifi>=2017.4.17 in c:\\users\\qy539ge\\appdata\\local\\packages\\pythonsoftwarefoundation.python.3.11_qbz5n2kfra8p0\\localcache\\local-packages\\python311\\site-packages (from requests<3.0.0,>=2.13.0->spacy) (2025.1.31)\n",
      "Requirement already satisfied: blis<1.4.0,>=1.3.0 in c:\\users\\qy539ge\\appdata\\local\\packages\\pythonsoftwarefoundation.python.3.11_qbz5n2kfra8p0\\localcache\\local-packages\\python311\\site-packages (from thinc<8.4.0,>=8.3.4->spacy) (1.3.0)\n",
      "Requirement already satisfied: confection<1.0.0,>=0.0.1 in c:\\users\\qy539ge\\appdata\\local\\packages\\pythonsoftwarefoundation.python.3.11_qbz5n2kfra8p0\\localcache\\local-packages\\python311\\site-packages (from thinc<8.4.0,>=8.3.4->spacy) (0.1.5)\n",
      "Requirement already satisfied: colorama in c:\\users\\qy539ge\\appdata\\local\\packages\\pythonsoftwarefoundation.python.3.11_qbz5n2kfra8p0\\localcache\\local-packages\\python311\\site-packages (from tqdm<5.0.0,>=4.38.0->spacy) (0.4.6)\n",
      "Requirement already satisfied: click>=8.0.0 in c:\\users\\qy539ge\\appdata\\local\\packages\\pythonsoftwarefoundation.python.3.11_qbz5n2kfra8p0\\localcache\\local-packages\\python311\\site-packages (from typer<1.0.0,>=0.3.0->spacy) (8.1.7)\n",
      "Requirement already satisfied: shellingham>=1.3.0 in c:\\users\\qy539ge\\appdata\\local\\packages\\pythonsoftwarefoundation.python.3.11_qbz5n2kfra8p0\\localcache\\local-packages\\python311\\site-packages (from typer<1.0.0,>=0.3.0->spacy) (1.5.4)\n",
      "Requirement already satisfied: rich>=10.11.0 in c:\\users\\qy539ge\\appdata\\local\\packages\\pythonsoftwarefoundation.python.3.11_qbz5n2kfra8p0\\localcache\\local-packages\\python311\\site-packages (from typer<1.0.0,>=0.3.0->spacy) (13.8.0)\n",
      "Requirement already satisfied: cloudpathlib<1.0.0,>=0.7.0 in c:\\users\\qy539ge\\appdata\\local\\packages\\pythonsoftwarefoundation.python.3.11_qbz5n2kfra8p0\\localcache\\local-packages\\python311\\site-packages (from weasel<0.5.0,>=0.1.0->spacy) (0.21.1)\n",
      "Requirement already satisfied: smart-open<8.0.0,>=5.2.1 in c:\\users\\qy539ge\\appdata\\local\\packages\\pythonsoftwarefoundation.python.3.11_qbz5n2kfra8p0\\localcache\\local-packages\\python311\\site-packages (from weasel<0.5.0,>=0.1.0->spacy) (7.3.0.post1)\n",
      "Requirement already satisfied: wrapt in c:\\users\\qy539ge\\appdata\\local\\packages\\pythonsoftwarefoundation.python.3.11_qbz5n2kfra8p0\\localcache\\local-packages\\python311\\site-packages (from smart-open<8.0.0,>=5.2.1->weasel<0.5.0,>=0.1.0->spacy) (1.16.0)\n",
      "Requirement already satisfied: marisa-trie>=1.1.0 in c:\\users\\qy539ge\\appdata\\local\\packages\\pythonsoftwarefoundation.python.3.11_qbz5n2kfra8p0\\localcache\\local-packages\\python311\\site-packages (from language-data>=1.2->langcodes<4.0.0,>=3.2.0->spacy) (1.2.1)\n",
      "Requirement already satisfied: markdown-it-py>=2.2.0 in c:\\users\\qy539ge\\appdata\\local\\packages\\pythonsoftwarefoundation.python.3.11_qbz5n2kfra8p0\\localcache\\local-packages\\python311\\site-packages (from rich>=10.11.0->typer<1.0.0,>=0.3.0->spacy) (3.0.0)\n",
      "Requirement already satisfied: pygments<3.0.0,>=2.13.0 in c:\\users\\qy539ge\\appdata\\local\\packages\\pythonsoftwarefoundation.python.3.11_qbz5n2kfra8p0\\localcache\\local-packages\\python311\\site-packages (from rich>=10.11.0->typer<1.0.0,>=0.3.0->spacy) (2.18.0)\n",
      "Requirement already satisfied: mdurl~=0.1 in c:\\users\\qy539ge\\appdata\\local\\packages\\pythonsoftwarefoundation.python.3.11_qbz5n2kfra8p0\\localcache\\local-packages\\python311\\site-packages (from markdown-it-py>=2.2.0->rich>=10.11.0->typer<1.0.0,>=0.3.0->spacy) (0.1.2)\n",
      "Requirement already satisfied: MarkupSafe>=2.0 in c:\\users\\qy539ge\\appdata\\local\\packages\\pythonsoftwarefoundation.python.3.11_qbz5n2kfra8p0\\localcache\\local-packages\\python311\\site-packages (from jinja2->spacy) (2.1.5)\n",
      "Note: you may need to restart the kernel to use updated packages.\n"
     ]
    }
   ],
   "source": [
    "pip install spacy"
   ]
  },
  {
   "cell_type": "code",
   "execution_count": 10,
   "id": "7aca1ec7",
   "metadata": {},
   "outputs": [],
   "source": [
    "import spacy"
   ]
  },
  {
   "cell_type": "markdown",
   "id": "c871fc23",
   "metadata": {},
   "source": [
    "necesito correr un subproceso para instalar el modelo español de Spacey"
   ]
  },
  {
   "cell_type": "code",
   "execution_count": 11,
   "id": "40211561",
   "metadata": {},
   "outputs": [
    {
     "data": {
      "text/plain": [
       "CompletedProcess(args=['C:\\\\Users\\\\QY539GE\\\\AppData\\\\Local\\\\Microsoft\\\\WindowsApps\\\\PythonSoftwareFoundation.Python.3.11_qbz5n2kfra8p0\\\\python.exe', '-m', 'spacy', 'download', 'es_core_news_sm'], returncode=0)"
      ]
     },
     "execution_count": 11,
     "metadata": {},
     "output_type": "execute_result"
    }
   ],
   "source": [
    "import subprocess\n",
    "import sys\n",
    "\n",
    "# Comando para instalar el modelo de español\n",
    "command = [sys.executable, '-m', 'spacy', 'download', 'es_core_news_sm']\n",
    "\n",
    "# Ejecutar el comando\n",
    "subprocess.run(command)\n"
   ]
  },
  {
   "cell_type": "code",
   "execution_count": 12,
   "id": "2f35c5b3",
   "metadata": {},
   "outputs": [],
   "source": [
    "nlp = spacy.load(\"es_core_news_sm\")"
   ]
  },
  {
   "cell_type": "markdown",
   "id": "501491d3",
   "metadata": {},
   "source": [
    "2.2 Reconocimiento de Entidades Nombradas"
   ]
  },
  {
   "cell_type": "markdown",
   "id": "a6243c80",
   "metadata": {},
   "source": [
    "iden"
   ]
  },
  {
   "cell_type": "code",
   "execution_count": 13,
   "id": "fbd29b71",
   "metadata": {},
   "outputs": [
    {
     "name": "stdout",
     "output_type": "stream",
     "text": [
      "Apple ORG\n",
      "California LOC\n"
     ]
    }
   ],
   "source": [
    "#Texto de Ejemplo:\n",
    "texto = \"Apple está trabajando en un nuevo producto en California con un equipo de más de 200 personas\"\n",
    "\n",
    "doc = nlp(texto)\n",
    "for ent in doc.ents:\n",
    "        print(ent.text, ent. label_)"
   ]
  },
  {
   "cell_type": "markdown",
   "id": "edda328b",
   "metadata": {},
   "source": [
    "# Expresiones Regulares y Aplicaciones "
   ]
  },
  {
   "cell_type": "markdown",
   "id": "03e30bd1",
   "metadata": {},
   "source": [
    "Definición de Expresiones Regulares, Ejemplos de Uso en Validaciones y Minería de Datos\n",
    "Definición de Expresiones Regulares\n",
    "Las expresiones regulares (regex) son patrones definidos que permiten buscar, coincidir y manipular cadenas de texto. Son una herramienta muy poderosa para la búsqueda y procesamiento de texto en múltiples lenguajes de programación, incluyendo Python. Las expresiones regulares permiten identificar patrones específicos en los datos, realizar sustituciones y validar entradas de forma eficiente.\n",
    "\n",
    "En términos simples, una expresión regular es una secuencia de caracteres que forma un patrón de búsqueda. Este patrón puede usarse para detectar coincidencias en cadenas de texto, tales como palabras, números, o cualquier combinación de caracteres.\n",
    "\n",
    "Ejemplos de Uso en Validaciones\n",
    "Validación de correos electrónicos Las expresiones regulares se utilizan comúnmente para validar correos electrónicos. Un patrón típico para la validación de un correo electrónico podría ser:"
   ]
  },
  {
   "cell_type": "code",
   "execution_count": 14,
   "id": "5ddfa426",
   "metadata": {},
   "outputs": [
    {
     "name": "stdout",
     "output_type": "stream",
     "text": [
      "Correo válido\n"
     ]
    }
   ],
   "source": [
    "import re\n",
    "\n",
    "correo = \"usuario@example.com\"\n",
    "patron = r'^[a-zA-Z0-9._%+-]+@[a-zA-Z0-9.-]+\\.[a-zA-Z]{2,}$'\n",
    "\n",
    "if re.match(patron, correo):\n",
    "    print(\"Correo válido\")\n",
    "else:\n",
    "    print(\"Correo inválido\")"
   ]
  },
  {
   "cell_type": "markdown",
   "id": "b52b78f7",
   "metadata": {},
   "source": [
    "Explicación: El patrón asegura que el correo tenga una estructura válida, con el nombre de usuario seguido de un \"@\" y un dominio con una extensión válida.\n",
    "\n"
   ]
  },
  {
   "cell_type": "code",
   "execution_count": 15,
   "id": "b7a57bb4",
   "metadata": {},
   "outputs": [
    {
     "name": "stdout",
     "output_type": "stream",
     "text": [
      "'usuario@example.com' es un correo válido.\n",
      "'usuario.example.com' no es un correo válido.\n",
      "'usuario@com' no es un correo válido.\n",
      "'usuario@domain.io' es un correo válido.\n",
      "'user@domain' no es un correo válido.\n",
      "'user@domain-.com' es un correo válido.\n"
     ]
    }
   ],
   "source": [
    "#Funcion para validar correo electronico:\n",
    "def es_correo_valido(correo):\n",
    "    # Expresion regular para validar correos electrónicos:\n",
    "    patron = r'^[a-zA-Z0-9._%+-]+@[a-zA-Z0-9.-]+\\.[a-zA-Z]{2,}$'\n",
    "    \n",
    "    # Comprobar si el correo coincide con el patrón:\n",
    "    if re.match(patron, correo):\n",
    "        return True\n",
    "    else:\n",
    "        return False\n",
    "\n",
    "\n",
    "# Ejemplos de correos:\n",
    "correos = [\n",
    "    \"usuario@example.com\", # Valido\n",
    "    \"usuario.example.com\", # No tiene @\n",
    "    \"usuario@com\", # Dominio no válido (muy corto)\n",
    "    \"usuario@domain.io\", # Valido\n",
    "    \"user@domain\", # Sub TKD (.com, .org, etc.)\n",
    "    \"user@domain-.com\", # Guión Inválido\n",
    "]\n",
    "\n",
    "\n",
    "# Probar la validacion para cada correo:\n",
    "for correo in correos:\n",
    "    if es_correo_valido(correo):\n",
    "        print(f\"'{correo}' es un correo válido.\")\n",
    "    else:\n",
    "        print(f\"'{correo}' no es un correo válido.\")"
   ]
  },
  {
   "cell_type": "markdown",
   "id": "881dd102",
   "metadata": {},
   "source": [
    "Validación de números de teléfono Para validar un número de teléfono, podríamos usar un patrón como el siguiente:\n",
    "\n",
    "\n"
   ]
  },
  {
   "cell_type": "code",
   "execution_count": 16,
   "id": "7b15bd8e",
   "metadata": {},
   "outputs": [
    {
     "name": "stdout",
     "output_type": "stream",
     "text": [
      "Número de teléfono válido\n"
     ]
    }
   ],
   "source": [
    "numero = \"123-456-7890\"\n",
    "patron = r'^\\d{3}-\\d{3}-\\d{4}$'\n",
    "\n",
    "if re.match(patron, numero):\n",
    "    print(\"Número de teléfono válido\")\n",
    "else:\n",
    "    print(\"Número de teléfono inválido\")"
   ]
  },
  {
   "cell_type": "markdown",
   "id": "50cfc72b",
   "metadata": {},
   "source": [
    "Explicación: Este patrón verifica que el número de teléfono siga el formato \"XXX-XXX-XXXX\", donde cada \"X\" es un dígito.\n",
    "\n"
   ]
  },
  {
   "cell_type": "code",
   "execution_count": 17,
   "id": "409dcff0",
   "metadata": {},
   "outputs": [
    {
     "name": "stdout",
     "output_type": "stream",
     "text": [
      "'+1-800-555-1234' es un numero de telefono valido\n",
      "'(800)555 1234' es un numero de telefono valido\n",
      "'800.555.1234' es un numero de telefono valido\n",
      "'+34 600 123 456' es un numero de telefono valido\n",
      "'600123456' es un numero de telefono valido\n",
      "'123-456' es un numero de telefono valido\n",
      "'+44 20 7946 0956' es un numero de telefono valido\n",
      "'55-5252' es un numero de telefono valido\n"
     ]
    }
   ],
   "source": [
    "import re\n",
    "\n",
    "# función para validar numeros de telefono:\n",
    "def es_telefono_Valido(numero):\n",
    "    # Expresion regulara para validar numeros de telefono:\n",
    "    patron = r'^(\\+?\\d{1,3})?[-.\\s]?\\(\\d{1,4}\\)?[-.\\s]?\\d{1,4}[-.\\s]?\\d{1,9}$'\n",
    "\n",
    "\n",
    "    # Comprobar si el numeros coincide con el patron\n",
    "    if re.match(patron, numero):\n",
    "        return True\n",
    "    else:\n",
    "            return False\n",
    "    \n",
    "\n",
    "\n",
    "# Ejemplos de numeros de telefono:\n",
    "\n",
    "telefonos = [\n",
    "    \"+1-800-555-1234\", # valido (con codigfo de pais y guiones)\n",
    "    \"(800)555 1234\", # valido (con parentesis y espacios)\n",
    "    \"800.555.1234\", # valido (con puntos)\n",
    "    \"+34 600 123 456\", # valido (con codigo de pais y espacios)\n",
    "    \"600123456\", # valido (sin formato especial)}\n",
    "    \"123-456\", # valido (formato local)\n",
    "    \"+44 20 7946 0956\", # valido (formato internacional)\n",
    "    \"55-5252\", # valido (formato local)\n",
    "]\n",
    "\n",
    "# probar la validacion de cada numero de telefono:\n",
    "for telefono in telefonos:\n",
    "    if es_telefono_Valido:\n",
    "        print(f\"'{telefono}' es un numero de telefono valido\")\n",
    "    else:\n",
    "        print(f\"{telefono}' no es un numero de telefono valido\")\n",
    "\n"
   ]
  },
  {
   "cell_type": "markdown",
   "id": "23209214",
   "metadata": {},
   "source": [
    "Ejemplos de Uso en Minería de Datos\n",
    "Extracción de números de un texto En minería de datos, las expresiones regulares son útiles para extraer datos relevantes de textos desestructurados. Por ejemplo, para extraer todos los números de un texto, podríamos usar:"
   ]
  },
  {
   "cell_type": "code",
   "execution_count": 18,
   "id": "229a6f93",
   "metadata": {},
   "outputs": [
    {
     "name": "stdout",
     "output_type": "stream",
     "text": [
      "['150', '3']\n"
     ]
    }
   ],
   "source": [
    "texto = \"El producto cuesta 150 USD y la entrega es en 3 días.\"\n",
    "numeros = re.findall(r'\\d+', texto)\n",
    "print(numeros)"
   ]
  },
  {
   "cell_type": "markdown",
   "id": "7d548fad",
   "metadata": {},
   "source": [
    "Filtrado de palabras clave en documentos Supongamos que tenemos un documento de texto extenso y queremos extraer todas las palabras que comienzan con una letra mayúscula. Esto es útil para identificar entidades o nombres propios."
   ]
  },
  {
   "cell_type": "code",
   "execution_count": 19,
   "id": "c78499ea",
   "metadata": {},
   "outputs": [
    {
     "name": "stdout",
     "output_type": "stream",
     "text": [
      "['Amazon', 'Google']\n"
     ]
    }
   ],
   "source": [
    "texto = \"Amazon y Google están liderando el mercado de la nube.\"\n",
    "entidades = re.findall(r'\\b[A-Z][a-z]*\\b', texto)\n",
    "print(entidades)"
   ]
  },
  {
   "cell_type": "markdown",
   "id": "2447e029",
   "metadata": {},
   "source": [
    "Explicación: Este patrón busca palabras que comienzan con una letra mayúscula seguida de letras minúsculas, lo que ayuda a identificar nombres propios como \"Amazon\" y \"Google\".\n",
    "\n"
   ]
  },
  {
   "cell_type": "markdown",
   "id": "4a00790a",
   "metadata": {},
   "source": [
    "Conclusión\n",
    "Las expresiones regulares son herramientas esenciales en la validación de datos y la minería de datos no estructurados. Permiten realizar búsquedas precisas y estructuradas dentro de grandes volúmenes de texto, facilitando tareas como la validación de entradas de usuario y la extracción de datos relevantes. Su flexibilidad y eficiencia las hacen una opción potente para la manipulación y análisis de datos textuales."
   ]
  },
  {
   "cell_type": "markdown",
   "id": "3e99d252",
   "metadata": {},
   "source": [
    "# Tokenizacion"
   ]
  },
  {
   "cell_type": "markdown",
   "id": "17a60bdc",
   "metadata": {},
   "source": [
    "Dividir el texto en unidades básicas o tokens como vemos mas abajo. nos permite analizarlas individualmente en el siguiente paso:  La tokenización es el proceso de dividir un texto en unidades mínimas llamadas \"tokens\", que pueden ser palabras, signos de puntuación, etc. spaCy permite no solo la tokenización básica, sino también identificar características importantes de cada token, como si es una palabra alfabética, un signo de puntuación o una palabra vacía (stopword)."
   ]
  },
  {
   "cell_type": "code",
   "execution_count": 20,
   "id": "453350ea",
   "metadata": {},
   "outputs": [
    {
     "name": "stdout",
     "output_type": "stream",
     "text": [
      "Tokens:\n",
      "Gus\n",
      "es\n",
      "un\n",
      "desarrollador\n",
      "de\n",
      "Python\n",
      "actualmente\n",
      "trabajando\n",
      "para\n",
      "un\n",
      "compañía\n",
      "Fintech\n",
      "en\n",
      "Londres\n",
      ",\n",
      "Inglaterra\n",
      ".\n"
     ]
    }
   ],
   "source": [
    "text = \"Gus es un desarrollador de Python actualmente trabajando para un compañía Fintech en Londres, Inglaterra.\"\n",
    "doc = nlp(text)\n",
    "\n",
    "print(\"Tokens:\")\n",
    "for token in doc:\n",
    "    print(token.text)"
   ]
  },
  {
   "cell_type": "markdown",
   "id": "81250108",
   "metadata": {},
   "source": [
    "# Stopwords"
   ]
  },
  {
   "cell_type": "markdown",
   "id": "4cac9f30",
   "metadata": {},
   "source": [
    "Palabras sin valor semantico que podemos encontrar en un texto:  Las stopwords son palabras comunes como \"el\", \"la\", \"y\" que no suelen añadir valor significativo en muchos análisis de texto. spaCy permite identificarlas y eliminarlas fácilmente."
   ]
  },
  {
   "cell_type": "code",
   "execution_count": 21,
   "id": "ffcb03d3",
   "metadata": {},
   "outputs": [
    {
     "name": "stdout",
     "output_type": "stream",
     "text": [
      "Stopwords Detectadas: 521\n",
      "\n",
      "tokens sin stopwords\n",
      "Gus\n",
      "desarrollador\n",
      "Python\n",
      "actualmente\n",
      "trabajando\n",
      "compañía\n",
      "Fintech\n",
      "Londres\n",
      ",\n",
      "Inglaterra\n",
      ".\n"
     ]
    }
   ],
   "source": [
    "stopwords =  spacy.lang.es.stop_words.STOP_WORDS\n",
    "print(f\"Stopwords Detectadas: {len(stopwords)}\")\n",
    "\n",
    "print(\"\\ntokens sin stopwords\")\n",
    "for token in doc:\n",
    "    if not token.is_stop:\n",
    "        print(token.text)"
   ]
  },
  {
   "cell_type": "markdown",
   "id": "ffe6b415",
   "metadata": {},
   "source": [
    "# Lematizacion"
   ]
  },
  {
   "cell_type": "markdown",
   "id": "5138bf3e",
   "metadata": {},
   "source": [
    "Reducir las palabras a su forma base o raiz: Texto normalizado para un analisis futuro mas preciso.   La lematización es el proceso de reducir una palabra a su forma básica o \"lema\". Esto es útil en NLP para normalizar las palabras y agruparlas según su significado en lugar de sus formas flexionadas."
   ]
  },
  {
   "cell_type": "code",
   "execution_count": 23,
   "id": "fb9bf7ed",
   "metadata": {},
   "outputs": [
    {
     "name": "stdout",
     "output_type": "stream",
     "text": [
      "\n",
      "lematización de tokens:\n",
      "Gus->Gus\n",
      "es->ser\n",
      "un->uno\n",
      "desarrollador->desarrollador\n",
      "de->de\n",
      "Python->Python\n",
      "actualmente->actualmente\n",
      "trabajando->trabajar\n",
      "para->para\n",
      "un->uno\n",
      "compañía->compañía\n",
      "Fintech->Fintech\n",
      "en->en\n",
      "Londres->Londres\n",
      ",->,\n",
      "Inglaterra->Inglaterra\n",
      ".->.\n"
     ]
    }
   ],
   "source": [
    "print(\"\\nlematización de tokens:\")\n",
    "for token in doc:\n",
    "    print(f\"{token.text}->{token.lemma_}\")"
   ]
  },
  {
   "cell_type": "markdown",
   "id": "d73baef0",
   "metadata": {},
   "source": [
    "# Analisis de Sentimientos en Datos Reales:"
   ]
  },
  {
   "cell_type": "code",
   "execution_count": 28,
   "id": "4e07b2b2",
   "metadata": {},
   "outputs": [],
   "source": [
    "# En este ejemplo, se asume un DataFrame con columnas \"review\" y \"rating\"\n",
    "\n",
    "data = pd.DataFrame({\n",
    "    'review':[\n",
    "        'Este producto es excelente, me encantó.',\n",
    "        'No me gustó, es de mala calidad.',\n",
    "        'Está bien, cumple su función, pero no es extraordinario.'\n",
    "    ],\n",
    "    'ratings':[5,1,3]\n",
    "})\n",
    "\n"
   ]
  },
  {
   "cell_type": "code",
   "execution_count": 29,
   "id": "83854344",
   "metadata": {},
   "outputs": [
    {
     "name": "stdout",
     "output_type": "stream",
     "text": [
      "Ejemplo de datos cargados:\n",
      "                                              review  ratings\n",
      "0            Este producto es excelente, me encantó.        5\n",
      "1                   No me gustó, es de mala calidad.        1\n",
      "2  Está bien, cumple su función, pero no es extra...        3\n"
     ]
    }
   ],
   "source": [
    "print(\"Ejemplo de datos cargados:\")\n",
    "print(data.head())"
   ]
  },
  {
   "cell_type": "code",
   "execution_count": 39,
   "id": "6251fca4",
   "metadata": {},
   "outputs": [],
   "source": [
    "# funcion para analizar sentimiento\n",
    "def analizar_sentimiento(texto):\n",
    "    doc = nlp(texto)\n",
    "    polaridad = 0\n",
    "    # regla simple: si detectamos palabras positivas o negativas (simulado)\n",
    "    if 'excelente' in texto or 'me encanto' in texto:\n",
    "        polaridad = 1 # sentimiento positivo\n",
    "    elif 'mala' in texto or 'no me gusto' in texto:\n",
    "        polaridad = -1 # sentimiento negativo\n",
    "    else:\n",
    "        polaridad = 0 #sentimiento neutro\n",
    "    return polaridad"
   ]
  },
  {
   "cell_type": "code",
   "execution_count": 42,
   "id": "15689069",
   "metadata": {},
   "outputs": [
    {
     "name": "stdout",
     "output_type": "stream",
     "text": [
      "resultados del analisis de sentimiento:\n",
      "                                              review  sentiment\n",
      "0            Este producto es excelente, me encantó.          1\n",
      "1                   No me gustó, es de mala calidad.         -1\n",
      "2  Está bien, cumple su función, pero no es extra...          0\n",
      "comparacion de prediciones y calificaciones relaes:\n",
      "                                              review  ratings  sentiment  \\\n",
      "0            Este producto es excelente, me encantó.        5          1   \n",
      "1                   No me gustó, es de mala calidad.        1         -1   \n",
      "2  Está bien, cumple su función, pero no es extra...        3          0   \n",
      "\n",
      "   expected_sentiment  correct  \n",
      "0                   1     True  \n",
      "1                  -1     True  \n",
      "2                   0     True  \n",
      "precision del modelo: 100.00%\n"
     ]
    }
   ],
   "source": [
    "#Aplicr la funcion de analsis de sentimientos de reseñas\n",
    "data['sentiment'] = data['review'].apply(analizar_sentimiento)\n",
    "\n",
    "print (\"resultados del analisis de sentimiento:\")\n",
    "print (data[['review','sentiment']])\n",
    "\n",
    "# evaluacion simple de resultados\n",
    "data['expected_sentiment'] = data ['ratings'].apply(lambda x:1 if x > 3 else -1 if x < 3 else 0)\n",
    "\n",
    "#comparar predicciones con las expectativas\n",
    "data ['correct'] = data ['sentiment'] == data ['expected_sentiment']\n",
    "\n",
    "# mostrar los resultados\n",
    "print(\"comparacion de prediciones y calificaciones relaes:\")\n",
    "print(data[['review','ratings','sentiment','expected_sentiment','correct']])\n",
    "\n",
    "# calcular la precision\n",
    "accuracy = data['correct'].mean()\n",
    "print(f\"precision del modelo:{accuracy * 100: .2f}%\")"
   ]
  }
 ],
 "metadata": {
  "kernelspec": {
   "display_name": "Python 3",
   "language": "python",
   "name": "python3"
  },
  "language_info": {
   "codemirror_mode": {
    "name": "ipython",
    "version": 3
   },
   "file_extension": ".py",
   "mimetype": "text/x-python",
   "name": "python",
   "nbconvert_exporter": "python",
   "pygments_lexer": "ipython3",
   "version": "3.11.9"
  }
 },
 "nbformat": 4,
 "nbformat_minor": 5
}

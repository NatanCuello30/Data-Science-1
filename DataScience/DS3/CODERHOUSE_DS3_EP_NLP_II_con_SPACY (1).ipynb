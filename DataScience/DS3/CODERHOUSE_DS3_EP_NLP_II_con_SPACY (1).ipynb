{
  "cells": [
    {
      "cell_type": "markdown",
      "metadata": {
        "id": "5JX13hLg_HdN"
      },
      "source": [
        "![coderhouse-logo.png](data:image/png;base64,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)"
      ]
    },
    {
      "cell_type": "markdown",
      "metadata": {
        "id": "8UtDTjZ4M3hn"
      },
      "source": [
        "# Uso de spaCY"
      ]
    },
    {
      "cell_type": "code",
      "execution_count": 5,
      "metadata": {},
      "outputs": [
        {
          "name": "stdout",
          "output_type": "stream",
          "text": [
            "Collecting es-core-news-sm==3.8.0\n",
            "  Downloading https://github.com/explosion/spacy-models/releases/download/es_core_news_sm-3.8.0/es_core_news_sm-3.8.0-py3-none-any.whl (12.9 MB)\n",
            "     ---------------------------------------- 0.0/12.9 MB ? eta -:--:--\n",
            "     ----------- ---------------------------- 3.7/12.9 MB 21.8 MB/s eta 0:00:01\n",
            "     ------------- -------------------------- 4.2/12.9 MB 21.0 MB/s eta 0:00:01\n",
            "     ------------- -------------------------- 4.2/12.9 MB 21.0 MB/s eta 0:00:01\n",
            "     ----------------------- ---------------- 7.6/12.9 MB 9.0 MB/s eta 0:00:01\n",
            "     --------------------------------------  12.8/12.9 MB 12.4 MB/s eta 0:00:01\n",
            "     --------------------------------------- 12.9/12.9 MB 11.9 MB/s eta 0:00:00\n",
            "\u001b[38;5;2m✔ Download and installation successful\u001b[0m\n",
            "You can now load the package via spacy.load('es_core_news_sm')\n",
            "Collecting symspellpy\n",
            "  Downloading symspellpy-6.9.0-py3-none-any.whl.metadata (3.9 kB)\n",
            "Collecting editdistpy>=0.1.3 (from symspellpy)\n",
            "  Downloading editdistpy-0.1.6-cp311-cp311-win_amd64.whl.metadata (6.8 kB)\n",
            "Downloading symspellpy-6.9.0-py3-none-any.whl (2.6 MB)\n",
            "   ---------------------------------------- 0.0/2.6 MB ? eta -:--:--\n",
            "   ---------------- ----------------------- 1.0/2.6 MB 16.7 MB/s eta 0:00:01\n",
            "   ---------------------------------------- 2.6/2.6 MB 11.6 MB/s eta 0:00:00\n",
            "Downloading editdistpy-0.1.6-cp311-cp311-win_amd64.whl (161 kB)\n",
            "Installing collected packages: editdistpy, symspellpy\n",
            "\n",
            "   -------------------- ------------------- 1/2 [symspellpy]\n",
            "   -------------------- ------------------- 1/2 [symspellpy]\n",
            "   ---------------------------------------- 2/2 [symspellpy]\n",
            "\n",
            "Successfully installed editdistpy-0.1.6 symspellpy-6.9.0\n",
            "Requirement already satisfied: symspellpy in c:\\users\\qy539ge\\appdata\\local\\packages\\pythonsoftwarefoundation.python.3.11_qbz5n2kfra8p0\\localcache\\local-packages\\python311\\site-packages (6.9.0)\n",
            "Requirement already satisfied: editdistpy>=0.1.3 in c:\\users\\qy539ge\\appdata\\local\\packages\\pythonsoftwarefoundation.python.3.11_qbz5n2kfra8p0\\localcache\\local-packages\\python311\\site-packages (from symspellpy) (0.1.6)\n",
            "Collecting wordcloud\n",
            "  Downloading wordcloud-1.9.4-cp311-cp311-win_amd64.whl.metadata (3.5 kB)\n",
            "Requirement already satisfied: numpy>=1.6.1 in c:\\users\\qy539ge\\appdata\\local\\packages\\pythonsoftwarefoundation.python.3.11_qbz5n2kfra8p0\\localcache\\local-packages\\python311\\site-packages (from wordcloud) (2.3.1)\n",
            "Requirement already satisfied: pillow in c:\\users\\qy539ge\\appdata\\local\\packages\\pythonsoftwarefoundation.python.3.11_qbz5n2kfra8p0\\localcache\\local-packages\\python311\\site-packages (from wordcloud) (10.4.0)\n",
            "Requirement already satisfied: matplotlib in c:\\users\\qy539ge\\appdata\\local\\packages\\pythonsoftwarefoundation.python.3.11_qbz5n2kfra8p0\\localcache\\local-packages\\python311\\site-packages (from wordcloud) (3.9.2)\n",
            "Requirement already satisfied: contourpy>=1.0.1 in c:\\users\\qy539ge\\appdata\\local\\packages\\pythonsoftwarefoundation.python.3.11_qbz5n2kfra8p0\\localcache\\local-packages\\python311\\site-packages (from matplotlib->wordcloud) (1.3.0)\n",
            "Requirement already satisfied: cycler>=0.10 in c:\\users\\qy539ge\\appdata\\local\\packages\\pythonsoftwarefoundation.python.3.11_qbz5n2kfra8p0\\localcache\\local-packages\\python311\\site-packages (from matplotlib->wordcloud) (0.12.1)\n",
            "Requirement already satisfied: fonttools>=4.22.0 in c:\\users\\qy539ge\\appdata\\local\\packages\\pythonsoftwarefoundation.python.3.11_qbz5n2kfra8p0\\localcache\\local-packages\\python311\\site-packages (from matplotlib->wordcloud) (4.53.1)\n",
            "Requirement already satisfied: kiwisolver>=1.3.1 in c:\\users\\qy539ge\\appdata\\local\\packages\\pythonsoftwarefoundation.python.3.11_qbz5n2kfra8p0\\localcache\\local-packages\\python311\\site-packages (from matplotlib->wordcloud) (1.4.5)\n",
            "Requirement already satisfied: packaging>=20.0 in c:\\users\\qy539ge\\appdata\\local\\packages\\pythonsoftwarefoundation.python.3.11_qbz5n2kfra8p0\\localcache\\local-packages\\python311\\site-packages (from matplotlib->wordcloud) (24.1)\n",
            "Requirement already satisfied: pyparsing>=2.3.1 in c:\\users\\qy539ge\\appdata\\local\\packages\\pythonsoftwarefoundation.python.3.11_qbz5n2kfra8p0\\localcache\\local-packages\\python311\\site-packages (from matplotlib->wordcloud) (3.1.4)\n",
            "Requirement already satisfied: python-dateutil>=2.7 in c:\\users\\qy539ge\\appdata\\local\\packages\\pythonsoftwarefoundation.python.3.11_qbz5n2kfra8p0\\localcache\\local-packages\\python311\\site-packages (from matplotlib->wordcloud) (2.9.0.post0)\n",
            "Requirement already satisfied: six>=1.5 in c:\\users\\qy539ge\\appdata\\local\\packages\\pythonsoftwarefoundation.python.3.11_qbz5n2kfra8p0\\localcache\\local-packages\\python311\\site-packages (from python-dateutil>=2.7->matplotlib->wordcloud) (1.16.0)\n",
            "Downloading wordcloud-1.9.4-cp311-cp311-win_amd64.whl (299 kB)\n",
            "Installing collected packages: wordcloud\n",
            "Successfully installed wordcloud-1.9.4\n"
          ]
        }
      ],
      "source": [
        "# Download the small Spanish language model for spaCy\n",
        "!python -m spacy download es_core_news_sm\n",
        "\n",
        "# Install the symspellpy library\n",
        "! pip install symspellpy\n",
        "\n",
        "# Install or update the symspellpy library for spell checking and suggestions\n",
        "! pip install -U symspellpy\n",
        "\n",
        "# Install the wordcloud library\n",
        "! pip install wordcloud\n"
      ]
    },
    {
      "cell_type": "code",
      "execution_count": 6,
      "metadata": {
        "colab": {
          "base_uri": "https://localhost:8080/",
          "height": 156
        },
        "id": "qHIBPJTYOBwx",
        "outputId": "a29f72af-46c5-49f8-a59e-9a1298d95cdd"
      },
      "outputs": [
        {
          "name": "stderr",
          "output_type": "stream",
          "text": [
            "[nltk_data] Downloading package punkt to\n",
            "[nltk_data]     C:\\Users\\QY539GE\\AppData\\Roaming\\nltk_data...\n",
            "[nltk_data]   Package punkt is already up-to-date!\n",
            "[nltk_data] Downloading package stopwords to\n",
            "[nltk_data]     C:\\Users\\QY539GE\\AppData\\Roaming\\nltk_data...\n",
            "[nltk_data]   Package stopwords is already up-to-date!\n",
            "[nltk_data] Downloading package wordnet to\n",
            "[nltk_data]     C:\\Users\\QY539GE\\AppData\\Roaming\\nltk_data...\n",
            "[nltk_data]   Package wordnet is already up-to-date!\n"
          ]
        }
      ],
      "source": [
        "\n",
        "\n",
        "import nltk # importar natural language toolkit\n",
        "nltk.download('punkt') # modulo para descargar punkt en diferentes idiomas. El módulo punkt(punto en alemán) incluye modelos preentrenados para varios idiomas, lo que permite reconocer oraciones y palabras en esos idiomas sin necesidad de depender de separadores simples como espacios o signos de puntuación.\n",
        "nltk.download('stopwords') # modulo para descargar stopwords en diferentes idiomas\n",
        "nltk.download('wordnet') # modulo para descarga WordNet, una base de datos léxica de inglés que agrupa palabras en conjuntos de sinónimos.\n",
        "from nltk.corpus import stopwords # permite acceder directamente a las listas de palabras vacías (stopwords) una vez que se han descargado, sin necesidad de referirse a todo el módulo NLTK.\n",
        "import pandas as pd #Una librería esencial para la manipulación y análisis de datos estructurados en Python. Utiliza DataFrames para organizar datos en tablas.\n",
        "import numpy  as np #Una librería fundamental para cálculos numéricos y manipulación de matrices en Python.\n",
        "import re # Proporciona operaciones de expresiones regulares para buscar y manipular cadenas. Puedes usar re para encontrar todas las direcciones de correo electrónico en el texto, como \"juan.perez@example.com\" o para extraer todos los números de teléfono en un formato específico, como \"+34-123-456-789\".\n",
        "import string # Ofrece una serie de constantes y clases para operaciones comunes con cadenas. Usando las constantes de string, puedes eliminar todos los caracteres de puntuación del texto, resultando en \"Hola Como estas Espero que todo este bien\".\n",
        "import plotly # Una librería de gráficos interactivos para crear gráficos de alta calidad para visualización de datos.\n",
        "import matplotlib.pyplot as plt #Una colección de funciones que hacen que matplotlib sea similar a MATLAB. Se usa para crear gráficos y visualizaciones estáticas, animadas e interactivas en Python.\n",
        "from nltk.stem import PorterStemmer #Un módulo de NLTK para stemming, es decir, para reducir las palabras a su raíz morfológica.\n",
        "import time # El módulo time proporciona funciones para trabajar con el tiempo.\n",
        "import spacy #Una librería para procesamiento de lenguaje natural avanzada y eficiente. Ofrece herramientas para tokenización, etiquetado POS, análisis de dependencias, etc.\n",
        "import es_core_news_sm # Un modelo de spaCy para el idioma español.\n",
        "from nltk.corpus import stopwords # (repetido)\n",
        "from nltk.tokenize import word_tokenize #Una función para dividir el texto en palabras.\n",
        "from nltk.tokenize import sent_tokenize #Una función para dividir el texto en oraciones.\n",
        "from sklearn.feature_extraction.text import CountVectorizer # Convierte una colección de documentos de texto en una matriz de recuentos de tokens (términos).\n",
        "from sklearn.feature_extraction.text import TfidfTransformer # Transforma una matriz de recuentos en una matriz de TF-IDF (Frecuencia de Término-Inversa Frecuencia de Documento).\n",
        "from nltk.probability import FreqDist #Un módulo de NLTK que proporciona herramientas para calcular la distribución de frecuencias de elementos en un corpus.\n",
        "from wordcloud import WordCloud # Una biblioteca para generar nubes de palabras a partir de un texto. Las nubes de palabras son una forma visual de representar la frecuencia de palabras.\n",
        "import pickle # Un módulo para serializar y deserializar estructuras de datos de Python, es decir, guardar y cargar objetos de Python en archivos binarios.\n",
        "from symspellpy import SymSpell # Importación específica: Este comando importa solo la clase SymSpell de la librería symspellpy para su uso en el código.Una librería para corrección ortográfica en tiempo real y sugerencias de palabras. Es rápida y eficiente.\n",
        "import pkg_resources # Un módulo para trabajar con recursos y dependencias de paquetes en Python. Manejo de recursos: pkg_resources permite acceder y manipular recursos dentro de paquetes instalados, como archivos de datos, plantillas, imágenes, etc.Información de paquetes: Proporciona métodos para obtener información sobre los paquetes instalados, como versiones, autores, descripciones, etc.Resolución de dependencias: Puede ayudar en la resolución de dependencias de paquetes, permitiendo que tu código sea compatible con diferentes versiones de paquetes instalados.Acceso a archivos en paquetes: Permite acceder a archivos dentro de los paquetes instalados, lo que puede ser útil para cargar configuraciones, recursos o datos específicos del paquete.Compatibilidad de plataforma: Proporciona funciones para trabajar con rutas de archivos y nombres de paquetes que son compatibles con diferentes sistemas operativos.\n",
        "from symspellpy import SymSpell, Verbosity # Clases y constantes de symspellpy para manejar la corrección ortográfica y la generación de sugerencias. Lo que facilita su utilización sin tener que importar cada elemento por separado, simplificando así el desarrollo de aplicaciones que requieran corrección ortográfica y sugerencias de palabras.\n"
      ]
    },
    {
      "cell_type": "code",
      "execution_count": 7,
      "metadata": {
        "colab": {
          "base_uri": "https://localhost:8080/"
        },
        "id": "Gx707ST9AxWk",
        "outputId": "fe6d5462-0a50-4da2-f094-ef78bebbbf68"
      },
      "outputs": [
        {
          "name": "stdout",
          "output_type": "stream",
          "text": [
            "Collecting es-core-news-md==3.8.0\n",
            "  Downloading https://github.com/explosion/spacy-models/releases/download/es_core_news_md-3.8.0/es_core_news_md-3.8.0-py3-none-any.whl (42.3 MB)\n",
            "     ---------------------------------------- 0.0/42.3 MB ? eta -:--:--\n",
            "     -- ------------------------------------- 3.1/42.3 MB 18.5 MB/s eta 0:00:03\n",
            "     ------- -------------------------------- 7.6/42.3 MB 20.4 MB/s eta 0:00:02\n",
            "     --------- ----------------------------- 10.7/42.3 MB 17.7 MB/s eta 0:00:02\n",
            "     ------------- ------------------------- 14.9/42.3 MB 17.4 MB/s eta 0:00:02\n",
            "     ----------------- --------------------- 18.9/42.3 MB 17.5 MB/s eta 0:00:02\n",
            "     --------------------- ----------------- 23.1/42.3 MB 18.0 MB/s eta 0:00:02\n",
            "     ------------------------- ------------- 27.5/42.3 MB 18.2 MB/s eta 0:00:01\n",
            "     ----------------------------- --------- 31.5/42.3 MB 18.1 MB/s eta 0:00:01\n",
            "     -------------------------------- ------ 35.4/42.3 MB 18.0 MB/s eta 0:00:01\n",
            "     ------------------------------------ -- 39.6/42.3 MB 17.8 MB/s eta 0:00:01\n",
            "     --------------------------------------  41.7/42.3 MB 17.4 MB/s eta 0:00:01\n",
            "     --------------------------------------  41.7/42.3 MB 17.4 MB/s eta 0:00:01\n",
            "     --------------------------------------  41.7/42.3 MB 17.4 MB/s eta 0:00:01\n",
            "     --------------------------------------  41.7/42.3 MB 17.4 MB/s eta 0:00:01\n",
            "     --------------------------------------  41.7/42.3 MB 17.4 MB/s eta 0:00:01\n",
            "     --------------------------------------  41.7/42.3 MB 17.4 MB/s eta 0:00:01\n",
            "     --------------------------------------  41.9/42.3 MB 11.3 MB/s eta 0:00:01\n",
            "     --------------------------------------- 42.3/42.3 MB 10.7 MB/s eta 0:00:00\n",
            "Installing collected packages: es-core-news-md\n",
            "Successfully installed es-core-news-md-3.8.0\n",
            "\u001b[38;5;2m✔ Download and installation successful\u001b[0m\n",
            "You can now load the package via spacy.load('es_core_news_md')\n"
          ]
        }
      ],
      "source": [
        "# Descarga el modelo de idioma español pequeño de spaCy para procesamiento de lenguaje natural.\n",
        "!python -m spacy download es_core_news_md\n",
        "\n",
        "import spacy #Una librería para procesamiento de lenguaje natural avanzada y eficiente. Ofrece herramientas para tokenización, etiquetado POS, análisis de dependencias, etc.\n"
      ]
    },
    {
      "cell_type": "markdown",
      "metadata": {
        "id": "mYNVQJufAIYz"
      },
      "source": [
        "SpaCy permite descargar y cargar modelos de idioma como es_core_news_md, procesar texto para crear un objeto Doc, y realizar tareas básicas como tokenización, recorrido de tokens y detección de oraciones. Además, ofrece acceso a atributos de cada token (como su texto, posición, si es alfabético, puntuación, espacio en blanco, forma o si es una stopword) y permite trabajar directamente con la lista de palabras vacías (STOP_WORDS) o identificar stopwords en los tokens. También incluye la funcionalidad de lematización nativa."
      ]
    },
    {
      "cell_type": "code",
      "execution_count": 8,
      "metadata": {
        "id": "vsxa_DTEMtNC"
      },
      "outputs": [],
      "source": [
        "# carga el módulo del modelo mediano en español de spaCy.\n",
        "#es un modelo de tamaño mediano que contiene configuraciones y datos necesarios para varias tareas de\n",
        "# procesamiento de lenguaje natural, como análisis sintáctico, etiquetado de partes de la oración (POS tagging) y reconocimiento de entidades nombradas (NER).\n",
        "import es_core_news_md\n",
        "\n",
        "#es_core_news_sm Small (modelo pequeño)\n",
        "#Es más liviano y rápido, pero menos preciso. Tiene menos datos de entrenamiento, así que entiende peor el lenguaje.\n",
        "\n",
        "#es_core_news_md Medium (modelo mediano):\n",
        "#Es más pesado y más lento que el sm, pero mucho más preciso. Tiene vectores de palabras, entiende mejor el significado de las palabras.\n",
        "\n",
        "nlp = es_core_news_md.load() # es ahora un objeto de spaCy que se puede utilizar para procesar texto en español.\n",
        "# Este objeto permite realizar análisis avanzados del lenguaje, como tokenización, lematización, análisis de dependencias, etc."
      ]
    },
    {
      "cell_type": "markdown",
      "metadata": {
        "id": "2uB1-2VbOeRt"
      },
      "source": [
        "# Leer un string\n",
        "Corchetes:\n",
        "    Los corchetes indican que se está creando una lista por medio de una list comprehension.\n",
        "for token in doc:\n",
        "    Esto es un bucle for que itera sobre cada token en el objeto doc. doc es un objeto de spaCy que contiene el texto procesado, donde cada token representa una palabra o símbolo del texto original.\n",
        "token.text:\n",
        "    Durante cada iteración del bucle, token es un objeto que representa un único token del texto procesado.\n",
        "    token.text accede a la representación de texto del token, es decir, la palabra o símbolo original del texto.\n",
        "\n"
      ]
    },
    {
      "cell_type": "code",
      "execution_count": 9,
      "metadata": {
        "colab": {
          "base_uri": "https://localhost:8080/"
        },
        "id": "ht5U8hbEM6pA",
        "outputId": "234d3819-569c-401c-daa9-05a66be0ad63"
      },
      "outputs": [
        {
          "name": "stdout",
          "output_type": "stream",
          "text": [
            "['Este', 'es', 'un', 'tutorial', 'acerca', 'de', 'Procesamiento', 'de', 'lenguaje', 'usando', 'Python', 'con', 'spaCy']\n"
          ]
        }
      ],
      "source": [
        "texto= ('Este es un tutorial acerca de Procesamiento de lenguaje usando Python con spaCy')\n",
        "doc = nlp(texto) #  Es un objeto de tipo Doc que spaCy devuelve después de procesar el texto. Representa un objeto procesado por spacy\n",
        "#tokenizar\n",
        "print([token.text for token in doc]) # En cada iteración, token representa un único token (palabra o símbolo) del texto, permitiendo realizar operaciones sobre cada token individualmente dentro del bucle\n",
        "# token.text devuelve el texto original del objeto Doc. Al aplicar el \"for\""
      ]
    },
    {
      "cell_type": "markdown",
      "metadata": {
        "id": "eB-FMmvvOh90"
      },
      "source": [
        "# Deteccion de oraciones\n",
        "\n",
        "\n"
      ]
    },
    {
      "cell_type": "code",
      "execution_count": 10,
      "metadata": {
        "colab": {
          "base_uri": "https://localhost:8080/"
        },
        "id": "teHetL6wOmGc",
        "outputId": "69badc5e-4717-4d66-9c86-4a930692c680"
      },
      "outputs": [
        {
          "name": "stdout",
          "output_type": "stream",
          "text": [
            "2\n",
            "Gus es un desarrollador en Python actualmente trabajando para una compañia Fintech en Londres Inglaterra.\n",
            "Se encuentra interesado en aprender NLP.\n"
          ]
        }
      ],
      "source": [
        "text=('Gus es un desarrollador en Python actualmente trabajando para una compañia Fintech en Londres Inglaterra. Se encuentra interesado en aprender NLP.')\n",
        "t=nlp(text) # En el contexto de spaCy, para aplicar el procesamiento de lenguaje natural (NLP) sobre un texto y obtener un objeto Doc que contiene información analizada (tokens, entidades nombradas, dependencias, etc.), es necesario utilizar el objeto nlp y pasarle el texto como argumento.\n",
        "# t es el objeto Doc en este caso.\n",
        "oraciones= list(t.sents) # La función list() convierte cualquier iterable en una lista. Esto incluye objetos como cadenas, conjuntos, diccionarios (convirtiendo solo las claves), y cualquier otro objeto que pueda ser iterable.\n",
        "# al combinar list con .sents se crea una lista de oraciones en base al texto que teníamos. Se almacena como  oraciones.\n",
        "\n",
        "print(len(oraciones)) # Imprime la longitud de la cantidad de oraciones en la lista.\n",
        "for x in oraciones: # A cada elemento en el objeto \"oraciones\"...  (For es la palabra clave que inicia un bucle en Python y x refiere a cada objeto\n",
        "  print(x)                            # ... imprimilo. (Recordar que oraciones acáa representa una lista que contiene elementos que son oraciones en este caso. Es el texto t dividido en oraciones usando t.sents."
      ]
    },
    {
      "cell_type": "markdown",
      "metadata": {
        "id": "RrNKtx8EPrr1"
      },
      "source": [
        "# Tokenizacion\n",
        "\n",
        "for es una palabra clave que inicia un bucle en Python.\n",
        "token es una variable que representa cada elemento individual de la secuencia t en cada iteración del bucle.\n",
        "t es la secuencia o iterable sobre la cual se está iterando. Puede ser una lista, tupla, conjunto, cadena de texto u otro objeto iterable en Python.\n",
        "\n",
        "token.idx en spaCy (y en otras bibliotecas similares) indica la posición inicial del token en el texto original en términos de caracteres."
      ]
    },
    {
      "cell_type": "code",
      "execution_count": 11,
      "metadata": {
        "colab": {
          "base_uri": "https://localhost:8080/"
        },
        "id": "RROu30nCPs11",
        "outputId": "4317aeb8-38a6-4948-dd8d-88af0baea369"
      },
      "outputs": [
        {
          "name": "stdout",
          "output_type": "stream",
          "text": [
            "Gus 0\n",
            "es 4\n",
            "un 7\n",
            "desarrollador 10\n",
            "en 24\n",
            "Python 27\n",
            "actualmente 34\n",
            "trabajando 46\n",
            "para 57\n",
            "una 62\n",
            "compañia 66\n",
            "Fintech 75\n",
            "en 83\n",
            "Londres 86\n",
            "Inglaterra 94\n",
            ". 104\n",
            "Se 106\n",
            "encuentra 109\n",
            "interesado 119\n",
            "en 130\n",
            "aprender 133\n",
            "NLP 142\n",
            ". 145\n"
          ]
        }
      ],
      "source": [
        "for token in t: # Para cada elemento individual \"token\" en \"t\" (donde t es el texto que teníamos en la línea de código anterior.)... imprimir el nombre del token y la ubicación de cada token.\n",
        "  print(token, token.idx)  # Acuerdense que se comienza en 0"
      ]
    },
    {
      "cell_type": "code",
      "execution_count": 12,
      "metadata": {
        "colab": {
          "base_uri": "https://localhost:8080/"
        },
        "id": "Rhv5on_BP9Jt",
        "outputId": "07059fa4-44dd-4df4-c5e2-868acca17c45"
      },
      "outputs": [
        {
          "name": "stdout",
          "output_type": "stream",
          "text": [
            "Gus 0 Gus  True False False Xxx False\n",
            "es 4 es  True False False xx True\n",
            "un 7 un  True False False xx True\n",
            "desarrollador 10 desarrollador  True False False xxxx False\n",
            "en 24 en  True False False xx True\n",
            "Python 27 Python  True False False Xxxxx False\n",
            "actualmente 34 actualmente  True False False xxxx False\n",
            "trabajando 46 trabajando  True False False xxxx False\n",
            "para 57 para  True False False xxxx True\n",
            "una 62 una  True False False xxx True\n",
            "compañia 66 compañia  True False False xxxx False\n",
            "Fintech 75 Fintech  True False False Xxxxx False\n",
            "en 83 en  True False False xx True\n",
            "Londres 86 Londres  True False False Xxxxx False\n",
            "Inglaterra 94 Inglaterra True False False Xxxxx False\n",
            ". 104 .  False True False . False\n",
            "Se 106 Se  True False False Xx True\n",
            "encuentra 109 encuentra  True False False xxxx True\n",
            "interesado 119 interesado  True False False xxxx False\n",
            "en 130 en  True False False xx True\n",
            "aprender 133 aprender  True False False xxxx False\n",
            "NLP 142 NLP True False False XXX False\n",
            ". 145 . False True False . False\n"
          ]
        }
      ],
      "source": [
        "for token in t: # Para cada elemento individual \"token\"  en t imprimir una serie de características.\n",
        "  print(token, token.idx, token.text_with_ws,\n",
        "        token.is_alpha, token.is_punct, token.is_space,\n",
        "        token.shape_, token.is_stop)\n",
        "\n",
        "  \"\"\"token: Imprime el token en sí.\n",
        "\n",
        "token.idx: Imprime el índice inicial del token en el texto original.\n",
        "\n",
        "token.text_with_ws: Imprime el texto del token incluyendo los espacios en blanco que lo rodean.\n",
        "\n",
        "token.is_alpha: Devuelve True si el token es alfabético (formado solo por letras), de lo contrario devuelve False.\n",
        "\n",
        "token.is_punct: Devuelve True si el token es un signo de puntuación, de lo contrario devuelve False.\n",
        "\n",
        "token.is_space: Devuelve True si el token es un espacio en blanco, de lo contrario devuelve False.\n",
        "\n",
        "token.shape_: Devuelve una cadena que representa la forma (shape) del token (por ejemplo, si está en mayúsculas, minúsculas, dígitos, etc.).\n",
        "\n",
        "token.is_stop: Devuelve True si el token es una palabra de parada (stop word), es decir, una palabra muy común que a menudo se ignora en el procesamiento de lenguaje natural (como \"el\", \"la\", \"de\", etc.), de lo contrario devuelve False.\"\"\""
      ]
    },
    {
      "cell_type": "markdown",
      "metadata": {
        "id": "v6FvUx-UQFoz"
      },
      "source": [
        "En este ejemplo tenemos:\n",
        "\n",
        "- text_with_ws imprime el texto del token\n",
        "- is_alpha detecta si el token consiste en caracteres alfa numericos o no\n",
        "- is_punct detecta si el token es un simbolo de puntuacion.\n",
        "- is_space detecta si el token es un espacio o no.\n",
        "- shape_ imprime el output shape de la palabra.\n",
        "- is_stop detecta si es una stopword o no"
      ]
    },
    {
      "cell_type": "markdown",
      "metadata": {
        "id": "Lq1Cev75Qjy5"
      },
      "source": [
        "# Stopwords"
      ]
    },
    {
      "cell_type": "code",
      "execution_count": 13,
      "metadata": {
        "colab": {
          "base_uri": "https://localhost:8080/"
        },
        "id": "_h2N2XmmQmaC",
        "outputId": "d3715b85-ae1b-43bb-b718-c2f1bf0ad1e7"
      },
      "outputs": [
        {
          "name": "stdout",
          "output_type": "stream",
          "text": [
            "521\n",
            "aquéllos\n",
            "nuevos\n",
            "e\n",
            "suyos\n",
            "últimas\n",
            "mi\n",
            "eras\n",
            "ser\n",
            "usar\n",
            "fui\n"
          ]
        }
      ],
      "source": [
        "# Cargar las palabras vacías predefinidas en español usando spaCy\n",
        "spacy_stopwords = spacy.lang.es.stop_words.STOP_WORDS\n",
        "\n",
        "# Imprimir la cantidad total de palabras vacías\n",
        "print(len(spacy_stopwords))\n",
        "\n",
        "# Iterar sobre las primeras 10 palabras vacías y mostrarlas\n",
        "for stop_word in list(spacy_stopwords)[:10]:                               # En este caso stop_word podría ser x y luego imprimimos x\n",
        "  print(stop_word)"
      ]
    },
    {
      "cell_type": "code",
      "execution_count": 14,
      "metadata": {
        "colab": {
          "base_uri": "https://localhost:8080/"
        },
        "id": "PF9yA7o7Qu-5",
        "outputId": "0b8ef962-bbda-48e2-dc3f-b839e495e96d"
      },
      "outputs": [
        {
          "name": "stdout",
          "output_type": "stream",
          "text": [
            "Gus\n",
            "desarrollador\n",
            "Python\n",
            "actualmente\n",
            "trabajando\n",
            "compañia\n",
            "Fintech\n",
            "Londres\n",
            "Inglaterra\n",
            ".\n",
            "interesado\n",
            "aprender\n",
            "NLP\n",
            ".\n"
          ]
        }
      ],
      "source": [
        "for token in t: # Para cada token en t...\n",
        "  if not token.is_stop: # Si el token no es una stopword\n",
        "    print(token) # Imprime el token"
      ]
    },
    {
      "cell_type": "code",
      "execution_count": 15,
      "metadata": {
        "colab": {
          "base_uri": "https://localhost:8080/"
        },
        "id": "XZqDOi_qQ1td",
        "outputId": "8e8781b8-cd93-4765-9fc2-c3a5ca423e59"
      },
      "outputs": [
        {
          "name": "stdout",
          "output_type": "stream",
          "text": [
            "[Gus, desarrollador, Python, actualmente, trabajando, compañia, Fintech, Londres, Inglaterra, ., interesado, aprender, NLP, .]\n"
          ]
        }
      ],
      "source": [
        "# Creacion adicional de stopwords\n",
        "documento_sin_stopword = [token for token in t if not token.is_stop] # asegura que solo se incluyan en documento_sin_stopword aquellos tokens que no son stopwords.\n",
        "# El primer token refiere a lo que se va a agregar a la lista\n",
        "# El segundo token refiere al bucle en el cual refiere a cada token en que no sea stopword\n",
        "# El código en su conjunto devolverá todos aquellos token que no sean stopword.\n",
        "\n",
        "print(documento_sin_stopword) # Imprime el documento sin stopwords"
      ]
    },
    {
      "cell_type": "markdown",
      "metadata": {
        "id": "27Owz6clRAe2"
      },
      "source": [
        "# Lemantizacion"
      ]
    },
    {
      "cell_type": "code",
      "execution_count": 16,
      "metadata": {
        "colab": {
          "base_uri": "https://localhost:8080/"
        },
        "id": "siLYeWXjRDl6",
        "outputId": "3713b187-cd71-492f-96b9-238418f5d8cb"
      },
      "outputs": [
        {
          "name": "stdout",
          "output_type": "stream",
          "text": [
            "Gus - Gus\n",
            "es - ser\n",
            "un - uno\n",
            "desarrollador - desarrollador\n",
            "en - en\n",
            "Python - Python\n",
            "actualmente - actualmente\n",
            "trabajando - trabajar\n",
            "para - para\n",
            "una - uno\n",
            "compañia - compañia\n",
            "Fintech - Fintech\n",
            "en - en\n",
            "Londres - Londres\n",
            "Inglaterra - Inglaterra\n",
            ". - .\n",
            "Se - él\n",
            "encuentra - encontrar\n",
            "interesado - interesado\n",
            "en - en\n",
            "aprender - aprender\n",
            "NLP - NLP\n",
            ". - .\n"
          ]
        }
      ],
      "source": [
        "for token in t: # Para cada token en t...\n",
        "  print(token, '-', token.lemma_) # Imprimí el token, separado por un guión la lematización del mismo"
      ]
    },
    {
      "cell_type": "markdown",
      "metadata": {
        "id": "WPyUzf66RL-V"
      },
      "source": [
        "# Word Frequency"
      ]
    },
    {
      "cell_type": "code",
      "execution_count": 17,
      "metadata": {
        "id": "a_P6U9n1RNUo"
      },
      "outputs": [],
      "source": [
        "texto= '''\n",
        "La FIFA responde así a una denuncia interpuesta por la Federación de Chile ante esa Comisión Disciplinaria, en la que presentaba alegaciones sobre la posible falsificación de los documentos que conceden la nacionalidad ecuatoriana Byron Castillo.\n",
        "\n",
        "La selección de Ecuador se clasificó de forma directa para el Mundial, junto con las de Brasil, Argentina y Uruguay, al contrario que las de Chile y Perú. El combinado peruano, que terminó quinto por detrás del ecuatoriano, disputará una repesca.\n",
        "\n",
        "El defensa fue alineado por el seleccionador ecuatoriano Gustavo Alfaro para los dos partidos contra Paraguay y Chile y en una ocasión ante Uruguay, Bolivia, Venezuela y Argentina, partidos clave para que el equipo lograse uno de los cupos directos para el Mundial.\n",
        "\n",
        "\"Innumerables pruebas de que nació en Colombia\"\n",
        "La Federación de Chile denunció el pasado día 5 que hay \"innumerables pruebas de que el jugador nació en Colombia\".\n",
        "\n",
        "\"Las investigaciones realizadas en Ecuador, entre ellas, un informe jurídico de la Dirección Nacional de Registro Civil, declararon la existencia de inconsistencias en el certificado de nacimiento presentado por el jugador\", afirmó este organismo, que acusó a la Federación Ecuatoriana de tener \"total conocimiento\" de las irregularidades.\n",
        "\n",
        "Una posible sanción de la FIFA podría implicar la resta de puntos a Ecuador por los partidos que Castillo jugó, lo que alteraría la nómina de clasificados.\n",
        "\n",
        "Un informe técnico jurídico de la dirección nacional del registro civil de Ecuador afirma que la inscripción de nacimiento de Byron Castillo en la ciudad ecuatoriana de Guayas no consta en el tomo, la página y el acta solicitado, según un documento oficial.\n",
        "'''"
      ]
    },
    {
      "cell_type": "code",
      "execution_count": 18,
      "metadata": {
        "colab": {
          "base_uri": "https://localhost:8080/"
        },
        "id": "OVFSTmTCSbUI",
        "outputId": "55c72ec8-6581-440e-caba-e6848f7e162b"
      },
      "outputs": [
        {
          "data": {
            "text/plain": [
              "str"
            ]
          },
          "execution_count": 18,
          "metadata": {},
          "output_type": "execute_result"
        }
      ],
      "source": [
        "type(texto) # Verifico el tipo de variable"
      ]
    },
    {
      "cell_type": "code",
      "execution_count": 19,
      "metadata": {
        "colab": {
          "base_uri": "https://localhost:8080/",
          "height": 174
        },
        "id": "YJEqi4TuSNHZ",
        "outputId": "241fbbd6-42c8-4be2-b555-a3c0119457e5"
      },
      "outputs": [
        {
          "name": "stdout",
          "output_type": "stream",
          "text": [
            "<class 'str'>\n"
          ]
        },
        {
          "data": {
            "text/plain": [
              "'La FIFA responde así a una denuncia interpuesta por la Federación de Chile ante esa Comisión Disciplinaria, en la que presentaba alegaciones sobre la posible falsificación de los documentos que conceden la nacionalidad ecuatoriana Byron Castillo.La selección de Ecuador se clasificó de forma directa para el Mundial, junto con las de Brasil, Argentina y Uruguay, al contrario que las de Chile y Perú. El combinado peruano, que terminó quinto por detrás del ecuatoriano, disputará una repesca.El defensa fue alineado por el seleccionador ecuatoriano Gustavo Alfaro para los dos partidos contra Paraguay y Chile y en una ocasión ante Uruguay, Bolivia, Venezuela y Argentina, partidos clave para que el equipo lograse uno de los cupos directos para el Mundial.\"Innumerables pruebas de que nació en Colombia\"La Federación de Chile denunció el pasado día 5 que hay \"innumerables pruebas de que el jugador nació en Colombia\".\"Las investigaciones realizadas en Ecuador, entre ellas, un informe jurídico de la Dirección Nacional de Registro Civil, declararon la existencia de inconsistencias en el certificado de nacimiento presentado por el jugador\", afirmó este organismo, que acusó a la Federación Ecuatoriana de tener \"total conocimiento\" de las irregularidades.Una posible sanción de la FIFA podría implicar la resta de puntos a Ecuador por los partidos que Castillo jugó, lo que alteraría la nómina de clasificados.Un informe técnico jurídico de la dirección nacional del registro civil de Ecuador afirma que la inscripción de nacimiento de Byron Castillo en la ciudad ecuatoriana de Guayas no consta en el tomo, la página y el acta solicitado, según un documento oficial.'"
            ]
          },
          "execution_count": 19,
          "metadata": {},
          "output_type": "execute_result"
        }
      ],
      "source": [
        "import re  # Importamos librería de Regular Expressiones o  expresiones regulares\n",
        "texto1 = re.sub('\\n', '', texto) #remover saltos de linea\n",
        "\n",
        "\n",
        "print(type(texto)) # Imprime el tipo de variable texto\n",
        "str(texto1)  # (Ya es una cadena de texto por lo que esta sentencia entiendo que no corresponde)"
      ]
    },
    {
      "cell_type": "code",
      "execution_count": 20,
      "metadata": {
        "colab": {
          "base_uri": "https://localhost:8080/"
        },
        "id": "BaFYahOoRd6h",
        "outputId": "f28403e5-e006-4915-e991-2d7052e5616c"
      },
      "outputs": [
        {
          "name": "stdout",
          "output_type": "stream",
          "text": [
            "[('Chile', 4), ('Ecuador', 4), ('Federación', 3), ('Castillo', 3), ('partidos', 3)]\n",
            "['responde', 'denuncia', 'interpuesta', 'Comisión', 'Disciplinaria', 'presentaba', 'alegaciones', 'falsificación', 'documentos', 'conceden', 'nacionalidad', 'selección', 'clasificó', 'forma', 'directa', 'Brasil', 'contrario', 'Perú', 'combinado', 'peruano', 'terminó', 'quinto', 'disputará', 'repesca', 'defensa', 'alineado', 'seleccionador', 'Gustavo', 'Alfaro', 'Paraguay', 'ocasión', 'Bolivia', 'Venezuela', 'clave', 'equipo', 'lograse', 'cupos', 'directos', '\"Innumerables', 'Colombia\"La', 'denunció', '5', 'innumerables', 'Colombia\"', '\"Las', 'investigaciones', 'realizadas', 'Dirección', 'Nacional', 'Registro', 'Civil', 'declararon', 'existencia', 'inconsistencias', 'certificado', 'presentado', 'organismo', 'acusó', 'Ecuatoriana', 'conocimiento', 'irregularidades', 'sanción', 'implicar', 'resta', 'puntos', 'jugó', 'alteraría', 'nómina', 'clasificados', 'técnico', 'dirección', 'nacional', 'registro', 'civil', 'afirma', 'inscripción', 'ciudad', 'Guayas', 'consta', 'tomo', 'página', 'acta', 'solicitado', 'documento', 'oficial']\n"
          ]
        }
      ],
      "source": [
        "doc= nlp(texto1)\n",
        "# Remover stopwrods - En este bucle, se itera sobre cada token en el objeto Doc. La propiedad token.text devuelve la representación de texto de cada token y se imprime.\n",
        "words= [token.text for token in doc if not token.is_stop and not token.is_punct] # Al poner not is_stop y not punct omitimos stopwords y signos de puntuacion\n",
        "from collections import Counter #Esta línea importa la clase Counter del módulo collections. Counter es una clase especializada para contar elementos hashables, como palabras en un texto o elementos en una lista.\n",
        "word_freq= Counter(words) # Me indica la frequencia de cada palabra\n",
        "\n",
        "# Sacar las 5 mas frecuentes y sus frecuencias\n",
        "common_words= word_freq.most_common(5)\n",
        "print(common_words)\n",
        "\n",
        "# Esta línea crea una lista llamada unique_words que\n",
        "# contiene todas las palabras (word) de word_freq cuya frecuencia (freq) es igual a 1.\n",
        "\n",
        "#word_freq es un diccionario donde las claves son palabras y los valores son las frecuencias de esas palabras.\n",
        "#word_freq.items() devuelve una vista de pares (clave, valor) del diccionario word_freq.\n",
        "unique_words = [word for (word, freq) in word_freq.items() if freq == 1]\n",
        "\n",
        "print(unique_words)"
      ]
    },
    {
      "cell_type": "code",
      "execution_count": 21,
      "metadata": {
        "colab": {
          "base_uri": "https://localhost:8080/"
        },
        "id": "ROVmbzrGFN90",
        "outputId": "eee45af2-ef73-45c6-c60f-d634c75d1851"
      },
      "outputs": [
        {
          "data": {
            "text/plain": [
              "['responde',\n",
              " 'denuncia',\n",
              " 'interpuesta',\n",
              " 'Comisión',\n",
              " 'Disciplinaria',\n",
              " 'presentaba',\n",
              " 'alegaciones',\n",
              " 'falsificación',\n",
              " 'documentos',\n",
              " 'conceden',\n",
              " 'nacionalidad',\n",
              " 'selección',\n",
              " 'clasificó',\n",
              " 'forma',\n",
              " 'directa',\n",
              " 'Brasil',\n",
              " 'contrario',\n",
              " 'Perú',\n",
              " 'combinado',\n",
              " 'peruano',\n",
              " 'terminó',\n",
              " 'quinto',\n",
              " 'disputará',\n",
              " 'repesca',\n",
              " 'defensa',\n",
              " 'alineado',\n",
              " 'seleccionador',\n",
              " 'Gustavo',\n",
              " 'Alfaro',\n",
              " 'Paraguay',\n",
              " 'ocasión',\n",
              " 'Bolivia',\n",
              " 'Venezuela',\n",
              " 'clave',\n",
              " 'equipo',\n",
              " 'lograse',\n",
              " 'cupos',\n",
              " 'directos',\n",
              " '\"Innumerables',\n",
              " 'Colombia\"La',\n",
              " 'denunció',\n",
              " '5',\n",
              " 'innumerables',\n",
              " 'Colombia\"',\n",
              " '\"Las',\n",
              " 'investigaciones',\n",
              " 'realizadas',\n",
              " 'Dirección',\n",
              " 'Nacional',\n",
              " 'Registro',\n",
              " 'Civil',\n",
              " 'declararon',\n",
              " 'existencia',\n",
              " 'inconsistencias',\n",
              " 'certificado',\n",
              " 'presentado',\n",
              " 'organismo',\n",
              " 'acusó',\n",
              " 'Ecuatoriana',\n",
              " 'conocimiento',\n",
              " 'irregularidades',\n",
              " 'sanción',\n",
              " 'implicar',\n",
              " 'resta',\n",
              " 'puntos',\n",
              " 'jugó',\n",
              " 'alteraría',\n",
              " 'nómina',\n",
              " 'clasificados',\n",
              " 'técnico',\n",
              " 'dirección',\n",
              " 'nacional',\n",
              " 'registro',\n",
              " 'civil',\n",
              " 'afirma',\n",
              " 'inscripción',\n",
              " 'ciudad',\n",
              " 'Guayas',\n",
              " 'consta',\n",
              " 'tomo',\n",
              " 'página',\n",
              " 'acta',\n",
              " 'solicitado',\n",
              " 'documento',\n",
              " 'oficial']"
            ]
          },
          "execution_count": 21,
          "metadata": {},
          "output_type": "execute_result"
        }
      ],
      "source": [
        "unique_words"
      ]
    },
    {
      "cell_type": "markdown",
      "metadata": {
        "id": "qzhKZ2n_TEv4"
      },
      "source": [
        "# POS Tagging"
      ]
    },
    {
      "cell_type": "code",
      "execution_count": 22,
      "metadata": {
        "colab": {
          "base_uri": "https://localhost:8080/",
          "height": 1000
        },
        "id": "KEF70sIAS-1d",
        "outputId": "10750cd6-aca2-4020-cb95-83993df630b3"
      },
      "outputs": [
        {
          "name": "stdout",
          "output_type": "stream",
          "text": [
            "La  - DET  - DET  - determiner\n",
            "FIFA  - PROPN  - PROPN  - proper noun\n",
            "responde  - VERB  - VERB  - verb\n",
            "así  - ADV  - ADV  - adverb\n",
            "a  - ADP  - ADP  - adposition\n",
            "una  - DET  - DET  - determiner\n",
            "denuncia  - NOUN  - NOUN  - noun\n",
            "interpuesta  - ADJ  - ADJ  - adjective\n",
            "por  - ADP  - ADP  - adposition\n",
            "la  - DET  - DET  - determiner\n",
            "Federación  - PROPN  - PROPN  - proper noun\n",
            "de  - ADP  - ADP  - adposition\n",
            "Chile  - PROPN  - PROPN  - proper noun\n",
            "ante  - ADP  - ADP  - adposition\n",
            "esa  - DET  - DET  - determiner\n",
            "Comisión  - PROPN  - PROPN  - proper noun\n",
            "Disciplinaria  - PROPN  - PROPN  - proper noun\n",
            ",  - PUNCT  - PUNCT  - punctuation\n",
            "en  - ADP  - ADP  - adposition\n",
            "la  - DET  - DET  - determiner\n",
            "que  - PRON  - PRON  - pronoun\n",
            "presentaba  - VERB  - VERB  - verb\n",
            "alegaciones  - NOUN  - NOUN  - noun\n",
            "sobre  - ADP  - ADP  - adposition\n",
            "la  - DET  - DET  - determiner\n",
            "posible  - ADJ  - ADJ  - adjective\n",
            "falsificación  - NOUN  - NOUN  - noun\n",
            "de  - ADP  - ADP  - adposition\n",
            "los  - DET  - DET  - determiner\n",
            "documentos  - NOUN  - NOUN  - noun\n",
            "que  - PRON  - PRON  - pronoun\n",
            "conceden  - VERB  - VERB  - verb\n",
            "la  - DET  - DET  - determiner\n",
            "nacionalidad  - NOUN  - NOUN  - noun\n",
            "ecuatoriana  - ADJ  - ADJ  - adjective\n",
            "Byron  - PROPN  - PROPN  - proper noun\n",
            "Castillo  - PROPN  - PROPN  - proper noun\n",
            ".  - PUNCT  - PUNCT  - punctuation\n",
            "La  - DET  - DET  - determiner\n",
            "selección  - NOUN  - NOUN  - noun\n",
            "de  - ADP  - ADP  - adposition\n",
            "Ecuador  - PROPN  - PROPN  - proper noun\n",
            "se  - PRON  - PRON  - pronoun\n",
            "clasificó  - VERB  - VERB  - verb\n",
            "de  - ADP  - ADP  - adposition\n",
            "forma  - NOUN  - NOUN  - noun\n",
            "directa  - ADJ  - ADJ  - adjective\n",
            "para  - ADP  - ADP  - adposition\n",
            "el  - DET  - DET  - determiner\n",
            "Mundial  - PROPN  - PROPN  - proper noun\n",
            ",  - PUNCT  - PUNCT  - punctuation\n",
            "junto  - ADJ  - ADJ  - adjective\n",
            "con  - ADP  - ADP  - adposition\n",
            "las  - DET  - DET  - determiner\n",
            "de  - ADP  - ADP  - adposition\n",
            "Brasil  - PROPN  - PROPN  - proper noun\n",
            ",  - PUNCT  - PUNCT  - punctuation\n",
            "Argentina  - PROPN  - PROPN  - proper noun\n",
            "y  - CCONJ  - CCONJ  - coordinating conjunction\n",
            "Uruguay  - PROPN  - PROPN  - proper noun\n",
            ",  - PUNCT  - PUNCT  - punctuation\n",
            "al  - ADP  - ADP  - adposition\n",
            "contrario  - NOUN  - NOUN  - noun\n",
            "que  - SCONJ  - SCONJ  - subordinating conjunction\n",
            "las  - DET  - DET  - determiner\n",
            "de  - ADP  - ADP  - adposition\n",
            "Chile  - PROPN  - PROPN  - proper noun\n",
            "y  - CCONJ  - CCONJ  - coordinating conjunction\n",
            "Perú  - PROPN  - PROPN  - proper noun\n",
            ".  - PUNCT  - PUNCT  - punctuation\n",
            "El  - DET  - DET  - determiner\n",
            "combinado  - NOUN  - NOUN  - noun\n",
            "peruano  - ADJ  - ADJ  - adjective\n",
            ",  - PUNCT  - PUNCT  - punctuation\n",
            "que  - PRON  - PRON  - pronoun\n",
            "terminó  - VERB  - VERB  - verb\n",
            "quinto  - ADJ  - ADJ  - adjective\n",
            "por  - ADP  - ADP  - adposition\n",
            "detrás  - ADV  - ADV  - adverb\n",
            "del  - DET  - DET  - determiner\n",
            "ecuatoriano  - NOUN  - NOUN  - noun\n",
            ",  - PUNCT  - PUNCT  - punctuation\n",
            "disputará  - VERB  - VERB  - verb\n",
            "una  - DET  - DET  - determiner\n",
            "repesca  - NOUN  - NOUN  - noun\n",
            ".  - PUNCT  - PUNCT  - punctuation\n",
            "El  - DET  - DET  - determiner\n",
            "defensa  - NOUN  - NOUN  - noun\n",
            "fue  - AUX  - AUX  - auxiliary\n",
            "alineado  - VERB  - VERB  - verb\n",
            "por  - ADP  - ADP  - adposition\n",
            "el  - DET  - DET  - determiner\n",
            "seleccionador  - NOUN  - NOUN  - noun\n",
            "ecuatoriano  - ADJ  - ADJ  - adjective\n",
            "Gustavo  - PROPN  - PROPN  - proper noun\n",
            "Alfaro  - PROPN  - PROPN  - proper noun\n",
            "para  - ADP  - ADP  - adposition\n",
            "los  - DET  - DET  - determiner\n",
            "dos  - NUM  - NUM  - numeral\n",
            "partidos  - NOUN  - NOUN  - noun\n",
            "contra  - ADP  - ADP  - adposition\n",
            "Paraguay  - PROPN  - PROPN  - proper noun\n",
            "y  - CCONJ  - CCONJ  - coordinating conjunction\n",
            "Chile  - PROPN  - PROPN  - proper noun\n",
            "y  - CCONJ  - CCONJ  - coordinating conjunction\n",
            "en  - ADP  - ADP  - adposition\n",
            "una  - DET  - DET  - determiner\n",
            "ocasión  - NOUN  - NOUN  - noun\n",
            "ante  - ADP  - ADP  - adposition\n",
            "Uruguay  - PROPN  - PROPN  - proper noun\n",
            ",  - PUNCT  - PUNCT  - punctuation\n",
            "Bolivia  - PROPN  - PROPN  - proper noun\n",
            ",  - PUNCT  - PUNCT  - punctuation\n",
            "Venezuela  - PROPN  - PROPN  - proper noun\n",
            "y  - CCONJ  - CCONJ  - coordinating conjunction\n",
            "Argentina  - PROPN  - PROPN  - proper noun\n",
            ",  - PUNCT  - PUNCT  - punctuation\n",
            "partidos  - NOUN  - NOUN  - noun\n",
            "clave  - NOUN  - NOUN  - noun\n",
            "para  - ADP  - ADP  - adposition\n",
            "que  - SCONJ  - SCONJ  - subordinating conjunction\n",
            "el  - DET  - DET  - determiner\n",
            "equipo  - NOUN  - NOUN  - noun\n",
            "lograse  - VERB  - VERB  - verb\n",
            "uno  - PRON  - PRON  - pronoun\n",
            "de  - ADP  - ADP  - adposition\n",
            "los  - DET  - DET  - determiner\n",
            "cupos  - NOUN  - NOUN  - noun\n",
            "directos  - ADJ  - ADJ  - adjective\n",
            "para  - ADP  - ADP  - adposition\n",
            "el  - DET  - DET  - determiner\n",
            "Mundial  - PROPN  - PROPN  - proper noun\n",
            ".  - PUNCT  - PUNCT  - punctuation\n",
            "\"Innumerables  - VERB  - VERB  - verb\n",
            "pruebas  - NOUN  - NOUN  - noun\n",
            "de  - ADP  - ADP  - adposition\n",
            "que  - SCONJ  - SCONJ  - subordinating conjunction\n",
            "nació  - VERB  - VERB  - verb\n",
            "en  - ADP  - ADP  - adposition\n",
            "Colombia\"La  - PROPN  - PROPN  - proper noun\n",
            "Federación  - PROPN  - PROPN  - proper noun\n",
            "de  - ADP  - ADP  - adposition\n",
            "Chile  - PROPN  - PROPN  - proper noun\n",
            "denunció  - VERB  - VERB  - verb\n",
            "el  - DET  - DET  - determiner\n",
            "pasado  - ADJ  - ADJ  - adjective\n",
            "día  - NOUN  - NOUN  - noun\n",
            "5  - NUM  - NUM  - numeral\n",
            "que  - PRON  - PRON  - pronoun\n",
            "hay  - AUX  - AUX  - auxiliary\n",
            "\"  - PUNCT  - PUNCT  - punctuation\n",
            "innumerables  - ADJ  - ADJ  - adjective\n",
            "pruebas  - NOUN  - NOUN  - noun\n",
            "de  - ADP  - ADP  - adposition\n",
            "que  - SCONJ  - SCONJ  - subordinating conjunction\n",
            "el  - DET  - DET  - determiner\n",
            "jugador  - NOUN  - NOUN  - noun\n",
            "nació  - VERB  - VERB  - verb\n",
            "en  - ADP  - ADP  - adposition\n",
            "Colombia\"  - PROPN  - PROPN  - proper noun\n",
            ".  - PUNCT  - PUNCT  - punctuation\n",
            "\"Las  - DET  - DET  - determiner\n",
            "investigaciones  - NOUN  - NOUN  - noun\n",
            "realizadas  - ADJ  - ADJ  - adjective\n",
            "en  - ADP  - ADP  - adposition\n",
            "Ecuador  - PROPN  - PROPN  - proper noun\n",
            ",  - PUNCT  - PUNCT  - punctuation\n",
            "entre  - ADP  - ADP  - adposition\n",
            "ellas  - PRON  - PRON  - pronoun\n",
            ",  - PUNCT  - PUNCT  - punctuation\n",
            "un  - DET  - DET  - determiner\n",
            "informe  - NOUN  - NOUN  - noun\n",
            "jurídico  - ADJ  - ADJ  - adjective\n",
            "de  - ADP  - ADP  - adposition\n",
            "la  - DET  - DET  - determiner\n",
            "Dirección  - PROPN  - PROPN  - proper noun\n",
            "Nacional  - PROPN  - PROPN  - proper noun\n",
            "de  - ADP  - ADP  - adposition\n",
            "Registro  - PROPN  - PROPN  - proper noun\n",
            "Civil  - PROPN  - PROPN  - proper noun\n",
            ",  - PUNCT  - PUNCT  - punctuation\n",
            "declararon  - VERB  - VERB  - verb\n",
            "la  - DET  - DET  - determiner\n",
            "existencia  - NOUN  - NOUN  - noun\n",
            "de  - ADP  - ADP  - adposition\n",
            "inconsistencias  - NOUN  - NOUN  - noun\n",
            "en  - ADP  - ADP  - adposition\n",
            "el  - DET  - DET  - determiner\n",
            "certificado  - NOUN  - NOUN  - noun\n",
            "de  - ADP  - ADP  - adposition\n",
            "nacimiento  - NOUN  - NOUN  - noun\n",
            "presentado  - ADJ  - ADJ  - adjective\n",
            "por  - ADP  - ADP  - adposition\n",
            "el  - DET  - DET  - determiner\n",
            "jugador  - NOUN  - NOUN  - noun\n",
            "\"  - PUNCT  - PUNCT  - punctuation\n",
            ",  - PUNCT  - PUNCT  - punctuation\n",
            "afirmó  - VERB  - VERB  - verb\n",
            "este  - DET  - DET  - determiner\n",
            "organismo  - NOUN  - NOUN  - noun\n",
            ",  - PUNCT  - PUNCT  - punctuation\n",
            "que  - PRON  - PRON  - pronoun\n",
            "acusó  - VERB  - VERB  - verb\n",
            "a  - ADP  - ADP  - adposition\n",
            "la  - DET  - DET  - determiner\n",
            "Federación  - PROPN  - PROPN  - proper noun\n",
            "Ecuatoriana  - PROPN  - PROPN  - proper noun\n",
            "de  - ADP  - ADP  - adposition\n",
            "tener  - VERB  - VERB  - verb\n",
            "\"  - PUNCT  - PUNCT  - punctuation\n",
            "total  - ADJ  - ADJ  - adjective\n",
            "conocimiento  - NOUN  - NOUN  - noun\n",
            "\"  - PUNCT  - PUNCT  - punctuation\n",
            "de  - ADP  - ADP  - adposition\n",
            "las  - DET  - DET  - determiner\n",
            "irregularidades  - NOUN  - NOUN  - noun\n",
            ".  - PUNCT  - PUNCT  - punctuation\n",
            "Una  - DET  - DET  - determiner\n",
            "posible  - ADJ  - ADJ  - adjective\n",
            "sanción  - NOUN  - NOUN  - noun\n",
            "de  - ADP  - ADP  - adposition\n",
            "la  - DET  - DET  - determiner\n",
            "FIFA  - PROPN  - PROPN  - proper noun\n",
            "podría  - AUX  - AUX  - auxiliary\n",
            "implicar  - VERB  - VERB  - verb\n",
            "la  - DET  - DET  - determiner\n",
            "resta  - NOUN  - NOUN  - noun\n",
            "de  - ADP  - ADP  - adposition\n",
            "puntos  - NOUN  - NOUN  - noun\n",
            "a  - ADP  - ADP  - adposition\n",
            "Ecuador  - PROPN  - PROPN  - proper noun\n",
            "por  - ADP  - ADP  - adposition\n",
            "los  - DET  - DET  - determiner\n",
            "partidos  - NOUN  - NOUN  - noun\n",
            "que  - PRON  - PRON  - pronoun\n",
            "Castillo  - PROPN  - PROPN  - proper noun\n",
            "jugó  - VERB  - VERB  - verb\n",
            ",  - PUNCT  - PUNCT  - punctuation\n",
            "lo  - PRON  - PRON  - pronoun\n",
            "que  - PRON  - PRON  - pronoun\n",
            "alteraría  - VERB  - VERB  - verb\n",
            "la  - DET  - DET  - determiner\n",
            "nómina  - NOUN  - NOUN  - noun\n",
            "de  - ADP  - ADP  - adposition\n",
            "clasificados  - NOUN  - NOUN  - noun\n",
            ".  - PUNCT  - PUNCT  - punctuation\n",
            "Un  - DET  - DET  - determiner\n",
            "informe  - NOUN  - NOUN  - noun\n",
            "técnico  - ADJ  - ADJ  - adjective\n",
            "jurídico  - ADJ  - ADJ  - adjective\n",
            "de  - ADP  - ADP  - adposition\n",
            "la  - DET  - DET  - determiner\n",
            "dirección  - NOUN  - NOUN  - noun\n",
            "nacional  - ADJ  - ADJ  - adjective\n",
            "del  - ADP  - ADP  - adposition\n",
            "registro  - NOUN  - NOUN  - noun\n",
            "civil  - ADJ  - ADJ  - adjective\n",
            "de  - ADP  - ADP  - adposition\n",
            "Ecuador  - PROPN  - PROPN  - proper noun\n",
            "afirma  - VERB  - VERB  - verb\n",
            "que  - SCONJ  - SCONJ  - subordinating conjunction\n",
            "la  - DET  - DET  - determiner\n",
            "inscripción  - NOUN  - NOUN  - noun\n",
            "de  - ADP  - ADP  - adposition\n",
            "nacimiento  - NOUN  - NOUN  - noun\n",
            "de  - ADP  - ADP  - adposition\n",
            "Byron  - PROPN  - PROPN  - proper noun\n",
            "Castillo  - PROPN  - PROPN  - proper noun\n",
            "en  - ADP  - ADP  - adposition\n",
            "la  - DET  - DET  - determiner\n",
            "ciudad  - NOUN  - NOUN  - noun\n",
            "ecuatoriana  - ADJ  - ADJ  - adjective\n",
            "de  - ADP  - ADP  - adposition\n",
            "Guayas  - PROPN  - PROPN  - proper noun\n",
            "no  - ADV  - ADV  - adverb\n",
            "consta  - VERB  - VERB  - verb\n",
            "en  - ADP  - ADP  - adposition\n",
            "el  - DET  - DET  - determiner\n",
            "tomo  - NOUN  - NOUN  - noun\n",
            ",  - PUNCT  - PUNCT  - punctuation\n",
            "la  - DET  - DET  - determiner\n",
            "página  - NOUN  - NOUN  - noun\n",
            "y  - CCONJ  - CCONJ  - coordinating conjunction\n",
            "el  - DET  - DET  - determiner\n",
            "acta  - NOUN  - NOUN  - noun\n",
            "solicitado  - ADJ  - ADJ  - adjective\n",
            ",  - PUNCT  - PUNCT  - punctuation\n",
            "según  - ADP  - ADP  - adposition\n",
            "un  - DET  - DET  - determiner\n",
            "documento  - NOUN  - NOUN  - noun\n",
            "oficial  - ADJ  - ADJ  - adjective\n",
            ".  - PUNCT  - PUNCT  - punctuation\n"
          ]
        },
        {
          "data": {
            "text/plain": [
              "'\\ntoken: Imprime la representación de texto del token.\\ntoken.tag_: Imprime la etiqueta morfosintáctica detallada del token.\\ntoken.pos_: Imprime la etiqueta de la parte de la oración del token.\\nspacy.explain(token.tag_): Imprime una explicación en lenguaje natural de la etiqueta token.tag_.'"
            ]
          },
          "execution_count": 22,
          "metadata": {},
          "output_type": "execute_result"
        }
      ],
      "source": [
        "for token in doc: # Para cada token en doc...\n",
        "  print(token,' -', token.tag_, ' -', token.pos_,' -' ,spacy.explain(token.tag_))\n",
        "\n",
        "# Trabajando en español tokeb.tag_ solo devuelve lo mismo que token.pos_ . Debería devolver ejemplo:\n",
        "# terminó: verbo tercera singular pasado.\n",
        "# partidos: masculino plural\n",
        "\"\"\"\n",
        "token: Imprime la representación de texto del token.\n",
        "token.tag_: Imprime la etiqueta morfosintáctica detallada del token.\n",
        "token.pos_: Imprime la etiqueta de la parte de la oración del token.\n",
        "spacy.explain(token.tag_): Imprime una explicación en lenguaje natural de la etiqueta token.tag_.\"\"\""
      ]
    },
    {
      "cell_type": "markdown",
      "metadata": {
        "id": "A9U1VToeTcGl"
      },
      "source": [
        "1. tag_ listas las estructuras finas del POS\n",
        "2. pos_ lista la estructuras gruesas del POS\n",
        "3. spacy.explain da los detalles descriptivos sobre un POS particular"
      ]
    },
    {
      "cell_type": "code",
      "execution_count": 23,
      "metadata": {
        "colab": {
          "base_uri": "https://localhost:8080/",
          "height": 70
        },
        "id": "OdqEtazsI8UZ",
        "outputId": "1e94812c-ec15-4e6d-c590-08844284b869"
      },
      "outputs": [
        {
          "data": {
            "text/plain": [
              "'Para obtener una lista completa y detallada de las etiquetas POS y TAG\\n específicas del modelo de spaCy que estás utilizando, te recomiendo revisar la\\n documentación oficial de spaCy o las configuraciones internas del modelo. A veces,\\n  los modelos pueden tener configuraciones específicas\\nque no están directamente accesibles como un mapa de etiquetas genérico.'"
            ]
          },
          "execution_count": 23,
          "metadata": {},
          "output_type": "execute_result"
        }
      ],
      "source": [
        "\"\"\"Para obtener una lista completa y detallada de las etiquetas POS y TAG\n",
        " específicas del modelo de spaCy que estás utilizando, te recomiendo revisar la\n",
        " documentación oficial de spaCy o las configuraciones internas del modelo. A veces,\n",
        "  los modelos pueden tener configuraciones específicas\n",
        "que no están directamente accesibles como un mapa de etiquetas genérico.\"\"\""
      ]
    },
    {
      "cell_type": "code",
      "execution_count": 24,
      "metadata": {
        "colab": {
          "base_uri": "https://localhost:8080/"
        },
        "id": "ePn4C2N_ToHG",
        "outputId": "22507c8a-d263-4a71-933b-d51b5cb39963"
      },
      "outputs": [
        {
          "name": "stdout",
          "output_type": "stream",
          "text": [
            "[denuncia, alegaciones, falsificación, documentos, nacionalidad, selección, forma, contrario, combinado, ecuatoriano, repesca, defensa, seleccionador, partidos, ocasión, partidos, clave, equipo, cupos, pruebas, día, pruebas, jugador, investigaciones, informe, existencia, inconsistencias, certificado, nacimiento, jugador, organismo, conocimiento, irregularidades, sanción, resta, puntos, partidos, nómina, clasificados, informe, dirección, registro, inscripción, nacimiento, ciudad, tomo, página, acta, documento]\n",
            "[interpuesta, posible, ecuatoriana, directa, junto, peruano, quinto, ecuatoriano, directos, pasado, innumerables, realizadas, jurídico, presentado, total, posible, técnico, jurídico, nacional, civil, ecuatoriana, solicitado, oficial]\n"
          ]
        }
      ],
      "source": [
        "nouns=[] # Crea listas vacías para almacenar sustantivos\n",
        "adjectives=[] #  Crea listas vacías para almacenar adjetivos\n",
        "for token in doc: # para cada token en doc:\n",
        "  if token.pos_ =='NOUN': # -si el Token es un sustantivo,...\n",
        "    nouns.append(token) #  ... agregarlo a la lista de sustantivos\n",
        "  if token.pos_ =='ADJ': # -si el Token es un adjetivo...\n",
        "    adjectives.append(token) # agregarlo a la lista de adjetivos\n",
        "print(nouns) # Imprimir sustantivos\n",
        "print(adjectives) # Imprimir adjetivos."
      ]
    },
    {
      "cell_type": "markdown",
      "metadata": {
        "id": "asrthaXMT1j0"
      },
      "source": [
        "# Visualizacion usando spaCY"
      ]
    },
    {
      "cell_type": "code",
      "execution_count": 25,
      "metadata": {
        "colab": {
          "base_uri": "https://localhost:8080/",
          "height": 440
        },
        "id": "67YSTloeT3Ou",
        "outputId": "e4d653dc-e179-4eb3-fada-43a4e7642a27"
      },
      "outputs": [
        {
          "data": {
            "text/html": [
              "<span class=\"tex2jax_ignore\"><svg xmlns=\"http://www.w3.org/2000/svg\" xmlns:xlink=\"http://www.w3.org/1999/xlink\" xml:lang=\"es\" id=\"922c4458333e40a1bde018a087c83a90-0\" class=\"displacy\" width=\"1800\" height=\"399.5\" direction=\"ltr\" style=\"max-width: none; height: 399.5px; color: #000000; background: #ffffff; font-family: Arial; direction: ltr\">\n",
              "<text class=\"displacy-token\" fill=\"currentColor\" text-anchor=\"middle\" y=\"309.5\">\n",
              "    <tspan class=\"displacy-word\" fill=\"currentColor\" x=\"50\">el</tspan>\n",
              "    <tspan class=\"displacy-tag\" dy=\"2em\" fill=\"currentColor\" x=\"50\">DET</tspan>\n",
              "</text>\n",
              "\n",
              "<text class=\"displacy-token\" fill=\"currentColor\" text-anchor=\"middle\" y=\"309.5\">\n",
              "    <tspan class=\"displacy-word\" fill=\"currentColor\" x=\"225\">se</tspan>\n",
              "    <tspan class=\"displacy-tag\" dy=\"2em\" fill=\"currentColor\" x=\"225\">PRON</tspan>\n",
              "</text>\n",
              "\n",
              "<text class=\"displacy-token\" fill=\"currentColor\" text-anchor=\"middle\" y=\"309.5\">\n",
              "    <tspan class=\"displacy-word\" fill=\"currentColor\" x=\"400\">encuentra</tspan>\n",
              "    <tspan class=\"displacy-tag\" dy=\"2em\" fill=\"currentColor\" x=\"400\">VERB</tspan>\n",
              "</text>\n",
              "\n",
              "<text class=\"displacy-token\" fill=\"currentColor\" text-anchor=\"middle\" y=\"309.5\">\n",
              "    <tspan class=\"displacy-word\" fill=\"currentColor\" x=\"575\">interesado</tspan>\n",
              "    <tspan class=\"displacy-tag\" dy=\"2em\" fill=\"currentColor\" x=\"575\">ADJ</tspan>\n",
              "</text>\n",
              "\n",
              "<text class=\"displacy-token\" fill=\"currentColor\" text-anchor=\"middle\" y=\"309.5\">\n",
              "    <tspan class=\"displacy-word\" fill=\"currentColor\" x=\"750\">en</tspan>\n",
              "    <tspan class=\"displacy-tag\" dy=\"2em\" fill=\"currentColor\" x=\"750\">ADP</tspan>\n",
              "</text>\n",
              "\n",
              "<text class=\"displacy-token\" fill=\"currentColor\" text-anchor=\"middle\" y=\"309.5\">\n",
              "    <tspan class=\"displacy-word\" fill=\"currentColor\" x=\"925\">aprender</tspan>\n",
              "    <tspan class=\"displacy-tag\" dy=\"2em\" fill=\"currentColor\" x=\"925\">VERB</tspan>\n",
              "</text>\n",
              "\n",
              "<text class=\"displacy-token\" fill=\"currentColor\" text-anchor=\"middle\" y=\"309.5\">\n",
              "    <tspan class=\"displacy-word\" fill=\"currentColor\" x=\"1100\">Procesamiento</tspan>\n",
              "    <tspan class=\"displacy-tag\" dy=\"2em\" fill=\"currentColor\" x=\"1100\">PROPN</tspan>\n",
              "</text>\n",
              "\n",
              "<text class=\"displacy-token\" fill=\"currentColor\" text-anchor=\"middle\" y=\"309.5\">\n",
              "    <tspan class=\"displacy-word\" fill=\"currentColor\" x=\"1275\">de</tspan>\n",
              "    <tspan class=\"displacy-tag\" dy=\"2em\" fill=\"currentColor\" x=\"1275\">ADP</tspan>\n",
              "</text>\n",
              "\n",
              "<text class=\"displacy-token\" fill=\"currentColor\" text-anchor=\"middle\" y=\"309.5\">\n",
              "    <tspan class=\"displacy-word\" fill=\"currentColor\" x=\"1450\">Lenguaje</tspan>\n",
              "    <tspan class=\"displacy-tag\" dy=\"2em\" fill=\"currentColor\" x=\"1450\">PROPN</tspan>\n",
              "</text>\n",
              "\n",
              "<text class=\"displacy-token\" fill=\"currentColor\" text-anchor=\"middle\" y=\"309.5\">\n",
              "    <tspan class=\"displacy-word\" fill=\"currentColor\" x=\"1625\">Natural</tspan>\n",
              "    <tspan class=\"displacy-tag\" dy=\"2em\" fill=\"currentColor\" x=\"1625\">PROPN</tspan>\n",
              "</text>\n",
              "\n",
              "<g class=\"displacy-arrow\">\n",
              "    <path class=\"displacy-arc\" id=\"arrow-922c4458333e40a1bde018a087c83a90-0-0\" stroke-width=\"2px\" d=\"M70,264.5 C70,89.5 395.0,89.5 395.0,264.5\" fill=\"none\" stroke=\"currentColor\"/>\n",
              "    <text dy=\"1.25em\" style=\"font-size: 0.8em; letter-spacing: 1px\">\n",
              "        <textPath xlink:href=\"#arrow-922c4458333e40a1bde018a087c83a90-0-0\" class=\"displacy-label\" startOffset=\"50%\" side=\"left\" fill=\"currentColor\" text-anchor=\"middle\">expl:pv</textPath>\n",
              "    </text>\n",
              "    <path class=\"displacy-arrowhead\" d=\"M70,266.5 L62,254.5 78,254.5\" fill=\"currentColor\"/>\n",
              "</g>\n",
              "\n",
              "<g class=\"displacy-arrow\">\n",
              "    <path class=\"displacy-arc\" id=\"arrow-922c4458333e40a1bde018a087c83a90-0-1\" stroke-width=\"2px\" d=\"M245,264.5 C245,177.0 390.0,177.0 390.0,264.5\" fill=\"none\" stroke=\"currentColor\"/>\n",
              "    <text dy=\"1.25em\" style=\"font-size: 0.8em; letter-spacing: 1px\">\n",
              "        <textPath xlink:href=\"#arrow-922c4458333e40a1bde018a087c83a90-0-1\" class=\"displacy-label\" startOffset=\"50%\" side=\"left\" fill=\"currentColor\" text-anchor=\"middle\">expl:pv</textPath>\n",
              "    </text>\n",
              "    <path class=\"displacy-arrowhead\" d=\"M245,266.5 L237,254.5 253,254.5\" fill=\"currentColor\"/>\n",
              "</g>\n",
              "\n",
              "<g class=\"displacy-arrow\">\n",
              "    <path class=\"displacy-arc\" id=\"arrow-922c4458333e40a1bde018a087c83a90-0-2\" stroke-width=\"2px\" d=\"M420,264.5 C420,177.0 565.0,177.0 565.0,264.5\" fill=\"none\" stroke=\"currentColor\"/>\n",
              "    <text dy=\"1.25em\" style=\"font-size: 0.8em; letter-spacing: 1px\">\n",
              "        <textPath xlink:href=\"#arrow-922c4458333e40a1bde018a087c83a90-0-2\" class=\"displacy-label\" startOffset=\"50%\" side=\"left\" fill=\"currentColor\" text-anchor=\"middle\">xcomp</textPath>\n",
              "    </text>\n",
              "    <path class=\"displacy-arrowhead\" d=\"M565.0,266.5 L573.0,254.5 557.0,254.5\" fill=\"currentColor\"/>\n",
              "</g>\n",
              "\n",
              "<g class=\"displacy-arrow\">\n",
              "    <path class=\"displacy-arc\" id=\"arrow-922c4458333e40a1bde018a087c83a90-0-3\" stroke-width=\"2px\" d=\"M770,264.5 C770,177.0 915.0,177.0 915.0,264.5\" fill=\"none\" stroke=\"currentColor\"/>\n",
              "    <text dy=\"1.25em\" style=\"font-size: 0.8em; letter-spacing: 1px\">\n",
              "        <textPath xlink:href=\"#arrow-922c4458333e40a1bde018a087c83a90-0-3\" class=\"displacy-label\" startOffset=\"50%\" side=\"left\" fill=\"currentColor\" text-anchor=\"middle\">mark</textPath>\n",
              "    </text>\n",
              "    <path class=\"displacy-arrowhead\" d=\"M770,266.5 L762,254.5 778,254.5\" fill=\"currentColor\"/>\n",
              "</g>\n",
              "\n",
              "<g class=\"displacy-arrow\">\n",
              "    <path class=\"displacy-arc\" id=\"arrow-922c4458333e40a1bde018a087c83a90-0-4\" stroke-width=\"2px\" d=\"M595,264.5 C595,89.5 920.0,89.5 920.0,264.5\" fill=\"none\" stroke=\"currentColor\"/>\n",
              "    <text dy=\"1.25em\" style=\"font-size: 0.8em; letter-spacing: 1px\">\n",
              "        <textPath xlink:href=\"#arrow-922c4458333e40a1bde018a087c83a90-0-4\" class=\"displacy-label\" startOffset=\"50%\" side=\"left\" fill=\"currentColor\" text-anchor=\"middle\">xcomp</textPath>\n",
              "    </text>\n",
              "    <path class=\"displacy-arrowhead\" d=\"M920.0,266.5 L928.0,254.5 912.0,254.5\" fill=\"currentColor\"/>\n",
              "</g>\n",
              "\n",
              "<g class=\"displacy-arrow\">\n",
              "    <path class=\"displacy-arc\" id=\"arrow-922c4458333e40a1bde018a087c83a90-0-5\" stroke-width=\"2px\" d=\"M945,264.5 C945,177.0 1090.0,177.0 1090.0,264.5\" fill=\"none\" stroke=\"currentColor\"/>\n",
              "    <text dy=\"1.25em\" style=\"font-size: 0.8em; letter-spacing: 1px\">\n",
              "        <textPath xlink:href=\"#arrow-922c4458333e40a1bde018a087c83a90-0-5\" class=\"displacy-label\" startOffset=\"50%\" side=\"left\" fill=\"currentColor\" text-anchor=\"middle\">obj</textPath>\n",
              "    </text>\n",
              "    <path class=\"displacy-arrowhead\" d=\"M1090.0,266.5 L1098.0,254.5 1082.0,254.5\" fill=\"currentColor\"/>\n",
              "</g>\n",
              "\n",
              "<g class=\"displacy-arrow\">\n",
              "    <path class=\"displacy-arc\" id=\"arrow-922c4458333e40a1bde018a087c83a90-0-6\" stroke-width=\"2px\" d=\"M1295,264.5 C1295,177.0 1440.0,177.0 1440.0,264.5\" fill=\"none\" stroke=\"currentColor\"/>\n",
              "    <text dy=\"1.25em\" style=\"font-size: 0.8em; letter-spacing: 1px\">\n",
              "        <textPath xlink:href=\"#arrow-922c4458333e40a1bde018a087c83a90-0-6\" class=\"displacy-label\" startOffset=\"50%\" side=\"left\" fill=\"currentColor\" text-anchor=\"middle\">case</textPath>\n",
              "    </text>\n",
              "    <path class=\"displacy-arrowhead\" d=\"M1295,266.5 L1287,254.5 1303,254.5\" fill=\"currentColor\"/>\n",
              "</g>\n",
              "\n",
              "<g class=\"displacy-arrow\">\n",
              "    <path class=\"displacy-arc\" id=\"arrow-922c4458333e40a1bde018a087c83a90-0-7\" stroke-width=\"2px\" d=\"M1120,264.5 C1120,89.5 1445.0,89.5 1445.0,264.5\" fill=\"none\" stroke=\"currentColor\"/>\n",
              "    <text dy=\"1.25em\" style=\"font-size: 0.8em; letter-spacing: 1px\">\n",
              "        <textPath xlink:href=\"#arrow-922c4458333e40a1bde018a087c83a90-0-7\" class=\"displacy-label\" startOffset=\"50%\" side=\"left\" fill=\"currentColor\" text-anchor=\"middle\">flat</textPath>\n",
              "    </text>\n",
              "    <path class=\"displacy-arrowhead\" d=\"M1445.0,266.5 L1453.0,254.5 1437.0,254.5\" fill=\"currentColor\"/>\n",
              "</g>\n",
              "\n",
              "<g class=\"displacy-arrow\">\n",
              "    <path class=\"displacy-arc\" id=\"arrow-922c4458333e40a1bde018a087c83a90-0-8\" stroke-width=\"2px\" d=\"M1120,264.5 C1120,2.0 1625.0,2.0 1625.0,264.5\" fill=\"none\" stroke=\"currentColor\"/>\n",
              "    <text dy=\"1.25em\" style=\"font-size: 0.8em; letter-spacing: 1px\">\n",
              "        <textPath xlink:href=\"#arrow-922c4458333e40a1bde018a087c83a90-0-8\" class=\"displacy-label\" startOffset=\"50%\" side=\"left\" fill=\"currentColor\" text-anchor=\"middle\">flat</textPath>\n",
              "    </text>\n",
              "    <path class=\"displacy-arrowhead\" d=\"M1625.0,266.5 L1633.0,254.5 1617.0,254.5\" fill=\"currentColor\"/>\n",
              "</g>\n",
              "</svg></span>"
            ],
            "text/plain": [
              "<IPython.core.display.HTML object>"
            ]
          },
          "metadata": {},
          "output_type": "display_data"
        }
      ],
      "source": [
        "# Importar la función displacy de la biblioteca spaCy\n",
        "from spacy import displacy\n",
        "\n",
        "# Definir el texto de ejemplo\n",
        "texto = ('el se encuentra interesado en aprender Procesamiento de Lenguaje Natural')\n",
        "\n",
        "# Procesa el texto utilizando el modelo de spaCy previamente cargado (en este caso, se asume que nlp ya ha sido definido y cargado con el modelo es_core_news_md).\n",
        "# Esto crea un objeto Doc que contiene los tokens del texto, así como sus análisis gramaticales y de dependencia.\n",
        "t = nlp(texto)\n",
        "\n",
        "# Utiliza la función displacy.render(de la biblioteca spacy) para renderizar una visualización de las dependencias gramaticales\n",
        "# del texto procesado (t). El parámetro style='dep' especifica que se quiere una visualización de dependencias,\n",
        "# y jupyter=True indica que se está trabajando en un Jupyter Notebook, lo que permite la visualización inline(dentro del entorno de trabajo).\n",
        "displacy.render(t, style='dep',jupyter=True)"
      ]
    },
    {
      "cell_type": "markdown",
      "metadata": {
        "id": "rCnL13y3fZxc"
      },
      "source": [
        "#Categorías de POS-tagging en spaCy\n",
        "\n",
        "| Etiqueta | Nombre             | Descripción                                                    | Ejemplos                             |\n",
        "|----------|--------------------|----------------------------------------------------------------|--------------------------------------|\n",
        "| `DET`    | Determinante        | Acompaña a un sustantivo para precisar su referencia.          | el, la, un, una, este, esos          |\n",
        "| `PRON`   | Pronombre           | Sustituye a un sustantivo.                                     | yo, tú, él, nosotros, ella, esto     |\n",
        "| `VERB`   | Verbo               | Expresa una acción, proceso o estado.                          | correr, comer, ser, estar, tener     |\n",
        "| `ADJ`    | Adjetivo            | Califica o describe a un sustantivo.                           | grande, azul, inteligente            |\n",
        "| `ADP`    | Adposición          | Preposición que introduce un complemento.                      | de, en, con, por, para               |\n",
        "| `PROPN`  | Nombre propio       | Nombres propios de personas, lugares o entidades.              | Juan, España, Google, Buenos Aires   |\n"
      ]
    }
  ],
  "metadata": {
    "colab": {
      "provenance": [],
      "toc_visible": true
    },
    "kernelspec": {
      "display_name": "Python 3",
      "name": "python3"
    },
    "language_info": {
      "codemirror_mode": {
        "name": "ipython",
        "version": 3
      },
      "file_extension": ".py",
      "mimetype": "text/x-python",
      "name": "python",
      "nbconvert_exporter": "python",
      "pygments_lexer": "ipython3",
      "version": "3.11.9"
    }
  },
  "nbformat": 4,
  "nbformat_minor": 0
}

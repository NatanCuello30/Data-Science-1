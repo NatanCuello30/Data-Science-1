{
 "cells": [
  {
   "cell_type": "code",
   "execution_count": null,
   "metadata": {},
   "outputs": [],
   "source": [
    "pip install Office365-REST-Python-Client\n"
   ]
  },
  {
   "cell_type": "code",
   "execution_count": 4,
   "metadata": {},
   "outputs": [
    {
     "ename": "ClientRequestException",
     "evalue": "('-2147024894, System.IO.FileNotFoundException', 'File Not Found.', \"404 Client Error: Not Found for url: https://eyus.sharepoint.com/sites/LCS_Working/_api/Web/getFolderByServerRelativeUrl('%2Fsites%2FLCS_Working%2FProject%2520Hawk%2F2024%2FLicenses%2520%2528Soft%2520Copy%2529')\")",
     "output_type": "error",
     "traceback": [
      "\u001b[1;31m---------------------------------------------------------------------------\u001b[0m",
      "\u001b[1;31mHTTPError\u001b[0m                                 Traceback (most recent call last)",
      "File \u001b[1;32m~\\AppData\\Local\\Packages\\PythonSoftwareFoundation.Python.3.11_qbz5n2kfra8p0\\LocalCache\\local-packages\\Python311\\site-packages\\office365\\runtime\\client_request.py:37\u001b[0m, in \u001b[0;36mClientRequest.execute_query\u001b[1;34m(self, query)\u001b[0m\n\u001b[0;32m     36\u001b[0m request \u001b[38;5;241m=\u001b[39m \u001b[38;5;28mself\u001b[39m\u001b[38;5;241m.\u001b[39mbuild_request(query)\n\u001b[1;32m---> 37\u001b[0m response \u001b[38;5;241m=\u001b[39m \u001b[38;5;28;43mself\u001b[39;49m\u001b[38;5;241;43m.\u001b[39;49m\u001b[43mexecute_request_direct\u001b[49m\u001b[43m(\u001b[49m\u001b[43mrequest\u001b[49m\u001b[43m)\u001b[49m\n\u001b[0;32m     38\u001b[0m \u001b[38;5;28mself\u001b[39m\u001b[38;5;241m.\u001b[39mprocess_response(response, query)\n",
      "File \u001b[1;32m~\\AppData\\Local\\Packages\\PythonSoftwareFoundation.Python.3.11_qbz5n2kfra8p0\\LocalCache\\local-packages\\Python311\\site-packages\\office365\\runtime\\client_request.py:101\u001b[0m, in \u001b[0;36mClientRequest.execute_request_direct\u001b[1;34m(self, request)\u001b[0m\n\u001b[0;32m     93\u001b[0m     response \u001b[38;5;241m=\u001b[39m requests\u001b[38;5;241m.\u001b[39mget(\n\u001b[0;32m     94\u001b[0m         url\u001b[38;5;241m=\u001b[39mrequest\u001b[38;5;241m.\u001b[39murl,\n\u001b[0;32m     95\u001b[0m         headers\u001b[38;5;241m=\u001b[39mrequest\u001b[38;5;241m.\u001b[39mheaders,\n\u001b[1;32m   (...)\u001b[0m\n\u001b[0;32m     99\u001b[0m         proxies\u001b[38;5;241m=\u001b[39mrequest\u001b[38;5;241m.\u001b[39mproxies,\n\u001b[0;32m    100\u001b[0m     )\n\u001b[1;32m--> 101\u001b[0m \u001b[43mresponse\u001b[49m\u001b[38;5;241;43m.\u001b[39;49m\u001b[43mraise_for_status\u001b[49m\u001b[43m(\u001b[49m\u001b[43m)\u001b[49m\n\u001b[0;32m    102\u001b[0m \u001b[38;5;28;01mreturn\u001b[39;00m response\n",
      "File \u001b[1;32m~\\AppData\\Local\\Packages\\PythonSoftwareFoundation.Python.3.11_qbz5n2kfra8p0\\LocalCache\\local-packages\\Python311\\site-packages\\requests\\models.py:1024\u001b[0m, in \u001b[0;36mResponse.raise_for_status\u001b[1;34m(self)\u001b[0m\n\u001b[0;32m   1023\u001b[0m \u001b[38;5;28;01mif\u001b[39;00m http_error_msg:\n\u001b[1;32m-> 1024\u001b[0m     \u001b[38;5;28;01mraise\u001b[39;00m HTTPError(http_error_msg, response\u001b[38;5;241m=\u001b[39m\u001b[38;5;28mself\u001b[39m)\n",
      "\u001b[1;31mHTTPError\u001b[0m: 404 Client Error: Not Found for url: https://eyus.sharepoint.com/sites/LCS_Working/_api/Web/getFolderByServerRelativeUrl('%2Fsites%2FLCS_Working%2FProject%2520Hawk%2F2024%2FLicenses%2520%2528Soft%2520Copy%2529')",
      "\nDuring handling of the above exception, another exception occurred:\n",
      "\u001b[1;31mClientRequestException\u001b[0m                    Traceback (most recent call last)",
      "Cell \u001b[1;32mIn[4], line 20\u001b[0m\n\u001b[0;32m     18\u001b[0m folder \u001b[38;5;241m=\u001b[39m ctx\u001b[38;5;241m.\u001b[39mweb\u001b[38;5;241m.\u001b[39mget_folder_by_server_relative_url(folder_url)\n\u001b[0;32m     19\u001b[0m ctx\u001b[38;5;241m.\u001b[39mload(folder)\n\u001b[1;32m---> 20\u001b[0m \u001b[43mctx\u001b[49m\u001b[38;5;241;43m.\u001b[39;49m\u001b[43mexecute_query\u001b[49m\u001b[43m(\u001b[49m\u001b[43m)\u001b[49m\n\u001b[0;32m     22\u001b[0m \u001b[38;5;66;03m# Get the files in the folder\u001b[39;00m\n\u001b[0;32m     23\u001b[0m files \u001b[38;5;241m=\u001b[39m folder\u001b[38;5;241m.\u001b[39mfiles\n",
      "File \u001b[1;32m~\\AppData\\Local\\Packages\\PythonSoftwareFoundation.Python.3.11_qbz5n2kfra8p0\\LocalCache\\local-packages\\Python311\\site-packages\\office365\\runtime\\client_runtime_context.py:173\u001b[0m, in \u001b[0;36mClientRuntimeContext.execute_query\u001b[1;34m(self)\u001b[0m\n\u001b[0;32m    171\u001b[0m \u001b[38;5;28;01mwhile\u001b[39;00m \u001b[38;5;28mself\u001b[39m\u001b[38;5;241m.\u001b[39mhas_pending_request:\n\u001b[0;32m    172\u001b[0m     qry \u001b[38;5;241m=\u001b[39m \u001b[38;5;28mself\u001b[39m\u001b[38;5;241m.\u001b[39m_get_next_query()\n\u001b[1;32m--> 173\u001b[0m     \u001b[38;5;28;43mself\u001b[39;49m\u001b[38;5;241;43m.\u001b[39;49m\u001b[43mpending_request\u001b[49m\u001b[43m(\u001b[49m\u001b[43m)\u001b[49m\u001b[38;5;241;43m.\u001b[39;49m\u001b[43mexecute_query\u001b[49m\u001b[43m(\u001b[49m\u001b[43mqry\u001b[49m\u001b[43m)\u001b[49m\n\u001b[0;32m    174\u001b[0m \u001b[38;5;28;01mreturn\u001b[39;00m \u001b[38;5;28mself\u001b[39m\n",
      "File \u001b[1;32m~\\AppData\\Local\\Packages\\PythonSoftwareFoundation.Python.3.11_qbz5n2kfra8p0\\LocalCache\\local-packages\\Python311\\site-packages\\office365\\runtime\\client_request.py:41\u001b[0m, in \u001b[0;36mClientRequest.execute_query\u001b[1;34m(self, query)\u001b[0m\n\u001b[0;32m     39\u001b[0m     \u001b[38;5;28mself\u001b[39m\u001b[38;5;241m.\u001b[39mafterExecute\u001b[38;5;241m.\u001b[39mnotify(response)\n\u001b[0;32m     40\u001b[0m \u001b[38;5;28;01mexcept\u001b[39;00m HTTPError \u001b[38;5;28;01mas\u001b[39;00m e:\n\u001b[1;32m---> 41\u001b[0m     \u001b[38;5;28;01mraise\u001b[39;00m ClientRequestException(\u001b[38;5;241m*\u001b[39me\u001b[38;5;241m.\u001b[39margs, response\u001b[38;5;241m=\u001b[39me\u001b[38;5;241m.\u001b[39mresponse)\n",
      "\u001b[1;31mClientRequestException\u001b[0m: ('-2147024894, System.IO.FileNotFoundException', 'File Not Found.', \"404 Client Error: Not Found for url: https://eyus.sharepoint.com/sites/LCS_Working/_api/Web/getFolderByServerRelativeUrl('%2Fsites%2FLCS_Working%2FProject%2520Hawk%2F2024%2FLicenses%2520%2528Soft%2520Copy%2529')\")"
     ]
    }
   ],
   "source": [
    "from office365.sharepoint.client_context import ClientContext\n",
    "from office365.runtime.auth.user_credential import UserCredential\n",
    "from urllib.parse import quote\n",
    "\n",
    "# SharePoint site URL and credentials\n",
    "site_url = \"https://eyus.sharepoint.com/sites/LCS_Working\"\n",
    "username = \"natan.m.cuello@gds.ey.com\"  # Replace with your username\n",
    "password = \"Cartagena2?\"              # Replace with your password\n",
    "\n",
    "# Create a client context\n",
    "ctx = ClientContext(site_url).with_credentials(UserCredential(username, password))\n",
    "\n",
    "# Specify the folder path and encode it\n",
    "folder_path = \"Project Hawk/2024/Licenses (Soft Copy)\"\n",
    "folder_url = f\"/sites/LCS_Working/{quote(folder_path)}\"\n",
    "\n",
    "# Get the folder\n",
    "folder = ctx.web.get_folder_by_server_relative_url(folder_url)\n",
    "ctx.load(folder)\n",
    "ctx.execute_query()\n",
    "\n",
    "# Get the files in the folder\n",
    "files = folder.files\n",
    "ctx.load(files)\n",
    "ctx.execute_query()\n",
    "\n",
    "# Print the list of files\n",
    "print(\"Files in the folder:\")\n",
    "for file in files:\n",
    "    print(f\"File Name: {file.properties['Name']}, File URL: {file.properties['ServerRelativeUrl']}\")\n"
   ]
  }
 ],
 "metadata": {
  "kernelspec": {
   "display_name": "Python 3",
   "language": "python",
   "name": "python3"
  },
  "language_info": {
   "codemirror_mode": {
    "name": "ipython",
    "version": 3
   },
   "file_extension": ".py",
   "mimetype": "text/x-python",
   "name": "python",
   "nbconvert_exporter": "python",
   "pygments_lexer": "ipython3",
   "version": "3.11.9"
  }
 },
 "nbformat": 4,
 "nbformat_minor": 2
}

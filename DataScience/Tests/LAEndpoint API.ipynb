{
 "cells": [
  {
   "cell_type": "code",
   "execution_count": 2,
   "metadata": {},
   "outputs": [
    {
     "name": "stdout",
     "output_type": "stream",
     "text": [
      "Total rows retrieved: 598265\n",
      "{'location_account': '0000000108-0001-3', 'business_name': 'PALACE OF VENICE GUEST HOME /C', 'street_address': '1727 CRENSHAW BLVD', 'city': 'LOS ANGELES', 'zip_code': '90019-6037', 'location_description': '1727 CRENSHAW 90019-6037', 'naics': '721310', 'primary_naics_description': 'Rooming & boarding houses', 'council_district': '10', 'location_start_date': '1991-05-15T00:00:00.000', 'location_1': {'latitude': '34.0425', 'longitude': '-118.3295', 'human_address': '{\"address\": \"\", \"city\": \"\", \"state\": \"\", \"zip\": \"\"}'}, ':@computed_region_qz3q_ghft': '23080', ':@computed_region_kqwf_mjcx': '12', ':@computed_region_k96s_3jcv': '648', ':@computed_region_tatf_ua23': '1105', ':@computed_region_2dna_qi2s': '19'}\n",
      "{'location_account': '0000000121-0001-9', 'business_name': 'WILCARE ECONOMIC DEVELOPMENT CORPORATION', 'street_address': '9911 AVALON BLVD', 'city': 'LOS ANGELES', 'zip_code': '90003-4805', 'location_description': '9911 AVALON 90003-4805', 'mailing_address': '448 E 99TH STREET', 'mailing_city': 'LOS ANGELES', 'mailing_zip_code': '90003-4804', 'naics': '721310', 'primary_naics_description': 'Rooming & boarding houses', 'council_district': '8', 'location_start_date': '1999-01-01T00:00:00.000', 'location_1': {'latitude': '33.9463', 'longitude': '-118.2651', 'human_address': '{\"address\": \"\", \"city\": \"\", \"state\": \"\", \"zip\": \"\"}'}, ':@computed_region_qz3q_ghft': '22351', ':@computed_region_kqwf_mjcx': '14', ':@computed_region_k96s_3jcv': '806', ':@computed_region_tatf_ua23': '1176', ':@computed_region_ur2y_g4cx': '7', ':@computed_region_2dna_qi2s': '45'}\n",
      "{'location_account': '0000000132-0001-7', 'business_name': 'CARLOS ANGEL', 'street_address': '1221 W 7TH STREET SUITE #N-111', 'city': 'LOS ANGELES', 'zip_code': '90017-2394', 'location_description': '1221 7TH 90017-2394', 'naics': '561300', 'primary_naics_description': 'Employment services', 'council_district': '1', 'location_start_date': '1999-07-01T00:00:00.000', 'location_1': {'latitude': '34.0521', 'longitude': '-118.2662', 'human_address': '{\"address\": \"\", \"city\": \"\", \"state\": \"\", \"zip\": \"\"}'}, ':@computed_region_qz3q_ghft': '23078', ':@computed_region_kqwf_mjcx': '11', ':@computed_region_k96s_3jcv': '564', ':@computed_region_tatf_ua23': '1047', ':@computed_region_ur2y_g4cx': '54', ':@computed_region_2dna_qi2s': '76'}\n",
      "{'location_account': '0000000133-0001-1', 'business_name': 'A A OFICINA CENTRAL HISPANA DE LOS ANGELES /C', 'street_address': '4917 S BROADWAY', 'city': 'LOS ANGELES', 'zip_code': '90037-3211', 'location_description': '4917 BROADWAY 90037-3211', 'mailing_address': '2607 VAN BUREN PLACE', 'mailing_city': 'LOS ANGELES', 'mailing_zip_code': '90007-2129', 'naics': '611000', 'primary_naics_description': 'Educational services (including schools, colleges, & universities)', 'council_district': '9', 'location_start_date': '1991-01-01T00:00:00.000', 'location_1': {'latitude': '33.9981', 'longitude': '-118.2783', 'human_address': '{\"address\": \"\", \"city\": \"\", \"state\": \"\", \"zip\": \"\"}'}, ':@computed_region_qz3q_ghft': '23668', ':@computed_region_kqwf_mjcx': '13', ':@computed_region_k96s_3jcv': '737', ':@computed_region_tatf_ua23': '655', ':@computed_region_ur2y_g4cx': '7'}\n",
      "{'location_account': '0000000141-0001-6', 'business_name': 'A A OFICINA CENTRAL HISPANA DE LOS ANGELES /C', 'street_address': '1330 WILSHIRE BLVD #208', 'city': 'LOS ANGELES', 'zip_code': '90017-1705', 'location_description': '1330 WILSHIRE 90017-1705', 'mailing_address': '2607 VAN BUREN PLACE', 'mailing_city': 'LOS ANGELES', 'mailing_zip_code': '90007-2129', 'naics': '611000', 'primary_naics_description': 'Educational services (including schools, colleges, & universities)', 'council_district': '1', 'location_start_date': '1991-01-01T00:00:00.000', 'location_1': {'latitude': '34.0543', 'longitude': '-118.2678', 'human_address': '{\"address\": \"\", \"city\": \"\", \"state\": \"\", \"zip\": \"\"}'}, ':@computed_region_qz3q_ghft': '23078', ':@computed_region_kqwf_mjcx': '11', ':@computed_region_k96s_3jcv': '564', ':@computed_region_tatf_ua23': '1047', ':@computed_region_ur2y_g4cx': '54', ':@computed_region_2dna_qi2s': '68'}\n"
     ]
    }
   ],
   "source": [
    "import requests\n",
    "\n",
    "# Define the API endpoint\n",
    "api_url = \"https://data.lacity.org/resource/6rrh-rzua.json\"\n",
    "\n",
    "# Initialize parameters for pagination\n",
    "params = {\n",
    "    \"$limit\": 1000,  # Number of rows per request\n",
    "    \"$offset\": 0     # Starting point for the data\n",
    "}\n",
    "\n",
    "all_data = []\n",
    "\n",
    "while True:\n",
    "    # Make the API request\n",
    "    response = requests.get(api_url, params=params)\n",
    "    \n",
    "    # Check if the request was successful\n",
    "    if response.status_code != 200:\n",
    "        print(f\"Error: {response.status_code} - {response.text}\")\n",
    "        break\n",
    "\n",
    "    # Parse the JSON response\n",
    "    data = response.json()\n",
    "\n",
    "    # If no more data is returned, break the loop\n",
    "    if not data:\n",
    "        break\n",
    "\n",
    "    # Add the retrieved data to the all_data list\n",
    "    all_data.extend(data)\n",
    "\n",
    "    # Move to the next page\n",
    "    params[\"$offset\"] += params[\"$limit\"]\n",
    "\n",
    "# Now all_data contains the entire dataset\n",
    "print(f\"Total rows retrieved: {len(all_data)}\")\n",
    "\n",
    "# Optionally, print the first few rows of the data\n",
    "for item in all_data[:5]:  # Print the first 5 items\n",
    "    print(item)\n"
   ]
  },
  {
   "cell_type": "code",
   "execution_count": 4,
   "metadata": {},
   "outputs": [
    {
     "name": "stdout",
     "output_type": "stream",
     "text": [
      "Requirement already satisfied: openpyxl in c:\\users\\qy539ge\\appdata\\local\\packages\\pythonsoftwarefoundation.python.3.11_qbz5n2kfra8p0\\localcache\\local-packages\\python311\\site-packages (3.1.5)\n",
      "Requirement already satisfied: et-xmlfile in c:\\users\\qy539ge\\appdata\\local\\packages\\pythonsoftwarefoundation.python.3.11_qbz5n2kfra8p0\\localcache\\local-packages\\python311\\site-packages (from openpyxl) (1.1.0)\n",
      "Note: you may need to restart the kernel to use updated packages.\n"
     ]
    },
    {
     "name": "stderr",
     "output_type": "stream",
     "text": [
      "\n",
      "[notice] A new release of pip is available: 24.3.1 -> 25.0\n",
      "[notice] To update, run: C:\\Users\\QY539GE\\AppData\\Local\\Microsoft\\WindowsApps\\PythonSoftwareFoundation.Python.3.11_qbz5n2kfra8p0\\python.exe -m pip install --upgrade pip\n"
     ]
    }
   ],
   "source": [
    "pip install openpyxl\n"
   ]
  },
  {
   "cell_type": "code",
   "execution_count": 3,
   "metadata": {},
   "outputs": [
    {
     "name": "stdout",
     "output_type": "stream",
     "text": [
      "Data saved as 'Research.csv' to C:\\Users\\QY539GE\\OneDrive - EY\\Gross Receipts Look-back Project\\01 - Engagement Management\\Research Report\\Research.csv\n"
     ]
    }
   ],
   "source": [
    "import pandas as pd  # Import pandas for data manipulation\n",
    "import os  # Import os for file handling\n",
    "\n",
    "# Assuming all_data contains the dataset you want to save\n",
    "# Convert the list of dictionaries to a DataFrame\n",
    "df = pd.DataFrame(all_data)\n",
    "\n",
    "# Define the file path and name\n",
    "file_path = r\"C:\\Users\\QY539GE\\OneDrive - EY\\Gross Receipts Look-back Project\\01 - Engagement Management\\Research Report\\Research.csv\"\n",
    "\n",
    "# Check if the file already exists\n",
    "if os.path.exists(file_path):\n",
    "    print(f\"File '{file_path}' already exists. It will be overwritten.\")\n",
    "\n",
    "# Save the DataFrame to a CSV file\n",
    "df.to_csv(file_path, index=False)\n",
    "\n",
    "print(f\"Data saved as 'Research.csv' to {file_path}\")\n"
   ]
  }
 ],
 "metadata": {
  "kernelspec": {
   "display_name": "Python 3",
   "language": "python",
   "name": "python3"
  },
  "language_info": {
   "codemirror_mode": {
    "name": "ipython",
    "version": 3
   },
   "file_extension": ".py",
   "mimetype": "text/x-python",
   "name": "python",
   "nbconvert_exporter": "python",
   "pygments_lexer": "ipython3",
   "version": "3.11.9"
  }
 },
 "nbformat": 4,
 "nbformat_minor": 2
}
